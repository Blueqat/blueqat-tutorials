{
 "cells": [
  {
   "cell_type": "markdown",
   "metadata": {
    "colab_type": "text",
    "id": "NjHnSAbHrInP"
   },
   "source": [
    "# Operation on Qubits\n",
    "## basic 1qubit operations\n",
    "Here we start from the basic learing about quantum computing. If you haven't install blueqat SDK please install first."
   ]
  },
  {
   "cell_type": "code",
   "execution_count": null,
   "metadata": {
    "colab": {},
    "colab_type": "code",
    "id": "BPkl9UYW_JX9"
   },
   "outputs": [],
   "source": [
    "!pip install blueqat"
   ]
  },
  {
   "cell_type": "markdown",
   "metadata": {
    "colab_type": "text",
    "id": "PKhFYi-drld1"
   },
   "source": [
    "## Step1: Prepare basic circuit\n",
    "To calculate on the quantum computer, we just make a circuit.\n",
    "Let's import main component of blueqat and initialize the circuit first."
   ]
  },
  {
   "cell_type": "code",
   "execution_count": 1,
   "metadata": {
    "colab": {},
    "colab_type": "code",
    "id": "O674HiVxjc7P"
   },
   "outputs": [
    {
     "data": {
      "text/plain": [
       "Circuit(0)."
      ]
     },
     "execution_count": 1,
     "metadata": {},
     "output_type": "execute_result"
    }
   ],
   "source": [
    "from blueqat import Circuit\n",
    "\n",
    "#initialization of circuit\n",
    "Circuit()"
   ]
  },
  {
   "cell_type": "markdown",
   "metadata": {
    "colab_type": "text",
    "id": "xP6vOtYi-uHz"
   },
   "source": [
    "## Step2: Prepare quantum logic gate\n",
    "Next we put some quantum logic gate on the circuit\n",
    "Let's put quantum logic gate connecting with chain method after the initialized circuit. The .x[0] shows we apply Xgate on the 0th qubit."
   ]
  },
  {
   "cell_type": "code",
   "execution_count": 2,
   "metadata": {
    "colab": {},
    "colab_type": "code",
    "id": "hTNFRCaQtyRp"
   },
   "outputs": [
    {
     "data": {
      "text/plain": [
       "Circuit(1).x[0]"
      ]
     },
     "execution_count": 2,
     "metadata": {},
     "output_type": "execute_result"
    }
   ],
   "source": [
    "Circuit().x[0]"
   ]
  },
  {
   "cell_type": "markdown",
   "metadata": {
    "colab_type": "text",
    "id": "wHrRyYvfuCMC"
   },
   "source": [
    "## Step3: Measurement and run\n",
    "To get the result of this circuit, we have to measure the result of the circuit. Let's put the measurement gate as .m[:] (: shows we apply measurement gate to all of qubits). And .run() with the number of shots we can get the final result."
   ]
  },
  {
   "cell_type": "code",
   "execution_count": 3,
   "metadata": {
    "colab": {
     "base_uri": "https://localhost:8080/",
     "height": 34
    },
    "colab_type": "code",
    "id": "s4nPf83otvoG",
    "outputId": "d25ebd91-f8d8-4160-a0b8-f3439173b3e9"
   },
   "outputs": [
    {
     "data": {
      "text/plain": [
       "Counter({'1': 1})"
      ]
     },
     "execution_count": 3,
     "metadata": {},
     "output_type": "execute_result"
    }
   ],
   "source": [
    "Circuit().x[0].m[:].run(shots=1)"
   ]
  },
  {
   "cell_type": "markdown",
   "metadata": {
    "colab_type": "text",
    "id": "bnQKAJQuBKNS"
   },
   "source": [
    "Now we get the result of '1' once. This is the result. Usually the circuit start from 0 and applying Xgate, this gate flip the bit of qubits 0 <-> 1, so you get 1 finally."
   ]
  },
  {
   "cell_type": "markdown",
   "metadata": {
    "colab_type": "text",
    "id": "j7qObHmWBWoX"
   },
   "source": [
    "## Advanced: State vector\n",
    "For more advanced use of the circuit, we can get the state amplitude (probability distribution) from the state vector. We can get the state vector directly from the simulator with just .run() the circuit without measurement."
   ]
  },
  {
   "cell_type": "code",
   "execution_count": 4,
   "metadata": {
    "colab": {
     "base_uri": "https://localhost:8080/",
     "height": 34
    },
    "colab_type": "code",
    "id": "uzaQ3WSwBYgf",
    "outputId": "503feb56-f8e2-46b6-de6e-c91e432dee85"
   },
   "outputs": [
    {
     "data": {
      "text/plain": [
       "array([0.70710678+0.j, 0.70710678+0.j])"
      ]
     },
     "execution_count": 4,
     "metadata": {},
     "output_type": "execute_result"
    }
   ],
   "source": [
    "Circuit().h[0].run()"
   ]
  },
  {
   "cell_type": "markdown",
   "metadata": {
    "colab_type": "text",
    "id": "7SL_2kj7BnuQ"
   },
   "source": [
    "This is the state vector."
   ]
  },
  {
   "cell_type": "markdown",
   "metadata": {},
   "source": [
    "## basic 2qubits operations\n",
    "Here we learn about basic 2qubits operation, by using 2qubits operation we can make much more complicated calculation on quantum logic circuit."
   ]
  },
  {
   "cell_type": "markdown",
   "metadata": {},
   "source": [
    "## Step1: Initialize, create circuit and run\n",
    "The basic preparation is the same as the 1qubit operation. Let's put CX gate this time."
   ]
  },
  {
   "cell_type": "code",
   "execution_count": 5,
   "metadata": {},
   "outputs": [
    {
     "data": {
      "text/plain": [
       "Counter({'00': 1})"
      ]
     },
     "execution_count": 5,
     "metadata": {},
     "output_type": "execute_result"
    }
   ],
   "source": [
    "Circuit().cx[0,1].m[:].run(shots=1)"
   ]
  },
  {
   "cell_type": "markdown",
   "metadata": {},
   "source": [
    "Now we get the result of '00' once. 00 means that 2qubits are both 0."
   ]
  },
  {
   "cell_type": "markdown",
   "metadata": {},
   "source": [
    "## About CX gate\n",
    "CX quantum logic gate is so called CNOT gate. This time we have 2qubits to use.\n",
    "One is called \"controlled gate\" and another is \"target gate\". Only when the controlled gate is '1' the target gate flips. If the controlled gate is '0' nothing happens.\n",
    "\n",
    "This time we have both qubits initialized to 0 so nothing happen after the CX gate applied."
   ]
  },
  {
   "cell_type": "markdown",
   "metadata": {},
   "source": [
    "## CX gate again\n",
    "Let's see if the controlled gate is 1. Applying .x[0] gate to the 0th qubits and after we apply cx gate to 0th and 1st qubit.\n"
   ]
  },
  {
   "cell_type": "code",
   "execution_count": 6,
   "metadata": {},
   "outputs": [
    {
     "data": {
      "text/plain": [
       "Counter({'11': 1})"
      ]
     },
     "execution_count": 6,
     "metadata": {},
     "output_type": "execute_result"
    }
   ],
   "source": [
    "Circuit().x[0].cx[0,1].m[:].run(shots=1)"
   ]
  },
  {
   "cell_type": "markdown",
   "metadata": {},
   "source": [
    "Now we have result of '11'. First the circuit flips the 0th qubit with .x[0] gate and then the .cx[0,1] gate flips 1st qubit 0 to 1 because the controlled gate on 0th qubit is 1. Finally we get both qubit as 1."
   ]
  },
  {
   "cell_type": "markdown",
   "metadata": {},
   "source": [
    "## Advanced topic: initialized circuit with number of qubits\n",
    "Usually the circuit automatically specify the number of qubits used in the circuit, we can specify the number of qubit first and then make the circuit."
   ]
  },
  {
   "cell_type": "code",
   "execution_count": 7,
   "metadata": {},
   "outputs": [
    {
     "data": {
      "text/plain": [
       "Counter({'110': 1})"
      ]
     },
     "execution_count": 7,
     "metadata": {},
     "output_type": "execute_result"
    }
   ],
   "source": [
    "Circuit(3).x[0].cx[0,1].m[:].run(shots=1)"
   ]
  },
  {
   "cell_type": "markdown",
   "metadata": {},
   "source": [
    "Just put the number of qubits in the Cirucit(). This time 3qubits prepare and just two of them used."
   ]
  }
 ],
 "metadata": {
  "colab": {
   "name": "tutorial001_basic_circuit.ipynb",
   "provenance": [],
   "version": "0.3.2"
  },
  "kernelspec": {
   "display_name": "Python 3",
   "language": "python",
   "name": "python3"
  },
  "language_info": {
   "codemirror_mode": {
    "name": "ipython",
    "version": 3
   },
   "file_extension": ".py",
   "mimetype": "text/x-python",
   "name": "python",
   "nbconvert_exporter": "python",
   "pygments_lexer": "ipython3",
   "version": "3.8.4"
  }
 },
 "nbformat": 4,
 "nbformat_minor": 4
}
