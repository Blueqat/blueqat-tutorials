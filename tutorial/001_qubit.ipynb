{
 "cells": [
  {
   "cell_type": "markdown",
   "metadata": {},
   "source": [
    "# Quantum Logic Gate and Rotation\n",
    "Quantum computations mainly manipulate the state of a qubit using rotation.   \n",
    "Check the overview."
   ]
  },
  {
   "cell_type": "markdown",
   "metadata": {},
   "source": [
    "## Qubit and quantum states\n",
    "one qubit can be represented as a point on a sphere.  \n",
    "A quantum computer is not constrained by 0 and 1 and can take any point on a sphere called a Bloch sphere.\n",
    "\n",
    "This data is called a quantum state and is mainly represented by $\\mid \\psi \\rangle$. $\\mid .\\rangle$ is a vertical vector.  \n",
    "|0> and |1> are assigned vectors like the following, respectively.\n",
    "\n",
    "$$\n",
    "\\mid 0 \\rangle = \\begin{bmatrix}1\\\\0\\end{bmatrix}, \\mid 1 \\rangle = \\begin{bmatrix}0\\\\1\\end{bmatrix}\n",
    "$$\n",
    "\n",
    "|ψ> can be defined by using |0> and |1>.\n",
    "\n",
    "$$\n",
    "\\mid \\psi \\rangle = \\alpha \\mid 0 \\rangle + \\beta \\mid 1 \\rangle = \\alpha \\begin{bmatrix}1\\\\0\\end{bmatrix} + \\beta \\begin{bmatrix}0\\\\1\\end{bmatrix} = \\begin{bmatrix}\\alpha \\\\ \\beta \\end{bmatrix}\n",
    "$$\n",
    "\n",
    "It is called a state vector."
   ]
  },
  {
   "cell_type": "markdown",
   "metadata": {},
   "source": [
    "## Initial state and rotation （quantum gate）\n",
    "The initial state is as follows.\n",
    "\n",
    "$$\n",
    "\\mid 0 \\rangle = \\begin{bmatrix}1\\\\0\\end{bmatrix}\n",
    "$$\n",
    "\n",
    "In order to change the quantum state, a rotate operation is used. It called a quantum gate.  \n",
    "The Bloch sphere has three axes, XYZ. Quantum gates is such rotational operations around an axis.\n",
    "\n",
    "The basic rotation operation is the X, Y, and Z gates.  \n",
    "Each corresponds to a rotation of 180 degrees (π) around the x, y, and z axes.\n",
    "\n",
    "$$\n",
    "X=\n",
    "\\begin{bmatrix}\n",
    "0&1 \\\\\n",
    "1&0\n",
    "\\end{bmatrix},\n",
    "Y=\n",
    "\\begin{bmatrix}\n",
    "0&-i \\\\\n",
    "i&0\n",
    "\\end{bmatrix},\n",
    "Z=\n",
    "\\begin{bmatrix}\n",
    "1&0 \\\\\n",
    "0&-1\n",
    "\\end{bmatrix}\n",
    "$$"
   ]
  },
  {
   "cell_type": "markdown",
   "metadata": {
    "colab_type": "text",
    "id": "NjHnSAbHrInP"
   },
   "source": [
    "# Operation on Qubits\n",
    "## basic 1qubit operations\n",
    "Here we start from the basic learing about quantum computing. If you haven't install blueqat SDK please install first."
   ]
  },
  {
   "cell_type": "code",
   "execution_count": null,
   "metadata": {
    "colab": {},
    "colab_type": "code",
    "id": "BPkl9UYW_JX9"
   },
   "outputs": [],
   "source": [
    "!pip install blueqat"
   ]
  },
  {
   "cell_type": "markdown",
   "metadata": {
    "colab_type": "text",
    "id": "PKhFYi-drld1"
   },
   "source": [
    "## Step1: Prepare basic circuit\n",
    "To calculate on the quantum computer, we just make a circuit.\n",
    "Let's import main component of blueqat and initialize the circuit first."
   ]
  },
  {
   "cell_type": "code",
   "execution_count": 4,
   "metadata": {
    "colab": {},
    "colab_type": "code",
    "id": "O674HiVxjc7P"
   },
   "outputs": [
    {
     "data": {
      "text/plain": [
       "Circuit(0)."
      ]
     },
     "execution_count": 4,
     "metadata": {},
     "output_type": "execute_result"
    }
   ],
   "source": [
    "from blueqat import Circuit\n",
    "\n",
    "#initialization of circuit\n",
    "Circuit()"
   ]
  },
  {
   "cell_type": "markdown",
   "metadata": {
    "colab_type": "text",
    "id": "xP6vOtYi-uHz"
   },
   "source": [
    "## Step2: Operate quantum logic gate\n",
    "Next we put some quantum logic gate on the circuit\n",
    "Let's put quantum logic gate connecting with chain method after the initialized circuit. The .x[0] shows we apply Xgate on the 0th qubit."
   ]
  },
  {
   "cell_type": "code",
   "execution_count": 5,
   "metadata": {
    "colab": {},
    "colab_type": "code",
    "id": "hTNFRCaQtyRp"
   },
   "outputs": [
    {
     "data": {
      "text/plain": [
       "Circuit(1).x[0]"
      ]
     },
     "execution_count": 5,
     "metadata": {},
     "output_type": "execute_result"
    }
   ],
   "source": [
    "Circuit().x[0]"
   ]
  },
  {
   "cell_type": "markdown",
   "metadata": {
    "colab_type": "text",
    "id": "wHrRyYvfuCMC"
   },
   "source": [
    "## Step3: Measurement and run\n",
    "To get the result of this circuit, we have to measure the result of the circuit. Let's put the measurement gate as .m[:] (: shows we apply measurement gate to all of qubits). And .run() with the number of shots we can get the final result."
   ]
  },
  {
   "cell_type": "code",
   "execution_count": 6,
   "metadata": {
    "colab": {
     "base_uri": "https://localhost:8080/",
     "height": 34
    },
    "colab_type": "code",
    "id": "s4nPf83otvoG",
    "outputId": "d25ebd91-f8d8-4160-a0b8-f3439173b3e9"
   },
   "outputs": [
    {
     "data": {
      "text/plain": [
       "Counter({'1': 1})"
      ]
     },
     "execution_count": 6,
     "metadata": {},
     "output_type": "execute_result"
    }
   ],
   "source": [
    "Circuit().x[0].m[:].run(shots=1)"
   ]
  },
  {
   "cell_type": "code",
   "execution_count": 7,
   "metadata": {},
   "outputs": [
    {
     "data": {
      "image/png": "[encoded data removed]",
      "text/plain": [
       "<Figure size 1800x120 with 1 Axes>"
      ]
     },
     "metadata": {},
     "output_type": "display_data"
    }
   ],
   "source": [
    "Circuit().x[0].m[:].run(backend=\"draw\")"
   ]
  },
  {
   "cell_type": "markdown",
   "metadata": {
    "colab_type": "text",
    "id": "bnQKAJQuBKNS"
   },
   "source": [
    "Now we get the result of '1' once. This is the result. Usually the circuit start from 0 and applying Xgate, this gate flip the bit of qubits 0 <-> 1, so you get 1 finally."
   ]
  },
  {
   "cell_type": "markdown",
   "metadata": {
    "colab_type": "text",
    "id": "j7qObHmWBWoX"
   },
   "source": [
    "## Advanced: State vector\n",
    "For more advanced use of the circuit, we can get the state amplitude (probability distribution) from the state vector. We can get the state vector directly from the simulator with just .run() the circuit without measurement."
   ]
  },
  {
   "cell_type": "code",
   "execution_count": 4,
   "metadata": {
    "colab": {
     "base_uri": "https://localhost:8080/",
     "height": 34
    },
    "colab_type": "code",
    "id": "uzaQ3WSwBYgf",
    "outputId": "503feb56-f8e2-46b6-de6e-c91e432dee85"
   },
   "outputs": [
    {
     "data": {
      "text/plain": [
       "array([0.70710678+0.j, 0.70710678+0.j])"
      ]
     },
     "execution_count": 4,
     "metadata": {},
     "output_type": "execute_result"
    }
   ],
   "source": [
    "Circuit().h[0].run()"
   ]
  },
  {
   "cell_type": "markdown",
   "metadata": {
    "colab_type": "text",
    "id": "7SL_2kj7BnuQ"
   },
   "source": [
    "This is the state vector."
   ]
  },
  {
   "cell_type": "markdown",
   "metadata": {},
   "source": [
    "## basic 2qubits operations\n",
    "Here we learn about basic 2qubits operation, by using 2qubits operation we can make much more complicated calculation on quantum logic circuit."
   ]
  },
  {
   "cell_type": "markdown",
   "metadata": {},
   "source": [
    "## Step1: Initialize, create circuit and run\n",
    "The basic preparation is the same as the 1qubit operation. Let's put CX gate this time."
   ]
  },
  {
   "cell_type": "code",
   "execution_count": 9,
   "metadata": {},
   "outputs": [
    {
     "data": {
      "text/plain": [
       "Counter({'00': 1})"
      ]
     },
     "execution_count": 9,
     "metadata": {},
     "output_type": "execute_result"
    }
   ],
   "source": [
    "Circuit().cx[0,1].m[:].run(shots=1)"
   ]
  },
  {
   "cell_type": "code",
   "execution_count": 10,
   "metadata": {},
   "outputs": [
    {
     "data": {
      "image/png": "[encoded data removed]",
      "text/plain": [
       "<Figure size 1800x180 with 1 Axes>"
      ]
     },
     "metadata": {},
     "output_type": "display_data"
    }
   ],
   "source": [
    "Circuit().cx[0,1].m[:].run(backend=\"draw\")"
   ]
  },
  {
   "cell_type": "markdown",
   "metadata": {},
   "source": [
    "Now we get the result of '00' once. 00 means that 2qubits are both 0."
   ]
  },
  {
   "cell_type": "markdown",
   "metadata": {},
   "source": [
    "## About CX gate\n",
    "CX quantum logic gate is so called CNOT gate. This time we have 2qubits to use.\n",
    "One is called \"controlled gate\" and another is \"target gate\". Only when the controlled gate is '1' the target gate flips. If the controlled gate is '0' nothing happens.\n",
    "\n",
    "This time we have both qubits initialized to 0 so nothing happen after the CX gate applied."
   ]
  },
  {
   "cell_type": "markdown",
   "metadata": {},
   "source": [
    "## CX gate again\n",
    "Let's see if the controlled gate is 1. Applying .x[0] gate to the 0th qubits and after we apply cx gate to 0th and 1st qubit.\n"
   ]
  },
  {
   "cell_type": "code",
   "execution_count": 6,
   "metadata": {},
   "outputs": [
    {
     "data": {
      "text/plain": [
       "Counter({'11': 1})"
      ]
     },
     "execution_count": 6,
     "metadata": {},
     "output_type": "execute_result"
    }
   ],
   "source": [
    "Circuit().x[0].cx[0,1].m[:].run(shots=1)"
   ]
  },
  {
   "cell_type": "code",
   "execution_count": 11,
   "metadata": {},
   "outputs": [
    {
     "data": {
      "image/png": "[encoded data removed]",
      "text/plain": [
       "<Figure size 1800x180 with 1 Axes>"
      ]
     },
     "metadata": {},
     "output_type": "display_data"
    }
   ],
   "source": [
    "Circuit().x[0].cx[0,1].m[:].run(backend=\"draw\")"
   ]
  },
  {
   "cell_type": "markdown",
   "metadata": {},
   "source": [
    "Now we have result of '11'. First the circuit flips the 0th qubit with .x[0] gate and then the .cx[0,1] gate flips 1st qubit 0 to 1 because the controlled gate on 0th qubit is 1. Finally we get both qubit as 1."
   ]
  },
  {
   "cell_type": "markdown",
   "metadata": {},
   "source": [
    "## Advanced topic: initialized circuit with number of qubits\n",
    "Usually the circuit automatically specify the number of qubits used in the circuit, we can specify the number of qubit first and then make the circuit."
   ]
  },
  {
   "cell_type": "code",
   "execution_count": 7,
   "metadata": {},
   "outputs": [
    {
     "data": {
      "text/plain": [
       "Counter({'110': 1})"
      ]
     },
     "execution_count": 7,
     "metadata": {},
     "output_type": "execute_result"
    }
   ],
   "source": [
    "Circuit(3).x[0].cx[0,1].m[:].run(shots=1)"
   ]
  },
  {
   "cell_type": "code",
   "execution_count": 12,
   "metadata": {},
   "outputs": [
    {
     "data": {
      "image/png": "[encoded data removed]",
      "text/plain": [
       "<Figure size 1800x240 with 1 Axes>"
      ]
     },
     "metadata": {},
     "output_type": "display_data"
    }
   ],
   "source": [
    "Circuit(3).x[0].cx[0,1].m[:].run(backend=\"draw\")"
   ]
  },
  {
   "cell_type": "markdown",
   "metadata": {},
   "source": [
    "Just put the number of qubits in the Cirucit(). This time 3qubits prepare and just two of them used."
   ]
  },
  {
   "cell_type": "markdown",
   "metadata": {},
   "source": [
    "# Quantum algorithm\n",
    "\n",
    "### Overview\n",
    "\n",
    "An algorithm generally refers to a procedure that a computer performs in order to solve a certain problem.\n",
    "\n",
    "A quantum algorithm is an algorithm that is designed to be run on a quantum computer.  \n",
    "It is often described by mathematical expression using bracket symbols, but eventually it is reduced to a quantum circuit using concrete quantum gates.  \n",
    "\n",
    "The aim of quantum algorithms is to perform calculations that are faster than classical computers, or that are virtually impossible with classical computers due to physical constraints (e.g., memory capacity) using quantum computers.  \n",
    "This is achieved by utilizing the superposition and entanglement properties of qubits.  \n",
    "Unlike (classical) qubits, $n$ qubits can hold $2^n$ superposition states simultaneously.  \n",
    "\n",
    "At first glance, it is tempting to think that $2^n$ of calculations can be performed in parallel, but unfortunately it is not so simple.  \n",
    "This is because in a quantum computer, only one of the $2^n$ states is probabilistically output by the \"measurement\" process.  \n",
    "In other words, a quantum computer can hold a huge amount of information internally, but the information it can output is very limited.  \n",
    "Therefore, quantum algorithms need to be designed to be good at obtaining the desired solution with a small number of outputs.  \n",
    "\n",
    "Currently, there are only a very limited number of calculations where quantum algorithms have been shown to be faster than classical algorithms.  \n",
    "Included in that limited number of examples are the famous Shor's and Grover's algorithms.  \n",
    "In the process of learning these algorithms, I think you will be able to grasp the kind of calculations in which a quantum computer is likely to have an advantage over a classical computer.　　\n",
    "The discovery of new computations that will make quantum algorithms faster will be the driving force behind the use of quantum computers in the future.\n",
    "\n",
    "### NISQ algorithm\n",
    "\n",
    "Current (2021) quantum computers are still small in scale and the impact of noise on computational results cannot be ignored. Such quantum computers are distinguish as Noisy Intermediate-Scale Quantum (NISQ) devices [1].  \n",
    "Quantum algorithms that have been theoretically shown to be faster than classical algorithms, such as those described above, cannot be run on NISQ devices at a practical scale and accuracy.  \n",
    "It is said that it will take several decades to develop a quantum computer that can do this (Learge scale, fault tolerant quantum computer).\n",
    "\n",
    "On the other hand, the largest current NISQ devices, as announced as \"quantum transcendence\", have reached a point where they cannot be efficiently simulated by existing classical computers [2].  \n",
    "Therefore, even if we do not wait for several decades, we expect that there will be calculations that can be performed faster than existing classical computers using NISQ devices.  \n",
    "Such an algorithm is called the NISQ algorithm, and a research and development race is currently underway around the world.\n",
    "\n",
    "### On learning NISQ and non-NISQ algorithms\n",
    "In the following tutorials, a distinction will be made between non-NISQ algorithms (\"Universal Quantum Algorithm\") and NISQ algorithms.  \n",
    "The basic construction of a quantum circuit and the quantum gates used are the same for both.  \n",
    "Compared to non-NISQ algorithms, the NISQ algorithm emphasizes the ability to operate with a small number of qubits and to tolerate errors in computation.\n",
    "\n",
    "I think that non-NISQ quantum algorithms are better for learning, in point of seeing how quantum computation can be faster than classical computation.　　\n",
    "On the other hand, if you want to focus on practical use in the near future, it is better to focus on the NISQ algorithm.\n",
    "\n",
    "### References\n",
    "\n",
    "[1] Bharti, Kishor, et al. \"Noisy intermediate-scale quantum (NISQ) algorithms.\" arXiv preprint arXiv:2101.08448 (2021).  \n",
    "[2] Arute, Frank, et al. \"Quantum supremacy using a programmable superconducting processor.\" Nature 574.7779 (2019): 505-51"
   ]
  }
 ],
 "metadata": {
  "colab": {
   "name": "tutorial001_basic_circuit.ipynb",
   "provenance": [],
   "version": "0.3.2"
  },
  "kernelspec": {
   "display_name": "Python 3",
   "language": "python",
   "name": "python3"
  },
  "language_info": {
   "codemirror_mode": {
    "name": "ipython",
    "version": 3
   },
   "file_extension": ".py",
   "mimetype": "text/x-python",
   "name": "python",
   "nbconvert_exporter": "python",
   "pygments_lexer": "ipython3",
   "version": "3.8.8"
  }
 },
 "nbformat": 4,
 "nbformat_minor": 4
}
