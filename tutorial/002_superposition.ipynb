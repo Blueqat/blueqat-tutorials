{
 "cells": [
  {
   "cell_type": "markdown",
   "metadata": {
    "colab_type": "text",
    "id": "NjHnSAbHrInP"
   },
   "source": [
    "# Superposition\n",
    "Here we learn about basic tutorial of quantum superposition. Superposition is a kind of combination in the quantum logic gate."
   ]
  },
  {
   "cell_type": "markdown",
   "metadata": {
    "colab_type": "text",
    "id": "PKhFYi-drld1"
   },
   "source": [
    "## Circuit\n",
    "The superposition is quite easy to implement. Just apply Hadamard gate (H gate) to the circuit. To see the result now we have 100 times of trial on the gate."
   ]
  },
  {
   "cell_type": "code",
   "execution_count": 3,
   "metadata": {
    "colab": {
     "base_uri": "https://localhost:8080/",
     "height": 34
    },
    "colab_type": "code",
    "id": "O674HiVxjc7P",
    "outputId": "8a0a0fb6-e1c7-422d-bb57-5ba36580e8dd"
   },
   "outputs": [
    {
     "data": {
      "text/plain": [
       "Counter({'0': 56, '1': 44})"
      ]
     },
     "execution_count": 3,
     "metadata": {
      "tags": []
     },
     "output_type": "execute_result"
    }
   ],
   "source": [
    "from blueqat import Circuit\n",
    "\n",
    "Circuit().h[0].m[:].run(shots=100)"
   ]
  },
  {
   "cell_type": "code",
   "execution_count": 6,
   "metadata": {},
   "outputs": [
    {
     "data": {
      "image/png": "[encoded data removed]",
      "text/plain": [
       "<Figure size 1800x120 with 1 Axes>"
      ]
     },
     "metadata": {},
     "output_type": "display_data"
    }
   ],
   "source": [
    "Circuit().h[0].m[:].run(backend=\"draw\")"
   ]
  },
  {
   "cell_type": "markdown",
   "metadata": {
    "colab_type": "text",
    "id": "Pj4TW4zHDG7d"
   },
   "source": [
    "Now we get result of 0 and 1 almost half each other. Hadamard gate make the superposition of the qubits and make the |+> state which is the neutral position between 0 and 1."
   ]
  },
  {
   "cell_type": "markdown",
   "metadata": {
    "colab_type": "text",
    "id": "wHrRyYvfuCMC"
   },
   "source": [
    "## Minus state\n",
    "Now we tried on |+> state with Hgate. Next we see at |-> minus state. Minus state is easily realize with applying Zgate on |+> state.\n"
   ]
  },
  {
   "cell_type": "code",
   "execution_count": 4,
   "metadata": {
    "colab": {
     "base_uri": "https://localhost:8080/",
     "height": 34
    },
    "colab_type": "code",
    "id": "s4nPf83otvoG",
    "outputId": "6793b856-81d9-49f9-f1cb-cb2296423ebd"
   },
   "outputs": [
    {
     "data": {
      "text/plain": [
       "Counter({'0': 56, '1': 44})"
      ]
     },
     "execution_count": 4,
     "metadata": {
      "tags": []
     },
     "output_type": "execute_result"
    }
   ],
   "source": [
    "Circuit().h[0].z[0].m[:].run(shots=100)"
   ]
  },
  {
   "cell_type": "code",
   "execution_count": 7,
   "metadata": {},
   "outputs": [
    {
     "data": {
      "image/png": "[encoded data removed]",
      "text/plain": [
       "<Figure size 1800x120 with 1 Axes>"
      ]
     },
     "metadata": {},
     "output_type": "display_data"
    }
   ],
   "source": [
    "Circuit().h[0].z[0].m[:].run(backend=\"draw\")"
   ]
  },
  {
   "cell_type": "markdown",
   "metadata": {
    "colab_type": "text",
    "id": "bnQKAJQuBKNS"
   },
   "source": [
    "By applying .z[0] after .h[0] we can get the minus state. Minus state also have almost half of 0 and 1. We cannot distinguish these state just by measurement. The quantum state is behind the equation and we can just guess it."
   ]
  },
  {
   "cell_type": "markdown",
   "metadata": {
    "colab_type": "text",
    "id": "VdiXawfVj8oV"
   },
   "source": [
    "# Advanced: State vector\n",
    "The state vector of |+> state is 1/sqrt(2) [1,1], so we have [0.707,0.707]."
   ]
  },
  {
   "cell_type": "code",
   "execution_count": 6,
   "metadata": {
    "colab": {
     "base_uri": "https://localhost:8080/",
     "height": 34
    },
    "colab_type": "code",
    "id": "uzaQ3WSwBYgf",
    "outputId": "98dca942-510f-4400-a149-079758be9554"
   },
   "outputs": [
    {
     "data": {
      "text/plain": [
       "array([0.70710678+0.j, 0.70710678+0.j])"
      ]
     },
     "execution_count": 6,
     "metadata": {
      "tags": []
     },
     "output_type": "execute_result"
    }
   ],
   "source": [
    "Circuit().h[0].run()"
   ]
  },
  {
   "cell_type": "markdown",
   "metadata": {
    "colab_type": "text",
    "id": "7SL_2kj7BnuQ"
   },
   "source": [
    "We have both element of vector as +. And we check the |-> state."
   ]
  },
  {
   "cell_type": "code",
   "execution_count": 8,
   "metadata": {
    "colab": {
     "base_uri": "https://localhost:8080/",
     "height": 34
    },
    "colab_type": "code",
    "id": "SdPHY7RBGuxe",
    "outputId": "b20f1fee-79db-4fef-be19-30b2bb501965"
   },
   "outputs": [
    {
     "data": {
      "text/plain": [
       "array([ 0.70710678+0.j, -0.70710678+0.j])"
      ]
     },
     "execution_count": 8,
     "metadata": {
      "tags": []
     },
     "output_type": "execute_result"
    }
   ],
   "source": [
    "Circuit().h[0].z[0].run()"
   ]
  },
  {
   "cell_type": "markdown",
   "metadata": {
    "colab_type": "text",
    "id": "Y6NtTz8fGyQQ"
   },
   "source": [
    "Now we can see the second element of the vector is minus sign. This state can be aquired just by the small state and by simulator only. We cannot get this state vector directly from the actual quantum computer."
   ]
  },
  {
   "cell_type": "markdown",
   "metadata": {},
   "source": [
    "# Entanglement\n",
    "If you just using the basic superposition of quantum qubits you cannot efficiently get the result of calculation. Superposition is just a combination of bits and too many patterns exits. To filter the data and reduce the number of combination of result we can use entanglement.\n",
    "\n",
    "You can syncronized more than 2qubits each other and filter the data just you want after the measurement."
   ]
  },
  {
   "cell_type": "markdown",
   "metadata": {},
   "source": [
    "## Circuit\n",
    "Circuit is very simple, just apply CX gate after H gate."
   ]
  },
  {
   "cell_type": "code",
   "execution_count": 3,
   "metadata": {},
   "outputs": [
    {
     "data": {
      "text/plain": [
       "Counter({'11': 50, '00': 50})"
      ]
     },
     "execution_count": 3,
     "metadata": {},
     "output_type": "execute_result"
    }
   ],
   "source": [
    "Circuit().h[0].cx[0,1].m[:].run(shots=100)"
   ]
  },
  {
   "cell_type": "code",
   "execution_count": 8,
   "metadata": {},
   "outputs": [
    {
     "data": {
      "image/png": "[encoded data removed]",
      "text/plain": [
       "<Figure size 1800x180 with 1 Axes>"
      ]
     },
     "metadata": {},
     "output_type": "display_data"
    }
   ],
   "source": [
    "Circuit().h[0].cx[0,1].m[:].run(backend=\"draw\")"
   ]
  },
  {
   "cell_type": "markdown",
   "metadata": {},
   "source": [
    "Now you get almost half times of '00' and almost half times of '11'. Usually without the entanglement and just with superposition you will get result of 00,01,10,11. By using combination of H gate and CX gate you can filter the data you want efficiently."
   ]
  },
  {
   "cell_type": "markdown",
   "metadata": {},
   "source": [
    "# The entanglement of 3qubits / GHZ state\n",
    "Greenberger–Horne–Zeilinger state is the state which as entanglement of 3qubits. Let's see the circuit."
   ]
  },
  {
   "cell_type": "code",
   "execution_count": 5,
   "metadata": {},
   "outputs": [
    {
     "data": {
      "text/plain": [
       "Counter({'111': 55, '000': 45})"
      ]
     },
     "execution_count": 5,
     "metadata": {},
     "output_type": "execute_result"
    }
   ],
   "source": [
    "Circuit().h[0].cx[0,1].cx[1,2].m[:].run(shots=100)"
   ]
  },
  {
   "cell_type": "markdown",
   "metadata": {},
   "source": [
    "We have half of '000' and another half of ''111'."
   ]
  }
 ],
 "metadata": {
  "colab": {
   "collapsed_sections": [],
   "name": "003_basic_superposition.ipynb",
   "provenance": [],
   "version": "0.3.2"
  },
  "kernelspec": {
   "display_name": "Python 3",
   "language": "python",
   "name": "python3"
  },
  "language_info": {
   "codemirror_mode": {
    "name": "ipython",
    "version": 3
   },
   "file_extension": ".py",
   "mimetype": "text/x-python",
   "name": "python",
   "nbconvert_exporter": "python",
   "pygments_lexer": "ipython3",
   "version": "3.8.8"
  }
 },
 "nbformat": 4,
 "nbformat_minor": 4
}
