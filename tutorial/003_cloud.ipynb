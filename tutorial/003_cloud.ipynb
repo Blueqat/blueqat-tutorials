{
 "cells": [
  {
   "cell_type": "markdown",
   "id": "58051082-b7f9-48dc-9df9-dc033d711393",
   "metadata": {},
   "source": [
    "Here we will show you how to use the blueqatSDK to connect to a quantum computer provided by a cloud service. Please note that blueqat credits are required to connect to the actual quantum computer, but these are for commercial use, so please contact us for more information."
   ]
  },
  {
   "cell_type": "markdown",
   "id": "0bff7cd0-6701-4cfa-a884-7c01007f9286",
   "metadata": {},
   "source": [
    "First you need the blueqat-cloud library. In the future, this will all be integrated into the blueqatSDK, but until then, please install this additional library."
   ]
  },
  {
   "cell_type": "code",
   "execution_count": null,
   "id": "184147e8-a099-4105-a318-0ad4357dfb03",
   "metadata": {},
   "outputs": [],
   "source": [
    "pip install blueqat-cloud"
   ]
  },
  {
   "cell_type": "markdown",
   "id": "fcba6812-5c36-4ecf-8730-82729732d312",
   "metadata": {},
   "source": [
    "## Register API"
   ]
  },
  {
   "cell_type": "code",
   "execution_count": null,
   "id": "6c27828d-3eca-406f-ac00-0dfb8302d491",
   "metadata": {},
   "outputs": [],
   "source": [
    "import bqcloud\n",
    "api = bqcloud.register_api(\"Your API key here\")"
   ]
  },
  {
   "cell_type": "markdown",
   "id": "73e92f99-094d-4d0f-8262-19a16b89a2cc",
   "metadata": {},
   "source": [
    "Your API key is stored to $HOME/.bqcloud/api_key. If you don't want to save API key, use insteads following codes."
   ]
  },
  {
   "cell_type": "code",
   "execution_count": null,
   "id": "35840f3f-4384-4cf0-84b8-6c7a094e7f07",
   "metadata": {},
   "outputs": [],
   "source": [
    "import bqcloud\n",
    "api = bqcloud.api.Api(\"Your API key here\")"
   ]
  },
  {
   "cell_type": "markdown",
   "id": "af4fac17-0b54-4b12-a88c-9634e682ec77",
   "metadata": {},
   "source": [
    "## Load API\n",
    "Once API key is saved, the key can be loaded from file."
   ]
  },
  {
   "cell_type": "code",
   "execution_count": 5,
   "id": "cb0ae71a-fc96-4562-9dd1-1dd909398c7d",
   "metadata": {},
   "outputs": [],
   "source": [
    "import bqcloud\n",
    "api = bqcloud.load_api()"
   ]
  },
  {
   "cell_type": "markdown",
   "id": "523fab1b-e888-4dec-8879-19467a51021d",
   "metadata": {},
   "source": [
    "## Create a task"
   ]
  },
  {
   "cell_type": "code",
   "execution_count": null,
   "id": "b339e1c7-67a5-495e-aa49-f32467217ebf",
   "metadata": {},
   "outputs": [],
   "source": [
    "from blueqat import Circuit\n",
    "from bqcloud import load_api, Device\n",
    "api = load_api()\n",
    "\n",
    "task = api.execute(Circuit().h[0].cx[0, 1], Device.IonQDevice, 10)"
   ]
  },
  {
   "cell_type": "markdown",
   "id": "b0794508-39b4-45be-a7e6-c5ea215c0bb8",
   "metadata": {},
   "source": [
    "## Show a status"
   ]
  },
  {
   "cell_type": "code",
   "execution_count": null,
   "id": "23d2e530-1cf4-493e-a03f-1369b37dd9ca",
   "metadata": {},
   "outputs": [],
   "source": [
    "print(task.status())"
   ]
  },
  {
   "cell_type": "markdown",
   "id": "95d6dc68-8cd0-4f93-8047-331ba1fc91d0",
   "metadata": {},
   "source": [
    "## Update a task"
   ]
  },
  {
   "cell_type": "code",
   "execution_count": null,
   "id": "b37f85c1-709d-461f-a422-abe8248ddf9e",
   "metadata": {},
   "outputs": [],
   "source": [
    "task.update()"
   ]
  },
  {
   "cell_type": "markdown",
   "id": "234772be-f18b-491c-9c08-a83feed8e89c",
   "metadata": {},
   "source": [
    "## Wait a task"
   ]
  },
  {
   "cell_type": "code",
   "execution_count": null,
   "id": "d1701fd3-78e6-459b-921b-17421a2375fd",
   "metadata": {},
   "outputs": [],
   "source": [
    "# Wait until task is done. It may takes so long time.\n",
    "result = task.wait()\n",
    "print(result.shots())"
   ]
  },
  {
   "cell_type": "code",
   "execution_count": null,
   "id": "0eb4da87-b996-434b-aba1-3cbe25aff26b",
   "metadata": {},
   "outputs": [],
   "source": [
    "# Wait 10 sec. If complete, result is returned, otherwise, None is returned.\n",
    "result = task.wait(timeout=10)\n",
    "if result:\n",
    "    print(result.shots())\n",
    "else:\n",
    "    print(\"timeout\")"
   ]
  },
  {
   "cell_type": "markdown",
   "id": "e5071ba8-715a-465b-a05c-b10fa882b43f",
   "metadata": {},
   "source": [
    "## Get fetched result again"
   ]
  },
  {
   "cell_type": "code",
   "execution_count": null,
   "id": "4855e7b2-c1b3-4efa-997f-38a1f722ed38",
   "metadata": {},
   "outputs": [],
   "source": [
    "# Once updated or waited after task completed, task.result() returns the result.\n",
    "result = task.result()\n",
    "if result:\n",
    "    print(result.shots())\n",
    "else:\n",
    "    print(\"result is not fetched\")"
   ]
  },
  {
   "cell_type": "markdown",
   "id": "8fba0252-3c75-4842-a068-63bff98ff254",
   "metadata": {},
   "source": [
    "## List tasks"
   ]
  },
  {
   "cell_type": "code",
   "execution_count": null,
   "id": "5c2e6b86-e454-482f-8bf8-1b28877000ce",
   "metadata": {},
   "outputs": [],
   "source": [
    "tasks = api.tasks()\n",
    "print(list(tasks))\n",
    "if tasks[0].result() is not None:\n",
    "    print(tasks[0].result().shots())"
   ]
  }
 ],
 "metadata": {
  "kernelspec": {
   "display_name": "Python 3",
   "language": "python",
   "name": "python3"
  },
  "language_info": {
   "codemirror_mode": {
    "name": "ipython",
    "version": 3
   },
   "file_extension": ".py",
   "mimetype": "text/x-python",
   "name": "python",
   "nbconvert_exporter": "python",
   "pygments_lexer": "ipython3",
   "version": "3.8.8"
  }
 },
 "nbformat": 4,
 "nbformat_minor": 5
}
