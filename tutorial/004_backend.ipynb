{
 "cells": [
  {
   "cell_type": "markdown",
   "id": "063534ae-892a-4111-802d-19ff6143bb1f",
   "metadata": {},
   "source": [
    "Here we explain how to create your own back end.\n",
    "\n",
    "The overall structure is divided into three parts Pre-processing, gating, and post-processing. When executing the program, the post-processing is described in the post-processing section. This time, we would like to create a backend that returns a simple gate description."
   ]
  },
  {
   "cell_type": "code",
   "execution_count": 3,
   "id": "bf55e0b5-cfee-4288-9630-b5f3fc5c7e69",
   "metadata": {},
   "outputs": [],
   "source": [
    "import numpy as np\n",
    "\n",
    "from blueqat import Circuit\n",
    "from blueqat import BlueqatGlobalSetting\n",
    "from blueqat.backends.backendbase import Backend\n",
    "\n",
    "class MyBackend(Backend):\n",
    "    \n",
    "    def _preprocess_run(self, gates, n_qubits, args, kwargs):\n",
    "        return gates, [\"start\"]\n",
    "\n",
    "    def _postprocess_run(self, ctx):\n",
    "        text = \"\"\n",
    "        for item in ctx:\n",
    "            text += item + \"-\"\n",
    "        text += \"end\"\n",
    "        return print(text)\n",
    "\n",
    "    def _one_qubit_gate_noargs(self, gate, ctx):\n",
    "        ctx.append(gate.lowername)\n",
    "        return ctx\n",
    "\n",
    "    def _one_qubit_gate_args_theta(self, gate, ctx):\n",
    "        ctx.append(gate.lowername)\n",
    "        return ctx\n",
    "    \n",
    "    def _two_qubit_gate_noargs(self, gate, ctx):\n",
    "        ctx.append(gate.lowername)\n",
    "        return ctx\n",
    "\n",
    "    def _three_qubit_gate_noargs(self, gate, ctx):\n",
    "        ctx.append(gate.lowername)\n",
    "        return ctx\n",
    "\n",
    "    def gate_measure(self, gate, ctx):\n",
    "        ctx.append(gate.lowername)\n",
    "        return ctx\n",
    "\n",
    "    gate_x = gate_y = gate_z = gate_h = gate_t = gate_s = _one_qubit_gate_noargs\n",
    "    gate_rx = gate_ry = gate_rz = gate_phase = _one_qubit_gate_args_theta\n",
    "    gate_cx = gate_cy = gate_cz = _two_qubit_gate_noargs\n",
    "    gate_ccx = gate_cswap = _three_qubit_gate_noargs\n",
    "\n",
    "    gate_reset = _one_qubit_gate_noargs\n",
    "    \n",
    "BlueqatGlobalSetting.register_backend('mybackend', MyBackend)"
   ]
  },
  {
   "cell_type": "markdown",
   "id": "c8d5f73c-b8a7-464f-80d6-cc8b2cc49bde",
   "metadata": {},
   "source": [
    "Easy to create backend. Let's give it a try right away."
   ]
  },
  {
   "cell_type": "code",
   "execution_count": 6,
   "id": "ad53bc24-d9d3-4ebb-9f69-693db1ba7f4e",
   "metadata": {},
   "outputs": [
    {
     "name": "stdout",
     "output_type": "stream",
     "text": [
      "start-h-cx-end\n"
     ]
    }
   ],
   "source": [
    "Circuit().h[0].cx[0,1].run(backend=\"mybackend\")"
   ]
  }
 ],
 "metadata": {
  "kernelspec": {
   "display_name": "Python 3",
   "language": "python",
   "name": "python3"
  },
  "language_info": {
   "codemirror_mode": {
    "name": "ipython",
    "version": 3
   },
   "file_extension": ".py",
   "mimetype": "text/x-python",
   "name": "python",
   "nbconvert_exporter": "python",
   "pygments_lexer": "ipython3",
   "version": "3.8.8"
  }
 },
 "nbformat": 4,
 "nbformat_minor": 5
}
