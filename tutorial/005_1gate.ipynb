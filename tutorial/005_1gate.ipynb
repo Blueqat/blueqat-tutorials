{
 "cells": [
  {
   "cell_type": "markdown",
   "metadata": {},
   "source": [
    "# Single Fixed Rotation Gate\n",
    "Check the basic gate operation.\n",
    "\n",
    "## What we'll learn this time\n",
    "1. Single Fixed Rotation Gate\n",
    "2. Implementation example\n",
    "\n",
    "## Install Blueqat\n",
    "Install Blueqat from pip."
   ]
  },
  {
   "cell_type": "code",
   "execution_count": null,
   "metadata": {},
   "outputs": [],
   "source": [
    "!pip install blueqat"
   ]
  },
  {
   "cell_type": "markdown",
   "metadata": {},
   "source": [
    "### I, X, Y, Z, H, S, S†, T, T†\n",
    "I, X, Y, Z, H, S, S†, T, T† gates can be implemented by the following.\n",
    "\n",
    "| I | X | Y | Z | H | S | S†| T | T†|\n",
    "|:-:|:-:|:-:|:-:|:-:|:-:|:-:|:-:|:-:|\n",
    "|`i`|`x`|`y`|`z`|`h`|`s`|`sdg`|`t`|`tdg`|\n",
    "\n",
    "###### I gate"
   ]
  },
  {
   "cell_type": "code",
   "execution_count": 1,
   "metadata": {},
   "outputs": [
    {
     "data": {
      "text/plain": [
       "Counter({'0': 100})"
      ]
     },
     "execution_count": 1,
     "metadata": {},
     "output_type": "execute_result"
    }
   ],
   "source": [
    "from blueqat import Circuit\n",
    "import math\n",
    "\n",
    "Circuit().i[0].m[:].run(shots=100)"
   ]
  },
  {
   "cell_type": "markdown",
   "metadata": {},
   "source": [
    "###### X gate"
   ]
  },
  {
   "cell_type": "code",
   "execution_count": 2,
   "metadata": {},
   "outputs": [
    {
     "data": {
      "text/plain": [
       "Counter({'1': 100})"
      ]
     },
     "execution_count": 2,
     "metadata": {},
     "output_type": "execute_result"
    }
   ],
   "source": [
    "Circuit().x[0].m[:].run(shots=100)"
   ]
  },
  {
   "cell_type": "markdown",
   "metadata": {},
   "source": [
    "###### Y gate"
   ]
  },
  {
   "cell_type": "code",
   "execution_count": 3,
   "metadata": {},
   "outputs": [
    {
     "data": {
      "text/plain": [
       "Counter({'1': 100})"
      ]
     },
     "execution_count": 3,
     "metadata": {},
     "output_type": "execute_result"
    }
   ],
   "source": [
    "Circuit().y[0].m[:].run(shots=100)"
   ]
  },
  {
   "cell_type": "markdown",
   "metadata": {},
   "source": [
    "###### Z gate"
   ]
  },
  {
   "cell_type": "code",
   "execution_count": 4,
   "metadata": {},
   "outputs": [
    {
     "data": {
      "text/plain": [
       "Counter({'0': 100})"
      ]
     },
     "execution_count": 4,
     "metadata": {},
     "output_type": "execute_result"
    }
   ],
   "source": [
    "Circuit().z[0].m[:].run(shots=100)"
   ]
  },
  {
   "cell_type": "markdown",
   "metadata": {},
   "source": [
    "###### H gate"
   ]
  },
  {
   "cell_type": "code",
   "execution_count": 5,
   "metadata": {},
   "outputs": [
    {
     "data": {
      "text/plain": [
       "Counter({'0': 44, '1': 56})"
      ]
     },
     "execution_count": 5,
     "metadata": {},
     "output_type": "execute_result"
    }
   ],
   "source": [
    "Circuit().h[0].m[:].run(shots=100)"
   ]
  },
  {
   "cell_type": "markdown",
   "metadata": {},
   "source": [
    "###### S gate"
   ]
  },
  {
   "cell_type": "code",
   "execution_count": 6,
   "metadata": {},
   "outputs": [
    {
     "data": {
      "text/plain": [
       "Counter({'0': 100})"
      ]
     },
     "execution_count": 6,
     "metadata": {},
     "output_type": "execute_result"
    }
   ],
   "source": [
    "Circuit().s[0].m[:].run(shots=100)"
   ]
  },
  {
   "cell_type": "markdown",
   "metadata": {},
   "source": [
    "###### S† gate"
   ]
  },
  {
   "cell_type": "code",
   "execution_count": 7,
   "metadata": {},
   "outputs": [
    {
     "data": {
      "text/plain": [
       "Counter({'0': 100})"
      ]
     },
     "execution_count": 7,
     "metadata": {},
     "output_type": "execute_result"
    }
   ],
   "source": [
    "Circuit().sdg[0].m[:].run(shots=100)"
   ]
  },
  {
   "cell_type": "markdown",
   "metadata": {},
   "source": [
    "###### T gate"
   ]
  },
  {
   "cell_type": "code",
   "execution_count": 8,
   "metadata": {},
   "outputs": [
    {
     "data": {
      "text/plain": [
       "Counter({'0': 100})"
      ]
     },
     "execution_count": 8,
     "metadata": {},
     "output_type": "execute_result"
    }
   ],
   "source": [
    "Circuit().t[0].m[:].run(shots=100)"
   ]
  },
  {
   "cell_type": "markdown",
   "metadata": {},
   "source": [
    "###### T† gate"
   ]
  },
  {
   "cell_type": "code",
   "execution_count": 9,
   "metadata": {},
   "outputs": [
    {
     "data": {
      "text/plain": [
       "Counter({'0': 100})"
      ]
     },
     "execution_count": 9,
     "metadata": {},
     "output_type": "execute_result"
    }
   ],
   "source": [
    "Circuit().tdg[0].m[:].run(shots=100)"
   ]
  },
  {
   "cell_type": "markdown",
   "metadata": {},
   "source": [
    "# Overview\n",
    "\n",
    "## X, Y, Z gates\n",
    "\n",
    "$$\n",
    "X = \\begin{pmatrix}\n",
    "0 & 1 \\\\\n",
    "1 & 0\n",
    "\\end{pmatrix},\\ \\ \n",
    "X = \\begin{pmatrix}\n",
    "0 & -i \\\\\n",
    "i & 0\n",
    "\\end{pmatrix},\\ \\ \n",
    "Z = \\begin{pmatrix}\n",
    "1 & 0 \\\\\n",
    "0 & -1\n",
    "\\end{pmatrix}\n",
    "$$\n",
    "\n",
    "We'll apply this.\n",
    "\n",
    "$$\n",
    "X:\\begin{cases}\n",
    "    \\lvert 0 \\rangle \\to \\lvert 1 \\rangle \\\\\n",
    "    \\lvert 1 \\rangle \\to \\lvert 0 \\rangle\n",
    "  \\end{cases},\\ \\ \n",
    "Y:\\begin{cases}\n",
    "    \\lvert 0 \\rangle \\to i\\lvert 1 \\rangle \\\\\n",
    "    \\lvert 1 \\rangle \\to -i\\lvert 0 \\rangle\n",
    "\\end{cases},\\ \\ \n",
    "Z:\\begin{cases}\n",
    "    \\lvert 0 \\rangle \\to \\lvert 0 \\rangle \\\\\n",
    "    \\lvert 1 \\rangle \\to -\\lvert 1 \\rangle\n",
    "\\end{cases}\n",
    "$$\n",
    "\n",
    "X gate corresponds to the classic NOT gate, which replaces 0 and 1.  \n",
    "Z gate can change sign only when qubit is 1.\n",
    "\n",
    "We'll often use these."
   ]
  },
  {
   "cell_type": "markdown",
   "metadata": {},
   "source": [
    "## H gate\n",
    "This gate is necessary for superposition of quantum states.\n",
    "\n",
    "$$\n",
    "H = \\frac{1}{\\sqrt{2}}\\begin{pmatrix}\n",
    "1 & 1 \\\\\n",
    "1 & -1\n",
    "\\end{pmatrix}\n",
    "$$\n",
    "\n",
    "$$\n",
    "H:\\begin{cases}\n",
    "    \\lvert 0 \\rangle \\to \\frac{1}{\\sqrt{2}}\\lvert 0 \\rangle + \\frac{1}{\\sqrt{2}}\\lvert 1 \\rangle\\\\\n",
    "    \\lvert 1 \\rangle \\to \\frac{1}{\\sqrt{2}}\\lvert 0 \\rangle - \\frac{1}{\\sqrt{2}}\\lvert 1 \\rangle\n",
    "\\end{cases}\n",
    "$$\n",
    "\n",
    "As you can see, We converted $|0\\rangle, |1\\rangle$ into superpositions, respectively.  \n",
    "This is also a very important gate.\n",
    "\n",
    "It is called Hadamard gate."
   ]
  },
  {
   "cell_type": "markdown",
   "metadata": {},
   "source": [
    "## S, S†, T, T† gates\n",
    "\n",
    "$$\n",
    "S = \\begin{pmatrix}\n",
    "1 & 0 \\\\\n",
    "0 & i\n",
    "\\end{pmatrix},\\ \\ \n",
    "S^{\\dagger} = \\begin{pmatrix}\n",
    "1 & 0 \\\\\n",
    "0 & -i\n",
    "\\end{pmatrix},\\ \\ \n",
    "T = \\begin{pmatrix}\n",
    "1 & 0 \\\\\n",
    "0 & e^{i\\frac{\\pi}{4}}\n",
    "\\end{pmatrix},\\ \\ \n",
    "T^{\\dagger} = \\begin{pmatrix}\n",
    "1 & 0 \\\\\n",
    "0 & -e^{i\\frac{\\pi}{4}}\n",
    "\\end{pmatrix}\n",
    "$$\n",
    "\n",
    "We'll apply this.\n",
    "\n",
    "$$\n",
    "S:\\begin{cases}\n",
    "    \\lvert 0 \\rangle \\to \\lvert 0 \\rangle\\\\\n",
    "    \\lvert 1 \\rangle \\to i\\lvert 1 \\rangle\n",
    "\\end{cases},\\ \\ \n",
    "S^{\\dagger}:\\begin{cases}\n",
    "    \\lvert 0 \\rangle \\to \\lvert 0 \\rangle\\\\\n",
    "    \\lvert 1 \\rangle \\to -i\\lvert 1 \\rangle\n",
    "\\end{cases},\\ \\ \n",
    "T:\\begin{cases}\n",
    "    \\lvert 0 \\rangle \\to \\lvert 0 \\rangle\\\\\n",
    "    \\lvert 1 \\rangle \\to e^{i\\frac{\\pi}{4}}\\lvert 1 \\rangle\n",
    "\\end{cases},\\ \\ \n",
    "T^{\\dagger}:\\begin{cases}\n",
    "    \\lvert 0 \\rangle \\to \\lvert 0 \\rangle\\\\\n",
    "    \\lvert 1 \\rangle \\to -e^{i\\frac{\\pi}{4}}\\lvert 1 \\rangle\n",
    "\\end{cases}\n",
    "$$\n",
    "\n",
    "The state vector changes, but the observed values do not change.  \n",
    "Such a complex part is called a phase.\n",
    "\n",
    "It is called phase gate."
   ]
  },
  {
   "cell_type": "markdown",
   "metadata": {},
   "source": [
    "# Single Arbitrary Rotation Gate\n",
    "The Arbitrary Rotation Gate can be rotated at any angle you like.\n",
    "\n",
    "## What we'll learn this time\n",
    "1. About Rx,Ry,Rz and U gates\n",
    "2. Make circuit\n",
    "\n",
    "## Install Blueqat\n",
    "Install Blueqat from pip. "
   ]
  },
  {
   "cell_type": "markdown",
   "metadata": {},
   "source": [
    "### Rx, Ry, Rz"
   ]
  },
  {
   "cell_type": "markdown",
   "metadata": {},
   "source": [
    "Rx, Ry, Rz gates can be implemented by the following.\n",
    "\n",
    "| Rx | Ry | Rz |\n",
    "|:-:|:-:|:-:|\n",
    "|`rx(θ)`|`ry(θ)`|`rz(θ)`|\n",
    "\n",
    "$\\theta$ is the rotation angle for each axis.\n",
    "\n",
    "###### Rx gate"
   ]
  },
  {
   "cell_type": "code",
   "execution_count": 10,
   "metadata": {},
   "outputs": [
    {
     "data": {
      "text/plain": [
       "Counter({'0': 51, '1': 49})"
      ]
     },
     "execution_count": 10,
     "metadata": {},
     "output_type": "execute_result"
    }
   ],
   "source": [
    "Circuit().rx(math.pi/2)[0].m[:].run(shots=100)"
   ]
  },
  {
   "cell_type": "markdown",
   "metadata": {},
   "source": [
    "###### Ry gate"
   ]
  },
  {
   "cell_type": "code",
   "execution_count": 11,
   "metadata": {},
   "outputs": [
    {
     "data": {
      "text/plain": [
       "Counter({'1': 54, '0': 46})"
      ]
     },
     "execution_count": 11,
     "metadata": {},
     "output_type": "execute_result"
    }
   ],
   "source": [
    "Circuit().ry(math.pi/2)[0].m[:].run(shots=100)"
   ]
  },
  {
   "cell_type": "markdown",
   "metadata": {},
   "source": [
    "###### Rz gate"
   ]
  },
  {
   "cell_type": "code",
   "execution_count": 12,
   "metadata": {},
   "outputs": [
    {
     "data": {
      "text/plain": [
       "Counter({'0': 100})"
      ]
     },
     "execution_count": 12,
     "metadata": {},
     "output_type": "execute_result"
    }
   ],
   "source": [
    "Circuit().rz(math.pi/2)[0].m[:].run(shots=100)"
   ]
  },
  {
   "cell_type": "markdown",
   "metadata": {},
   "source": [
    "##### U gate\n",
    "U gate can be implemented by the following.\n",
    "\n",
    "\n",
    "| U |\n",
    "|:-:|\n",
    "|`u(θ,φ,λ,γ)`|"
   ]
  },
  {
   "cell_type": "code",
   "execution_count": 13,
   "metadata": {},
   "outputs": [
    {
     "data": {
      "text/plain": [
       "Counter({'0': 48, '1': 52})"
      ]
     },
     "execution_count": 13,
     "metadata": {},
     "output_type": "execute_result"
    }
   ],
   "source": [
    "Circuit().u(math.pi/2, 0, math.pi, -math.pi/2)[0].m[:].run(shots=100)"
   ]
  },
  {
   "cell_type": "markdown",
   "metadata": {},
   "source": [
    "# Overview"
   ]
  },
  {
   "cell_type": "markdown",
   "metadata": {},
   "source": [
    "## Rx, Ry, Rz gates\n",
    "These gate rotates the bit around each axis.\n",
    "\n",
    "$$\n",
    "Rx(\\theta) =\n",
    "\\begin{pmatrix}\n",
    "\\cos(\\frac{\\theta}{2}) & -i\\sin(\\frac{\\theta}{2}) \\\\\n",
    "-i\\sin(\\frac{\\theta}{2}) & \\cos(\\frac{\\theta}{2})\n",
    "\\end{pmatrix},\\ \\ \n",
    "Ry(\\theta) =\n",
    "\\begin{pmatrix}\n",
    "\\cos(\\frac{\\theta}{2}) & -\\sin(\\frac{\\theta}{2}) \\\\\n",
    "\\sin(\\frac{\\theta}{2}) & \\cos(\\frac{\\theta}{2})\n",
    "\\end{pmatrix},\\ \\ \n",
    "Rz(\\theta) =\n",
    "\\begin{pmatrix}\n",
    "e^{-i\\frac{\\theta}{2}} & 0 \\\\\n",
    "0 & e^{i\\frac{\\theta}{2}}\n",
    "\\end{pmatrix}\n",
    "$$\n",
    "\n",
    "All the states of one qubit can be composed of this gate combination because it can be rotated around each axis."
   ]
  },
  {
   "cell_type": "markdown",
   "metadata": {},
   "source": [
    "## U gate\n",
    "U gate has four parameters, so it can create an arbitrary state with global phase.\n",
    "\n",
    "$$\n",
    "U(\\theta, \\phi, \\lambda, \\gamma) = e^{i\\gamma}  \\begin{pmatrix}\n",
    "\\cos(\\frac{\\theta}{2}) & -e^{i\\lambda} \\sin(\\frac{\\theta}{2}) \\\\\n",
    "e^{i\\phi} \\sin(\\frac{\\theta}{2}) & e^{i(\\phi+\\lambda)} \\cos(\\frac{\\theta}{2}) \n",
    "\\end{pmatrix}\n",
    "$$"
   ]
  },
  {
   "cell_type": "markdown",
   "metadata": {},
   "source": [
    "## Change from previous U1, U2, U3 gates\n",
    "If your exising code using older version of Blueqat, update the existing code as follows,\n",
    "\n",
    "- U1(θ) → RZ(θ)\n",
    "- U2(φ, λ) → U(π/2, φ, λ, -0.5 * (φ+λ))\n",
    "- U3(θ, φ, λ) → U(θ, φ, λ, -0.5 * (φ+λ))"
   ]
  }
 ],
 "metadata": {
  "colab": {
   "collapsed_sections": [],
   "name": "007_02_fullgate.ipynb",
   "provenance": []
  },
  "kernelspec": {
   "display_name": "Python 3",
   "language": "python",
   "name": "python3"
  },
  "language_info": {
   "codemirror_mode": {
    "name": "ipython",
    "version": 3
   },
   "file_extension": ".py",
   "mimetype": "text/x-python",
   "name": "python",
   "nbconvert_exporter": "python",
   "pygments_lexer": "ipython3",
   "version": "3.8.2"
  }
 },
 "nbformat": 4,
 "nbformat_minor": 4
}
