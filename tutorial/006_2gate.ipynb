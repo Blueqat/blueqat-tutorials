{
 "cells": [
  {
   "cell_type": "markdown",
   "metadata": {},
   "source": [
    "# 2 qubits gate\n",
    "Let's check the 2 qubits gate.\n",
    "\n",
    "## What we'll learn this time\n",
    "1. 2qubits gate\n",
    "2. Implementation example\n",
    "\n",
    "## Install Blueqat\n",
    "Install Blueqat from pip."
   ]
  },
  {
   "cell_type": "code",
   "execution_count": null,
   "metadata": {
    "colab": {
     "base_uri": "https://localhost:8080/",
     "height": 136
    },
    "colab_type": "code",
    "id": "Z2z6oBnToiqa",
    "outputId": "413f3f56-1b22-40f7-fcff-4621af4596d4"
   },
   "outputs": [],
   "source": [
    "!pip install blueqat"
   ]
  },
  {
   "cell_type": "markdown",
   "metadata": {},
   "source": [
    "## Two qubit gate\n",
    "Two qubits gate is mainly one qubit gate with a control bit added to it.\n",
    "\n",
    "### CX, CY, CZ\n",
    "CX, CY, CZ gates can be implemented by the following.\n",
    "\n",
    "| CX | CY | CZ | \n",
    "|:-:|:-:|:-:|\n",
    "|`cx`or`cnot`|`cy`|`cz`|"
   ]
  },
  {
   "cell_type": "markdown",
   "metadata": {},
   "source": [
    "#### Implementation\n",
    "Let's implement these gates.\n",
    "\n",
    "###### CX gate"
   ]
  },
  {
   "cell_type": "code",
   "execution_count": 3,
   "metadata": {},
   "outputs": [
    {
     "data": {
      "text/plain": [
       "Counter({'00': 100})"
      ]
     },
     "execution_count": 3,
     "metadata": {},
     "output_type": "execute_result"
    }
   ],
   "source": [
    "from blueqat import Circuit\n",
    "import math\n",
    "\n",
    "Circuit().cx[0,1].m[:].run(shots=100)\n",
    "#or\n",
    "Circuit().cnot[0,1].m[:].run(shots=100)"
   ]
  },
  {
   "cell_type": "markdown",
   "metadata": {},
   "source": [
    "###### CY gate"
   ]
  },
  {
   "cell_type": "code",
   "execution_count": 3,
   "metadata": {},
   "outputs": [
    {
     "data": {
      "text/plain": [
       "Counter({'00': 100})"
      ]
     },
     "execution_count": 3,
     "metadata": {},
     "output_type": "execute_result"
    }
   ],
   "source": [
    "Circuit().cy[0,1].m[:].run(shots=100)"
   ]
  },
  {
   "cell_type": "markdown",
   "metadata": {},
   "source": [
    "###### CZ gate"
   ]
  },
  {
   "cell_type": "code",
   "execution_count": 4,
   "metadata": {},
   "outputs": [
    {
     "data": {
      "text/plain": [
       "Counter({'00': 100})"
      ]
     },
     "execution_count": 4,
     "metadata": {},
     "output_type": "execute_result"
    }
   ],
   "source": [
    "Circuit().cz[0,1].m[:].run(shots=100)"
   ]
  },
  {
   "cell_type": "markdown",
   "metadata": {},
   "source": [
    "## CX, CY, CZ gates\n",
    "The control gate consists of control bit and target bit.  \n",
    "\n",
    "The control gate uses two qubits. These convert the second bit when the first bit is $|1\\rangle$.  \n",
    "Here is a commonly used CX gate as an example.\n",
    "\n",
    "<img src=\"../tutorial-ja/img/007/007_0.png\" width=\"60%\">\n",
    "\n",
    "As you can see, when the first bit is $|1\\rangle$, the second bit is mapped to the X gate.   \n",
    "Other control gates are the same."
   ]
  },
  {
   "cell_type": "markdown",
   "metadata": {},
   "source": [
    "### CRx, CRy, CRz,\n",
    "CRx, CRy, CRz gates can be implemented by the following.\n",
    "\n",
    "| CRx | CRy | CRz |\n",
    "|:-:|:-:|:-:|\n",
    "|`crx(θ)`|`cry(θ)`|`crz(θ)`|\n",
    "\n",
    "$\\theta$ is the same as RX, RY and RZ gate."
   ]
  },
  {
   "cell_type": "markdown",
   "metadata": {},
   "source": [
    "###### CRx gate"
   ]
  },
  {
   "cell_type": "code",
   "execution_count": 5,
   "metadata": {},
   "outputs": [
    {
     "data": {
      "text/plain": [
       "Counter({'00': 100})"
      ]
     },
     "execution_count": 5,
     "metadata": {},
     "output_type": "execute_result"
    }
   ],
   "source": [
    "Circuit().crx(math.pi/2)[0,1].m[:].run(shots=100)"
   ]
  },
  {
   "cell_type": "markdown",
   "metadata": {},
   "source": [
    "###### CRy gate"
   ]
  },
  {
   "cell_type": "code",
   "execution_count": 6,
   "metadata": {},
   "outputs": [
    {
     "data": {
      "text/plain": [
       "Counter({'00': 1000})"
      ]
     },
     "execution_count": 6,
     "metadata": {},
     "output_type": "execute_result"
    }
   ],
   "source": [
    "Circuit().cry(math.pi/2)[0,1].m[:].run(shots=1000)"
   ]
  },
  {
   "cell_type": "markdown",
   "metadata": {},
   "source": [
    "###### CRz gate"
   ]
  },
  {
   "cell_type": "code",
   "execution_count": 7,
   "metadata": {},
   "outputs": [
    {
     "data": {
      "text/plain": [
       "Counter({'00': 1000})"
      ]
     },
     "execution_count": 7,
     "metadata": {},
     "output_type": "execute_result"
    }
   ],
   "source": [
    "Circuit().crz(math.pi/2)[0,1].m[:].run(shots=1000)"
   ]
  },
  {
   "cell_type": "markdown",
   "metadata": {},
   "source": [
    "### CU\n",
    "CU gates can be implemented by the following.\n",
    "\n",
    "| CU |\n",
    "|:-:|\n",
    "|`cu(θ,φ,λ,γ)`|\n",
    "\n",
    "$\\theta, \\phi, \\lambda, \\gamma$ is the same as U gate."
   ]
  },
  {
   "cell_type": "code",
   "execution_count": 10,
   "metadata": {},
   "outputs": [
    {
     "data": {
      "text/plain": [
       "Counter({'00': 100})"
      ]
     },
     "execution_count": 10,
     "metadata": {},
     "output_type": "execute_result"
    }
   ],
   "source": [
    "Circuit().cu(math.pi/2, 0, math.pi, -math.pi/2)[0,1].m[:].run(shots=100)"
   ]
  },
  {
   "cell_type": "markdown",
   "metadata": {},
   "source": [
    "## Swap Gate\n",
    "Swap gate is the gate to exchange value of 2qubts. By using CX gate we can realize swap gate."
   ]
  },
  {
   "cell_type": "markdown",
   "metadata": {},
   "source": [
    "## Circuit\n",
    "By using 3CX gate we can use swap gate."
   ]
  },
  {
   "cell_type": "code",
   "execution_count": 4,
   "metadata": {},
   "outputs": [
    {
     "data": {
      "text/plain": [
       "Counter({'01': 1})"
      ]
     },
     "execution_count": 4,
     "metadata": {},
     "output_type": "execute_result"
    }
   ],
   "source": [
    "#the fist X gate is data input to check if the swap gate works\n",
    "Circuit().x[0].cx[0,1].cx[1,0].cx[0,1].m[:].run(shots=1)"
   ]
  },
  {
   "cell_type": "markdown",
   "metadata": {},
   "source": [
    "By applying 3 CX gate continuously you can use swap gate. The first qubit of 1 is exchanged and we finally get 0 as 0th qubit and 1 as 1st qubit"
   ]
  },
  {
   "cell_type": "markdown",
   "metadata": {},
   "source": [
    "## Ising Gate\n",
    "An ising gate is a gate that rotates two qubits at the same time."
   ]
  },
  {
   "cell_type": "markdown",
   "metadata": {},
   "source": [
    "### Rxx, Ryy, Rzz\n",
    "Rxx,Ryy,Rzz gates can be implemented by the following.\n",
    "\n",
    "| Rxx | Ryy | Rzz |\n",
    "|:-:|:-:|:-:|\n",
    "|`rxx(θ)`|`ryy(θ)`|`rzz(θ)`|"
   ]
  },
  {
   "cell_type": "markdown",
   "metadata": {},
   "source": [
    "###### RXX gate"
   ]
  },
  {
   "cell_type": "code",
   "execution_count": 6,
   "metadata": {},
   "outputs": [
    {
     "data": {
      "text/plain": [
       "Counter({'00': 51, '11': 49})"
      ]
     },
     "execution_count": 6,
     "metadata": {},
     "output_type": "execute_result"
    }
   ],
   "source": [
    "Circuit(2).rxx(math.pi/2)[0,1].m[:].run(shots=100)"
   ]
  },
  {
   "cell_type": "markdown",
   "metadata": {},
   "source": [
    "###### RYY gate"
   ]
  },
  {
   "cell_type": "code",
   "execution_count": 7,
   "metadata": {},
   "outputs": [
    {
     "data": {
      "text/plain": [
       "Counter({'11': 48, '00': 52})"
      ]
     },
     "execution_count": 7,
     "metadata": {},
     "output_type": "execute_result"
    }
   ],
   "source": [
    "Circuit(2).ryy(math.pi/2)[0,1].m[:].run(shots=100)"
   ]
  },
  {
   "cell_type": "markdown",
   "metadata": {},
   "source": [
    "###### RZZ gate"
   ]
  },
  {
   "cell_type": "code",
   "execution_count": 8,
   "metadata": {},
   "outputs": [
    {
     "data": {
      "text/plain": [
       "Counter({'00': 100})"
      ]
     },
     "execution_count": 8,
     "metadata": {},
     "output_type": "execute_result"
    }
   ],
   "source": [
    "Circuit().rzz(math.pi/2)[0,1].m[:].run(shots=100)"
   ]
  },
  {
   "cell_type": "markdown",
   "metadata": {},
   "source": [
    "## Rxx, Ryy, Rzz gates\n",
    "The rotation of one qubit was represented by two states, 0 and 1.  \n",
    "The rotation of two qubits is represented by four states, 00, 01, 10, and 11."
   ]
  },
  {
   "cell_type": "markdown",
   "metadata": {},
   "source": [
    "#### Rxx gate\n",
    "\n",
    "The matrix looks like the following.\n",
    "\n",
    "$$\n",
    "Rxx(\\theta) = \\left(\\begin{array}{cccc}\n",
    "\\cos\\theta &0&0&-i\\sin\\theta\\\\\n",
    "0& \\cos\\theta &-i\\sin\\theta&0\\\\\n",
    "0&-i\\sin\\theta& \\cos\\theta &0\\\\\n",
    "-i\\sin\\theta&0&0& \\cos\\theta\n",
    "\\end{array}\\right)\\\\\n",
    "$$\n",
    "\n",
    "And the action on each bit is:\n",
    "\n",
    "<img src=\"../tutorial-ja/img/ising_0.png\" width=\"55%\">"
   ]
  },
  {
   "cell_type": "markdown",
   "metadata": {},
   "source": [
    "#### Ryy gate\n",
    "\n",
    "The matrix looks like the following.\n",
    "\n",
    "$$\n",
    "Ryy(\\theta) = \\left(\\begin{array}{cccc}\n",
    "\\cos\\theta &0&0&i\\sin\\theta\\\\\n",
    "0& \\cos\\theta &-i\\sin\\theta&0\\\\\n",
    "0&-i\\sin\\theta& \\cos\\theta &0\\\\\n",
    "i\\sin\\theta&0&0& \\cos\\theta\n",
    "\\end{array}\\right)\n",
    "$$\n",
    "\n",
    "And the action on each bit is:\n",
    "\n",
    "<img src=\"../tutorial-ja/img/ising_1.png\" width=\"55%\">"
   ]
  },
  {
   "cell_type": "markdown",
   "metadata": {},
   "source": [
    "#### Rzz gate\n",
    "\n",
    "The matrix looks like the following.\n",
    "\n",
    "$$\n",
    "Rzz(\\theta) = \\left(\\begin{array}{cccc}\n",
    "e^{\\frac{\\theta}{2}i} &0&0&0\\\\\n",
    "0& e^{-\\frac{\\theta}{2}i} &0&0\\\\\n",
    "0&0& e^{-\\frac{\\theta}{2}i} &0\\\\\n",
    "0&0&0& e^{\\frac{\\theta}{2}i}\n",
    "\\end{array}\\right)\n",
    "$$\n",
    "\n",
    "And the action on each bit is:\n",
    "\n",
    "<img src=\"../tutorial-ja/img/ising_2.png\" width=\"35%\">"
   ]
  }
 ],
 "metadata": {
  "colab": {
   "collapsed_sections": [],
   "name": "007_02_fullgate.ipynb",
   "provenance": []
  },
  "kernelspec": {
   "display_name": "Python 3",
   "language": "python",
   "name": "python3"
  },
  "language_info": {
   "codemirror_mode": {
    "name": "ipython",
    "version": 3
   },
   "file_extension": ".py",
   "mimetype": "text/x-python",
   "name": "python",
   "nbconvert_exporter": "python",
   "pygments_lexer": "ipython3",
   "version": "3.8.4"
  }
 },
 "nbformat": 4,
 "nbformat_minor": 4
}
