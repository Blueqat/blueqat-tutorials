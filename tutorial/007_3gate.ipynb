{
 "cells": [
  {
   "cell_type": "markdown",
   "metadata": {
    "colab_type": "text",
    "id": "NjHnSAbHrInP"
   },
   "source": [
    "# 3 qubits gate\n",
    "We learned about 1qubit and 2qubits gate. Now we learn about 3qubits gate.\n",
    "\n",
    "Usually the acutal quantum computer has only 1qubit and 2qubits gate operation. We have to create many qubits gate by using these 1 and 2qubits gate. Let's see it."
   ]
  },
  {
   "cell_type": "markdown",
   "metadata": {
    "colab_type": "text",
    "id": "PKhFYi-drld1"
   },
   "source": [
    "## Circuit\n",
    "The basic circuit of Toffoli gate consists of H and CX and T gate.\n",
    "\n"
   ]
  },
  {
   "cell_type": "code",
   "execution_count": null,
   "metadata": {
    "colab": {},
    "colab_type": "code",
    "id": "o-qzZrM9dJ5n"
   },
   "outputs": [],
   "source": [
    "!pip install blueqat"
   ]
  },
  {
   "cell_type": "code",
   "execution_count": 2,
   "metadata": {
    "colab": {
     "base_uri": "https://localhost:8080/",
     "height": 34
    },
    "colab_type": "code",
    "id": "O674HiVxjc7P",
    "outputId": "4942a9c8-9a27-4943-d04f-80bd7d5eef4d"
   },
   "outputs": [
    {
     "data": {
      "text/plain": [
       "Counter({'111': 1})"
      ]
     },
     "execution_count": 2,
     "metadata": {
      "tags": []
     },
     "output_type": "execute_result"
    }
   ],
   "source": [
    "from blueqat import Circuit\n",
    "import numpy as np\n",
    "\n",
    "#The first x gate is a data input to flip the 0th and 1st qubit to check the toffoligate.\n",
    "Circuit().x[1:].h[0].cnot[1,0].rz(-np.pi/4)[0].cnot[2,0].rz(np.pi/4)[0].cnot[1,0].rz(-np.pi/4)[0].cnot[2,0].rz(np.pi/4)[:1].h[0].cnot[1,0].cnot[0,1].cnot[1,0].cnot[2,0].rz(-np.pi/4)[0].rz(np.pi/4)[2].cnot[2,0].m[:].run(shots=1)"
   ]
  },
  {
   "cell_type": "markdown",
   "metadata": {
    "colab_type": "text",
    "id": "Pj4TW4zHDG7d"
   },
   "source": [
    "This is the Toffoli gate. Toffoli gate is also called as CCX gate. This gate has 2 controlled gate and 1target gate. If the both controlled gate are 1 this flips the target gate. In blueqat it is also written in very short expression as .ccx[c,c,x]"
   ]
  },
  {
   "cell_type": "code",
   "execution_count": 4,
   "metadata": {
    "colab": {
     "base_uri": "https://localhost:8080/",
     "height": 34
    },
    "colab_type": "code",
    "id": "Y8AkbhLAqQic",
    "outputId": "f148f10f-c01d-4529-b88c-c7d051dd9d3c"
   },
   "outputs": [
    {
     "data": {
      "text/plain": [
       "Counter({'111': 1})"
      ]
     },
     "execution_count": 4,
     "metadata": {
      "tags": []
     },
     "output_type": "execute_result"
    }
   ],
   "source": [
    "Circuit().x[:2].ccx[0,1,2].m[:].run(shots=1)"
   ]
  },
  {
   "cell_type": "markdown",
   "metadata": {
    "colab_type": "text",
    "id": "JXe-r85-qq8Z"
   },
   "source": [
    "This is the same function."
   ]
  }
 ],
 "metadata": {
  "colab": {
   "collapsed_sections": [],
   "name": "005_basic_toffoli.ipynb",
   "provenance": [],
   "version": "0.3.2"
  },
  "kernelspec": {
   "display_name": "Python 3",
   "language": "python",
   "name": "python3"
  },
  "language_info": {
   "codemirror_mode": {
    "name": "ipython",
    "version": 3
   },
   "file_extension": ".py",
   "mimetype": "text/x-python",
   "name": "python",
   "nbconvert_exporter": "python",
   "pygments_lexer": "ipython3",
   "version": "3.7.7"
  }
 },
 "nbformat": 4,
 "nbformat_minor": 4
}
