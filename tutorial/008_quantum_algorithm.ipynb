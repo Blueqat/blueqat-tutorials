{
 "cells": [
  {
   "cell_type": "markdown",
   "id": "civic-mauritius",
   "metadata": {},
   "source": [
    "# Quantum algorithm"
   ]
  },
  {
   "cell_type": "markdown",
   "id": "solar-converter",
   "metadata": {},
   "source": [
    "### Overview\n",
    "\n",
    "An algorithm generally refers to a procedure that a computer performs in order to solve a certain problem.\n",
    "\n",
    "A quantum algorithm is an algorithm that is designed to be run on a quantum computer.  \n",
    "It is often described by mathematical expression using bracket symbols, but eventually it is reduced to a quantum circuit using concrete quantum gates.  \n",
    "\n",
    "The aim of quantum algorithms is to perform calculations that are faster than classical computers, or that are virtually impossible with classical computers due to physical constraints (e.g., memory capacity) using quantum computers.  \n",
    "This is achieved by utilizing the superposition and entanglement properties of qubits.  \n",
    "Unlike (classical) qubits, $n$ qubits can hold $2^n$ superposition states simultaneously.  \n",
    "\n",
    "At first glance, it is tempting to think that $2^n$ of calculations can be performed in parallel, but unfortunately it is not so simple.  \n",
    "This is because in a quantum computer, only one of the $2^n$ states is probabilistically output by the \"measurement\" process.  \n",
    "In other words, a quantum computer can hold a huge amount of information internally, but the information it can output is very limited.  \n",
    "Therefore, quantum algorithms need to be designed to be good at obtaining the desired solution with a small number of outputs.  \n",
    "\n",
    "Currently, there are only a very limited number of calculations where quantum algorithms have been shown to be faster than classical algorithms.  \n",
    "Included in that limited number of examples are the famous Shor's and Grover's algorithms.  \n",
    "In the process of learning these algorithms, I think you will be able to grasp the kind of calculations in which a quantum computer is likely to have an advantage over a classical computer.　　\n",
    "The discovery of new computations that will make quantum algorithms faster will be the driving force behind the use of quantum computers in the future."
   ]
  },
  {
   "cell_type": "markdown",
   "id": "corrected-greeting",
   "metadata": {},
   "source": [
    "### NISQ algorithm"
   ]
  },
  {
   "cell_type": "markdown",
   "id": "organic-franklin",
   "metadata": {},
   "source": [
    "Current (2021) quantum computers are still small in scale and the impact of noise on computational results cannot be ignored. Such quantum computers are distinguish as Noisy Intermediate-Scale Quantum (NISQ) devices [1].  \n",
    "Quantum algorithms that have been theoretically shown to be faster than classical algorithms, such as those described above, cannot be run on NISQ devices at a practical scale and accuracy.  \n",
    "It is said that it will take several decades to develop a quantum computer that can do this (Learge scale, fault tolerant quantum computer).\n",
    "\n",
    "On the other hand, the largest current NISQ devices, as announced as \"quantum transcendence\", have reached a point where they cannot be efficiently simulated by existing classical computers [2].  \n",
    "Therefore, even if we do not wait for several decades, we expect that there will be calculations that can be performed faster than existing classical computers using NISQ devices.  \n",
    "Such an algorithm is called the NISQ algorithm, and a research and development race is currently underway around the world."
   ]
  },
  {
   "cell_type": "markdown",
   "id": "organizational-xerox",
   "metadata": {},
   "source": [
    "### On learning NISQ and non-NISQ algorithms"
   ]
  },
  {
   "cell_type": "markdown",
   "id": "wicked-birmingham",
   "metadata": {},
   "source": [
    "In the following tutorials, a distinction will be made between non-NISQ algorithms (\"Universal Quantum Algorithm\") and NISQ algorithms.  \n",
    "The basic construction of a quantum circuit and the quantum gates used are the same for both.  \n",
    "Compared to non-NISQ algorithms, the NISQ algorithm emphasizes the ability to operate with a small number of qubits and to tolerate errors in computation.\n",
    "\n",
    "I think that non-NISQ quantum algorithms are better for learning, in point of seeing how quantum computation can be faster than classical computation.　　\n",
    "On the other hand, if you want to focus on practical use in the near future, it is better to focus on the NISQ algorithm."
   ]
  },
  {
   "cell_type": "markdown",
   "id": "intimate-russia",
   "metadata": {},
   "source": [
    "### References\n",
    "\n",
    "[1] Bharti, Kishor, et al. \"Noisy intermediate-scale quantum (NISQ) algorithms.\" arXiv preprint arXiv:2101.08448 (2021).  \n",
    "[2] Arute, Frank, et al. \"Quantum supremacy using a programmable superconducting processor.\" Nature 574.7779 (2019): 505-51"
   ]
  },
  {
   "cell_type": "code",
   "execution_count": null,
   "id": "occupied-biotechnology",
   "metadata": {},
   "outputs": [],
   "source": []
  }
 ],
 "metadata": {
  "kernelspec": {
   "display_name": "Python 3",
   "language": "python",
   "name": "python3"
  },
  "language_info": {
   "codemirror_mode": {
    "name": "ipython",
    "version": 3
   },
   "file_extension": ".py",
   "mimetype": "text/x-python",
   "name": "python",
   "nbconvert_exporter": "python",
   "pygments_lexer": "ipython3",
   "version": "3.8.2"
  }
 },
 "nbformat": 4,
 "nbformat_minor": 5
}
