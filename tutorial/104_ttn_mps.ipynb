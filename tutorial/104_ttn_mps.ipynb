{
 "cells": [
  {
   "cell_type": "markdown",
   "metadata": {},
   "source": [
    "# Quantum Machine Learning and TTN\n",
    "Let's look at the Tree Tensor Network as a model for quantum machine learning.\n",
    "\n",
    "## What you will learn\n",
    "1. TTN model\n",
    "2. Optimization"
   ]
  },
  {
   "cell_type": "markdown",
   "metadata": {},
   "source": [
    "The model we are going to build is called TTN. The quantum circuit is as follows.\n",
    "\n",
    "(no image now)\n",
    "\n",
    "It has a shape that takes on tree structure.  \n",
    "This circuit uses a one qubit arbitrary rotation gate (a combination of $Rx$, $Rz$ and $Ry$ gates) and a two qubit gate ($CX$ gate).  \n",
    "More details are as follows.\n",
    "\n",
    "```\n",
    "|0> -RX-RY-RZ--CX--\n",
    "               |\n",
    "|0> -RX-RY-RZ--CX--RX-RY-RZ--CX--\n",
    "                             |\n",
    "|0> -RX-RY-RZ--CX--          |\n",
    "               |             |\n",
    "|0> -RX-RY-RZ--CX--RX-RY-RZ--CX--M\n",
    "\n",
    "```"
   ]
  },
  {
   "cell_type": "code",
   "execution_count": 1,
   "metadata": {},
   "outputs": [],
   "source": [
    "from blueqat import Circuit\n",
    "from blueqat.pauli import Z\n",
    "import matplotlib.pyplot as plt\n",
    "import numpy as np\n",
    "import time\n",
    "%matplotlib inline"
   ]
  },
  {
   "cell_type": "markdown",
   "metadata": {},
   "source": [
    "Configure hyperparameters and other settings."
   ]
  },
  {
   "cell_type": "code",
   "execution_count": 2,
   "metadata": {},
   "outputs": [],
   "source": [
    "np.random.seed(45)\n",
    "\n",
    "nsteps = 2000\n",
    "nparams = 18\n",
    "h = 0.01\n",
    "e = 0.01\n",
    "\n",
    "param_init = [np.random.rand()*np.pi*2 for i in range(nparams)]\n",
    "\n",
    "arr = []\n",
    "\n",
    "mode = 1"
   ]
  },
  {
   "cell_type": "markdown",
   "metadata": {},
   "source": [
    "We create a model of the tree structure.  \n",
    "Set upthe input to the quantum circuit and the target label for it and start learning.  \n",
    "This time, the input data can be selected by arguments."
   ]
  },
  {
   "cell_type": "code",
   "execution_count": 3,
   "metadata": {},
   "outputs": [],
   "source": [
    "def TTN_Z(a, ran, mode=1):\n",
    "    \n",
    "    # Input circuit\n",
    "    init = [Circuit(4).x[0,1], Circuit(4).x[2,3], Circuit(4).x[0], Circuit(4).x[1], Circuit(4).x[2], Circuit(4).x[0,2]]\n",
    "    # Target label\n",
    "    target = [1,1,-1,-1,-1,1]\n",
    "   \n",
    "    # Circuit construct}ion\n",
    "    u = init[ran]\n",
    "    u.rx(a[0])[0].ry(a[1])[0].rz(a[2])[0]\n",
    "    u.rx(a[3])[1].ry(a[4])[1].rz(a[5])[1]\n",
    "    u.rx(a[6])[2].ry(a[7])[2].rz(a[8])[2]\n",
    "    u.rx(a[9])[3].ry(a[10])[3].rz(a[11])[3]\n",
    "    u.cx[0,1].cx[2,3]\n",
    "    u.rx(a[12])[1].ry(a[13])[1].rz(a[14])[1]\n",
    "    u.rx(a[15])[3].ry(a[16])[3].rz(a[17])[3]\n",
    "    u.cx[1,3]\n",
    "    \n",
    "    # Calculate expectation value from state vector\n",
    "    expt = u.run(hamiltonian=1*Z[3])\n",
    "    \n",
    "    if(mode ==1):\n",
    "        # return error between label and prediction\n",
    "        return (expt - target[ran])**2\n",
    "    else:\n",
    "        return expt"
   ]
  },
  {
   "cell_type": "markdown",
   "metadata": {},
   "source": [
    "Stochastic gradient descent (SGD) is used to learning.\n",
    "At the start of each step, the input data is randomly selected from 6 ways (0 to 5), and the gradient is calculated and the parameters are updated.\n",
    "\n",
    "In each step, the gradient calculation and parameter update are performed on only one data, but by repeating the process while randomly selecting input data, the system eventually learns to minimize the loss function for all data."
   ]
  },
  {
   "cell_type": "code",
   "execution_count": 4,
   "metadata": {},
   "outputs": [
    {
     "data": {
      "image/png": "[encoded data removed]",
      "text/plain": [
       "<Figure size 432x288 with 1 Axes>"
      ]
     },
     "metadata": {
      "needs_background": "light"
     },
     "output_type": "display_data"
    },
    {
     "name": "stdout",
     "output_type": "stream",
     "text": [
      "557.4303178787231\n"
     ]
    }
   ],
   "source": [
    "start = time.time()\n",
    "\n",
    "param = param_init.copy()\n",
    "for i in range(nsteps):\n",
    "    it = np.random.randint(0,6)\n",
    "    \n",
    "    loss = TTN_Z(param, it, mode)\n",
    "    arr.append(loss)\n",
    "    param_new = [0 for i in range(nparams)]\n",
    "    \n",
    "    for j in range(nparams):\n",
    "        _param = param.copy()\n",
    "        _param[j] += h\n",
    "        param_new[j] = param[j] - e*(TTN_Z(_param, it, mode) - loss)/h\n",
    "\n",
    "    param = param_new\n",
    "\n",
    "plt.plot(arr)\n",
    "plt.show()\n",
    "print(time.time() - start)"
   ]
  },
  {
   "cell_type": "markdown",
   "metadata": {},
   "source": [
    "It converged well.  \n",
    "Let's check it out."
   ]
  },
  {
   "cell_type": "code",
   "execution_count": 5,
   "metadata": {},
   "outputs": [
    {
     "name": "stdout",
     "output_type": "stream",
     "text": [
      "Prediction : 0.9890604670982991         Target : 1\n",
      "Prediction : 0.9873710399334666         Target : 1\n",
      "Prediction : -0.9890604670982991         Target : -1\n",
      "Prediction : -0.9870095481423591         Target : -1\n",
      "Prediction : -0.9873710399334665         Target : -1\n",
      "Prediction : 0.9894227100375274         Target : 1\n"
     ]
    }
   ],
   "source": [
    "target = [1,1,-1,-1,-1,1]\n",
    "preds = []\n",
    "for i in range(6):\n",
    "    pred = TTN_Z(param, i, mode=2)\n",
    "    preds.append(pred)\n",
    "    print(\"Prediction :\", pred, \"        Target :\", target[i])"
   ]
  },
  {
   "cell_type": "markdown",
   "metadata": {},
   "source": [
    "From the above, we were able to learn a quantum circuit using the TTN model."
   ]
  },
  {
   "cell_type": "markdown",
   "metadata": {},
   "source": [
    "# Quantum Machine Learning and MPS\n",
    "Let's look at the Tree Tensor Network as a model for quantum machine learning.\n",
    "\n",
    "## What you will learn\n",
    "1. MPS model\n",
    "2. Optimization"
   ]
  },
  {
   "cell_type": "markdown",
   "metadata": {},
   "source": [
    "The model we are going to build is called MPS.This circuit uses a one qubit arbitrary rotation gate (a combination of $Rz$ and $Ry$ gates) and a two qubit gate ($CX$ gate).  \n",
    "More details are as follows.\n",
    "\n",
    "```\n",
    "|0> -RX-RY-RZ--CX--\n",
    "               |\n",
    "|0> -RX-RY-RZ--CX--RX-RY-RZ--CX--\n",
    "                             |\n",
    "|0> -RX-RY-RZ----------------CX--RX-RY-RZ--CX--\n",
    "                                           |\n",
    "|0> -RX-RY-RZ------------------------------CX--M\n",
    "\n",
    "```"
   ]
  },
  {
   "cell_type": "markdown",
   "metadata": {},
   "source": [
    "Configure hyperparameters and other settings."
   ]
  },
  {
   "cell_type": "code",
   "execution_count": 6,
   "metadata": {},
   "outputs": [],
   "source": [
    "np.random.seed(45)\n",
    "\n",
    "# Number of steps of optimizetaion\n",
    "nsteps = 5000\n",
    "\n",
    "# Number of parameters of the quantum circuit to be optimized\n",
    "nparams = 18\n",
    "\n",
    "# Fineness of numerical differentiation\n",
    "h = 0.01\n",
    "\n",
    "# Learning rate\n",
    "e = 0.01\n",
    "\n",
    "# Initial parameter\n",
    "param_init = [np.random.rand() * np.pi * 2 for i in range(nparams)]\n",
    "\n",
    "# list for containing results\n",
    "arr = []\n",
    "\n",
    "# 1: train, 2: prediction\n",
    "mode = 1"
   ]
  },
  {
   "cell_type": "code",
   "execution_count": 7,
   "metadata": {},
   "outputs": [],
   "source": [
    "def mpsZ(a, ran, mode=1):\n",
    "    \n",
    "    # Input circuit\n",
    "    init = [Circuit(4).x[0,1], Circuit(4).x[2,3], Circuit(4).x[0], Circuit(4).x[1], Circuit(4).x[2], Circuit(4).x[0,2]]\n",
    "    # Target label\n",
    "    target = [1, 1, -1, -1, -1, 1]\n",
    "   \n",
    "    # Circuit construction\n",
    "    u = init[ran]\n",
    "    u.rx(a[0])[0].ry(a[1])[0].rz(a[2])[0]\n",
    "    u.rx(a[3])[1].ry(a[4])[1].rz(a[5])[1]    \n",
    "    u.rx(a[6])[2].ry(a[7])[2].rz(a[8])[2]\n",
    "    u.rx(a[9])[3].ry(a[10])[3].rz(a[11])[3]\n",
    "    u.cx[0,1]\n",
    "    u.rx(a[12])[1].ry(a[13])[1].rz(a[14])[1]\n",
    "    u.cx[1,2]\n",
    "    u.rx(a[15])[2].ry(a[16])[2].rz(a[17])[2]\n",
    "    u.cx[2,3]\n",
    "    \n",
    "    # Calculate expectation value from state vector\n",
    "    expt = u.run(hamiltonian=1*Z[3])\n",
    "    \n",
    "    if(mode ==1):\n",
    "        # return error between label and prediction\n",
    "        return (expt - target[ran]) ** 2\n",
    "    else:\n",
    "        return expt"
   ]
  },
  {
   "cell_type": "markdown",
   "metadata": {},
   "source": [
    "Stochastic gradient descent (SGD) is used to learning.\n",
    "At the start of each step, the input data is randomly selected from 6 ways (0 to 5), and the gradient is calculated and the parameters are updated.\n",
    "\n",
    "In each step, the gradient calculation and parameter update are performed on only one data, but by repeating the process while randomly selecting input data, the system eventually learns to minimize the loss function for all data."
   ]
  },
  {
   "cell_type": "code",
   "execution_count": 8,
   "metadata": {},
   "outputs": [
    {
     "data": {
      "image/png": "[encoded data removed]",
      "text/plain": [
       "<Figure size 432x288 with 1 Axes>"
      ]
     },
     "metadata": {
      "needs_background": "light"
     },
     "output_type": "display_data"
    },
    {
     "name": "stdout",
     "output_type": "stream",
     "text": [
      "1416.9488594532013\n"
     ]
    }
   ],
   "source": [
    "start = time.time()\n",
    "\n",
    "param = param_init.copy()\n",
    "\n",
    "for i in range(nsteps):\n",
    "    it = np.random.randint(0,6)\n",
    "    \n",
    "    loss = mpsZ(param, it)\n",
    "    arr.append(loss)\n",
    "    param_new = [0 for i in range(nparams)]\n",
    "    \n",
    "    for j in range(nparams):\n",
    "        _param = param.copy()\n",
    "        _param[j] += h\n",
    "        param_new[j] = param[j] - e*(mpsZ(_param, it) - loss) / h\n",
    "\n",
    "    param = param_new\n",
    "\n",
    "plt.plot(arr)\n",
    "plt.show()\n",
    "print(time.time() - start)"
   ]
  },
  {
   "cell_type": "markdown",
   "metadata": {},
   "source": [
    "It converged well.  \n",
    "Let's check it out."
   ]
  },
  {
   "cell_type": "code",
   "execution_count": 9,
   "metadata": {},
   "outputs": [
    {
     "name": "stdout",
     "output_type": "stream",
     "text": [
      "Prediction : 0.9951248719559743         Target : 1\n",
      "Prediction : 0.9944050473333251         Target : 1\n",
      "Prediction : -0.9952549958143145         Target : -1\n",
      "Prediction : -0.994535171191665         Target : -1\n",
      "Prediction : -0.9944050473333252         Target : -1\n",
      "Prediction : 0.9952549958143143         Target : 1\n"
     ]
    }
   ],
   "source": [
    "target = [1,1,-1,-1,-1,1]\n",
    "preds = []\n",
    "for i in range(6):\n",
    "    pred = mpsZ(param, i, mode=2)\n",
    "    preds.append(pred)\n",
    "    print(\"Prediction :\", pred, \"        Target :\", target[i])"
   ]
  }
 ],
 "metadata": {
  "kernelspec": {
   "display_name": "Python 3 (ipykernel)",
   "language": "python",
   "name": "python3"
  },
  "language_info": {
   "codemirror_mode": {
    "name": "ipython",
    "version": 3
   },
   "file_extension": ".py",
   "mimetype": "text/x-python",
   "name": "python",
   "nbconvert_exporter": "python",
   "pygments_lexer": "ipython3",
   "version": "3.10.5"
  }
 },
 "nbformat": 4,
 "nbformat_minor": 4
}
