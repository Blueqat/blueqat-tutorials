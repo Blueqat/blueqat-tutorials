{
 "cells": [
  {
   "cell_type": "markdown",
   "metadata": {},
   "source": [
    "# Clustering\n",
    "We handle clustering ploblem as an optimization problem."
   ]
  },
  {
   "cell_type": "markdown",
   "metadata": {},
   "source": [
    "## Overview\n",
    "Clustering is the classification of a large number of data with different values into a number of clusters.  \n",
    "By classifying data with similar characteristics into the same cluster, it is possible to group them, which is used for marketing and other purposes.\n",
    "\n",
    "## Example\n",
    "\n",
    "### Clustering by QAOA\n",
    "Consider the case where four points (nodes) are divided into two clusters.  \n",
    "\n",
    "First we have a pair of qubits set $q_0,q_1,q_2,q_3$ and $q_4,q_5,q_6,q_7$ that represent two clusters.  \n",
    "$q_0$ and $q_4$, $q_1$ and $q_5$, $q_2$ and $q_6$, $q_3$ and $q_7$ each represent the same node, and the qubit representing the cluster to which the node belongs will have the value 1, while the qubit representing the cluster to which it does not belong will have the value 0. \n",
    "For example, if node 0 belongs to cluster 1, then $q_0 = 1, q_4 = 0$, and if node 0 belongs to cluster 2, then $q_0 = 0, q_4 = 1$.  \n",
    "Therefore, the required number of qubits is $4\\times2=8$."
   ]
  },
  {
   "cell_type": "markdown",
   "metadata": {},
   "source": [
    "Set the cost function so that the sum of the distances between the nodes in same cluster become small.\n",
    "\n",
    "$$\n",
    "Cost = \\sum d_{ij} q_i q_j\\ \\ \\ \\ (q_i \\in \\{0, 1\\})\n",
    "$$\n",
    "\n",
    "$d_{ij}$ is the distance between nodes $i$ and $j$.\n",
    "\n",
    "The constraint is set so that only one of the qubits representing the same node will be 1 and the rest will be 0.\n",
    "$$\n",
    "Constraint = \\sum(\\sum_{i}^n q_i - 1)^2\n",
    "$$"
   ]
  },
  {
   "cell_type": "markdown",
   "metadata": {},
   "source": [
    "However, in QAOA, in this case, the constraint term can be removed by implementing the XY mixer circuit.\n",
    "\n",
    "The $XY$ mixer performs a time evolution by the following matrix $H_{XY}$.  \n",
    "\n",
    "$$\n",
    "H_{XY} = (X_0 X_1 + Y_0 Y_1)/2 = \\begin{pmatrix}\n",
    "0 & 0 & 0 & 0 \\\\\n",
    "0 & 0 & 1 & 0 \\\\\n",
    "0 & 1 & 0 & 0 \\\\\n",
    "0 & 0 & 0 & 0\n",
    "\\end{pmatrix}\n",
    "$$\n",
    "\n",
    "The time evolution is represented by the following two-qubit gate $U_{XY}$.\n",
    "\n",
    "$$\n",
    "U_{XY} = e^{-i\\theta H_{XY}} = \\begin{pmatrix}\n",
    "0 & 0 & 0 & 0 \\\\\n",
    "0 & \\cos\\theta & -i\\sin\\theta & 0 \\\\\n",
    "0 & -i\\sin\\theta & \\cos\\theta & 0 \\\\\n",
    "0 & 0 & 0 & 0\n",
    "\\end{pmatrix}\n",
    "$$\n",
    "\n",
    "The amplitude is exchanged between the two states $\\lvert 01\\rangle$ and $\\lvert 10\\rangle$.   \n",
    "Therefore, if we prepare an entanglement of $\\lvert 01\\rangle$ and $\\lvert 10\\rangle$ as initial states and apply $U_{XY}$, we can search only between the two states of $\\lvert 01\\rangle$ and $\\lvert 10\\rangle$ while keeping the amplitudes of $\\lvert 00\\rangle$ and $\\lvert 11\\rangle$, which do not satisfy the constraint conditions, at zero.   \n",
    "This means that constraints can be removed from QUBO because solutions that do not satisfy the constraints will not be explored.\n",
    "\n",
    "Thus, the QUBO matrix consists only of the cost function.  \n",
    "Expressed in a network diagram, we can see that there are fewer edges than when the constraint term was included.  \n",
    "This means that the problem becomes simpler with fewer interactions."
   ]
  },
  {
   "cell_type": "code",
   "execution_count": 55,
   "metadata": {},
   "outputs": [],
   "source": [
    "import numpy as np\n",
    "import matplotlib.pyplot as plt\n",
    "%matplotlib inline\n",
    "\n",
    "from blueqat import Circuit\n",
    "from blueqat.utils import qaoa\n",
    "from blueqat.pauli import X,Y,Z,from_qubo\n",
    "from blueqat.pauli import qubo_bit as q"
   ]
  },
  {
   "cell_type": "markdown",
   "metadata": {},
   "source": [
    "First, we create the data. This time, we will divide the 50 nodes into 2 clusters."
   ]
  },
  {
   "cell_type": "code",
   "execution_count": 67,
   "metadata": {},
   "outputs": [
    {
     "data": {
      "image/png": "[encoded data removed]",
      "text/plain": [
       "<Figure size 432x288 with 1 Axes>"
      ]
     },
     "metadata": {},
     "output_type": "display_data"
    }
   ],
   "source": [
    "import networkx as nx\n",
    "import matplotlib.pyplot as plt\n",
    "\n",
    "n = 35\n",
    "m = 55\n",
    "seed = 15\n",
    "\n",
    "options = {'node_size': 100}\n",
    "\n",
    "G = nx.gnm_random_graph(n, m, seed = seed)\n",
    "nx.draw(G, **options)"
   ]
  },
  {
   "cell_type": "markdown",
   "metadata": {},
   "source": [
    "Next, we will create a QUBO matrix.\n",
    "\n",
    "First, we prepare a QUBO matrix that represents a cost function based on the distance between nodes."
   ]
  },
  {
   "cell_type": "code",
   "execution_count": 68,
   "metadata": {},
   "outputs": [],
   "source": [
    "#get the adjancecy matrix to get the connection\n",
    "d = np.squeeze(np.asarray(nx.to_numpy_matrix(G)))\n",
    "\n",
    "#number of clusters\n",
    "n_cluster = 2\n",
    "\n",
    "#number of qubits\n",
    "N = n * n_cluster"
   ]
  },
  {
   "cell_type": "code",
   "execution_count": 69,
   "metadata": {},
   "outputs": [],
   "source": [
    "# The size of the QUBO matrix is (the number of qubits, the number of qubits).\n",
    "A = np.zeros((N, N))\n",
    "\n",
    "# Duplicate and insert as many distances matrix as there are clusters.\n",
    "for i in range(0, n-1):\n",
    "    for j in range(i+1, n):\n",
    "        for k in range(n_cluster):\n",
    "            A[i+k*n][j+k*n] = d[i][j]"
   ]
  },
  {
   "cell_type": "code",
   "execution_count": null,
   "metadata": {},
   "outputs": [],
   "source": [
    "hamiltonian = from_qubo(A)\n",
    "step = 1\n",
    "\n",
    "#mixer and init state\n",
    "for i in range(n):\n",
    "    if i==0:\n",
    "        mixer = 0.5*X[0]*X[n] + 0.5*Y[0]*Y[n]\n",
    "        init = Circuit().h[0].cx[0,n].x[0]\n",
    "    else:\n",
    "        mixer += 0.5*X[i]*X[i+n] + 0.5*Y[i]*Y[i+n]\n",
    "        init.h[i].cx[i,i+n].x[i]\n",
    "\n",
    "result = qaoa(hamiltonian, step, init, mixer)\n",
    "b = result.circuit.run(shots=10)\n",
    "sample = b.most_common(1)[0][0]\n",
    "print(\"sample:\"+ str(sample))\n",
    "\n",
    "nx.draw(G, **options, node_color=[int(s) for s in list(sample[:n])])"
   ]
  }
 ],
 "metadata": {
  "kernelspec": {
   "display_name": "Python 3 (ipykernel)",
   "language": "python",
   "name": "python3"
  },
  "language_info": {
   "codemirror_mode": {
    "name": "ipython",
    "version": 3
   },
   "file_extension": ".py",
   "mimetype": "text/x-python",
   "name": "python",
   "nbconvert_exporter": "python",
   "pygments_lexer": "ipython3",
   "version": "3.10.5"
  }
 },
 "nbformat": 4,
 "nbformat_minor": 4
}
