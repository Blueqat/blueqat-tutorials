{
 "cells": [
  {
   "cell_type": "markdown",
   "id": "affiliated-lottery",
   "metadata": {},
   "source": [
    "# Quantum Amplitude Amplification\n",
    "\n",
    "Quantum amplitude amplification is an algorithm that amplifies the amplitude of a particular state in a superposition state.  \n",
    "It is the core of Grover's algorithm, which will be explained later."
   ]
  },
  {
   "cell_type": "markdown",
   "id": "impaired-battlefield",
   "metadata": {},
   "source": [
    "## Explanation of algorithm"
   ]
  },
  {
   "cell_type": "markdown",
   "id": "mighty-shame",
   "metadata": {},
   "source": [
    "### Amplitude amplification\n",
    "Regarding the word \"amplitude\", the coefficients for each state are called **amplitude** and the probability is called **probability amplitude**.\n",
    "\n",
    "Let's look at the following equation.\n",
    "\n",
    "$$\n",
    "H \\lvert 0 \\rangle \\otimes H \\lvert 0 \\rangle = \\frac{1}{2} (\\lvert 00 \\rangle + \\lvert 01 \\rangle + \\lvert10 \\rangle + \\lvert 11 \\rangle) \\xrightarrow{\\text{Amplitude amplification}} \\lvert 00 \\rangle\n",
    "$$\n",
    "\n",
    "In this case, the probability amplitudes on the left side of the arrow are all $1/4$, while the state on the right side has probability amplitude $1$ for $00$.\n",
    "\n",
    "Amplitude amplification, as the word implies, is an algorithm that amplifies this probability amplitude as shown above."
   ]
  },
  {
   "cell_type": "markdown",
   "id": "metric-suite",
   "metadata": {},
   "source": [
    "The following figure illustrates the calculations.\n",
    "\n",
    "<img width=\"30%\" src=\"https://upload.wikimedia.org/wikipedia/commons/1/16/Grovers_algorithm_geometry.png\">\n",
    "\n",
    "参考: https://en.wikipedia.org/wiki/Grover%27s_algorithm\n",
    "\n",
    "First, let's explain the symbols.\n",
    "$\\lvert s\\rangle$ is an arbitrary initial state.\n",
    "For example, $\\lvert s\\rangle$ can be the superposition of all states. Such a initial state is used in Grover's algorithm, explained later.\n",
    "\n",
    "$$\n",
    "\\lvert s \\rangle = \\otimes^n  H  \\lvert 0 \\rangle =\\frac{1}{\\sqrt{2^n}}\\sum^{2^n}_{x\\in \\{0, 1\\}^n}\\lvert x \\rangle\n",
    "$$\n",
    "\n",
    "Of these, $\\lvert \\omega\\rangle$ is the state we want to amplify.\n",
    "\n",
    "$$\n",
    "\\lvert \\omega \\rangle = \\frac{1}{\\sqrt{2^n}} \\lvert 00...010...00\\rangle\n",
    "$$\n",
    "\n",
    "Suppose that the $x$-th number contains a 1.\n",
    "\n",
    "$\\lvert s'\\rangle$ is a vector of $\\lvert s\\rangle$ minus $\\lvert \\omega\\rangle$.\n",
    "\n",
    "$$\n",
    "\\lvert s' \\rangle = \\lvert s \\rangle - \\lvert \\omega \\rangle = \\lvert \\omega^{\\perp} \\rangle\n",
    "$$\n",
    "\n",
    "You can see that it is perpendicular to $\\lvert \\omega\\rangle$."
   ]
  },
  {
   "cell_type": "markdown",
   "id": "logical-ballot",
   "metadata": {},
   "source": [
    "$U_{\\omega}$ is a matrix that inverts $\\psi$ on the $\\lvert s'\\rangle$ axis.\n",
    "In other words, rotate $\\psi$ by $-\\phi$.\n",
    "\n",
    "$$\n",
    "U_{\\omega} \\lvert \\psi \\rangle = \\cos(-\\phi) \\tilde{\\lvert s' \\rangle} + \\sin(-\\phi) \\tilde{\\lvert \\omega \\rangle} = \\cos(\\phi) \\tilde{\\lvert s' \\rangle} - \\sin(\\phi) \\tilde{\\lvert \\omega \\rangle}\n",
    "$$\n",
    "\n",
    "$U_s$ is a matrix that inverts $\\psi$ around $\\lvert s\\rangle$.\n",
    "\n",
    "$$\n",
    "U_s \\lvert \\psi \\rangle = \\cos \\bigg\\{ \\frac{\\theta}{2} + \\big(\\frac{\\theta}{2} - \\phi \\big) \\bigg\\} \\tilde{\\lvert s' \\rangle} + \\sin \\bigg\\{ \\frac{\\theta}{2} + \\big(\\frac{\\theta}{2} - \\phi \\big) \\bigg\\}\\tilde{\\lvert \\omega \\rangle} = \\cos(\\theta - \\phi)\\tilde{\\lvert s' \\rangle} + \\sin(\\theta - \\phi) \\tilde{\\lvert \\omega \\rangle}\n",
    "$$"
   ]
  },
  {
   "cell_type": "markdown",
   "id": "baking-version",
   "metadata": {},
   "source": [
    "### Overview\n",
    "The algorithm is outlined below.\n",
    "\n",
    "1. Invert $\\lvert s\\rangle$ around $\\lvert s' \\rangle$ using $U_{\\omega}$.\n",
    "\n",
    "2. Invert $U_{\\omega}\\lvert s\\rangle$ around $\\lvert s\\rangle$ using $U_s$.\n",
    "\n",
    "We will explain the above process in detail."
   ]
  },
  {
   "cell_type": "markdown",
   "id": "closing-worry",
   "metadata": {},
   "source": [
    "#### 1. Invert around $\\lvert s' \\rangle$\n",
    "\n",
    "Using $\\theta$ as shown in the figure above, we describe $\\lvert s \\rangle$ as following.\n",
    "\n",
    "$$\n",
    "\\lvert s \\rangle = \\cos\\bigl(\\frac{\\theta}{2}\\bigr) \\tilde{\\lvert s' \\rangle} - \\sin\\bigl(\\frac{\\theta}{2}\\bigr) \\tilde{\\lvert \\omega \\rangle}\n",
    "$$\n",
    "\n",
    "As a same time,\n",
    "\n",
    "$$\n",
    "\\cos\\bigl( \\frac{\\theta}{2} \\bigr) = \\sqrt{\\frac{2^n-1}{2^n}},\\ \\ \\ \\  \\sin\\bigl( \\frac{\\theta}{2} \\bigr) = \\sqrt{\\frac{1}{2^n}}\n",
    "$$"
   ]
  },
  {
   "cell_type": "markdown",
   "id": "proof-logic",
   "metadata": {},
   "source": [
    "Using $U_{\\omega}$, fold $\\lvert s \\rangle$ around $\\lvert s' \\rangle$.  \n",
    "From the above figure, described as follows\n",
    "\n",
    "$$\n",
    "U_{\\omega} \\lvert s \\rangle = \\cos\\bigl(-\\frac{\\theta}{2}\\bigr)\\tilde{\\lvert s' \\rangle} + \\sin\\bigl(-\\frac{\\theta}{2}\\bigr)\\tilde{\\lvert \\omega \\rangle} = \\cos\\bigl(\\frac{\\theta}{2}\\bigr)\\tilde{\\lvert s' \\rangle} - \\sin\\bigl(\\frac{\\theta}{2}\\bigr)\\tilde{\\lvert \\omega \\rangle}\n",
    "$$\n",
    "\n",
    "Since we are only working on $\\lvert \\omega \\rangle$ for this operation, we can see that $U_{\\omega}$ represents Oracle as described above."
   ]
  },
  {
   "cell_type": "markdown",
   "id": "coastal-rapid",
   "metadata": {},
   "source": [
    "#### 2. Invert around $\\lvert s \\rangle$\n",
    "Using $U_s$, fold $U_{\\omega}\\lvert s \\rangle$ around $\\lvert s \\rangle$.\n",
    "\n",
    "$$\n",
    "U_s U_{\\omega} \\lvert s\\rangle = U_s\\biggl( \\cos\\bigl(-\\frac{\\theta}{2}\\bigr)\\tilde{\\lvert s' \\rangle} + \\sin\\bigl(-\\frac{\\theta}{2}\\bigr)\\tilde{\\lvert \\omega \\rangle}  \\biggr)\n",
    "$$\n",
    "\n",
    "Since we need to rotate $2\\theta$ here,\n",
    "\n",
    "$$\n",
    "U_s U_{\\omega} \\lvert s\\rangle =  \\cos\\bigl(\\frac{3}{2}\\theta\\bigr)\\tilde{\\lvert s' \\rangle} + \\sin\\bigl(\\frac{3}{2}\\theta\\bigr)\\tilde{\\lvert \\omega \\rangle}\n",
    "$$\n",
    "\n",
    "Specifically, $\\cos$ and $\\sin$ are obtained from the additive theorem.\n",
    "\n",
    "$$\n",
    "\\cos \\frac{3}{2}\\theta = \\bigl( 1-\\frac{4}{2^n} \\bigr) \\sqrt{\\frac{2^n-1}{2^n}},\\ \\ \\ \\ \\sin \\frac{3}{2}\\theta = \\bigl( 3-\\frac{4}{2^n} \\bigr) \\sqrt{\\frac{1}{2^n}}\n",
    "$$\n",
    "\n",
    "Thus, using $\\lvert s' \\rangle$, $\\lvert \\omega \\rangle$, we get\n",
    "\n",
    "$$\n",
    "U_s U_{\\omega} \\lvert s\\rangle =  \\bigl(1 - \\frac{4}{2^n}\\bigr)\\lvert s' \\rangle + \\bigl(3 - \\frac{4}{2^n}\\bigr)\\lvert \\omega \\rangle\n",
    "$$\n",
    "\n",
    "This operation makes $\\lvert \\omega \\rangle$ of the $2^n$ amplitudes about three times larger than the others.  \n",
    "We were able to amplify the amplitude by the above."
   ]
  },
  {
   "cell_type": "markdown",
   "id": "phantom-retail",
   "metadata": {},
   "source": [
    "## Circuit"
   ]
  },
  {
   "cell_type": "markdown",
   "id": "competent-delicious",
   "metadata": {},
   "source": [
    "Let's implement it using blueqat.\n",
    "\n",
    "Here we see 2qubits quantum amplitude amplification algorithm.  \n",
    "Combination of 2 binary numbers are 00, 01, 10 and 11. Now we want to amplify a specific state.  \n",
    "The state correponds to $\\lvert \\omega \\rangle$."
   ]
  },
  {
   "cell_type": "markdown",
   "id": "binding-present",
   "metadata": {},
   "source": [
    "#### 1. Invert $\\lvert s \\rangle$ around $\\lvert s' \\rangle$ using $U_{\\omega}$.\n",
    "\n",
    "First, we need to realize a gate $U_{\\omega}$ that reverses the state on the axis $\\lvert s' \\rangle$ perpendicular to $\\lvert \\omega \\rangle$. \n",
    "\n",
    "To do it, we prepare a diagonal matrix which is one element is -1 and others are 1.  \n",
    "By using H gate, CZ gate and S gate we can realize it."
   ]
  },
  {
   "cell_type": "markdown",
   "id": "vietnamese-density",
   "metadata": {},
   "source": [
    "Now we see the circuit one by one. We can check the unitary matrix of the circuit by running .run_with_sympy_unitary(). And we usually start from the diagonal matrix of CZ gate first and changing it."
   ]
  },
  {
   "cell_type": "code",
   "execution_count": 1,
   "id": "unlike-depression",
   "metadata": {},
   "outputs": [],
   "source": [
    "from blueqat import Circuit"
   ]
  },
  {
   "cell_type": "code",
   "execution_count": 2,
   "id": "affected-access",
   "metadata": {},
   "outputs": [
    {
     "data": {
      "text/latex": [
       "$\\displaystyle \\left[\\begin{matrix}1 & 0 & 0 & 0\\\\0 & 1 & 0 & 0\\\\0 & 0 & 1 & 0\\\\0 & 0 & 0 & -1\\end{matrix}\\right]$"
      ],
      "text/plain": [
       "Matrix([\n",
       "[1, 0, 0,  0],\n",
       "[0, 1, 0,  0],\n",
       "[0, 0, 1,  0],\n",
       "[0, 0, 0, -1]])"
      ]
     },
     "execution_count": 2,
     "metadata": {},
     "output_type": "execute_result"
    }
   ],
   "source": [
    "'''\n",
    "#marking on 11\n",
    "\n",
    "-------*-----\n",
    "-------Z-----\n",
    "'''\n",
    "\n",
    "Circuit(2).cz[0,1].run_with_sympy_unitary()"
   ]
  },
  {
   "cell_type": "code",
   "execution_count": 3,
   "id": "incredible-structure",
   "metadata": {},
   "outputs": [
    {
     "data": {
      "text/latex": [
       "$\\displaystyle \\left[\\begin{matrix}1 & 0 & 0 & 0\\\\0 & -1 & 0 & 0\\\\0 & 0 & 1 & 0\\\\0 & 0 & 0 & 1\\end{matrix}\\right]$"
      ],
      "text/plain": [
       "Matrix([\n",
       "[1,  0, 0, 0],\n",
       "[0, -1, 0, 0],\n",
       "[0,  0, 1, 0],\n",
       "[0,  0, 0, 1]])"
      ]
     },
     "execution_count": 3,
     "metadata": {},
     "output_type": "execute_result"
    }
   ],
   "source": [
    "'''\n",
    "#marking on 01\n",
    " \n",
    "----S--*--S---\n",
    "-------Z-------\n",
    "'''\n",
    "\n",
    "Circuit(2).s[0].cz[0,1].s[0].run_with_sympy_unitary()"
   ]
  },
  {
   "cell_type": "code",
   "execution_count": 4,
   "id": "stone-fiction",
   "metadata": {},
   "outputs": [
    {
     "data": {
      "text/latex": [
       "$\\displaystyle \\left[\\begin{matrix}1 & 0 & 0 & 0\\\\0 & 1 & 0 & 0\\\\0 & 0 & -1 & 0\\\\0 & 0 & 0 & 1\\end{matrix}\\right]$"
      ],
      "text/plain": [
       "Matrix([\n",
       "[1, 0,  0, 0],\n",
       "[0, 1,  0, 0],\n",
       "[0, 0, -1, 0],\n",
       "[0, 0,  0, 1]])"
      ]
     },
     "execution_count": 4,
     "metadata": {},
     "output_type": "execute_result"
    }
   ],
   "source": [
    "'''\n",
    "#marking on 10\n",
    " \n",
    "--------*------\n",
    "----S--Z--S---\n",
    "'''\n",
    "\n",
    "Circuit(2).s[1].cz[0,1].s[1].run_with_sympy_unitary()"
   ]
  },
  {
   "cell_type": "code",
   "execution_count": 5,
   "id": "spanish-moisture",
   "metadata": {},
   "outputs": [
    {
     "data": {
      "text/latex": [
       "$\\displaystyle \\left[\\begin{matrix}1 & 0 & 0 & 0\\\\0 & -1 & 0 & 0\\\\0 & 0 & -1 & 0\\\\0 & 0 & 0 & -1\\end{matrix}\\right]$"
      ],
      "text/plain": [
       "Matrix([\n",
       "[1,  0,  0,  0],\n",
       "[0, -1,  0,  0],\n",
       "[0,  0, -1,  0],\n",
       "[0,  0,  0, -1]])"
      ]
     },
     "execution_count": 5,
     "metadata": {},
     "output_type": "execute_result"
    }
   ],
   "source": [
    "\n",
    "'''\n",
    "#00\n",
    " \n",
    "----S--*--S--\n",
    "----S--Z--S--\n",
    "'''\n",
    "\n",
    "Circuit(2).s[:].cz[0,1].s[:].run_with_sympy_unitary()"
   ]
  },
  {
   "cell_type": "markdown",
   "id": "willing-hungary",
   "metadata": {},
   "source": [
    "The result is inversed on the sign. We can think about global phase that flips all the minus sign to plus and plus sign to minus."
   ]
  },
  {
   "cell_type": "markdown",
   "id": "sought-fighter",
   "metadata": {},
   "source": [
    "#### 2. Invert $U_{\\omega}\\lvert s \\rangle$ around $\\lvert s \\rangle$ using $U_s$."
   ]
  },
  {
   "cell_type": "markdown",
   "id": "chemical-commercial",
   "metadata": {},
   "source": [
    "Here we think about $U_s$.\n",
    "\n",
    "If we separate $\\lvert s \\rangle = \\lvert s' \\rangle + \\lvert \\omega \\rangle$ from the definition of $\\lvert s \\rangle$, then $U_{\\omega}$ is simply\n",
    "\n",
    "$$\n",
    "U_{\\omega} (\\lvert s' \\rangle + \\lvert \\omega \\rangle) = \\lvert s' \\rangle - \\lvert \\omega \\rangle\n",
    "$$\n",
    "\n",
    "This means that we can use gates that change sign only for certain states, such as Z and CZ gates.\n",
    "\n",
    "Thinking geometrically from the above figure, $U_s$ is described as follows.\n",
    "\n",
    "$$\n",
    "\\begin{align}\n",
    "U_s U_{\\omega} \\lvert s \\rangle &= 2(\\langle s \\lvert U_{\\omega} \\rvert s \\rangle \\rvert s \\rangle - U_{\\omega}\\lvert s \\rangle) + U_{\\omega}\\lvert s \\rangle \\\\\n",
    "&= 2\\lvert s \\rangle \\langle s \\lvert U_{\\omega} \\rvert s \\rangle - U_{\\omega}\\lvert s \\rangle \\\\\n",
    "&= (2\\lvert s\\rangle \\langle s\\rvert - I) U_{\\omega}\\lvert s \\rangle\n",
    "\\end{align}\n",
    "$$\n",
    "\n",
    "So $U_s = 2\\lvert s\\rangle \\langle s\\rvert - I$.\n",
    "\n",
    "Furthermore, in the case initial state $\\lvert s \\rangle = \\otimes^n  H  \\lvert 0 \\rangle$, $U_s$ can be decomposed as follows.\n",
    "\n",
    "$$\n",
    "2\\lvert s\\rangle \\langle s\\rvert - I = 2H^{\\otimes n}\\lvert 0^n\\rangle \\langle 0^n\\rvert H^{\\otimes n} - I = H^{\\otimes n} (2\\lvert 0^n\\rangle \\langle 0^n\\rvert - I) H^{\\otimes n}\\ \\ \\ \\ (\\lvert 0^n \\rangle = \\lvert 00\\cdots 00 \\rangle)\n",
    "$$\n",
    "\n",
    "Here, we can write $2\\lvert 0^n\\rangle \\langle 0^n\\rvert - I$ as\n",
    "\n",
    "$$\n",
    "2\\lvert 0^n\\rangle \\langle 0^n\\rvert - I = \n",
    "    \\begin{pmatrix}\n",
    "      -1 & 0 & 0 & \\ldots & 0 & 0 \\\\\n",
    "      0 & 1 & 0 & \\ldots & 0 & 0 \\\\\n",
    "      0 & 0 & 1 & \\ldots & 0 & 0 \\\\\n",
    "      \\vdots & \\vdots & \\vdots & \\ddots & \\vdots & \\vdots \\\\\n",
    "      0 & 0 & 0 & \\ldots & 1 & 0 \\\\\n",
    "      0 & 0 & 0 & \\ldots & 0 & 1\n",
    "    \\end{pmatrix}\n",
    "$$\n",
    "\n",
    "We can describe it as following.\n",
    "$$\n",
    "XZX =\n",
    "    \\begin{pmatrix}\n",
    "      -1 & 0 \\\\\n",
    "      0 & 1\n",
    "    \\end{pmatrix}\n",
    "$$\n",
    "\n",
    "$$\n",
    "2\\lvert 0^n\\rangle \\langle 0^n\\rvert - I = X^{\\otimes n}C^n ZX^{\\otimes n}\n",
    "$$\n",
    "\n",
    "It can be implemented with blueqat."
   ]
  },
  {
   "cell_type": "code",
   "execution_count": 6,
   "id": "allied-milton",
   "metadata": {},
   "outputs": [
    {
     "data": {
      "text/latex": [
       "$\\displaystyle \\left[\\begin{matrix}\\frac{1}{2} & - \\frac{1}{2} & - \\frac{1}{2} & - \\frac{1}{2}\\\\- \\frac{1}{2} & \\frac{1}{2} & - \\frac{1}{2} & - \\frac{1}{2}\\\\- \\frac{1}{2} & - \\frac{1}{2} & \\frac{1}{2} & - \\frac{1}{2}\\\\- \\frac{1}{2} & - \\frac{1}{2} & - \\frac{1}{2} & \\frac{1}{2}\\end{matrix}\\right]$"
      ],
      "text/plain": [
       "Matrix([\n",
       "[ 1/2, -1/2, -1/2, -1/2],\n",
       "[-1/2,  1/2, -1/2, -1/2],\n",
       "[-1/2, -1/2,  1/2, -1/2],\n",
       "[-1/2, -1/2, -1/2,  1/2]])"
      ]
     },
     "execution_count": 6,
     "metadata": {},
     "output_type": "execute_result"
    }
   ],
   "source": [
    "'''\n",
    "--H-X-*-X-H--\n",
    "--H-X-Z-X-H--\n",
    "'''\n",
    "\n",
    "Circuit(2).h[:].x[:].cz[0,1].x[:].h[:].run_with_sympy_unitary()"
   ]
  },
  {
   "cell_type": "markdown",
   "id": "hispanic-diameter",
   "metadata": {},
   "source": [
    "From the above, we were able to rewrite the amplitude amplification oracle with simple gate sets.  "
   ]
  },
  {
   "cell_type": "markdown",
   "id": "wrapped-brand",
   "metadata": {},
   "source": [
    "Now we have the total circuit."
   ]
  },
  {
   "cell_type": "code",
   "execution_count": 8,
   "id": "acting-approval",
   "metadata": {},
   "outputs": [
    {
     "data": {
      "text/plain": [
       "Counter({'00': 100})"
      ]
     },
     "execution_count": 8,
     "metadata": {},
     "output_type": "execute_result"
    }
   ],
   "source": [
    "from blueqat import Circuit\n",
    "\n",
    "#Amplitude amplification\n",
    "a = Circuit(2).h[:].x[:].cz[0,1].x[:].h[:].m[:]\n",
    "\n",
    "'''\n",
    "#00 Circuit\n",
    "--H--S--*--S----H-X-*-X-H--\n",
    "--H--S--Z--S----H-X-Z-X-H--\n",
    "'''\n",
    "\n",
    "(Circuit(2).h[:].s[:].cz[0,1].s[:] + a).run(shots=100)"
   ]
  },
  {
   "cell_type": "code",
   "execution_count": 9,
   "id": "together-hunger",
   "metadata": {},
   "outputs": [
    {
     "data": {
      "text/plain": [
       "Counter({'01': 100})"
      ]
     },
     "execution_count": 9,
     "metadata": {},
     "output_type": "execute_result"
    }
   ],
   "source": [
    "'''\n",
    "#01 Circuit\n",
    "--H-----*-------H-X-*-X-H--\n",
    "--H--S--Z--S---H-X-Z-X-H--\n",
    "'''\n",
    "\n",
    "(Circuit(2).h[:].s[1].cz[0,1].s[1] + a).run(shots=100)"
   ]
  },
  {
   "cell_type": "code",
   "execution_count": 10,
   "id": "metric-airplane",
   "metadata": {},
   "outputs": [
    {
     "data": {
      "text/plain": [
       "Counter({'10': 100})"
      ]
     },
     "execution_count": 10,
     "metadata": {},
     "output_type": "execute_result"
    }
   ],
   "source": [
    "'''\n",
    "#10 Circuit\n",
    "--H--S--*--S----H-X-*-X-H--\n",
    "--H-----Z--------H-X-Z-X-H--\n",
    "'''\n",
    "(Circuit(2).h[:].s[0].cz[0,1].s[0] + a).run(shots=100)"
   ]
  },
  {
   "cell_type": "code",
   "execution_count": 11,
   "id": "light-television",
   "metadata": {},
   "outputs": [
    {
     "data": {
      "text/plain": [
       "Counter({'11': 100})"
      ]
     },
     "execution_count": 11,
     "metadata": {},
     "output_type": "execute_result"
    }
   ],
   "source": [
    "'''\n",
    "#11 Circuit\n",
    "--H-----*-------H-X-*-X-H--\n",
    "--H-----Z-------H-X-Z-X-H--\n",
    "'''\n",
    "(Circuit(2).h[:].cz[0,1] + a).run(shots=100)"
   ]
  },
  {
   "cell_type": "markdown",
   "id": "satisfactory-flexibility",
   "metadata": {},
   "source": [
    "From the above, we were able to amplify the probability of a particular state being measured."
   ]
  },
  {
   "cell_type": "code",
   "execution_count": null,
   "id": "powered-chair",
   "metadata": {},
   "outputs": [],
   "source": []
  }
 ],
 "metadata": {
  "kernelspec": {
   "display_name": "Python 3",
   "language": "python",
   "name": "python3"
  },
  "language_info": {
   "codemirror_mode": {
    "name": "ipython",
    "version": 3
   },
   "file_extension": ".py",
   "mimetype": "text/x-python",
   "name": "python",
   "nbconvert_exporter": "python",
   "pygments_lexer": "ipython3",
   "version": "3.8.2"
  }
 },
 "nbformat": 4,
 "nbformat_minor": 5
}
