{
 "cells": [
  {
   "cell_type": "markdown",
   "metadata": {
    "colab_type": "text",
    "id": "NjHnSAbHrInP"
   },
   "source": [
    "# Grover's algorithm\n",
    "Grover's algorithm is a search algorithm that finds out a data entry efficiently from a list of unstructured data.\n",
    "\n",
    "This algorithm is based on [quantum amplitude amplification](./110_amplitude_amplification_en.ipynb)."
   ]
  },
  {
   "cell_type": "markdown",
   "metadata": {},
   "source": [
    "# Explanation of the algorithm"
   ]
  },
  {
   "cell_type": "markdown",
   "metadata": {},
   "source": [
    "The algorithm iterates through quantum amplitude amplification to bring the initial state $\\lvert s\\rangle$ closer to the state we are looking for $\\lvert \\omega\\rangle$.\n",
    "\n",
    "$$\n",
    "\\lvert s \\rangle = \\cos\\bigl(\\frac{\\theta}{2}\\bigr) \\tilde{\\lvert s' \\rangle} - \\sin\\bigl(\\frac{\\theta}{2}\\bigr) \\tilde{\\lvert \\omega \\rangle}\n",
    "$$\n",
    "\n",
    "From the above equation, if we perform amplitude amplification once, we get\n",
    "\n",
    "$$\n",
    "U_s U_{\\omega} \\lvert s\\rangle =  \\cos\\bigl(\\frac{3}{2}\\theta\\bigr)\\tilde{\\lvert s' \\rangle} + \\sin\\bigl(\\frac{3}{2}\\theta\\bigr)\\tilde{\\lvert \\omega \\rangle}\n",
    "$$\n",
    "\n",
    "Therefore, if we perform amplitude amplification $n$ times, we get\n",
    "\n",
    "$$\n",
    "\\cos\\bigl(\\frac{1}{2}\\theta + n\\theta \\bigr)\\tilde{\\lvert s' \\rangle} + \\sin\\bigl(\\frac{1}{2}\\theta + n\\theta\\bigr)\\tilde{\\lvert \\omega \\rangle} = \\cos\\biggl\\{\\bigl(\\frac{1}{2} + n \\bigr)\\theta \\biggr\\} \\tilde{\\lvert s' \\rangle} + \\sin\\biggl\\{\\bigl(\\frac{1}{2} + n \\bigr)\\theta \\biggr\\}\\tilde{\\lvert \\omega \\rangle}\n",
    "$$\n",
    "\n",
    "As the amplitude is amplified, the initial state $\\lvert s\\rangle$ in the above figure becomes closer and closer to $\\lvert \\omega\\rangle$.\n",
    "In other words, the probability amplitude of $\\omega$ goes to 1.\n",
    "However, if you keep repeating the process, it will just keep rotating, so you need to think about the number of times you want to repeat it.\n",
    "\n",
    "Since we want to set the probability amplitude of $\\omega$ to 1,\n",
    "\n",
    "$$\n",
    "\\sin^2\\biggl\\{\\bigl(\\frac{1}{2} + k \\bigr)\\theta \\biggr\\} < 1 \\xrightarrow{\\sin >0}\\bigl(\\frac{1}{2} + k \\bigr)\\theta < \\frac{\\pi}{2} \\Leftrightarrow k<\\frac{\\pi}{2\\theta} - \\frac{1}{2}\n",
    "$$\n",
    "\n",
    "From the above, the number of times the amplitude is amplified is determined and we can measure $\\lvert \\omega\\rangle$ with high probability."
   ]
  },
  {
   "cell_type": "markdown",
   "metadata": {},
   "source": [
    "In the example implementation of amplitude amplification, the measurement probability of $\\lvert \\omega \\rangle$ was set to 1 with one amplitude amplification.  \n",
    "In the initial state $\\lvert s\\rangle$, which is an equally superposition state of two qubits, $\\theta = \\frac{\\pi}{3}$.  \n",
    "In this case, we can see from the above equation that a single amplitude amplification results in $U_s U_{\\omega}\\lvert s\\rangle = \\tilde{\\lvert \\omega \\rangle}$.  \n",
    "Thus, we were effectively running Grover's algorithm."
   ]
  },
  {
   "cell_type": "code",
   "execution_count": null,
   "metadata": {},
   "outputs": [],
   "source": []
  }
 ],
 "metadata": {
  "colab": {
   "collapsed_sections": [],
   "name": "014_algo_grover.ipynb",
   "provenance": [],
   "version": "0.3.2"
  },
  "kernelspec": {
   "display_name": "Python 3",
   "language": "python",
   "name": "python3"
  },
  "language_info": {
   "codemirror_mode": {
    "name": "ipython",
    "version": 3
   },
   "file_extension": ".py",
   "mimetype": "text/x-python",
   "name": "python",
   "nbconvert_exporter": "python",
   "pygments_lexer": "ipython3",
   "version": "3.7.7"
  }
 },
 "nbformat": 4,
 "nbformat_minor": 1
}
