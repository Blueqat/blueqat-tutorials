{
 "cells": [
  {
   "cell_type": "markdown",
   "id": "exceptional-armstrong",
   "metadata": {},
   "source": [
    "# Quantum Amplitude Estimation\n",
    "\n",
    "Quantum amplitude amplification was an algorithm to amplify the amplitude of a certain quantum state.  \n",
    "\n",
    "Quantum amplitude estimation, as the name implies, is an algorithm for estimating the amplitude of a certain quantum state. Such an operation can be performed using the same oracle as quantum amplitude amplification."
   ]
  },
  {
   "cell_type": "markdown",
   "id": "ceramic-former",
   "metadata": {},
   "source": [
    "The following diagram used in the explanation of amplitude amplification is used again.\n",
    "\n",
    "<img width=\"30%\" src=\"https://upload.wikimedia.org/wikipedia/commons/1/16/Grovers_algorithm_geometry.png\">\n",
    "\n",
    "Ref: https://en.wikipedia.org/wiki/Grover%27s_algorithm"
   ]
  },
  {
   "cell_type": "markdown",
   "id": "thick-furniture",
   "metadata": {},
   "source": [
    "Consider performing an amplitude estimation for $\\lvert s\\rangle$.  \n",
    "Rewrite $\\lvert s\\rangle$ as follows.\n",
    "\n",
    "$$\n",
    "\\lvert s\\rangle = \\sqrt{1-a} \\lvert \\omega_{\\perp}\\rangle - \\sqrt{a}\\lvert\\omega\\rangle\\ \\ \\ \\ (\\lvert \\omega_{\\perp}\\rangle = \\lvert s'\\rangle)\n",
    "$$\n",
    "\n",
    "We want to find the amplitude of $\\lvert \\omega\\rangle$, $\\sqrt{a}$.\n",
    "\n",
    "$U_{\\omega}$ and $U_s$ can be written respectively as follows.\n",
    "\n",
    "$$\n",
    "U_{\\omega} = I - 2\\lvert \\omega \\rangle \\langle \\omega \\rvert \\\\\n",
    "U_{s} = 2\\lvert s \\rangle \\langle s \\rvert - I\n",
    "$$\n",
    "\n",
    "The oracle $U_s U_{\\omega}$ used for amplification has the following eigenvector $\\lvert\\psi_{\\pm}\\rangle$ and eigenvalue $\\lambda_{\\pm}$.\n",
    "\n",
    "$$\n",
    "\\lvert\\psi_{\\pm}\\rangle = \\frac{1}{\\sqrt{2}} (\\lvert\\omega_{\\perp}\\rangle \\mp i\\lvert\\omega\\rangle) \\\\\n",
    "\\lambda_{\\pm} = e^{i2\\theta_a}\\ \\ \\ \\ (\\sin{\\theta_a} = \\sqrt{a})\n",
    "$$"
   ]
  },
  {
   "cell_type": "markdown",
   "id": "figured-preserve",
   "metadata": {},
   "source": [
    "Once you have $\\theta_a$, you can find the amplitude $\\sqrt{a}$ of $\\lvert \\omega\\rangle$.  \n",
    "Here, we use quantum phase estimation to find $\\theta_a$.  \n",
    "Quantum phase estimation is an algorithm to find the $\\theta$ (phase) of a unitary matrix (in this case $U_s U_{\\omega}$) at its eigenvalue $e^{i\\theta}$. (See the tutorial on quantum phase estimation for more details)\n",
    "\n",
    "Quantum phase estimation requires the preparation of eigenstates (or their approximations) corresponding to the eigenvalues we want to find.  \n",
    "Fortunately, the state $\\lvert s\\rangle$ can be written as a superposition of two eigenstates.\n",
    "\n",
    "$$\n",
    "\\lvert s\\rangle = \\frac{1}{\\sqrt{2}} \\bigl(e^{i\\theta_a} \\lvert \\psi_{+}\\rangle + e^{-i\\theta_a} \\lvert \\psi_{-}\\rangle\\bigr)\n",
    "$$\n",
    "\n",
    "With quantum phase estimation, the phase of the eigenvalue corresponding to either eigenstate can be obtained probabilistically.  \n",
    "In this case, we get $2\\theta_a$ or $-2\\theta_a$, but the final value we want to find is $\\sin{\\theta_a} = \\sqrt{a}$.  \n",
    "From $\\sin (\\theta_a) = \\sin (-\\theta_a)$, we can estimate the amplitude in both cases."
   ]
  },
  {
   "cell_type": "markdown",
   "id": "funded-transition",
   "metadata": {},
   "source": [
    "Thus, if we have the state $\\lvert s\\rangle$ and the amplitude amplification oracle for it, we can estimate the amplitude.  \n",
    "The following is the algorithm procedure.\n",
    "\n",
    "1. Prepare the state $\\lvert s\\rangle$ for which you want to estimate the amplitude.\n",
    "2. Prepare the oracle $U_s U_{\\omega}$.\n",
    "3. Find the eigenvalues of $U_s U_{\\omega}$ by quantum phase estimation and calculate the amplitude you want to estimate."
   ]
  },
  {
   "cell_type": "markdown",
   "id": "celtic-regard",
   "metadata": {},
   "source": [
    "Let's implement this in blueqat.\n",
    "\n",
    "Consider a two-qubit example similar to the amplitude amplification tutorial.  \n",
    "There are four states of a two-qubit: 00, 01, 10, and 11. We would like to estimate the amplitude of a particular state among them.  "
   ]
  },
  {
   "cell_type": "code",
   "execution_count": 8,
   "id": "monthly-interstate",
   "metadata": {},
   "outputs": [],
   "source": [
    "from blueqat import Circuit\n",
    "import numpy as np"
   ]
  },
  {
   "cell_type": "markdown",
   "id": "crude-liechtenstein",
   "metadata": {},
   "source": [
    "In order to perform quantum phase estimation in the following, we will prepare a control gate version of the oracle used in amplitude amplification."
   ]
  },
  {
   "cell_type": "code",
   "execution_count": 9,
   "id": "varied-frost",
   "metadata": {},
   "outputs": [],
   "source": [
    "Us = Circuit(2).h[:].x[:].cz[0,1].x[:].h[:]\n",
    "Uw00 = Circuit(2).s[:].cz[0,1].s[:]\n",
    "Uw01 = Circuit(2).s[1].cz[0,1].s[1] \n",
    "Uw10 = Circuit(2).s[0].cz[0,1].s[0]\n",
    "Uw11 = Circuit(2).cz[0,1]\n",
    "\n",
    "def C_Us(qc, c, t1, t2):\n",
    "    qc.ch[c, t1].ch[c, t2].cx[c, t1].cx[c, t2]\n",
    "    qc.cx[t1, t2].tdg[t2].cx[c, t2].t[t2].cx[t1, t2].tdg[t2].cx[c, t2].t[t1].t[t2].cx[c, t1].t[c].tdg[t1].cx[c, t1]\n",
    "    qc.cx[c, t1].cx[c, t2].ch[c, t1].ch[c, t2]\n",
    "    \n",
    "def C_Uw00(qc, c, t1, t2):\n",
    "    qc.cphase(np.pi/2)[c, t1].cphase(np.pi/2)[c, t2]\n",
    "    qc.cx[t1, t2].tdg[t2].cx[c, t2].t[t2].cx[t1, t2].tdg[t2].cx[c, t2].t[t1].t[t2].cx[c, t1].t[c].tdg[t1].cx[c, t1]\n",
    "    qc.cphase(np.pi/2)[c, t1].cphase(np.pi/2)[c, t2]\n",
    "    \n",
    "def C_Uw01(qc, c, t1, t2):\n",
    "    qc.cphase(np.pi/2)[c, t2]\n",
    "    qc.cx[t1, t2].tdg[t2].cx[c, t2].t[t2].cx[t1, t2].tdg[t2].cx[c, t2].t[t1].t[t2].cx[c, t1].t[c].tdg[t1].cx[c, t1]\n",
    "    qc.cphase(np.pi/2)[c, t2]\n",
    "    \n",
    "def C_Uw10(qc, c, t1, t2):\n",
    "    qc.cphase(np.pi/2)[c, t1]\n",
    "    qc.cx[t1, t2].tdg[t2].cx[c, t2].t[t2].cx[t1, t2].tdg[t2].cx[c, t2].t[t1].t[t2].cx[c, t1].t[c].tdg[t1].cx[c, t1]\n",
    "    qc.cphase(np.pi/2)[c, t1]\n",
    "    \n",
    "def C_Uw11(qc, c, t1, t2):\n",
    "    qc.cx[t1, t2].tdg[t2].cx[c, t2].t[t2].cx[t1, t2].tdg[t2].cx[c, t2].t[t1].t[t2].cx[c, t1].t[c].tdg[t1].cx[c, t1]"
   ]
  },
  {
   "cell_type": "markdown",
   "id": "pacific-wrong",
   "metadata": {},
   "source": [
    "The eigenvalues of the amplitude amplification oracle are then obtained by quantum phase estimation."
   ]
  },
  {
   "cell_type": "code",
   "execution_count": 10,
   "id": "confidential-condition",
   "metadata": {},
   "outputs": [],
   "source": [
    "import math\n",
    "\n",
    "# 逆量子フーリエ変換関数を用意\n",
    "def qft_rotate_single_inv(circuit, i, n):\n",
    "    if n == 0:\n",
    "        return circuit\n",
    "    for qubit in range(0, i):\n",
    "        circuit.cphase(-np.pi/2**(i - qubit))[n - 1 - qubit, n - 1 - i]\n",
    "    circuit.h[n - 1 - i]\n",
    "\n",
    "def qft_dagger(circuit, n):\n",
    "    for i in range(math.floor(n/2)):\n",
    "        circuit.swap[i, n - (i + 1)]\n",
    "    for i in range(n):\n",
    "        qft_rotate_single_inv(circuit, i, n)"
   ]
  },
  {
   "cell_type": "code",
   "execution_count": 15,
   "id": "heated-gauge",
   "metadata": {},
   "outputs": [],
   "source": [
    "n_encode = 4 # 求めたい固有値の位相角をエンコードする量子ビット数\n",
    "n_eigstate = 2 # 固有状態の量子ビット数\n",
    "n = n_encode + n_eigstate\n",
    "\n",
    "qc = Circuit(n)\n",
    "qc.h[n_encode].h[n_encode + 1] # 固有状態を用意\n",
    "\n",
    "for qubit in range(n_encode):\n",
    "    qc.h[qubit]\n",
    "\n",
    "repetitions = 1\n",
    "for count in reversed(range(n_encode)):\n",
    "    for i in range(repetitions):\n",
    "        C_Uw00(qc, count, n_encode, n_encode + 1)\n",
    "        C_Us(qc, count, n_encode, n_encode + 1)\n",
    "        #qc.cp(theta, count, n_encode)\n",
    "    repetitions *= 2\n",
    "\n",
    "qft_dagger(qc, n_encode)\n",
    "\n",
    "for n in range(n_encode):\n",
    "    qc.m[n]"
   ]
  },
  {
   "cell_type": "code",
   "execution_count": 22,
   "id": "generic-dependence",
   "metadata": {},
   "outputs": [
    {
     "name": "stdout",
     "output_type": "stream",
     "text": [
      "1101 : 342\n",
      "0010 : 90\n",
      "0011 : 371\n",
      "1100 : 26\n",
      "1110 : 87\n",
      "0100 : 21\n",
      "0110 : 8\n",
      "1111 : 16\n",
      "0000 : 10\n",
      "1001 : 3\n",
      "1010 : 8\n",
      "0111 : 6\n",
      "0001 : 13\n",
      "0101 : 14\n",
      "1011 : 9\n"
     ]
    }
   ],
   "source": [
    "res = qc.run(shots = 1024)\n",
    "for key in res.keys():\n",
    "    print(key[:n_encode], ':', res[key])"
   ]
  },
  {
   "cell_type": "markdown",
   "id": "combined-latitude",
   "metadata": {},
   "source": [
    "This time the amplitude estimated state is an equal superposition of four states.Therefore, each state ($\\lvert 00\\rangle$, $\\lvert 01\\rangle$, $\\lvert 10\\rangle$, $\\lvert 11\\rangle$) has an amplitude of $1/2$.  \n",
    "\n",
    "Thus, in the initial state $\\lvert s\\rangle = \\sqrt{1-a}\\lvert \\omega_{\\perp}\\rangle - \\sqrt{a}\\lvert\\omega\\rangle$, $\\sqrt{a} = 1/2$ and $\\theta_a = \\pi / 6$.\n",
    "\n",
    "Since the oracle used for amplification has the eigenvalue $\\exp(\\pm i 2\\theta) = \\exp(\\pm i\\pi / 3)$, $\\frac{\\pm\\pi/3}{2\\pi} = \\pm\\frac{1}{6}$ is the output expected from quantum phase estimation.\n",
    "\n",
    "In the example above, the output of the quantum phase estimation is encoded in 4 qubits, so the output is obtained with 4-bit precision.  \n",
    "In the measurements, '0011' represents $\\frac{3}{2^{4}} = 0.1875$, which is the closest value to $\\frac{1}{6} = 0.166\\cdots$.  \n",
    "This gives us an approximation of $\\theta$.  \n",
    "\n",
    "From the above, we were able to perform quantum amplitude estimation."
   ]
  },
  {
   "cell_type": "code",
   "execution_count": null,
   "id": "coordinated-cedar",
   "metadata": {},
   "outputs": [],
   "source": []
  }
 ],
 "metadata": {
  "kernelspec": {
   "display_name": "Python 3",
   "language": "python",
   "name": "python3"
  },
  "language_info": {
   "codemirror_mode": {
    "name": "ipython",
    "version": 3
   },
   "file_extension": ".py",
   "mimetype": "text/x-python",
   "name": "python",
   "nbconvert_exporter": "python",
   "pygments_lexer": "ipython3",
   "version": "3.8.2"
  }
 },
 "nbformat": 4,
 "nbformat_minor": 5
}
