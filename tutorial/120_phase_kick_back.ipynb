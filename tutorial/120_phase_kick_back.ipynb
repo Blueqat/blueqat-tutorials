{
 "cells": [
  {
   "cell_type": "markdown",
   "id": "talented-heater",
   "metadata": {},
   "source": [
    "# Phase kickback\n",
    "\n",
    "Consider a unitary gate $U$ and its eigenstate $\\lvert\\psi\\rangle$.  \n",
    "From the nature of unitary gates, the eigenvalues can be expressed as $e^{i\\theta}$ using a certain phase angle $\\theta$.\n",
    "\n",
    "$$\n",
    "U\\lvert\\psi\\rangle = e^{i \\theta} \\lvert\\psi\\rangle\n",
    "$$\n",
    "\n",
    "Let's say we want to find this $\\theta$. Since it appears as a global phase, it is difficult to measure it directly.  \n",
    "\n",
    "Phase kickback is a technique for extracting $\\theta$ information into a different qubit than $\\lvert\\psi\\rangle$.  \n",
    "Then, we can know $\\theta$ by measuring the qubit.  \n",
    "For this purpose, we use $CU$, which is a controlled gate of $U$."
   ]
  },
  {
   "cell_type": "markdown",
   "id": "fitting-infection",
   "metadata": {},
   "source": [
    "Let's consider a simple example.\n",
    "\n",
    "First, set the unitary gate as follows, \n",
    "\n",
    "$$\n",
    "U(\\theta) = \\begin{pmatrix}\n",
    "1 & 0 \\\\\n",
    "0 & e^{i\\theta} \\\\\n",
    "\\end{pmatrix}\n",
    "$$\n",
    "\n",
    "In this case, $\\lvert 1\\rangle$ is an eigenstate. The eigenvalue is $e^{i\\theta}$.\n",
    "\n",
    "$$\n",
    "U(\\theta)\\lvert 1 \\rangle = e^{i\\theta}\\lvert 1 \\rangle\n",
    "$$\n",
    "\n",
    "The control unitary gate is\n",
    "$$\n",
    "CU(\\theta) = CR(\\theta) = \\begin{pmatrix}\n",
    "1 & 0 & 0 & 0 \\\\\n",
    "0 & 1 & 0 & 0 \\\\\n",
    "0 & 0 & 1 & 0 \\\\\n",
    "0 & 0 & 0 & e^{i\\theta} \\\\\n",
    "\\end{pmatrix}\n",
    "$$"
   ]
  },
  {
   "cell_type": "markdown",
   "id": "apparent-ridge",
   "metadata": {},
   "source": [
    "The phase kickback uses the following quantum circuit.  \n",
    "\n",
    "<img src=\"../tutorial-ja/img/120_img.png\" width=\"40%\">"
   ]
  },
  {
   "cell_type": "markdown",
   "id": "loose-cable",
   "metadata": {},
   "source": [
    "First, we create a superposition state by acting an $H$ gate on the auxiliary qubit.\n",
    "\n",
    "$$\n",
    "\\lvert\\psi_1\\rangle = \\frac{1}{\\sqrt{2}}(\\lvert0\\rangle + \\lvert1\\rangle) \\otimes \\lvert1\\rangle\n",
    "$$\n",
    "\n",
    "Next, let $U(\\theta)$ act on the eigenstate with the auxiliary qubit as the control qubit.  \n",
    "This allows the eigenvalue to be retrieved as a coefficient.\n",
    "\n",
    "$$\n",
    "\\begin{align}\n",
    "\\lvert\\psi_2\\rangle &= \\frac{1}{\\sqrt{2}}(\\lvert0\\rangle \\otimes \\lvert1\\rangle + \\lvert1\\rangle \\otimes U(\\theta)\\lvert1\\rangle) \\\\\n",
    "&= \\frac{1}{\\sqrt{2}}(\\lvert0\\rangle \\otimes \\lvert1\\rangle + \\lvert1\\rangle \\otimes e^{i\\theta}\\lvert1\\rangle) \\\\\n",
    "&= \\frac{1}{\\sqrt{2}}(\\lvert0\\rangle \\otimes \\lvert1\\rangle + e^{i\\theta}\\lvert1\\rangle \\otimes \\lvert1\\rangle) \\\\\n",
    "&= \\frac{1}{\\sqrt{2}}(\\lvert0\\rangle + e^{i\\theta} \\lvert1\\rangle) \\otimes \\lvert1\\rangle)\n",
    "\\end{align}\n",
    "$$\n",
    "\n",
    "As shown above, we have extracted $\\theta$ as the coefficient of the superposition state of the auxiliary qubit.  \n",
    "\n",
    "Here we will focus only on the auxiliary qubit.  \n",
    "If we measure the auxiliary qubit, $\\lvert0\\rangle$ and $\\lvert1\\rangle$ are equally probable, so we will act $H$ gate again.\n",
    "\n",
    "$$\n",
    "\\begin{align}\n",
    "H\\cdot \\frac{1}{\\sqrt{2}}(\\lvert0\\rangle + e^{i\\theta} \\lvert1\\rangle) &= \\frac{1}{\\sqrt{2}} \n",
    "\\begin{pmatrix} 1 & 1\n",
    "\\\\ 1 & -1 \\\\\n",
    "\\end{pmatrix}\n",
    "\\cdot\n",
    "\\frac{1}{\\sqrt{2}}\n",
    "\\begin{pmatrix} \n",
    "1 \\\\ e^{i\\theta} \\\\ \n",
    "\\end{pmatrix} \\\\\n",
    "&= \\frac{1}{2} \n",
    "\\begin{pmatrix} \n",
    "1 + e^{i\\theta} \\\\ 1 - e^{i\\theta} \\\\ \n",
    "\\end{pmatrix}\n",
    "\\end{align}\n",
    "$$\n",
    "\n",
    "We were able to convert the relative phase difference to an amplitude difference using an $H$ gate.   \n",
    "Finally, if we repeatedly measure the auxiliary qubit, the probability of measuring $\\lvert0\\rangle$, $\\rm{Pr}(\\lvert0\\rangle)$, is\n",
    "\n",
    "$$\n",
    "\\begin{align}\n",
    "\\mathrm{Pr}(\\lvert0\\rangle) &= \\biggl| \\frac{1+e^{i\\theta}}{2} \\biggr|^2 \\\\\n",
    "&= \\frac{1}{2}(1 + \\cos\\theta)\n",
    "\\end{align}\n",
    "$$\n",
    "\n",
    "From the above, we can estimate the real part of the eigenvalue."
   ]
  },
  {
   "cell_type": "markdown",
   "id": "allied-neighborhood",
   "metadata": {},
   "source": [
    "Let's implement the above in blueqat."
   ]
  },
  {
   "cell_type": "code",
   "execution_count": 2,
   "id": "effective-expense",
   "metadata": {},
   "outputs": [],
   "source": [
    "from blueqat import Circuit\n",
    "import numpy as np"
   ]
  },
  {
   "cell_type": "markdown",
   "id": "antique-mounting",
   "metadata": {},
   "source": [
    "Implement the above quantum circuit.  \n",
    "The $\\theta$ is determined by a random number."
   ]
  },
  {
   "cell_type": "code",
   "execution_count": 3,
   "id": "operational-indonesia",
   "metadata": {},
   "outputs": [],
   "source": [
    "theta = np.random.rand() * np.pi\n",
    "shots = 1024\n",
    "\n",
    "c = Circuit(2)\n",
    "\n",
    "c.x[1].h[0].cr(theta)[0, 1].h[0].m[0]\n",
    "res = c.run(shots = shots)"
   ]
  },
  {
   "cell_type": "markdown",
   "id": "three-participant",
   "metadata": {},
   "source": [
    "From the results of the run, determine the percentage of $\\lvert 0\\rangle$ measured on the auxiliary qubit.  \n",
    "Compare the estimated value $\\theta_{est}$ calculated from it with $\\theta$ determined in advance by a random number."
   ]
  },
  {
   "cell_type": "code",
   "execution_count": 4,
   "id": "dietary-partnership",
   "metadata": {},
   "outputs": [],
   "source": [
    "p0 = res['00'] / shots\n",
    "theta_est = np.arccos(2 * p0 - 1)"
   ]
  },
  {
   "cell_type": "code",
   "execution_count": 5,
   "id": "cross-liberia",
   "metadata": {},
   "outputs": [
    {
     "name": "stdout",
     "output_type": "stream",
     "text": [
      "estimated θ　 : 0.8931602777877266\n",
      "actual θ : 0.8280760567603692\n"
     ]
    }
   ],
   "source": [
    "print(\"estimated θ　 :\", theta_est)\n",
    "print(\"actual θ :\", theta)"
   ]
  },
  {
   "cell_type": "markdown",
   "id": "forty-secret",
   "metadata": {},
   "source": [
    "From the above, we were able to estimate $\\theta$ by phase kickback.  \n",
    "The accuracy of the estimation depends on the number of shots."
   ]
  },
  {
   "cell_type": "code",
   "execution_count": null,
   "id": "quarterly-shelf",
   "metadata": {},
   "outputs": [],
   "source": []
  }
 ],
 "metadata": {
  "kernelspec": {
   "display_name": "Python 3",
   "language": "python",
   "name": "python3"
  },
  "language_info": {
   "codemirror_mode": {
    "name": "ipython",
    "version": 3
   },
   "file_extension": ".py",
   "mimetype": "text/x-python",
   "name": "python",
   "nbconvert_exporter": "python",
   "pygments_lexer": "ipython3",
   "version": "3.8.2"
  }
 },
 "nbformat": 4,
 "nbformat_minor": 5
}
