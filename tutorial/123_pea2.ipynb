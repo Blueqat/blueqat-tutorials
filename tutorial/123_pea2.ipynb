{
 "cells": [
  {
   "cell_type": "markdown",
   "metadata": {},
   "source": [
    "# Quantum Phase Estimation of Random Hermitian Matrix\n",
    "\n",
    "Authors: Takumi Kato (Blueqat inc.), Maho Nakata (Riken), Shinya Morino, Seiya Sugo (Quemix inc.), Yuichiro Minato (Blueqat inc.)\n",
    "\n",
    "[Last time](113_pea_en.ipynb), we calculated the eigenvalues of matrices of the Z-Gate and the X-Gate. This time, we perform the quantum phase estimation of a random generated 2x2 Hermitian matrix.\n",
    "\n",
    "Calculating eigenvalues of Hermitian matrices is useful for finding physical quantities in quantum mechanics. It has wide range of applications in fields such as quantum chemistry and quantum simulation."
   ]
  },
  {
   "cell_type": "markdown",
   "metadata": {},
   "source": [
    "## Quantum Phase Estimation of Hermitian Matrix with Eigenvalues Summing up to Zero\n",
    "\n",
    "The general idea of quantum phase estimation for Hermitian matrices is the same as previous one. In the previous case, we prepared Controlled-Z gate and Controlled-X gate for estimating Z-Gate and X-Gate as Controlled-U gate. However, generally, a Hermitian matrix is not a unitary matrix. Therefore, we cannot prepare Controlled-U gate directly.\n",
    "\n",
    "Just to conclude, we need to prepare Controlled-$e^{2\\pi i\\hat H}$ gate as Controlled-U gate for the Hermitian matrix$\\hat H$ and the quantum circuit which gives an eigenvector of $\\hat H$. By using these circuit and gate, we can perform quantum phase estimation and obtain the eigenvalue.\n",
    "\n",
    "The following instructions are little bit difficult. So you can skip ahead and read the code. To understanding this, you need to know [matrix exponential](https://en.wikipedia.org/wiki/Matrix_exponential).\n",
    "\n",
    "Let $\\hat H$ be a Hermitian matrix with eigenvalues summing up to 0.\n",
    "\n",
    "When $\\hat H$ has pairs of eigenvalue and eigenvector$\\{(\\lambda_j, \\left|\\psi_j\\right\\rangle)\\}$, $$\\hat H\\left|\\psi_j\\right\\rangle = \\lambda_j \\left|\\psi_j\\right\\rangle$$ is satisfied for all $j$.\n",
    "$\\{\\lambda_j\\}$ are real number because $\\hat H$ is Hermitian.\n",
    "\n",
    "In the previous case, $\\hat H$ was $\\hat H = Z$ or $\\hat H = X$ and we used Controlled-Z or Controlled-X gate for phase kickback. However, generally, we cannot make Controlled-$\\hat H$ gate because $\\hat H$ is not a unitary matrix, so we have to find another way.\n",
    "\n",
    "Here, we consider the quantum phase estimation of a unitary matrix $U = e^{2\\pi i\\hat H}$.\n",
    "\n",
    "### Is $U = e^{2\\pi i\\hat H}$ a unitary matrix?\n",
    "\n",
    "To proof $U U^\\dagger = I$, we consider $U^\\dagger$.\n",
    "$$\\begin{eqnarray}\n",
    "U^\\dagger &=& (e^{2\\pi i\\hat H})^\\dagger\\nonumber\\\\\n",
    "&=& (\\sum_n^\\infty \\frac{(2\\pi i\\hat H)^n}{n!})^\\dagger\\nonumber\\\\\n",
    "&=& \\sum_n^\\infty \\frac{((2\\pi i\\hat H)^n)^\\dagger}{n!}\\nonumber\\\\\n",
    "&=& \\sum_n^\\infty \\frac{(-2\\pi i\\hat H^\\dagger)^n)}{n!}\\nonumber\\\\\n",
    "&=& \\sum_n^\\infty \\frac{(-2\\pi i\\hat H)^n)}{n!}\\nonumber\\\\\n",
    "&=& e^{-2\\pi i\\hat H}.\\nonumber\n",
    "\\end{eqnarray}$$\n",
    "Therefore, $U U^\\dagger = e^{2\\pi i\\hat H} e^{-2\\pi i\\hat H}$. Because $[2\\pi i\\hat H, -2\\pi i\\hat H] = 0$, $e^{2\\pi i\\hat H} e^{-2\\pi i\\hat H} = e^{2\\pi i\\hat H -2\\pi i\\hat H} = e^{0\\hat H} = I$. So, $U U^\\dagger = I$ i.e. $U$ is a unitary matrix.\n",
    "\n",
    "### What is the eigenvalues and eigenvectors of $U$? Is it related with them of $\\hat H$?\n",
    "\n",
    "We proof that the eigenvector of $U$ is as same as the eigenvector of $\\hat H$, and find its corresponding eigenvalue.\n",
    "\n",
    "Let $\\lambda_j, \\left|\\psi_j\\right\\rangle$ be a pair of an eigenvalue and an eigenvector of $\\hat H$. Then,\n",
    "$$\\begin{eqnarray}\n",
    "U \\left|\\psi_j\\right\\rangle &=& (\\sum_n^\\infty \\frac{(2\\pi i\\hat H)^n}{n!})\\left|\\psi_j\\right\\rangle\\nonumber\\\\\n",
    "&=& \\sum_n^\\infty \\frac{(2\\pi i)^n \\hat H^n \\left|\\psi_j\\right\\rangle}{n!}\\nonumber\\\\\n",
    "&=& \\sum_n^\\infty \\frac{(2\\pi i)^n \\lambda_j^n \\left|\\psi_j\\right\\rangle}{n!}\\nonumber\\\\\n",
    "&=& \\sum_n^\\infty \\frac{(2\\pi i)^n \\lambda_j^n}{n!}\\left|\\psi_j\\right\\rangle\\nonumber\\\\\n",
    "&=& \\sum_n^\\infty \\frac{(2\\pi i \\lambda_j)^n}{n!}\\left|\\psi_j\\right\\rangle\\nonumber\\\\\n",
    "&=& e^{2\\pi i \\lambda_j}\\left|\\psi_j\\right\\rangle.\\nonumber\n",
    "\\end{eqnarray}$$\n",
    "Therefore, $\\left|\\psi_j\\right\\rangle$ is an eigenvector of $U$ and its corresponding eigenvalue is $e^{2\\pi i \\lambda_j}$.\n",
    "\n",
    "So, we can obtain the eivenvalue $\\lambda_j$ of $\\hat H$ by the quantum phase estimation of\n",
    "$$U\\left|\\psi_j\\right\\rangle = e^{2\\pi i\\lambda_j} \\left|\\psi_j\\right\\rangle.$$"
   ]
  },
  {
   "cell_type": "markdown",
   "metadata": {},
   "source": [
    "## Implementation\n",
    "First, we import required libraries. In this time, we use numba backend."
   ]
  },
  {
   "cell_type": "code",
   "execution_count": 1,
   "metadata": {},
   "outputs": [],
   "source": [
    "import math\n",
    "import cmath\n",
    "import random\n",
    "import numpy as np\n",
    "\n",
    "from blueqat import *\n",
    "from blueqat.pauli import X, Y, Z, I\n",
    "\n",
    "BlueqatGlobalSetting.set_default_backend('numba')\n",
    "pi = math.pi\n",
    "\n",
    "# Version check for Blueqat\n",
    "try:\n",
    "    Circuit().r(0.1)[0].run()\n",
    "except AttributeError:\n",
    "    raise ImportError('Blueqat version is old.')"
   ]
  },
  {
   "cell_type": "markdown",
   "metadata": {},
   "source": [
    "Next, we make a random Hermitian matrix $\\hat H$.\n",
    "\n",
    "To obtain the eigenvalue by quantum phase estimation, we also need\n",
    "- A quantum circuit which gives the eigenvector of $\\hat H$ corresponding with desired eigenvalue\n",
    "- A quantum circuit which gives Controlled-$e^{i2\\pi \\hat H 2^n}$.\n",
    "\n",
    "We will create them.\n",
    "\n",
    "A Hermitian matrix can be decomposed into $\\hat H = P D P^\\dagger$\n",
    "where $P$ is a unitary matrix, $D$ is a real diagonal matrix.\n",
    "\n",
    "In this case, diagonal elements of $D$ are eigenvalues of $\\hat H$ and each column of $P$ are eigenvalues of $\\hat H$. Now, we're considering a 2x2 Hermitian with eigenvalues summing up to zero, so, elements of $D$ are $\\pm E$ when $\\hat H$ has an eigenvalue $E$.\n",
    "\n",
    "Thus, we generate random real number $E$ and make $D$, then, generate random three real numbers $\\theta, \\phi, \\lambda$ and make $P$ using U gate, i.e. $P = \\mathrm{U}(\\theta, \\phi, \\lambda)$. Here, we ignore the parameter $\\gamma$ of U gate because it is irrelevant to eigenvalues.\n",
    "\n",
    "Now, we can define the function which returns\n",
    "\n",
    "- A Hermitian matrix $\\hat H$\n",
    "- An eigenvalue $E$, which we desired to calculate\n",
    "- Parameters of U gate $\\theta, \\phi, \\lambda$ which gives the eigenvector."
   ]
  },
  {
   "cell_type": "code",
   "execution_count": 1,
   "metadata": {},
   "outputs": [],
   "source": [
    "def is_hermitian(mat):\n",
    "    \"\"\"Check whether mat is Hermitian\"\"\"\n",
    "    return np.allclose(mat, mat.T.conjugate())\n",
    "\n",
    "def get_u_matrix(theta, phi, lam):\n",
    "    \"\"\"Get a unitary matrix U(theta, phi, lam)\"\"\"\n",
    "    # Get sympy matrix via Circuit.to_unitary() and convert to numpy matrix\n",
    "    u = Circuit().u(theta, phi, lam)[0].to_unitary()\n",
    "    return np.array(u.tolist()).astype(np.complex64)\n",
    "\n",
    "def random_hermitian():\n",
    "    \"\"\"Make random Hermitian and returns triplet\n",
    "    (Hermitian, eigenvalue, parameters for U).\n",
    "    \"\"\"\n",
    "    # Generate random eigenvalue\n",
    "    eigval = random.random()\n",
    "    # Generate random parameters for U\n",
    "    theta = random.random()\n",
    "    phi = random.random()\n",
    "    lam = random.random()\n",
    "    # Make Hermitian from them\n",
    "    u = get_u_matrix(theta, phi, lam)\n",
    "    hermitian = u @ np.diag([eigval, -eigval]) @ u.T.conjugate()\n",
    "    # Check it is Hermitian\n",
    "    assert is_hermitian(hermitian)\n",
    "    # returns Hermitian, eigenvalue, parameters for U\n",
    "    return hermitian, eigval, (theta, phi, lam)"
   ]
  },
  {
   "cell_type": "markdown",
   "metadata": {},
   "source": [
    "OK. We will make a Hermitian."
   ]
  },
  {
   "cell_type": "code",
   "execution_count": 3,
   "metadata": {},
   "outputs": [
    {
     "name": "stdout",
     "output_type": "stream",
     "text": [
      "[[ 0.90694015+0.j          0.13469137-0.03652766j]\n",
      " [ 0.13469137+0.03652766j -0.90694024+0.j        ]]\n"
     ]
    }
   ],
   "source": [
    "H, E, (theta, phi, lam) = random_hermitian()\n",
    "print(H)"
   ]
  },
  {
   "cell_type": "markdown",
   "metadata": {},
   "source": [
    "We can make an eigenvector using `theta, phi, lam` and U gate."
   ]
  },
  {
   "cell_type": "code",
   "execution_count": 4,
   "metadata": {},
   "outputs": [
    {
     "name": "stdout",
     "output_type": "stream",
     "text": [
      "[0.99708757+0.j         0.0736065 +0.01996173j]\n"
     ]
    }
   ],
   "source": [
    "vec = Circuit().u(theta, phi, lam)[0].run()\n",
    "print(vec)"
   ]
  },
  {
   "cell_type": "markdown",
   "metadata": {},
   "source": [
    "Check `H vec = E vec`, it means, `E, vec` is a pair of eigenvalue and eigenvector of H."
   ]
  },
  {
   "cell_type": "code",
   "execution_count": 5,
   "metadata": {},
   "outputs": [
    {
     "data": {
      "text/plain": [
       "True"
      ]
     },
     "execution_count": 5,
     "metadata": {},
     "output_type": "execute_result"
    }
   ],
   "source": [
    "np.allclose(np.dot(H, vec), E * vec)"
   ]
  },
  {
   "cell_type": "markdown",
   "metadata": {},
   "source": [
    "Preparation is done. We will implement quantum phase estimation. We make the quantum circuit and calculate `E` by quantum phase estimation."
   ]
  },
  {
   "cell_type": "code",
   "execution_count": 6,
   "metadata": {},
   "outputs": [],
   "source": [
    "def iqft(c, q0, n_qubits):\n",
    "    \"\"\"Add inversed quantum Fourier transform operations to q0-th - (q0 + n_qubits)-th qubits of the circuit `c`\"\"\"\n",
    "    for i in reversed(range(n_qubits)):\n",
    "        angle = -0.5\n",
    "        for j in range(i + 1, n_qubits):\n",
    "            c.cr(angle * pi)[q0 + j, q0 + i]\n",
    "            angle *= 0.5\n",
    "        c.h[q0 + i]\n",
    "    return c\n",
    "\n",
    "\n",
    "def initial_circuit(theta, phi, lam):\n",
    "    \"\"\"Prepare a initial circuit which gives eigenvector.\"\"\"\n",
    "    return Circuit().u(theta, phi, lam)[0]\n",
    "\n",
    "\n",
    "def apply_cu(c, ctrl, theta, phi, lam, eigval, n):\n",
    "    \"\"\"Append Controlled-U^(2^n) to the circuit `c`.\n",
    "    Controll qubit is `ctrl`, target qubit is 0.\n",
    "    \n",
    "    This function requires eigenvalue `eigval` as an argument.\n",
    "    We make Controlled-U^(2^n) by using eigenvalue. You may feel we're cheating.\n",
    "    You can make approximate Controlled-U^(2^n) circuit without eigenvalue,\n",
    "    for example by using Suzuki-Trotter decomposition. In this case, you have to consider about precision.\n",
    "    Generally, making efficient and high-precision Controlled-U^(2^n) circuit without cheating is difficult.\n",
    "    \"\"\"\n",
    "    return c.u(-theta, -lam, -phi)[0].crz(-2 * pi * eigval * (2**n))[ctrl, 0].u(theta, phi, lam)[0]\n",
    "\n",
    "def qpe_circuit(eigval, theta, phi, lam, precision):\n",
    "    \"\"\"Returns quantum phase estimation circuit from eigenvalue, parameters of U gate and\n",
    "    precision (a number of binary digits) of phase estimation\"\"\"\n",
    "    c = initial_circuit(theta, phi, lam)\n",
    "    c.h[1:1 + precision]\n",
    "    for i in range(precision):\n",
    "        apply_cu(c, i + 1, theta, phi, lam, eigval, i)\n",
    "    iqft(c, 1, precision)\n",
    "    return c"
   ]
  },
  {
   "cell_type": "markdown",
   "metadata": {},
   "source": [
    "Let's see the quantum circuit of quantum phase estimation."
   ]
  },
  {
   "cell_type": "code",
   "execution_count": 7,
   "metadata": {},
   "outputs": [
    {
     "data": {
      "image/png": "[encoded data removed]",
      "text/plain": [
       "<Figure size 1591.6x806.68 with 1 Axes>"
      ]
     },
     "execution_count": 7,
     "metadata": {},
     "output_type": "execute_result"
    }
   ],
   "source": [
    "qpe_circuit(E, theta, phi, lam, 4).run_with_ibmq(returns='draw', output='mpl')"
   ]
  },
  {
   "cell_type": "markdown",
   "metadata": {},
   "source": [
    "Then, we make a function for calculating the eigenvalue from observed result."
   ]
  },
  {
   "cell_type": "code",
   "execution_count": 2,
   "metadata": {},
   "outputs": [],
   "source": [
    "def run_qpe(c, shots=1000, max_candidates=5):\n",
    "    \"\"\"Run the circuit for quantum phase estimation and returns candidates of eigenvalue.\n",
    "    shots: The number of running quantum circuit, max_candidates: Maximum number of candidates\n",
    "    \"\"\"\n",
    "    cnt = c.m[1:].run(shots=shots)\n",
    "\n",
    "    # Convert measured result to floating point value\n",
    "    def to_value(k):\n",
    "        k = k[1:] # Drop first element\n",
    "        val = 0 # Value\n",
    "        a = 1.0 \n",
    "        for ch in k:\n",
    "            if ch == '1':\n",
    "                val += a\n",
    "            a *= 0.5\n",
    "        if val > 1:\n",
    "            # When the phase > π, subtract 2π (phase is negative).\n",
    "            val = val - 2\n",
    "        return val\n",
    "\n",
    "    return [(to_value(k), v) for k, v in cnt.most_common(max_candidates)]"
   ]
  },
  {
   "cell_type": "markdown",
   "metadata": {},
   "source": [
    "Now, we can perform the quantum phase estimation. Let's see the result."
   ]
  },
  {
   "cell_type": "code",
   "execution_count": 9,
   "metadata": {},
   "outputs": [
    {
     "name": "stdout",
     "output_type": "stream",
     "text": [
      "Eigenvalue (expected): 0.9176146025886731\n",
      "3 bit precision:\n",
      "695  1.0               (deviation:  8.239e-02)\n",
      "144  0.75              (deviation: -1.676e-01)\n",
      "58   -0.75             (deviation: -1.668e+00)\n",
      "\n",
      "4 bit precision:\n",
      "695  0.875             (deviation: -4.261e-02)\n",
      "175  1.0               (deviation:  8.239e-02)\n",
      "38   0.75              (deviation: -1.676e-01)\n",
      "\n",
      "5 bit precision:\n",
      "710  0.9375            (deviation:  1.989e-02)\n",
      "145  0.875             (deviation: -4.261e-02)\n",
      "49   1.0               (deviation:  8.239e-02)\n",
      "\n",
      "6 bit precision:\n",
      "615  0.90625           (deviation: -1.136e-02)\n",
      "232  0.9375            (deviation:  1.989e-02)\n",
      "41   0.96875           (deviation:  5.114e-02)\n",
      "\n",
      "7 bit precision:\n",
      "773  0.921875          (deviation:  4.260e-03)\n",
      "104  0.90625           (deviation: -1.136e-02)\n",
      "40   0.9375            (deviation:  1.989e-02)\n",
      "\n",
      "8 bit precision:\n",
      "490  0.9140625         (deviation: -3.552e-03)\n",
      "326  0.921875          (deviation:  4.260e-03)\n",
      "60   0.90625           (deviation: -1.136e-02)\n",
      "\n",
      "9 bit precision:\n",
      "965  0.91796875        (deviation:  3.541e-04)\n",
      "14   0.921875          (deviation:  4.260e-03)\n",
      "5    0.9140625         (deviation: -3.552e-03)\n",
      "\n",
      "10 bit precision:\n",
      "909  0.91796875        (deviation:  3.541e-04)\n",
      "32   0.916015625       (deviation: -1.599e-03)\n",
      "19   0.919921875       (deviation:  2.307e-03)\n",
      "\n",
      "11 bit precision:\n",
      "636  0.91796875        (deviation:  3.541e-04)\n",
      "205  0.9169921875      (deviation: -6.224e-04)\n",
      "44   0.9189453125      (deviation:  1.331e-03)\n",
      "\n",
      "12 bit precision:\n",
      "792  0.91748046875     (deviation: -1.341e-04)\n",
      "93   0.91796875        (deviation:  3.541e-04)\n",
      "32   0.9169921875      (deviation: -6.224e-04)\n",
      "\n",
      "13 bit precision:\n",
      "484  0.917724609375    (deviation:  1.100e-04)\n",
      "328  0.91748046875     (deviation: -1.341e-04)\n",
      "47   0.91796875        (deviation:  3.541e-04)\n",
      "\n",
      "14 bit precision:\n",
      "969  0.9176025390625   (deviation: -1.206e-05)\n",
      "11   0.91748046875     (deviation: -1.341e-04)\n",
      "9    0.917724609375    (deviation:  1.100e-04)\n",
      "\n",
      "15 bit precision:\n",
      "862  0.9176025390625   (deviation: -1.206e-05)\n",
      "53   0.91766357421875  (deviation:  4.897e-05)\n",
      "38   0.91754150390625  (deviation: -7.310e-05)\n",
      "\n"
     ]
    }
   ],
   "source": [
    "print('Eigenvalue (expected):', E) # It's expected value. We desire a value closed to it.\n",
    "# We'll run small to high precision for comparison.\n",
    "for precision in range(3, 16):\n",
    "    print(precision, 'bit precision:')\n",
    "    c = qpe_circuit(E, theta, phi, lam, precision)\n",
    "    result = run_qpe(c, 1000, 3)\n",
    "    for value, count in result:\n",
    "        # Display a number of observation, obtained eigenvalue and a deviation from true eigenvalue.\n",
    "        print(f'{count:<5}{value:<18}(deviation: {value - E: .3e})')\n",
    "    print('')"
   ]
  },
  {
   "cell_type": "markdown",
   "metadata": {},
   "source": [
    "Obtained value are near by true eigenvalue."
   ]
  },
  {
   "cell_type": "markdown",
   "metadata": {},
   "source": [
    "## Quantum Phase Estimation of Hermitian Matrix (without Eigenvalues Summing up to Zero)\n",
    "Generally, the sum of eigenvalues of Hermitian matrix is not zero. In this case, we also can calculate the eigenvalue by quantum phase estimation, but we need to modify the circuit for Controlled-U gate.\n",
    "\n",
    "Let $U$ be $e^{2\\pi i\\hat H}$. The sum of eigenvalues of $U$ is equivalent with a trace of $U$. So, we consider $\\mathrm{tr}(U)$.\n",
    "$$\\begin{eqnarray}\n",
    "\\mathrm{tr}(U) &=& \\mathrm{tr}\\left(\\sum_{n=0}^{\\infty}\\frac{(2\\pi i \\hat H)^n}{n!}\\right)\\nonumber\\\\\n",
    "&=&\\sum_{n=0}^{\\infty}\\mathrm{tr}\\left(\\frac{(2\\pi i \\hat H)^n}{n!}\\right)\\nonumber\\\\\n",
    "&=&\\sum_{n=0}^{\\infty}\\frac{(2\\pi i \\mathrm{tr}(\\hat H))^n}{n!}\\nonumber\\\\\n",
    "&=&e^{2\\pi i \\mathrm{tr}(\\hat H)}\\nonumber.\\\\\n",
    "\\end{eqnarray}$$\n",
    "Therefore, $\\mathrm{tr}(U)$ is appeared with a global phase of $U$. We make Controlled-U gate with considering the global phase. i.e. We add a RZ gate into controll qubit."
   ]
  },
  {
   "cell_type": "code",
   "execution_count": 10,
   "metadata": {},
   "outputs": [],
   "source": [
    "def random_hermitian2():\n",
    "    \"\"\"Make random Hermitian matrix and returns\n",
    "    Hermitian matrix, a pair of eigenvalues, parameters for U gate.\n",
    "    \"\"\"\n",
    "    # Get random eigenvalues. The range of eigenvalues is -1 to 1.\n",
    "    eigvals = [random.random() * 2 - 1, random.random() * 2 - 1]\n",
    "    # Sorting eigenvalues. (You may comment out this line if you don't desire.)\n",
    "    eigvals.sort()\n",
    "    # Get random parameters for U gate.\n",
    "    theta = random.random()\n",
    "    phi = random.random()\n",
    "    lam = random.random()\n",
    "    # Make a Hermitian matrix from them.\n",
    "    u = get_u_matrix(theta, phi, lam)\n",
    "    hermitian = u @ np.diag(eigvals) @ u.T.conjugate()\n",
    "    # Check if it is Hermitian.\n",
    "    assert is_hermitian(hermitian)\n",
    "    # Returns Hermitian, eigenvalues, parameters.\n",
    "    return hermitian, eigvals, (theta, phi, lam)"
   ]
  },
  {
   "cell_type": "code",
   "execution_count": 11,
   "metadata": {},
   "outputs": [
    {
     "name": "stdout",
     "output_type": "stream",
     "text": [
      "[[-0.89623604-1.69406589e-21j -0.0328706 +1.96551910e-02j]\n",
      " [-0.0328706 -1.96551910e-02j -0.0411255 +0.00000000e+00j]]\n"
     ]
    }
   ],
   "source": [
    "H, eigvals, (theta, phi, lam) = random_hermitian2()\n",
    "print(H)"
   ]
  },
  {
   "cell_type": "code",
   "execution_count": 12,
   "metadata": {},
   "outputs": [],
   "source": [
    "def apply_cu2(c, ctrl, theta, phi, lam, eigvals, n):\n",
    "    \"\"\"Modify apply_cu and consider global phase also.\n",
    "    argument `eigvals` is a pair of eigenvalues.\n",
    "    \"\"\"\n",
    "    bias = sum(eigvals) / 2\n",
    "    angle = (eigvals[0] - eigvals[1]) / 2\n",
    "    return c.u(-theta, -lam, -phi)[0].crz(-2 * pi * angle * (2**n))[ctrl, 0].u(theta, phi, lam)[0].rz(pi * bias * (2**n))[ctrl]\n",
    "\n",
    "def qpe_circuit2(eigvals, theta, phi, lam, precision):\n",
    "    \"\"\"Modify qpe_circuit2 for using apply_cu2.\"\"\"\n",
    "    c = initial_circuit(theta, phi, lam)\n",
    "    c.h[1:1 + precision]\n",
    "    for i in range(precision):\n",
    "        apply_cu2(c, i + 1, theta, phi, lam, eigvals, i)\n",
    "    iqft(c, 1, precision)\n",
    "    return c"
   ]
  },
  {
   "cell_type": "markdown",
   "metadata": {},
   "source": [
    "Then, we calculate first eigenvalue."
   ]
  },
  {
   "cell_type": "code",
   "execution_count": 13,
   "metadata": {},
   "outputs": [
    {
     "name": "stdout",
     "output_type": "stream",
     "text": [
      "Eigenvalue (expected): -0.8979479355484925\n",
      "3 bit precision:\n",
      "552  1.0               (deviation:  1.898e+00)\n",
      "265  -0.75             (deviation:  1.479e-01)\n",
      "62   0.75              (deviation:  1.648e+00)\n",
      "\n",
      "4 bit precision:\n",
      "904  -0.875            (deviation:  2.295e-02)\n",
      "47   1.0               (deviation:  1.898e+00)\n",
      "20   -0.75             (deviation:  1.479e-01)\n",
      "\n",
      "5 bit precision:\n",
      "643  -0.875            (deviation:  2.295e-02)\n",
      "223  -0.9375           (deviation: -3.955e-02)\n",
      "42   -0.8125           (deviation:  8.545e-02)\n",
      "\n",
      "6 bit precision:\n",
      "767  -0.90625          (deviation: -8.302e-03)\n",
      "117  -0.875            (deviation:  2.295e-02)\n",
      "37   -0.9375           (deviation: -3.955e-02)\n",
      "\n",
      "7 bit precision:\n",
      "465  -0.890625         (deviation:  7.323e-03)\n",
      "320  -0.90625          (deviation: -8.302e-03)\n",
      "57   -0.921875         (deviation: -2.393e-02)\n",
      "\n",
      "8 bit precision:\n",
      "988  -0.8984375        (deviation: -4.896e-04)\n",
      "5    -0.890625         (deviation:  7.323e-03)\n",
      "3    -0.90625          (deviation: -8.302e-03)\n",
      "\n",
      "9 bit precision:\n",
      "956  -0.8984375        (deviation: -4.896e-04)\n",
      "17   -0.89453125       (deviation:  3.417e-03)\n",
      "10   -0.90234375       (deviation: -4.396e-03)\n",
      "\n",
      "10 bit precision:\n",
      "820  -0.8984375        (deviation: -4.896e-04)\n",
      "80   -0.896484375      (deviation:  1.464e-03)\n",
      "23   -0.900390625      (deviation: -2.443e-03)\n",
      "\n",
      "11 bit precision:\n",
      "409  -0.8984375        (deviation: -4.896e-04)\n",
      "396  -0.8974609375     (deviation:  4.870e-04)\n",
      "50   -0.8994140625     (deviation: -1.466e-03)\n",
      "\n",
      "12 bit precision:\n",
      "1000 -0.89794921875    (deviation: -1.283e-06)\n",
      "\n",
      "13 bit precision:\n",
      "1000 -0.89794921875    (deviation: -1.283e-06)\n",
      "\n",
      "14 bit precision:\n",
      "1000 -0.89794921875    (deviation: -1.283e-06)\n",
      "\n",
      "15 bit precision:\n",
      "997  -0.89794921875    (deviation: -1.283e-06)\n",
      "1    -0.8980712890625  (deviation: -1.234e-04)\n",
      "1    -0.89801025390625 (deviation: -6.232e-05)\n",
      "\n"
     ]
    }
   ],
   "source": [
    "print('Eigenvalue (expected):', eigvals[0]) # It's expected value. We desire a value closed to it.\n",
    "# We'll run small to high precision for comparison.\n",
    "for precision in range(3, 16):\n",
    "    print(precision, 'bit precision:')\n",
    "    c = qpe_circuit2(eigvals, theta, phi, lam, precision)\n",
    "    result = run_qpe(c, 1000, 3)\n",
    "    for value, count in result:\n",
    "        # Display a number of observation, obtained eigenvalue and a deviation from true eigenvalue.\n",
    "        print(f'{count:<5}{value:<18}(deviation: {value - eigvals[0]: .3e})')\n",
    "    print('')"
   ]
  },
  {
   "cell_type": "markdown",
   "metadata": {},
   "source": [
    "By modifying Controlled-U gate, we obtained a eigenvalue.\n",
    "\n",
    "Next, we consider to obtain another eigenvalue. Another eigenvalue can calculate by quantum phase estimation with another eigenvector.\n",
    "\n",
    "This time, we use the equation $\\hat H = P D P^\\dagger$, where $P$ is a unitary matrix $\\mathrm{U}(\\theta, \\phi, \\lambda)$. Thus, the eigenvectors of $\\hat H$ are first and second column of $\\mathrm{U}(\\theta, \\phi, \\lambda)$. To obtain first eigenvalue, we had prepared the first eigenvector with applying $\\mathrm{U}(\\theta, \\phi, \\lambda)$ gate. We can get second eigenvector with applying X-Gate before $\\mathrm{U}(\\theta, \\phi, \\lambda)$ gate.\n",
    "\n",
    "Let's implement it."
   ]
  },
  {
   "cell_type": "code",
   "execution_count": 14,
   "metadata": {},
   "outputs": [],
   "source": [
    "def initial_circuit2(theta, phi, lam):\n",
    "    \"\"\"Make an initial circuit which prepares second eigenvector.\"\"\"\n",
    "    return Circuit().x[0].u(theta, phi, lam)[0]\n",
    "\n",
    "def qpe_circuit3(eigvals, theta, phi, lam, precision):\n",
    "    \"\"\"Modified for using apply_cu2 and initial_circuit2.\"\"\"\n",
    "    c = initial_circuit2(theta, phi, lam)\n",
    "    c.h[1:1 + precision]\n",
    "    for i in range(precision):\n",
    "        apply_cu2(c, i + 1, theta, phi, lam, eigvals, i)\n",
    "    iqft(c, 1, precision)\n",
    "    return c"
   ]
  },
  {
   "cell_type": "code",
   "execution_count": 15,
   "metadata": {},
   "outputs": [
    {
     "name": "stdout",
     "output_type": "stream",
     "text": [
      "Eigenvalue (expected): -0.03941358732181355\n",
      "3 bit precision:\n",
      "922  0                 (deviation:  3.941e-02)\n",
      "37   -0.25             (deviation: -2.106e-01)\n",
      "21   0.25              (deviation:  2.894e-01)\n",
      "\n",
      "4 bit precision:\n",
      "708  0                 (deviation:  3.941e-02)\n",
      "146  -0.125            (deviation: -8.559e-02)\n",
      "40   0.125             (deviation:  1.644e-01)\n",
      "\n",
      "5 bit precision:\n",
      "630  -0.0625           (deviation: -2.309e-02)\n",
      "200  0                 (deviation:  3.941e-02)\n",
      "48   -0.125            (deviation: -8.559e-02)\n",
      "\n",
      "6 bit precision:\n",
      "801  -0.03125          (deviation:  8.164e-03)\n",
      "92   -0.0625           (deviation: -2.309e-02)\n",
      "34   0                 (deviation:  3.941e-02)\n",
      "\n",
      "7 bit precision:\n",
      "428  -0.046875         (deviation: -7.461e-03)\n",
      "375  -0.03125          (deviation:  8.164e-03)\n",
      "45   -0.0625           (deviation: -2.309e-02)\n",
      "\n",
      "8 bit precision:\n",
      "991  -0.0390625        (deviation:  3.511e-04)\n",
      "3    -0.046875         (deviation: -7.461e-03)\n",
      "2    -0.03125          (deviation:  8.164e-03)\n",
      "\n",
      "9 bit precision:\n",
      "970  -0.0390625        (deviation:  3.511e-04)\n",
      "10   -0.03515625       (deviation:  4.257e-03)\n",
      "9    -0.04296875       (deviation: -3.555e-03)\n",
      "\n",
      "10 bit precision:\n",
      "892  -0.0390625        (deviation:  3.511e-04)\n",
      "47   -0.041015625      (deviation: -1.602e-03)\n",
      "18   -0.037109375      (deviation:  2.304e-03)\n",
      "\n",
      "11 bit precision:\n",
      "626  -0.0390625        (deviation:  3.511e-04)\n",
      "215  -0.0400390625     (deviation: -6.255e-04)\n",
      "41   -0.041015625      (deviation: -1.602e-03)\n",
      "\n",
      "12 bit precision:\n",
      "766  -0.03955078125    (deviation: -1.372e-04)\n",
      "119  -0.0390625        (deviation:  3.511e-04)\n",
      "40   -0.0400390625     (deviation: -6.255e-04)\n",
      "\n",
      "13 bit precision:\n",
      "527  -0.039306640625   (deviation:  1.069e-04)\n",
      "281  -0.03955078125    (deviation: -1.372e-04)\n",
      "39   -0.0390625        (deviation:  3.511e-04)\n",
      "\n",
      "14 bit precision:\n",
      "951  -0.0394287109375  (deviation: -1.512e-05)\n",
      "20   -0.039306640625   (deviation:  1.069e-04)\n",
      "10   -0.0391845703125  (deviation:  2.290e-04)\n",
      "\n",
      "15 bit precision:\n",
      "821  -0.0394287109375  (deviation: -1.512e-05)\n",
      "89   -0.03936767578125 (deviation:  4.591e-05)\n",
      "28   -0.03948974609375 (deviation: -7.616e-05)\n",
      "\n"
     ]
    }
   ],
   "source": [
    "print('Eigenvalue (expected):', eigvals[1]) # It's expected value. We desire a value closed to it.\n",
    "# We'll run small to high precision for comparison.\n",
    "for precision in range(3, 16):\n",
    "    print(precision, 'bit precision:')\n",
    "    c = qpe_circuit3(eigvals, theta, phi, lam, precision)\n",
    "    result = run_qpe(c, 1000, 3)\n",
    "    for value, count in result:\n",
    "        # Display a number of observation, obtained eigenvalue and a deviation from true eigenvalue.\n",
    "        print(f'{count:<5}{value:<18}(deviation: {value - eigvals[1]: .3e})')\n",
    "    print('')"
   ]
  },
  {
   "cell_type": "markdown",
   "metadata": {},
   "source": [
    "We got second eigenvalue also."
   ]
  }
 ],
 "metadata": {
  "kernelspec": {
   "display_name": "Python 3",
   "language": "python",
   "name": "python3"
  },
  "language_info": {
   "codemirror_mode": {
    "name": "ipython",
    "version": 3
   },
   "file_extension": ".py",
   "mimetype": "text/x-python",
   "name": "python",
   "nbconvert_exporter": "python",
   "pygments_lexer": "ipython3",
   "version": "3.8.3"
  }
 },
 "nbformat": 4,
 "nbformat_minor": 4
}
