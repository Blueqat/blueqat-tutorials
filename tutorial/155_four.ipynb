{
 "cells": [
  {
   "cell_type": "markdown",
   "metadata": {
    "colab_type": "text",
    "id": "NjHnSAbHrInP"
   },
   "source": [
    "# Adder\n",
    "Quantum computers have the function of being able to perform the same calculations as conventional computers. Check the circuit for adder."
   ]
  },
  {
   "cell_type": "markdown",
   "metadata": {},
   "source": [
    "## What we'll learn this time\n",
    "1. Implementing Binary Adder Using Quantum Gates\n",
    "2. Using quantum superposition, we can realize multiple adder in a single circuit"
   ]
  },
  {
   "cell_type": "markdown",
   "metadata": {},
   "source": [
    "## Install Blueqat\n",
    "Install Blueqat from pip."
   ]
  },
  {
   "cell_type": "code",
   "execution_count": 1,
   "metadata": {
    "colab": {},
    "colab_type": "code",
    "collapsed": true,
    "id": "OF-AmKpXtgSJ",
    "jupyter": {
     "outputs_hidden": true
    }
   },
   "outputs": [
    {
     "name": "stdout",
     "output_type": "stream",
     "text": [
      "Requirement already satisfied: blueqat in /home/ec2-user/anaconda3/envs/python3/lib/python3.6/site-packages (0.3.13)\n",
      "Requirement already satisfied: numpy~=1.12 in /home/ec2-user/anaconda3/envs/python3/lib/python3.6/site-packages (from blueqat) (1.18.3)\n",
      "Requirement already satisfied: scipy>=1.1.0 in /home/ec2-user/anaconda3/envs/python3/lib/python3.6/site-packages (from blueqat) (1.1.0)\n",
      "\u001b[33mWARNING: You are using pip version 20.0.2; however, version 20.1 is available.\n",
      "You should consider upgrading via the '/home/ec2-user/anaconda3/envs/python3/bin/python -m pip install --upgrade pip' command.\u001b[0m\n"
     ]
    }
   ],
   "source": [
    "!pip install blueqat"
   ]
  },
  {
   "cell_type": "markdown",
   "metadata": {
    "colab_type": "text",
    "id": "PKhFYi-drld1"
   },
   "source": [
    "## Addition of binary numbers\n",
    "Adder uses a CCX gate to perform digit up and a CX gate to perform addition. In this case, we will do a quantum circuit of binary addition, a+b = cd. This time, we will implement four types of addition according to the values of a and b. Each addition is,\n",
    "\n",
    "0+0 = 00 => 0000  \n",
    "0+1 = 01 => 0101  \n",
    "1+0 = 01 => 1001  \n",
    "1+1 = 10 => 1110  \n",
    "\n",
    "The first two qubits are the input values a and b, and the second two qubits are the output values c and d. I've built a separate circuit for the input of a and b and a circuit for the addition, and used it several times. For data input, use the X gate to flip 0 to 1."
   ]
  },
  {
   "cell_type": "markdown",
   "metadata": {},
   "source": [
    "The circuit part of the additon looks like this. * is a controlled bit.\n",
    "\n",
    "```\n",
    "a ---*---*------- a\n",
    "b ---*---|---*--- b\n",
    "0 ---X---|---|--- c\n",
    "0 -------X---X--- d\n",
    "```"
   ]
  },
  {
   "cell_type": "code",
   "execution_count": 2,
   "metadata": {
    "colab": {
     "base_uri": "https://localhost:8080/",
     "height": 34
    },
    "colab_type": "code",
    "id": "O674HiVxjc7P",
    "outputId": "63d75a71-0b78-4b7b-b759-56b2d018e284"
   },
   "outputs": [],
   "source": [
    "#import tools\n",
    "from blueqat import Circuit\n",
    "\n",
    "#additon part\n",
    "adder = Circuit().ccx[0,1,2].cx[0,3].cx[1,3]"
   ]
  },
  {
   "cell_type": "code",
   "execution_count": 3,
   "metadata": {
    "colab": {
     "base_uri": "https://localhost:8080/",
     "height": 34
    },
    "colab_type": "code",
    "id": "O674HiVxjc7P",
    "outputId": "63d75a71-0b78-4b7b-b759-56b2d018e284"
   },
   "outputs": [
    {
     "data": {
      "text/plain": [
       "Counter({'0000': 100})"
      ]
     },
     "execution_count": 3,
     "metadata": {},
     "output_type": "execute_result"
    }
   ],
   "source": [
    "#0+0\n",
    "(Circuit() + adder).m[:].run(shots=100)"
   ]
  },
  {
   "cell_type": "code",
   "execution_count": 4,
   "metadata": {
    "colab": {
     "base_uri": "https://localhost:8080/",
     "height": 34
    },
    "colab_type": "code",
    "id": "xlTAVvSt3iZv",
    "outputId": "c6e6810e-4569-4849-da61-ab41e72f83c0"
   },
   "outputs": [
    {
     "data": {
      "text/plain": [
       "Counter({'0101': 100})"
      ]
     },
     "execution_count": 4,
     "metadata": {},
     "output_type": "execute_result"
    }
   ],
   "source": [
    "#0+1\n",
    "(Circuit().x[1] + adder).m[:].run(shots=100)"
   ]
  },
  {
   "cell_type": "code",
   "execution_count": 5,
   "metadata": {
    "colab": {
     "base_uri": "https://localhost:8080/",
     "height": 34
    },
    "colab_type": "code",
    "id": "BtkqFj8n3kBS",
    "outputId": "5db803d7-a2dc-417b-95c2-eacf35e160c2"
   },
   "outputs": [
    {
     "data": {
      "text/plain": [
       "Counter({'1001': 100})"
      ]
     },
     "execution_count": 5,
     "metadata": {},
     "output_type": "execute_result"
    }
   ],
   "source": [
    "#1+0\n",
    "(Circuit().x[0] + adder).m[:].run(shots=100)"
   ]
  },
  {
   "cell_type": "code",
   "execution_count": 6,
   "metadata": {
    "colab": {
     "base_uri": "https://localhost:8080/",
     "height": 34
    },
    "colab_type": "code",
    "id": "JnmWCnOf3xGw",
    "outputId": "b89c5e8a-899b-47da-faed-dc5a3a5035e5"
   },
   "outputs": [
    {
     "data": {
      "text/plain": [
       "Counter({'1110': 100})"
      ]
     },
     "execution_count": 6,
     "metadata": {},
     "output_type": "execute_result"
    }
   ],
   "source": [
    "#1+1\n",
    "(Circuit().x[0,1] + adder).m[:].run(shots=100)"
   ]
  },
  {
   "cell_type": "markdown",
   "metadata": {
    "colab_type": "text",
    "id": "OPe8FDu04AtN"
   },
   "source": [
    "As you can see, we were able to add up."
   ]
  },
  {
   "cell_type": "markdown",
   "metadata": {
    "colab_type": "text",
    "id": "OPe8FDu04AtN"
   },
   "source": [
    "## Addition using superposition\n",
    "Now, instead of filling in the data one by one with the X-gate, let's use the H-gate to do the addition."
   ]
  },
  {
   "cell_type": "code",
   "execution_count": 7,
   "metadata": {},
   "outputs": [
    {
     "data": {
      "text/plain": [
       "Counter({'1110': 27, '0101': 18, '0000': 34, '1001': 21})"
      ]
     },
     "execution_count": 7,
     "metadata": {},
     "output_type": "execute_result"
    }
   ],
   "source": [
    "#Use H gate as input instead of X gate\n",
    "(Circuit().h[0,1] + adder).m[:].run(shots=100)"
   ]
  },
  {
   "cell_type": "markdown",
   "metadata": {},
   "source": [
    "Using the Hadamal Gate, I got 4 answers, about 1/4 each. If you create a universal addition circuit like this, you can perform calculations using the superposition state."
   ]
  },
  {
   "cell_type": "markdown",
   "metadata": {},
   "source": [
    "## Addition using entanglement\n",
    "Next, instead of the H-gate, we try to add a+b=1 using quantum entanglement."
   ]
  },
  {
   "cell_type": "code",
   "execution_count": 8,
   "metadata": {},
   "outputs": [
    {
     "data": {
      "text/plain": [
       "Counter({'0101': 50, '1001': 50})"
      ]
     },
     "execution_count": 8,
     "metadata": {},
     "output_type": "execute_result"
    }
   ],
   "source": [
    "#Make an entangled state of 01 and 10\n",
    "(Circuit().h[0].cx[0,1].x[0] + adder).m[:].run(shots=100)"
   ]
  },
  {
   "cell_type": "markdown",
   "metadata": {},
   "source": [
    "Since the input values 01 and 10 are entangled, the addition of these two will come out about half by half."
   ]
  },
  {
   "cell_type": "markdown",
   "metadata": {},
   "source": [
    "--------"
   ]
  },
  {
   "cell_type": "markdown",
   "metadata": {},
   "source": [
    "## Advanced: General addition\n",
    "It implements the addition of common decimal numbers to each other.  \n",
    "Let's consider the sum of $a, b$.\n",
    "$a, b$ is $a = a_n ... a_0$, $b = b_n ... b_0$ and can be expressed in binary numbers.  \n",
    "(where n is based on the larger number.)\n",
    "\n",
    "The circuit is as following.\n",
    "\n",
    "<img src=\"https://qiita-user-contents.imgix.net/https%3A%2F%2Fqiita-image-store.s3.ap-northeast-1.amazonaws.com%2F0%2F218694%2F489c8ea6-130c-d44b-4bae-4d86f64556c2.png?ixlib=rb-1.2.2&auto=format&gif-q=60&q=75&s=e67fbf71779fa7ebb443e93663c56dc4\">\n",
    "\n",
    "$c_i$ is a carry bit.  \n",
    "This circuit is divided into two parts: the carry part and the sum part.\n",
    "\n",
    "we consider these two parts first."
   ]
  },
  {
   "cell_type": "markdown",
   "metadata": {},
   "source": [
    "### Carry up\n",
    "\n",
    "<img src=\"../tutorial-ja/img/100_0.png\" width=\"30%\">\n",
    "\n",
    "Let $c_i, a_i, b_i, c_{i+1}$ from the top, and $c_{i+1}$ shows the carry-up part."
   ]
  },
  {
   "cell_type": "markdown",
   "metadata": {},
   "source": [
    "### Sum\n",
    "\n",
    "<img src=\"../tutorial-ja/img/100_1.png\" width=\"30%\">\n",
    "\n",
    "Let $c_i, a_i, b_i$ from the top and the sum of the three numbers will appear in $b_i$."
   ]
  },
  {
   "cell_type": "markdown",
   "metadata": {},
   "source": [
    "### implementation\n",
    "\n",
    "General addition is:\n",
    "\n",
    "1. Using the carry circuit calculates the carry bit.  \n",
    "2. Using CX gate undo the last part of the carry.  \n",
    "3. Using the sum circuit outputs the sum of each position to $b_n$.  \n",
    "4. Using the reverse carry circuit undo the value of that level.  \n",
    "5. Using the sum circuit outputs the sum of each position to $b_i$.  \n",
    "6. repetition of 4,5.\n",
    "\n",
    "$a+b$ is output in $b_{n+1} ... b_0$.  \n",
    "First of all, we make the carry and its reverse circuit and the sum circuit."
   ]
  },
  {
   "cell_type": "code",
   "execution_count": 1,
   "metadata": {},
   "outputs": [],
   "source": [
    "from blueqat import Circuit\n",
    "\n",
    "def carry(i):\n",
    "    return Circuit().ccx[i+1,i+2,i+3].cx[i+1,i+2].ccx[i,i+2,i+3]\n",
    "\n",
    "def carry_reverse(i):\n",
    "    return Circuit().ccx[i,i+2,i+3].cx[i+1,i+2].ccx[i+1,i+2,i+3]\n",
    "\n",
    "def sum(i):\n",
    "    return Circuit().cx[i+1,i+2].cx[i,i+2]"
   ]
  },
  {
   "cell_type": "markdown",
   "metadata": {},
   "source": [
    "We'll also create a function to turn a decimal number into a binary number."
   ]
  },
  {
   "cell_type": "code",
   "execution_count": 2,
   "metadata": {},
   "outputs": [
    {
     "data": {
      "text/plain": [
       "'1010'"
      ]
     },
     "execution_count": 2,
     "metadata": {},
     "output_type": "execute_result"
    }
   ],
   "source": [
    "def tobinary(A):\n",
    "    return bin(A)[2:]\n",
    "\n",
    "tobinary(10)"
   ]
  },
  {
   "cell_type": "markdown",
   "metadata": {},
   "source": [
    "Next, create a function that maps a binary number to a circuit."
   ]
  },
  {
   "cell_type": "code",
   "execution_count": 3,
   "metadata": {},
   "outputs": [
    {
     "data": {
      "text/plain": [
       "'0000110'"
      ]
     },
     "execution_count": 3,
     "metadata": {},
     "output_type": "execute_result"
    }
   ],
   "source": [
    "def digits(a,b): \n",
    "     # change to the binary\n",
    "     aa = tobinary(a)  \n",
    "     bb = tobinary(b)  \n",
    "     alen = len(aa)  \n",
    "     blen = len(bb)  \n",
    "\n",
    "     # get the value n\n",
    "     maxlen = max(alen,blen) \n",
    "     if alen>blen: \n",
    "         bb = bb.zfill(alen) \n",
    "     elif blen>alen: \n",
    "         aa = aa.zfill(blen) \n",
    "\n",
    "     # mapping\n",
    "     str = '' \n",
    "     for i in range(maxlen): \n",
    "         str += '0' + aa[maxlen-i-1] + bb[maxlen-i-1] \n",
    "     str += '0' \n",
    "     return str\n",
    "\n",
    "digits(2,2)"
   ]
  },
  {
   "cell_type": "markdown",
   "metadata": {},
   "source": [
    "The X gate needs to be applied to match the mapped values, because the initial state of the circuit is all zero."
   ]
  },
  {
   "cell_type": "code",
   "execution_count": 4,
   "metadata": {},
   "outputs": [
    {
     "data": {
      "text/plain": [
       "Counter({'101': 100})"
      ]
     },
     "execution_count": 4,
     "metadata": {},
     "output_type": "execute_result"
    }
   ],
   "source": [
    "def toX(a): \n",
    "     cir = Circuit(len(a)) \n",
    "     for i in range(len(a)): \n",
    "         if a[i] == \"1\": \n",
    "             cir += Circuit().x[i] \n",
    "     return cir\n",
    "\n",
    "toX(\"101\").m[:].run(shots=100)"
   ]
  },
  {
   "cell_type": "markdown",
   "metadata": {},
   "source": [
    "Finally, consider the output part.  \n",
    "The output is a binary number, so it is converted to a decimal number."
   ]
  },
  {
   "cell_type": "code",
   "execution_count": 5,
   "metadata": {},
   "outputs": [
    {
     "data": {
      "text/plain": [
       "9"
      ]
     },
     "execution_count": 5,
     "metadata": {},
     "output_type": "execute_result"
    }
   ],
   "source": [
    "def todecimal(A):\n",
    "    return int(str(A),2) \n",
    "\n",
    "todecimal(1001)"
   ]
  },
  {
   "cell_type": "markdown",
   "metadata": {},
   "source": [
    "The circuit outputs a mixture of $a_i, b_i$ and $c_i$.  \n",
    "We get only $b_i$."
   ]
  },
  {
   "cell_type": "code",
   "execution_count": 6,
   "metadata": {},
   "outputs": [
    {
     "data": {
      "text/plain": [
       "2"
      ]
     },
     "execution_count": 6,
     "metadata": {},
     "output_type": "execute_result"
    }
   ],
   "source": [
    "def getb(result): \n",
    "     str = result[-1] \n",
    "     digi = int((len(result)-1)/3) \n",
    "     for i in range(digi): \n",
    "         str += result[-2-i*3] \n",
    "     return todecimal(str)\n",
    "\n",
    "getb(\"0000110\")"
   ]
  },
  {
   "cell_type": "markdown",
   "metadata": {},
   "source": [
    "### General circuit"
   ]
  },
  {
   "cell_type": "code",
   "execution_count": 7,
   "metadata": {},
   "outputs": [],
   "source": [
    "def plus(a,b): \n",
    "     # Mapping a binary number to a circuit\n",
    "     qubits = len(digits(a,b)) \n",
    "     cir1 = toX(digits(a,b)) \n",
    "     digi = int((len(digits(a,b))-1)/3) \n",
    "\n",
    "     # first carry circuit\n",
    "     cir2 = Circuit(qubits)     \n",
    "     for i in range(digi): \n",
    "         cir2 += carry(i*3) \n",
    "\n",
    "     # last digit\n",
    "     cir3 = Circuit(qubits).cx[-3,-2] + sum((digi-1)*3) \n",
    "\n",
    "     # Output the sum to bi\n",
    "     cir4 = Circuit(qubits) \n",
    "     for i in range(digi-1): \n",
    "         cir4 += carry_reverse((digi-i-2)*3) \n",
    "         cir4 += sum((digi-i-2)*3)\n",
    "\n",
    "     result = (cir1 + cir2 + cir3 + cir4).m[:].run(shots=1) \n",
    "     return getb(result.most_common()[0][0])"
   ]
  },
  {
   "cell_type": "markdown",
   "metadata": {},
   "source": [
    "Let's actually calculate it."
   ]
  },
  {
   "cell_type": "code",
   "execution_count": 8,
   "metadata": {},
   "outputs": [
    {
     "data": {
      "text/plain": [
       "4"
      ]
     },
     "execution_count": 8,
     "metadata": {},
     "output_type": "execute_result"
    }
   ],
   "source": [
    "plus(2,2)"
   ]
  },
  {
   "cell_type": "code",
   "execution_count": 9,
   "metadata": {},
   "outputs": [
    {
     "data": {
      "text/plain": [
       "28"
      ]
     },
     "execution_count": 9,
     "metadata": {},
     "output_type": "execute_result"
    }
   ],
   "source": [
    "plus(13,15)"
   ]
  },
  {
   "cell_type": "code",
   "execution_count": 10,
   "metadata": {},
   "outputs": [
    {
     "data": {
      "text/plain": [
       "160"
      ]
     },
     "execution_count": 10,
     "metadata": {},
     "output_type": "execute_result"
    }
   ],
   "source": [
    "plus(70,90)"
   ]
  },
  {
   "cell_type": "markdown",
   "metadata": {},
   "source": [
    "The last calculation takes some time, but we were able to implement a general adder."
   ]
  },
  {
   "cell_type": "markdown",
   "metadata": {},
   "source": [
    "### References\n",
    "V. Vedral, A. Barenco, A. Ekert, \"Quantum Networks for Elementary Arithmetic Operations\",  \n",
    "(Submitted on 16 Nov 1995)  \n",
    "https://arxiv.org/pdf/quant-ph/9511018.pdf"
   ]
  },
  {
   "cell_type": "markdown",
   "metadata": {},
   "source": [
    "# Subtractor\n",
    "Quantum computers have the function of being able to perform the same calculations as conventional computers. Check the circuit for Subtractor."
   ]
  },
  {
   "cell_type": "markdown",
   "metadata": {},
   "source": [
    "## What we'll learn this time\n",
    "1. Implementing Binary Subtractor Using Quantum Gates\n",
    "2. Using quantum superposition, we can realize multiple Substractor in a single circuit"
   ]
  },
  {
   "cell_type": "markdown",
   "metadata": {},
   "source": [
    "## Subtraction of binary numbers\n",
    "Subtractor uses a CCX gate to perform minus sign or a plus sign and a CX gate to perform Subtraction. In this case, we will do a quantum circuit of binary Subtraction, a-b = cd. This time, we will implement four types of Subtraction according to the values of a and b. Each Subtraction is,\n",
    "\n",
    "0-0 = 00 => 0000  \n",
    "0-1 = 11 => 0111  \n",
    "1-0 = 01 => 1001  \n",
    "1-1 = 00 => 1100  \n",
    "\n",
    "The first two qubits are the input values a and b, and the second two qubits are the output values c and d. I've built a separate circuit for the input of a and b and a circuit for the addition, and used it several times. For data input, use the X gate to flip 0 to 1."
   ]
  },
  {
   "cell_type": "markdown",
   "metadata": {},
   "source": [
    "The circuit part of the additon looks like this. * is a controlled bit.\n",
    "\n",
    "```\n",
    "a ---X---*---X---*------- a\n",
    "b -------*-------|---*--- b\n",
    "0 -------X-------|---|--- c\n",
    "0 ---------------X---X--- d\n",
    "```"
   ]
  },
  {
   "cell_type": "code",
   "execution_count": 1,
   "metadata": {},
   "outputs": [],
   "source": [
    "#import tools\n",
    "from blueqat import Circuit\n",
    "\n",
    "#subtraction part\n",
    "subtractor = Circuit().x[0].ccx[0,1,2].x[0].cx[0,3].cx[1,3]"
   ]
  },
  {
   "cell_type": "code",
   "execution_count": 2,
   "metadata": {},
   "outputs": [
    {
     "data": {
      "text/plain": [
       "Counter({'0000': 100})"
      ]
     },
     "execution_count": 2,
     "metadata": {},
     "output_type": "execute_result"
    }
   ],
   "source": [
    "#0-0\n",
    "(Circuit() + subtractor).m[:].run(shots=100)"
   ]
  },
  {
   "cell_type": "code",
   "execution_count": 3,
   "metadata": {},
   "outputs": [
    {
     "data": {
      "text/plain": [
       "Counter({'0111': 100})"
      ]
     },
     "execution_count": 3,
     "metadata": {},
     "output_type": "execute_result"
    }
   ],
   "source": [
    "#0-1\n",
    "(Circuit().x[1] + subtractor).m[:].run(shots=100)"
   ]
  },
  {
   "cell_type": "code",
   "execution_count": 4,
   "metadata": {},
   "outputs": [
    {
     "data": {
      "text/plain": [
       "Counter({'1001': 100})"
      ]
     },
     "execution_count": 4,
     "metadata": {},
     "output_type": "execute_result"
    }
   ],
   "source": [
    "#1-0\n",
    "(Circuit().x[0] + subtractor).m[:].run(shots=100)"
   ]
  },
  {
   "cell_type": "code",
   "execution_count": 5,
   "metadata": {},
   "outputs": [
    {
     "data": {
      "text/plain": [
       "Counter({'1100': 100})"
      ]
     },
     "execution_count": 5,
     "metadata": {},
     "output_type": "execute_result"
    }
   ],
   "source": [
    "#1-1\n",
    "(Circuit().x[0,1] + subtractor).m[:].run(shots=100)"
   ]
  },
  {
   "cell_type": "markdown",
   "metadata": {},
   "source": [
    "As you can see, we were able to calculate."
   ]
  },
  {
   "cell_type": "markdown",
   "metadata": {},
   "source": [
    "## subtraction using superposition\n",
    "Now, instead of filling in the data one by one with the X-gate, let's use the H-gate to do the subtraction."
   ]
  },
  {
   "cell_type": "code",
   "execution_count": 7,
   "metadata": {},
   "outputs": [
    {
     "data": {
      "text/plain": [
       "Counter({'1001': 31, '1100': 17, '0111': 23, '0000': 29})"
      ]
     },
     "execution_count": 7,
     "metadata": {},
     "output_type": "execute_result"
    }
   ],
   "source": [
    "#Use H gate as input instead of X gate\n",
    "(Circuit().h[0,1] + subtractor).m[:].run(shots=100)"
   ]
  },
  {
   "cell_type": "markdown",
   "metadata": {},
   "source": [
    "Using the Hadamal Gate, I got 4 answers, about 1/4 each. If you create a universal subtraction circuit like this, you can perform calculations using the superposition state."
   ]
  },
  {
   "cell_type": "markdown",
   "metadata": {},
   "source": [
    "## subtraction using entanglement\n",
    "Next, instead of the H-gate, we try to subtract a-b=0 using quantum entanglement."
   ]
  },
  {
   "cell_type": "code",
   "execution_count": 8,
   "metadata": {},
   "outputs": [
    {
     "data": {
      "text/plain": [
       "Counter({'0000': 42, '1100': 58})"
      ]
     },
     "execution_count": 8,
     "metadata": {},
     "output_type": "execute_result"
    }
   ],
   "source": [
    "#Make an entangled state of 00 and 11\n",
    "(Circuit().h[0].cx[0,1] + subtractor).m[:].run(shots=100)"
   ]
  },
  {
   "cell_type": "markdown",
   "metadata": {},
   "source": [
    "Since the input values 00 and 11 are entangled, the addition of these two will come out about half by half."
   ]
  },
  {
   "cell_type": "markdown",
   "metadata": {},
   "source": [
    "--------"
   ]
  },
  {
   "cell_type": "markdown",
   "metadata": {},
   "source": [
    "## Advanced: General subtraction\n",
    "It implements the subtraction of common decimal numbers to each other.  \n",
    "The subtraction circuit can be implemented by reversing the addition circuit.\n",
    "\n",
    "<img src=\"https://qiita-user-contents.imgix.net/https%3A%2F%2Fqiita-image-store.s3.ap-northeast-1.amazonaws.com%2F0%2F218694%2F489c8ea6-130c-d44b-4bae-4d86f64556c2.png?ixlib=rb-1.2.2&auto=format&gif-q=60&q=75&s=e67fbf71779fa7ebb443e93663c56dc4\">\n",
    "\n",
    "Consider the circuit from the right. Input $a, a+b$ to output $b$.  \n",
    "It can be displayed in binary numbers such as $a = a_n ... a_0$, $b = b_n ... b_0$.  \n",
    "(where n is based on the larger number.)\n",
    "\n",
    "$c_i$ is a carry down.  "
   ]
  },
  {
   "cell_type": "markdown",
   "metadata": {},
   "source": [
    "### Carry down\n",
    "\n",
    "<img src=\"https://qiita-user-contents.imgix.net/https%3A%2F%2Fqiita-image-store.s3.ap-northeast-1.amazonaws.com%2F0%2F218694%2F00361854-e782-0da0-3386-f59f668a1ada.png?ixlib=rb-1.2.2&auto=format&gif-q=60&q=75&s=58d1d41b0893b16bfb24bfd546328ff2\" width=\"60%\">\n",
    "\n",
    "The first part of the circuit combines these to obtain the carry down."
   ]
  },
  {
   "cell_type": "markdown",
   "metadata": {},
   "source": [
    "### Overflow bit\n",
    "The discrimination is given by $b_{n+1}$. This is called the overflow bit.  \n",
    "\n",
    "When $a < a+b$, $b_{n+1}$ = 0  \n",
    "When $a > a+b$, $b_{n+1}$ = 1.\n",
    "\n",
    "If $a > a+b$, $2^{n+1} - b$ will be output."
   ]
  },
  {
   "cell_type": "markdown",
   "metadata": {},
   "source": [
    "### Implementation\n",
    "\n",
    "General subtraction is:\n",
    "\n",
    "1. Using the reverse and sum circuits calculates the carry bit.  \n",
    "2. Check the overflow and store it in $b_{n+1}$.  \n",
    "3. Using the carry circuit calculate the defference.\n",
    "\n",
    "$b$ is output in $b_n ... b_0$, and $b_{n+1}$ is the overflow bit.  \n",
    "We'll prepare it for implementation. This is the same as the addition circuit."
   ]
  },
  {
   "cell_type": "code",
   "execution_count": 9,
   "metadata": {},
   "outputs": [],
   "source": [
    "from blueqat import Circuit\n",
    "\n",
    "def carry(i):\n",
    "    return Circuit().ccx[i+1,i+2,i+3].cx[i+1,i+2].ccx[i,i+2,i+3]\n",
    "\n",
    "def carry_reverse(i):\n",
    "    return Circuit().ccx[i,i+2,i+3].cx[i+1,i+2].ccx[i+1,i+2,i+3]\n",
    "\n",
    "def sum_reverse(a):\n",
    "    return Circuit().cx[a,a+2].cx[a+1,a+2]\n",
    "\n",
    "def tobinary(A):\n",
    "    return bin(A)[2:]\n",
    "\n",
    "def digits(a,b): \n",
    "     # change to the binary\n",
    "     aa = tobinary(a)  \n",
    "     bb = tobinary(b)  \n",
    "     alen = len(aa)  \n",
    "     blen = len(bb)  \n",
    "\n",
    "     # get the value n\n",
    "     maxlen = max(alen,blen) \n",
    "     if alen>blen: \n",
    "         bb = bb.zfill(alen) \n",
    "     elif blen>alen: \n",
    "         aa = aa.zfill(blen) \n",
    "\n",
    "     # mapping\n",
    "     str = '' \n",
    "     for i in range(maxlen): \n",
    "         str += '0' + aa[maxlen-i-1] + bb[maxlen-i-1] \n",
    "     str += '0' \n",
    "     return str\n",
    "\n",
    "def toX(a): \n",
    "     cir = Circuit(len(a)) \n",
    "     for i in range(len(a)): \n",
    "         if a[i] == \"1\": \n",
    "             cir += Circuit().x[i] \n",
    "     return cir\n",
    "\n",
    "def todecimal(A):\n",
    "    return int(str(A),2) \n",
    "\n",
    "def getb(result): \n",
    "     str = result[-1] \n",
    "     digi = int((len(result)-1)/3) \n",
    "     for i in range(digi): \n",
    "         str += result[-2-i*3] \n",
    "     return todecimal(str)"
   ]
  },
  {
   "cell_type": "code",
   "execution_count": 10,
   "metadata": {},
   "outputs": [],
   "source": [
    "def minus(a,ab): \n",
    "     # swap a for ab\n",
    "     c = ab\n",
    "     ab = a\n",
    "     a = c\n",
    "\n",
    "     # Mapping a binary number to a circuit\n",
    "     qubits = len(digits(a,ab)) \n",
    "     cir1 = toX(digits(a,ab)) \n",
    "     digi = int((len(digits(a,ab))-1)/3) \n",
    "\n",
    "     # first carry circuit and sum reverse circuit\n",
    "     cir4 = Circuit(qubits) \n",
    "     for i in range(digi-1): \n",
    "         cir4 += sum_reverse(i*3)\n",
    "         cir4 += carry(i*3) \n",
    "\n",
    "     # last digit\n",
    "     cir3 = sum_reverse((digi-1)*3) + Circuit(qubits).cx[-3,-2] \n",
    "\n",
    "     # Output the subtraction to bi\n",
    "     cir2 = Circuit(qubits)     \n",
    "     for i in range(digi): \n",
    "         cir2 += carry_reverse((digi-1-i)*3)\n",
    "\n",
    "     result = (cir1 + cir4 + cir3 + cir2).m[:].run(shots=1) \n",
    "     return getb(result.most_common()[0][0])"
   ]
  },
  {
   "cell_type": "markdown",
   "metadata": {},
   "source": [
    "Let's actually calculate it."
   ]
  },
  {
   "cell_type": "code",
   "execution_count": 11,
   "metadata": {},
   "outputs": [
    {
     "data": {
      "text/plain": [
       "6"
      ]
     },
     "execution_count": 11,
     "metadata": {},
     "output_type": "execute_result"
    }
   ],
   "source": [
    "minus(8,2)"
   ]
  },
  {
   "cell_type": "code",
   "execution_count": 12,
   "metadata": {},
   "outputs": [
    {
     "data": {
      "text/plain": [
       "2"
      ]
     },
     "execution_count": 12,
     "metadata": {},
     "output_type": "execute_result"
    }
   ],
   "source": [
    "minus(4,2)"
   ]
  },
  {
   "cell_type": "code",
   "execution_count": 13,
   "metadata": {},
   "outputs": [
    {
     "data": {
      "text/plain": [
       "26"
      ]
     },
     "execution_count": 13,
     "metadata": {},
     "output_type": "execute_result"
    }
   ],
   "source": [
    "minus(50,24)"
   ]
  },
  {
   "cell_type": "markdown",
   "metadata": {},
   "source": [
    "We've calculated it. Incidentally, for $a > a + b$"
   ]
  },
  {
   "cell_type": "code",
   "execution_count": 14,
   "metadata": {},
   "outputs": [
    {
     "data": {
      "text/plain": [
       "14"
      ]
     },
     "execution_count": 14,
     "metadata": {},
     "output_type": "execute_result"
    }
   ],
   "source": [
    "minus(2,4)"
   ]
  },
  {
   "cell_type": "markdown",
   "metadata": {},
   "source": [
    "This is also calculated."
   ]
  },
  {
   "cell_type": "markdown",
   "metadata": {},
   "source": [
    "### References\n",
    "V. Vedral, A. Barenco, A. Ekert, \"Quantum Networks for Elementary Arithmetic Operations\",  \n",
    "(Submitted on 16 Nov 1995)  \n",
    "https://arxiv.org/pdf/quant-ph/9511018.pdf"
   ]
  },
  {
   "cell_type": "markdown",
   "metadata": {},
   "source": [
    "# Multiplier\n",
    "Here we see at the basic multiplier circuit with adder circuit."
   ]
  },
  {
   "cell_type": "markdown",
   "metadata": {},
   "source": [
    "## About multiplier of binary number\n",
    "Basic multiplier circuit is consist of CCX for multiply 2 binary number.\n",
    "\n",
    "$$0*0=0\\\\\n",
    "0*1=0\\\\\n",
    "1*0=0\\\\\n",
    "1*1=1$$\n",
    "\n",
    "and then sum up each rank\n"
   ]
  },
  {
   "cell_type": "markdown",
   "metadata": {},
   "source": [
    "## Example\n",
    "Let's solve \n",
    "\n",
    "$$1*2 = ?$$\n",
    "\n",
    "We express this calculation on binary number as \n",
    "\n",
    "$$01*10 = 0010$$\n",
    "\n",
    "\n",
    "```\n",
    "    01\n",
    "*  10\n",
    "-------\n",
    "    00\n",
    " 01\n",
    "-------\n",
    "    0\n",
    " 0\n",
    "-------\n",
    " 0010\n",
    "  ```\n",
    "  \n",
    "Now we pepare a0,a2 as a.b0,b2 as b.\n",
    "c0,c21,c22,c4 as c the process after multiply a and b.\n",
    "z4,z8 as carry.\n",
    "and x0 to x8 as the result.\n",
    "\n",
    "<img src=\"https://github.com/mdrft/Blueqat_tutorials_ja/blob/master/docs/img/010_basic_multi01.png?raw=1\">\n"
   ]
  },
  {
   "cell_type": "code",
   "execution_count": 15,
   "metadata": {},
   "outputs": [
    {
     "data": {
      "text/plain": [
       "Counter({'00000000000000': 100})"
      ]
     },
     "execution_count": 15,
     "metadata": {},
     "output_type": "execute_result"
    }
   ],
   "source": [
    "from blueqat import Circuit\n",
    "\n",
    "C1 = Circuit().ccx[0,1,2].ccx[1,3,5].ccx[0,4,6].ccx[3,4,7].ccx[5,6,8].ccx[7,8,9].cx[2,10].cx[5,11].cx[6,11].cx[7,12].cx[8,12].cx[9,13] \n",
    "\n",
    "#00 * 00 = 0000\n",
    "(Circuit() + C1).m[:].run(shots=100)"
   ]
  },
  {
   "cell_type": "code",
   "execution_count": 16,
   "metadata": {},
   "outputs": [
    {
     "data": {
      "text/plain": [
       "Counter({'11100000001000': 100})"
      ]
     },
     "execution_count": 16,
     "metadata": {},
     "output_type": "execute_result"
    }
   ],
   "source": [
    "#01 * 01 = 0001\n",
    "(Circuit().x[0].x[1] + C1).m[:].run(shots=100)"
   ]
  },
  {
   "cell_type": "code",
   "execution_count": 17,
   "metadata": {},
   "outputs": [
    {
     "data": {
      "text/plain": [
       "Counter({'01010100000100': 100})"
      ]
     },
     "execution_count": 17,
     "metadata": {},
     "output_type": "execute_result"
    }
   ],
   "source": [
    "#10 * 01 = 0010\n",
    "(Circuit().x[3].x[1] + C1).m[:].run(shots=100)"
   ]
  },
  {
   "cell_type": "code",
   "execution_count": 18,
   "metadata": {},
   "outputs": [
    {
     "data": {
      "text/plain": [
       "Counter({'10011011000110': 100})"
      ]
     },
     "execution_count": 18,
     "metadata": {},
     "output_type": "execute_result"
    }
   ],
   "source": [
    "#11 * 10 = 0110\n",
    "(Circuit().x[0].x[3].x[4] + C1).m[:].run(shots=100)"
   ]
  },
  {
   "cell_type": "code",
   "execution_count": 19,
   "metadata": {},
   "outputs": [
    {
     "data": {
      "text/plain": [
       "Counter({'01011101000110': 100})"
      ]
     },
     "execution_count": 19,
     "metadata": {},
     "output_type": "execute_result"
    }
   ],
   "source": [
    "#10 * 11 = 0110\n",
    "(Circuit().x[1].x[3].x[4] + C1).m[:].run(shots=100)"
   ]
  },
  {
   "cell_type": "code",
   "execution_count": 20,
   "metadata": {},
   "outputs": [
    {
     "data": {
      "text/plain": [
       "Counter({'11111111111001': 100})"
      ]
     },
     "execution_count": 20,
     "metadata": {},
     "output_type": "execute_result"
    }
   ],
   "source": [
    "#11 * 11 = 1001\n",
    "(Circuit().x[0].x[1].x[3].x[4] + C1).m[:].run(shots=100) "
   ]
  },
  {
   "cell_type": "markdown",
   "metadata": {},
   "source": [
    "Now we see the result of multiplier. The array of last 4qubits shows the result."
   ]
  },
  {
   "cell_type": "markdown",
   "metadata": {},
   "source": [
    "# Modulus\n",
    "This time we'll find the modulus by using a general addition and subtraction circuit.\n",
    "\n",
    "The circuit is:\n",
    "\n",
    "<img src=\"https://qiita-user-contents.imgix.net/https%3A%2F%2Fqiita-image-store.s3.ap-northeast-1.amazonaws.com%2F0%2F218694%2Ff161e722-f727-b6fb-d02b-24e40b5b63b1.png?ixlib=rb-1.2.2&auto=format&gif-q=60&q=75&s=da298eace648814b5ccfe4affa9301ca\">\n",
    "\n",
    "$a,b$ is $0 < a,b < N$. The last bit is called the temporary bit. It checks the overflow."
   ]
  },
  {
   "cell_type": "markdown",
   "metadata": {},
   "source": [
    "## Implementation procedure\n",
    "In order to find $a+b\\mod N$, we need to compare $a+b$ and $N$.  \n",
    "\n",
    "When $a+b>N$,  \n",
    "$a+b-N = (a+b) \\mod N$\n",
    "\n",
    "When $a+b<N$, \n",
    "$a+b = (a+b) \\mod N$\n",
    "\n",
    "We will implement it in a quantum circuit.\n",
    "\n",
    "When $a+b>N$,\n",
    "\n",
    "<img src=\"https://qiita-user-contents.imgix.net/https%3A%2F%2Fqiita-image-store.s3.ap-northeast-1.amazonaws.com%2F0%2F218694%2F5c97b6fd-425b-c42b-057a-68d9cb47e457.jpeg?ixlib=rb-1.2.2&auto=format&gif-q=60&q=75&s=3711f239a543dc4aa175f4636adde888\">\n",
    "\n",
    "When $a+b<N$,\n",
    "\n",
    "<img src=\"https://qiita-user-contents.imgix.net/https%3A%2F%2Fqiita-image-store.s3.ap-northeast-1.amazonaws.com%2F0%2F218694%2Fcb7bc1bf-e713-f7d4-9cdc-4bc47bb6eba8.jpeg?ixlib=rb-1.2.2&auto=format&gif-q=60&q=75&s=425f2f86ef9d5b5c27b1c1f1ddfab936\">\n",
    "\n",
    "It uses the surplus qubits and the value of the topmost qubit of the adder to make the case.  \n",
    "If $a+b<N$, no extra bits are used and no extra operations are required."
   ]
  },
  {
   "cell_type": "markdown",
   "metadata": {},
   "source": [
    "## Example\n",
    "Let's look at a simple example.\n",
    "\n",
    "When $3 + 5 < 7$,  \n",
    "$(3 + 5) \\mod 7 = 1$\n",
    "\n",
    "When $3 + 5 > 11$,    \n",
    "$(3 + 5) \\mod 11 = 8$\n",
    "\n",
    "This is what we are trying to implement by using quantum circuits."
   ]
  },
  {
   "cell_type": "markdown",
   "metadata": {},
   "source": [
    "### Implementation\n",
    "We'll prepare it for implementation. This is the same as the addition circuit and the subtraction circuit.\n",
    "\n",
    "we will add another N to the circuit above to make the temporary bit and N correspond to each other.   \n",
    "The initial state is as follows.\n",
    "\n",
    "```\n",
    "c0 --\n",
    "a0 --\n",
    "b0 --\n",
    "c1 --\n",
    "..\n",
    "n0 --\n",
    "n1 --\n",
    "..\n",
    "t  --\n",
    "n0 --\n",
    "n1 --\n",
    "..\n",
    "```\n",
    "\n",
    "Also, each digit is $N$."
   ]
  },
  {
   "cell_type": "code",
   "execution_count": 21,
   "metadata": {},
   "outputs": [],
   "source": [
    "from blueqat import Circuit\n",
    "\n",
    "def carry(a):\n",
    "    return Circuit().ccx[a+1,a+2,a+3].cx[a+1,a+2].ccx[a,a+2,a+3]\n",
    "\n",
    "def carry_reverse(a):\n",
    "    return Circuit().ccx[a,a+2,a+3].cx[a+1,a+2].ccx[a+1,a+2,a+3]\n",
    "\n",
    "def sum(a):\n",
    "    return Circuit().cx[a+1,a+2].cx[a,a+2] \n",
    "\n",
    "def sum_reverse(a):\n",
    "    return Circuit().cx[a,a+2].cx[a+1,a+2]\n",
    "\n",
    "def tobinary(A):\n",
    "    return bin(A)[2:] \n",
    "\n",
    "# get the digit number\n",
    "def digits2(a,b,n): \n",
    "     aa = tobinary(a)  \n",
    "     bb = tobinary(b)  \n",
    "     nn = tobinary(n)  \n",
    "\n",
    "     nlen = len(nn)  \n",
    "     aa = aa.zfill(nlen) \n",
    "     bb = bb.zfill(nlen) \n",
    "\n",
    "     str = '' \n",
    "     for i in range(nlen): \n",
    "         str += '0' + aa[nlen-i-1] + bb[nlen-i-1] \n",
    "     str += '0' \n",
    "\n",
    "     for i in range(nlen): \n",
    "         str += nn[nlen-i-1]  \n",
    "\n",
    "     str += '0'\n",
    "\n",
    "     for i in range(nlen): \n",
    "        str += nn[nlen-i-1]\n",
    "\n",
    "     return str\n",
    "\n",
    "# initial states\n",
    "def toX(a): \n",
    "     cir = Circuit(len(a)) \n",
    "     for i in range(len(a)): \n",
    "         if a[i] == \"1\": \n",
    "             cir += Circuit().x[i] \n",
    "     return cir\n",
    "\n",
    "# adder\n",
    "def plus(a,b,n): \n",
    "     qubits = len(digits2(a,b,n))\n",
    "     digi = len(tobinary(n))\n",
    "\n",
    "     cir2 = Circuit(qubits)     \n",
    "     for i in range(digi): \n",
    "         cir2 += carry(i*3) \n",
    "\n",
    "     cir3 = Circuit(qubits).cx[(digi-1)*3+1,(digi-1)*3+2] + sum((digi-1)*3)\n",
    "\n",
    "     cir4 = Circuit(qubits) \n",
    "     for i in range(digi-1): \n",
    "         cir4 += carry_reverse((digi-i-2)*3) \n",
    "         cir4 += sum((digi-i-2)*3)\n",
    "\n",
    "     cir_plus = cir2 + cir3 + cir4\n",
    "     return cir_plus\n",
    "\n",
    "# adder_inverse\n",
    "def minus(a,ab,n): \n",
    "     qubits = len(digits2(a,ab,n))\n",
    "     digi = len(tobinary(n))\n",
    "\n",
    "     cir4 = Circuit(qubits) \n",
    "     for i in range(digi-1): \n",
    "         cir4 += sum_reverse(i*3)\n",
    "         cir4 += carry(i*3) \n",
    "\n",
    "     cir3 = sum_reverse((digi-1)*3) + Circuit(qubits).cx[(digi-1)*3+1,(digi-1)*3+2] \n",
    "\n",
    "     cir2 = Circuit(qubits)     \n",
    "     for i in range(digi): \n",
    "         cir2 += carry_reverse((digi-1-i)*3) \n",
    "\n",
    "     cir_minus = cir4 + cir3 + cir2\n",
    "     return cir_minus\n",
    "\n",
    "# swap a and N\n",
    "def swap(n):\n",
    "    digi = len(tobinary(n))\n",
    "    cir = Circuit(5*digi+2)\n",
    "    for i in range(digi):\n",
    "        cir += Circuit(5*digi+2).swap[3*i+1,3*digi+1+i]\n",
    "    return cir\n",
    "\n",
    "# to decimal number\n",
    "def todecimal(A):\n",
    "    return int(str(A),2) \n",
    "\n",
    "# get b from the circuit\n",
    "def getb(result,n): \n",
    "     str = \"\"\n",
    "     digi = len(tobinary(n)) \n",
    "     for i in range(digi): \n",
    "         str += result[3*(digi-i)-1]\n",
    "     return todecimal(str)"
   ]
  },
  {
   "cell_type": "markdown",
   "metadata": {},
   "source": [
    "### General circuit"
   ]
  },
  {
   "cell_type": "code",
   "execution_count": 22,
   "metadata": {},
   "outputs": [],
   "source": [
    "def adder_mod(a,b,n):\n",
    "    digi = len(tobinary(n))\n",
    "\n",
    "    # first part\n",
    "    part1 = toX(digits2(a,b,n)) + plus(a,b,n) + swap(n) + minus(a,b,n)\n",
    "\n",
    "    # set the overflow to a temporary bit\n",
    "    part2 = Circuit(5*digi+2).x[digi*3].cx[digi*3,digi*4+1].x[digi*3]\n",
    "\n",
    "    # returns N from a temporary bit.\n",
    "    part3 = Circuit(5*digi+2)\n",
    "    for i in range(digi):\n",
    "        part3 += Circuit(5*digi+2).ccx[4*digi+2+i,4*digi+1,3*i+1]\n",
    "\n",
    "    # last part\n",
    "    part4 = minus(a,b,n)+Circuit(5*digi+2).cx[digi*3,digi*4+1]+plus(a,b,n)\n",
    "    \n",
    "    result = (part1+part2+part3+plus(a,b,n)+part3+swap(n)+part4).m[:].run(shots=1)\n",
    "    return getb(result.most_common()[0][0],n)"
   ]
  },
  {
   "cell_type": "markdown",
   "metadata": {},
   "source": [
    "Let's actually calculate it."
   ]
  },
  {
   "cell_type": "code",
   "execution_count": 23,
   "metadata": {},
   "outputs": [
    {
     "data": {
      "text/plain": [
       "2"
      ]
     },
     "execution_count": 23,
     "metadata": {},
     "output_type": "execute_result"
    }
   ],
   "source": [
    "adder_mod(4,3,5)"
   ]
  },
  {
   "cell_type": "code",
   "execution_count": 24,
   "metadata": {},
   "outputs": [
    {
     "data": {
      "text/plain": [
       "3"
      ]
     },
     "execution_count": 24,
     "metadata": {},
     "output_type": "execute_result"
    }
   ],
   "source": [
    "adder_mod(4,4,5)"
   ]
  },
  {
   "cell_type": "code",
   "execution_count": 25,
   "metadata": {},
   "outputs": [
    {
     "data": {
      "text/plain": [
       "0"
      ]
     },
     "execution_count": 25,
     "metadata": {},
     "output_type": "execute_result"
    }
   ],
   "source": [
    "adder_mod(1,5,6)"
   ]
  },
  {
   "cell_type": "markdown",
   "metadata": {},
   "source": [
    "We've calculated it."
   ]
  },
  {
   "cell_type": "code",
   "execution_count": null,
   "metadata": {},
   "outputs": [],
   "source": []
  }
 ],
 "metadata": {
  "colab": {
   "collapsed_sections": [],
   "name": "008_basic_general.ipynb",
   "provenance": [],
   "version": "0.3.2"
  },
  "kernelspec": {
   "display_name": "Python 3",
   "language": "python",
   "name": "python3"
  },
  "language_info": {
   "codemirror_mode": {
    "name": "ipython",
    "version": 3
   },
   "file_extension": ".py",
   "mimetype": "text/x-python",
   "name": "python",
   "nbconvert_exporter": "python",
   "pygments_lexer": "ipython3",
   "version": "3.8.4"
  }
 },
 "nbformat": 4,
 "nbformat_minor": 4
}
