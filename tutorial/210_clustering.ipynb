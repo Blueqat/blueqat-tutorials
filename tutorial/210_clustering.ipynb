{
 "cells": [
  {
   "cell_type": "markdown",
   "metadata": {},
   "source": [
    "# Clustering\n",
    "We handle clustering ploblem as an optimization problem.\n",
    "\n",
    "## What you will learn\n",
    "1. Clustering by annealing\n",
    "2. Clustering by QAOA\n",
    "\n",
    "## Install Blueqat"
   ]
  },
  {
   "cell_type": "code",
   "execution_count": 1,
   "metadata": {},
   "outputs": [
    {
     "name": "stdout",
     "output_type": "stream",
     "text": [
      "Requirement already satisfied: blueqat in /Users/ryunagai/virtualenvs/blueqat/lib/python3.8/site-packages (0.4.2)\n",
      "Requirement already satisfied: scipy>=1.1.0 in /Users/ryunagai/virtualenvs/blueqat/lib/python3.8/site-packages (from blueqat) (1.6.1)\n",
      "Requirement already satisfied: numpy~=1.12 in /Users/ryunagai/virtualenvs/blueqat/lib/python3.8/site-packages (from blueqat) (1.19.5)\n",
      "\u001b[33mWARNING: You are using pip version 19.2.3, however version 21.0.1 is available.\n",
      "You should consider upgrading via the 'pip install --upgrade pip' command.\u001b[0m\n"
     ]
    }
   ],
   "source": [
    "!pip install blueqat"
   ]
  },
  {
   "cell_type": "markdown",
   "metadata": {},
   "source": [
    "## Overview\n",
    "Clustering is the classification of a large number of data with different values into a number of clusters.  \n",
    "By classifying data with similar characteristics into the same cluster, it is possible to group them, which is used for marketing and other purposes.\n",
    "\n",
    "## Example\n",
    "\n",
    "### Clustering by annealing\n",
    "Consider the case where four points (nodes) are divided into two clusters.  \n",
    "\n",
    "First we have a pair of qubits set $q_0,q_1,q_2,q_3$ and $q_4,q_5,q_6,q_7$ that represent two clusters.  \n",
    "$q_0$ and $q_4$, $q_1$ and $q_5$, $q_2$ and $q_6$, $q_3$ and $q_7$ each represent the same node, and the qubit representing the cluster to which the node belongs will have the value 1, while the qubit representing the cluster to which it does not belong will have the value 0. \n",
    "For example, if node 0 belongs to cluster 1, then $q_0 = 1, q_4 = 0$, and if node 0 belongs to cluster 2, then $q_0 = 0, q_4 = 1$.  \n",
    "Therefore, the required number of qubits is $4\\times2=8$."
   ]
  },
  {
   "cell_type": "markdown",
   "metadata": {},
   "source": [
    "Set the cost function so that the sum of the distances between the nodes in same cluster become small.\n",
    "\n",
    "$$\n",
    "Cost = \\sum d_{ij} q_i q_j\\ \\ \\ \\ (q_i \\in \\{0, 1\\})\n",
    "$$\n",
    "\n",
    "$d_{ij}$ is the distance between nodes $i$ and $j$.\n",
    "\n",
    "The constraint is set so that only one of the qubits representing the same node will be 1 and the rest will be 0.\n",
    "$$\n",
    "Constraint = \\sum(\\sum_{i}^n q_i - 1)^2\n",
    "$$"
   ]
  },
  {
   "cell_type": "markdown",
   "metadata": {},
   "source": [
    "The following is an implementation by blueqat."
   ]
  },
  {
   "cell_type": "code",
   "execution_count": 28,
   "metadata": {},
   "outputs": [],
   "source": [
    "import numpy as np\n",
    "import pandas as pd\n",
    "import networkx as nx\n",
    "from blueqat.wq import *\n",
    "import matplotlib.pyplot as plt\n",
    "%matplotlib inline"
   ]
  },
  {
   "cell_type": "markdown",
   "metadata": {},
   "source": [
    "First, we create the data. This time, we will divide the 4 nodes into 2 clusters."
   ]
  },
  {
   "cell_type": "code",
   "execution_count": 4,
   "metadata": {},
   "outputs": [
    {
     "name": "stdout",
     "output_type": "stream",
     "text": [
      "nodes 4\n",
      "clusters 2\n",
      "qubits 8\n"
     ]
    }
   ],
   "source": [
    "n_node = 4\n",
    "n_cluster = 2\n",
    "N = n_node*n_cluster\n",
    "\n",
    "print('nodes',n_node)\n",
    "print('clusters',n_cluster)\n",
    "print('qubits',N)"
   ]
  },
  {
   "cell_type": "markdown",
   "metadata": {},
   "source": [
    "Prepare the data with the coordinates set by random numbers.  \n",
    "This time, we will generate four data points with two-dimensional coordinates $(x, y)$."
   ]
  },
  {
   "cell_type": "code",
   "execution_count": 9,
   "metadata": {},
   "outputs": [
    {
     "data": {
      "text/html": [
       "<div>\n",
       "<style scoped>\n",
       "    .dataframe tbody tr th:only-of-type {\n",
       "        vertical-align: middle;\n",
       "    }\n",
       "\n",
       "    .dataframe tbody tr th {\n",
       "        vertical-align: top;\n",
       "    }\n",
       "\n",
       "    .dataframe thead th {\n",
       "        text-align: right;\n",
       "    }\n",
       "</style>\n",
       "<table border=\"1\" class=\"dataframe\">\n",
       "  <thead>\n",
       "    <tr style=\"text-align: right;\">\n",
       "      <th></th>\n",
       "      <th>x</th>\n",
       "      <th>y</th>\n",
       "    </tr>\n",
       "  </thead>\n",
       "  <tbody>\n",
       "    <tr>\n",
       "      <th>0</th>\n",
       "      <td>1.599536</td>\n",
       "      <td>6.559048</td>\n",
       "    </tr>\n",
       "    <tr>\n",
       "      <th>1</th>\n",
       "      <td>1.300268</td>\n",
       "      <td>4.159955</td>\n",
       "    </tr>\n",
       "    <tr>\n",
       "      <th>2</th>\n",
       "      <td>12.977924</td>\n",
       "      <td>-0.555037</td>\n",
       "    </tr>\n",
       "    <tr>\n",
       "      <th>3</th>\n",
       "      <td>14.496250</td>\n",
       "      <td>2.928867</td>\n",
       "    </tr>\n",
       "  </tbody>\n",
       "</table>\n",
       "</div>"
      ],
      "text/plain": [
       "           x         y\n",
       "0   1.599536  6.559048\n",
       "1   1.300268  4.159955\n",
       "2  12.977924 -0.555037\n",
       "3  14.496250  2.928867"
      ]
     },
     "execution_count": 9,
     "metadata": {},
     "output_type": "execute_result"
    }
   ],
   "source": [
    "x,y = [],[]\n",
    "\n",
    "for i in range(n_cluster):\n",
    "    x = np.append(x, np.random.normal(np.random.randint(0,n_cluster*10), 1.5, int(n_node/n_cluster)))\n",
    "    y = np.append(y, np.random.normal(np.random.randint(0,n_cluster*10), 1.5, int(n_node/n_cluster)))\n",
    "\n",
    "df = pd.DataFrame({'x':x,'y':y})\n",
    "df"
   ]
  },
  {
   "cell_type": "markdown",
   "metadata": {},
   "source": [
    "Check the distribution of the generated data points."
   ]
  },
  {
   "cell_type": "code",
   "execution_count": 10,
   "metadata": {},
   "outputs": [
    {
     "data": {
      "text/plain": [
       "<matplotlib.collections.PathCollection at 0x132efdfa0>"
      ]
     },
     "execution_count": 10,
     "metadata": {},
     "output_type": "execute_result"
    },
    {
     "data": {
      "image/png": "[encoded data removed]",
      "text/plain": [
       "<Figure size 432x288 with 1 Axes>"
      ]
     },
     "metadata": {
      "needs_background": "light"
     },
     "output_type": "display_data"
    }
   ],
   "source": [
    "#plot\n",
    "plt.scatter(df['x'], df['y'])"
   ]
  },
  {
   "cell_type": "markdown",
   "metadata": {},
   "source": [
    "Next, we will create a QUBO matrix.\n",
    "\n",
    "First, we prepare a QUBO matrix that represents a cost function based on the distance between nodes."
   ]
  },
  {
   "cell_type": "code",
   "execution_count": 11,
   "metadata": {},
   "outputs": [],
   "source": [
    "def initCost(data, n_cluster):\n",
    "    # prepare matrix which represents destances of nodes\n",
    "    n_node = len(data)\n",
    "    d = np.zeros((n_node, n_node))\n",
    "\n",
    "    # Find the distance from the X and Y coordinates of the data.\n",
    "    for i in range(0, n_node-1):\n",
    "        for j in range(i+1, n_node):\n",
    "            a = np.array([data['x'][i], data['y'][i]])\n",
    "            b = np.array([data['x'][j], data['y'][j]])\n",
    "            d[i][j] = np.linalg.norm(a-b)\n",
    "\n",
    "    # The size of the QUBO matrix is (the number of qubits, the number of qubits).\n",
    "    N = n_node*n_cluster\n",
    "    A = np.zeros((N, N))\n",
    "\n",
    "    # Duplicate and insert as many distances matrix as there are clusters.\n",
    "    for i in range(0, n_node-1):\n",
    "        for j in range(i+1, n_node):\n",
    "            for k in range(n_cluster):\n",
    "                A[i+k*n_node][j+k*n_node] = d[i][j]\n",
    "    \n",
    "    return A, d"
   ]
  },
  {
   "cell_type": "code",
   "execution_count": 12,
   "metadata": {},
   "outputs": [
    {
     "data": {
      "text/plain": [
       "array([[ 0.        ,  2.41768667, 13.41931173, 13.39788903,  0.        ,\n",
       "         0.        ,  0.        ,  0.        ],\n",
       "       [ 0.        ,  0.        , 12.59360145, 13.25328239,  0.        ,\n",
       "         0.        ,  0.        ,  0.        ],\n",
       "       [ 0.        ,  0.        ,  0.        ,  3.80038179,  0.        ,\n",
       "         0.        ,  0.        ,  0.        ],\n",
       "       [ 0.        ,  0.        ,  0.        ,  0.        ,  0.        ,\n",
       "         0.        ,  0.        ,  0.        ],\n",
       "       [ 0.        ,  0.        ,  0.        ,  0.        ,  0.        ,\n",
       "         2.41768667, 13.41931173, 13.39788903],\n",
       "       [ 0.        ,  0.        ,  0.        ,  0.        ,  0.        ,\n",
       "         0.        , 12.59360145, 13.25328239],\n",
       "       [ 0.        ,  0.        ,  0.        ,  0.        ,  0.        ,\n",
       "         0.        ,  0.        ,  3.80038179],\n",
       "       [ 0.        ,  0.        ,  0.        ,  0.        ,  0.        ,\n",
       "         0.        ,  0.        ,  0.        ]])"
      ]
     },
     "execution_count": 12,
     "metadata": {},
     "output_type": "execute_result"
    }
   ],
   "source": [
    "A,d = initCost(df, n_cluster)\n",
    "A"
   ]
  },
  {
   "cell_type": "markdown",
   "metadata": {},
   "source": [
    "Next, we prepare a QUBO matrix representing the constraints.  \n",
    "This time, we will set constraints between $q_0$ and $q_4$, $q_1$ and $q_5$, $q_2$ and $q_6$, and $q_3$ and $q_7$, respectively.  \n",
    "Since each node belongs to only one of the clusters, we set the constraint term such that it is minimized when one of the each is 1 and the another is 0, as follows\n",
    "\n",
    "$$\n",
    "(q_0+q_4 - 1)^2 = -q_0-q_4+2q_0q_4 + 1\\\\\n",
    "(q_1+q_5 - 1)^2 = -q_1-q_5+2q_1q_5 + 1\\\\\n",
    "(q_2+q_6 - 1)^2 = -q_2-q_6+2q_2q_6 + 1\\\\\n",
    "(q_3+q_7 - 1)^2 = -q_3-q_7+2q_3q_7 + 1\\\\\n",
    "$$\n",
    "\n",
    "The constant term on the right side can be ignored."
   ]
  },
  {
   "cell_type": "code",
   "execution_count": 13,
   "metadata": {},
   "outputs": [
    {
     "data": {
      "text/plain": [
       "array([[-1,  0,  0,  0,  2,  0,  0,  0],\n",
       "       [ 0, -1,  0,  0,  0,  2,  0,  0],\n",
       "       [ 0,  0, -1,  0,  0,  0,  2,  0],\n",
       "       [ 0,  0,  0, -1,  0,  0,  0,  2],\n",
       "       [ 0,  0,  0,  0, -1,  0,  0,  0],\n",
       "       [ 0,  0,  0,  0,  0, -1,  0,  0],\n",
       "       [ 0,  0,  0,  0,  0,  0, -1,  0],\n",
       "       [ 0,  0,  0,  0,  0,  0,  0, -1]])"
      ]
     },
     "execution_count": 13,
     "metadata": {},
     "output_type": "execute_result"
    }
   ],
   "source": [
    "B = np.diag([-1]*N)\n",
    "\n",
    "for i in range(n_node):\n",
    "    B[i][i+n_node] = 2\n",
    "B"
   ]
  },
  {
   "cell_type": "markdown",
   "metadata": {},
   "source": [
    "Finally, add the two QUBO matrices together.  \n",
    "Here, the hyperparameter $M$, which represents the strength of the constraint, is applied to the constraint QUBO as a weight. \n",
    "\n",
    "If $M$ is too small, there is a high possibility of getting a solution that does not satisfy the constraints.  \n",
    "On the other hand, if $M$ is too large, the constraint is easily satisfied, but the minimization of the cost function is difficult, and the possibility of obtaining the optimal solution is low.\n",
    "\n",
    "Let's also check the network diagram of the QUBO matrix we have created.  \n",
    "Each point on the network diagram represents a qubit $q_i$, and the edges connecting the points mean that there is an interaction between $q_i$ and $q_j$."
   ]
  },
  {
   "cell_type": "code",
   "execution_count": 14,
   "metadata": {},
   "outputs": [
    {
     "data": {
      "image/png": "[encoded data removed]",
      "text/plain": [
       "<Figure size 432x288 with 1 Axes>"
      ]
     },
     "metadata": {},
     "output_type": "display_data"
    }
   ],
   "source": [
    "# prepare QUBO\n",
    "M = 1\n",
    "qubo = A+B*M\n",
    "\n",
    "# Check network diagram\n",
    "G = nx.from_numpy_matrix(qubo)\n",
    "nx.draw_networkx(G)\n",
    "plt.show()"
   ]
  },
  {
   "cell_type": "markdown",
   "metadata": {},
   "source": [
    "Set the value of $M$ again, and find the optimal solution by annealing."
   ]
  },
  {
   "cell_type": "code",
   "execution_count": 15,
   "metadata": {},
   "outputs": [
    {
     "data": {
      "text/plain": [
       "[0, 0, 1, 1, 1, 1, 0, 0]"
      ]
     },
     "execution_count": 15,
     "metadata": {},
     "output_type": "execute_result"
    }
   ],
   "source": [
    "M = 10\n",
    "qubo = A+B*M\n",
    "\n",
    "a = Opt()\n",
    "a.qubo = qubo\n",
    "res = a.run()\n",
    "\n",
    "res"
   ]
  },
  {
   "cell_type": "markdown",
   "metadata": {},
   "source": [
    "Let's check the calculation results.  \n",
    "The result obtained shows the optimal solution for $[q_0, q_1, ... , q_7]$.  \n",
    "To check the cluster classification, it is enough to look at the first half, $q_0$ to $q_3$.  \n",
    "Let's color　code the points according to the cluster they belong to."
   ]
  },
  {
   "cell_type": "code",
   "execution_count": 16,
   "metadata": {},
   "outputs": [
    {
     "data": {
      "text/plain": [
       "<matplotlib.collections.PathCollection at 0x132ff1520>"
      ]
     },
     "execution_count": 16,
     "metadata": {},
     "output_type": "execute_result"
    },
    {
     "data": {
      "image/png": "[encoded data removed]",
      "text/plain": [
       "<Figure size 432x288 with 1 Axes>"
      ]
     },
     "metadata": {
      "needs_background": "light"
     },
     "output_type": "display_data"
    }
   ],
   "source": [
    "df['cluster'] = res[:4]\n",
    "plt.scatter(df['x'], df['y'], c=df['cluster'])"
   ]
  },
  {
   "cell_type": "markdown",
   "metadata": {},
   "source": [
    "You can see that points that are close to each other are classified into the same cluster."
   ]
  },
  {
   "cell_type": "markdown",
   "metadata": {},
   "source": [
    "### Clustering by QAOA\n",
    "\n",
    "Next, I will try to solve it by QAOA."
   ]
  },
  {
   "cell_type": "code",
   "execution_count": 18,
   "metadata": {},
   "outputs": [],
   "source": [
    "import numpy as np\n",
    "import networkx as nx\n",
    "import matplotlib.pyplot as plt\n",
    "import pandas as pd\n",
    "\n",
    "import blueqat\n",
    "from blueqat import Circuit\n",
    "from blueqat import vqe,opt\n",
    "from blueqat.pauli import X,Y,Z\n",
    "\n",
    "%matplotlib inline"
   ]
  },
  {
   "cell_type": "markdown",
   "metadata": {},
   "source": [
    "Creating a QUBO is the same as annealing.  \n",
    "However, in QAOA, in this case, the constraint term can be removed by implementing the XY mixer circuit.\n",
    "\n",
    "The $XY$ mixer performs a time evolution by the following matrix $H_{XY}$.  \n",
    "\n",
    "$$\n",
    "H_{XY} = (X_0 X_1 + Y_0 Y_1)/2 = \\begin{pmatrix}\n",
    "0 & 0 & 0 & 0 \\\\\n",
    "0 & 0 & 1 & 0 \\\\\n",
    "0 & 1 & 0 & 0 \\\\\n",
    "0 & 0 & 0 & 0\n",
    "\\end{pmatrix}\n",
    "$$\n",
    "\n",
    "The time evolution is represented by the following two-qubit gate $U_{XY}$.\n",
    "\n",
    "$$\n",
    "U_{XY} = e^{-i\\theta H_{XY}} = \\begin{pmatrix}\n",
    "0 & 0 & 0 & 0 \\\\\n",
    "0 & \\cos\\theta & -i\\sin\\theta & 0 \\\\\n",
    "0 & -i\\sin\\theta & \\cos\\theta & 0 \\\\\n",
    "0 & 0 & 0 & 0\n",
    "\\end{pmatrix}\n",
    "$$\n",
    "\n",
    "The amplitude is exchanged between the two states $\\lvert 01\\rangle$ and $\\lvert 10\\rangle$.   \n",
    "Therefore, if we prepare a superposition of $\\lvert 01\\rangle$ and $\\lvert 10\\rangle$ as initial states and apply $U_{XY}$, we can search only between the two states of $\\lvert 01\\rangle$ and $\\lvert 10\\rangle$ while keeping the amplitudes of $\\lvert 00\\rangle$ and $\\lvert 11\\rangle$, which do not satisfy the constraint conditions, at zero.   \n",
    "This means that constraints can be removed from QUBO because solutions that do not satisfy the constraints will not be explored.\n",
    "\n",
    "Thus, the QUBO matrix consists only of the cost function.  \n",
    "Expressed in a network diagram, we can see that there are fewer edges than when the constraint term was included.  \n",
    "This means that the problem becomes simpler with fewer interactions."
   ]
  },
  {
   "cell_type": "code",
   "execution_count": 17,
   "metadata": {},
   "outputs": [
    {
     "data": {
      "image/png": "[encoded data removed]",
      "text/plain": [
       "<Figure size 432x288 with 1 Axes>"
      ]
     },
     "metadata": {},
     "output_type": "display_data"
    }
   ],
   "source": [
    "# prepare QUBO\n",
    "qubo = A\n",
    "\n",
    "# Check network diagram\n",
    "G = nx.from_numpy_matrix(qubo)\n",
    "nx.draw_networkx(G)\n",
    "plt.show()"
   ]
  },
  {
   "cell_type": "markdown",
   "metadata": {},
   "source": [
    "Implement the initial state and $XY$ mixer circuit to satisfy the constraints and execute optimization.  "
   ]
  },
  {
   "cell_type": "code",
   "execution_count": 31,
   "metadata": {},
   "outputs": [
    {
     "name": "stdout",
     "output_type": "stream",
     "text": [
      "0.5*X[0]*X[4] + 0.5*Y[0]*Y[4] + 0.5*X[1]*X[5] + 0.5*Y[1]*Y[5] + 0.5*X[2]*X[6] + 0.5*Y[2]*Y[6] + 0.5*X[3]*X[7] + 0.5*Y[3]*Y[7]\n",
      "Circuit(8).h[0].cx[0, 4].x[0].h[1].cx[1, 5].x[1].h[2].cx[2, 6].x[2].h[3].cx[3, 7].x[3]\n"
     ]
    },
    {
     "data": {
      "text/plain": [
       "(1, 1, 0, 0, 0, 0, 1, 1)"
      ]
     },
     "execution_count": 31,
     "metadata": {},
     "output_type": "execute_result"
    }
   ],
   "source": [
    "from blueqat import Circuit, vqe\n",
    "from blueqat.pauli import X, Y, X\n",
    "\n",
    "q = pauli(qubo)\n",
    "step = 2\n",
    "\n",
    "#mixer and init state\n",
    "for i in range(n_node):\n",
    "    if i==0:\n",
    "        mixer = 0.5*X[0]*X[n_node] + 0.5*Y[0]*Y[n_node]\n",
    "        init = Circuit().h[0].cx[0,n_node].x[0]\n",
    "    else:\n",
    "        mixer += 0.5*X[i]*X[i+n_node] + 0.5*Y[i]*Y[i+n_node]\n",
    "        init.h[i].cx[i,i+n_node].x[i]\n",
    "\n",
    "print(mixer)\n",
    "print(init)\n",
    "\n",
    "result = vqe.Vqe(vqe.QaoaAnsatz(q, step, init, mixer)).run()\n",
    "res_qaoa = result.most_common(1)[0][0]\n",
    "res_qaoa"
   ]
  },
  {
   "cell_type": "code",
   "execution_count": 32,
   "metadata": {},
   "outputs": [
    {
     "data": {
      "text/plain": [
       "<matplotlib.collections.PathCollection at 0x13308a4c0>"
      ]
     },
     "execution_count": 32,
     "metadata": {},
     "output_type": "execute_result"
    },
    {
     "data": {
      "image/png": "[encoded data removed]",
      "text/plain": [
       "<Figure size 432x288 with 1 Axes>"
      ]
     },
     "metadata": {
      "needs_background": "light"
     },
     "output_type": "display_data"
    }
   ],
   "source": [
    "resc = []\n",
    "\n",
    "for i in range(N):\n",
    "    if res_qaoa[i] == 1:\n",
    "        resc.append(int(i/n_node))\n",
    "\n",
    "df['cluster_qaoa'] = resc\n",
    "\n",
    "plt.scatter(df['x'], df['y'], c=df['cluster_qaoa'])"
   ]
  },
  {
   "cell_type": "markdown",
   "metadata": {},
   "source": [
    "As in the case of using annealing, we can see that close points are classified into the same cluster.\n",
    "\n",
    "From the above, we were able to perform clustering using annealing and QAOA respectively."
   ]
  },
  {
   "cell_type": "code",
   "execution_count": null,
   "metadata": {},
   "outputs": [],
   "source": []
  }
 ],
 "metadata": {
  "kernelspec": {
   "display_name": "Python 3",
   "language": "python",
   "name": "python3"
  },
  "language_info": {
   "codemirror_mode": {
    "name": "ipython",
    "version": 3
   },
   "file_extension": ".py",
   "mimetype": "text/x-python",
   "name": "python",
   "nbconvert_exporter": "python",
   "pygments_lexer": "ipython3",
   "version": "3.8.2"
  }
 },
 "nbformat": 4,
 "nbformat_minor": 4
}
