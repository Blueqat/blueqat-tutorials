{
 "cells": [
  {
   "cell_type": "markdown",
   "id": "subsequent-acrylic",
   "metadata": {},
   "source": [
    "# Quantum-Classical Hybrid Machine Learning"
   ]
  },
  {
   "cell_type": "markdown",
   "id": "interior-document",
   "metadata": {},
   "source": [
    "Quantum-classical hybrid machine learning is a kind of NISQ algorithm for machine learning using a quantum computer.  \n",
    "As the name suggests, it uses a quantum computer and a classical computer hybridly."
   ]
  },
  {
   "cell_type": "markdown",
   "id": "cheap-gregory",
   "metadata": {},
   "source": [
    "The basic idea is the same as VQE and QAOA.  \n",
    "The quantum computer and the classical computer are run alternately, and the parameter $\\theta$ that the quantum circuit has is repeatedly updated to minimize (maximize) the target quantity.\n",
    "The calculation to find the updated values of parameters is done by the classical computer.   \n",
    "\n",
    "Classical computer performs the calculations that are possible with classical calculations, and by keeping the parameters as classical data, the quantum circuit can be initialized and executed repeatedly.\n",
    "This reduces the size of the quantum circuit and makes it suitable for execution on NISQ devices.\n",
    "\n",
    "VQE and QAOA defined a Hamiltonian for the problem, and updated the parameters of the quantum circuit so that the expected value of the Hamiltonian is minimum (maximum). In contrast, in quantum-classical hybrid machine learning, a loss function that takes the measurement results of the quantum circuit as its argument is defined in the classical computer side. \n",
    "As a post-processing step, the classical computer calculates the output of the loss function and updates the parameters to minimize the loss function.  \n",
    "This eliminates the need to define a Hamiltonian and allows us to directly apply the loss function, which is widely used in machine learning.  "
   ]
  },
  {
   "cell_type": "markdown",
   "id": "several-pressing",
   "metadata": {},
   "source": [
    "The quantum circuitry that runs in a quantum computer can be divided into three major parts.  \n",
    "\n",
    "First, in the \"Data encoding\" layer, the input data for training is embedded into the quantum circuit.  \n",
    "Next, the \"Parametric quantum circuit\" layer consists of a combination of two qubit gates to entangle and a rotational gate to update the parameters. It is in this part that the probability distribution of the model is learned by updating parameters.  \n",
    "Finally, the \"Measurement\" layer measures the quantum state and passes the measurement results to the classical computer."
   ]
  },
  {
   "cell_type": "markdown",
   "id": "pursuant-halifax",
   "metadata": {},
   "source": [
    "Learning the parameters $\\theta$ of a quantum circuit is similar to learning the weight parameters in a conventional neural network.  \n",
    "Therefore, the elements necessary for successful learning are similar to those of neural networks, for example,\n",
    "\n",
    "1. How to embed data\n",
    "2. Loss function design\n",
    "3. Parameter update method\n",
    "4. Parametric quantum circuit (learning layer) design\n",
    "\n",
    "A variety of methods have been proposed and used for each of these.  \n",
    "In the following tutorials, we will show some simple learning examples using concrete models."
   ]
  },
  {
   "cell_type": "markdown",
   "id": "sixth-writer",
   "metadata": {},
   "source": [
    "### References"
   ]
  },
  {
   "cell_type": "markdown",
   "id": "passing-hands",
   "metadata": {},
   "source": [
    "Benedetti, Marcello, et al. \"Parameterized quantum circuits as machine learning models.\" Quantum Science and Technology 4.4 (2019): 043001."
   ]
  },
  {
   "cell_type": "markdown",
   "id": "854860dd-98cf-41dc-8efc-4cde7ac1bc97",
   "metadata": {},
   "source": [
    "## Numerical differentiation\n",
    "From the function $f(x)$ and the small change $h$, the derivative can be obtained numerically.\n",
    "\n",
    "$$\n",
    "\\frac{df(x)}{dx} = \\lim_{h \\rightarrow 0}\\frac{f(x+h) - f(x)}{h}\n",
    "$$\n",
    "\n",
    "For example, with $f(x) = x^2$, $h=0.1$, the derivative at $x=1$ is as follows"
   ]
  },
  {
   "cell_type": "code",
   "execution_count": 1,
   "id": "7a9f89fe-f080-4389-9616-dd62bab250c0",
   "metadata": {},
   "outputs": [
    {
     "data": {
      "text/plain": [
       "2.100000000000002"
      ]
     },
     "execution_count": 1,
     "metadata": {},
     "output_type": "execute_result"
    }
   ],
   "source": [
    "x = 1\n",
    "h = 0.1\n",
    "((x+h)**2 - x**2) / h"
   ]
  },
  {
   "cell_type": "markdown",
   "id": "0a43b84e-353e-4de8-bf58-abb0a23c81d3",
   "metadata": {},
   "source": [
    "## Partial differentiation\n",
    "In the parameterized quantum circuits often used in NISQ, many angles appear in the circuit as variable parameters.  \n",
    "Partial differentiation allows you to find the differential coefficient at a particular parameter.\n",
    "\n",
    "Partial derivative of $f(x, y)$ with respect to $x$.\n",
    "\n",
    "$$\n",
    "\\frac{\\partial f(x,y)}{\\partial x}\n",
    "$$\n",
    "\n",
    "Partial derivative of $f(x, y)$ with respect to $y$.\n",
    "\n",
    "$$\n",
    "\\frac{\\partial f(x,y)}{\\partial y}\n",
    "$$"
   ]
  },
  {
   "cell_type": "markdown",
   "id": "810112b1-cfaa-4577-993b-048f68aa409d",
   "metadata": {},
   "source": [
    "## Gradient\n",
    "The gradient is the partial derivative for each parameter written in the form of a vector.\n",
    "\n",
    "$$\n",
    "(\\frac{\\partial f(x,y)}{\\partial x},\\frac{\\partial f(x,y)}{\\partial y})\n",
    "$$\n",
    "\n",
    "The gradient is useful for finding the point where the function takes its minimum value (minimum point, minima).  \n",
    "The derivative becomes zero at the minima, and the points around them (neighborhoods) have positive or negative slopes.\n",
    "\n",
    "- If the coordinates of the current location is greater than the minimum point, the slope is positive. Therefore, subtracting the slope from the current location coordinates will bring you closer to the minimum point.\n",
    "- If the coordinate of the current location is less than the minimum point, the slope is negative. So again, subtracting the slope from the current location coordinates will bring you closer to the minimum point.\n",
    "\n",
    "From the above, we can find the minimum point by updating the current location using the gradient. The $e$ denotes the learning rate here.\n",
    "\n",
    "$$\n",
    "x' = x -e\\cdot\\frac{\\partial f(x,y)}{\\partial x}\\\\\n",
    "y' = y -e\\cdot\\frac{\\partial f(x,y)}{\\partial y}\n",
    "$$\n",
    "\n",
    "Repeat this process."
   ]
  },
  {
   "cell_type": "markdown",
   "id": "eba81d4d-6d46-403e-b396-9d2c33576367",
   "metadata": {},
   "source": [
    "## Gradient descent\n",
    "Let's try VQE with a circuit using RY gates to find the minimum expected value of a measurement."
   ]
  },
  {
   "cell_type": "code",
   "execution_count": 2,
   "id": "0459da49-bec6-4082-b2d3-6eb016b39d20",
   "metadata": {},
   "outputs": [
    {
     "name": "stdout",
     "output_type": "stream",
     "text": [
      "3.141056682249153\n"
     ]
    },
    {
     "data": {
      "image/png": "[encoded data removed]",
      "text/plain": [
       "<Figure size 432x288 with 1 Axes>"
      ]
     },
     "metadata": {
      "needs_background": "light"
     },
     "output_type": "display_data"
    }
   ],
   "source": [
    "from blueqat import Circuit\n",
    "import matplotlib.pyplot as plt\n",
    "import numpy as np\n",
    "%matplotlib inline\n",
    "\n",
    "def abs_sq(k):\n",
    "    return np.square(np.abs(k))\n",
    "\n",
    "# Z expectation value\n",
    "def exptZ(a):\n",
    "    res = Circuit().ry(a)[0].run()\n",
    "    return abs_sq(res[0]) - abs_sq(res[1])\n",
    "\n",
    "# Initail setting\n",
    "ainit = [np.random.rand()*2*np.pi]\n",
    "a = ainit.copy()\n",
    "h = 0.001\n",
    "e = 0.01\n",
    "\n",
    "# Update and logging of gradient\n",
    "for i in range(1000):\n",
    "    a.append(a[i] - e*(exptZ(a[i]+h) - exptZ(a[i]))/h)\n",
    "\n",
    "# Last value\n",
    "print(a[-1])\n",
    "\n",
    "# Plot expectation value\n",
    "plt.plot(list(map(exptZ, a)))\n",
    "plt.show()"
   ]
  },
  {
   "cell_type": "markdown",
   "id": "fea2c23b-13c4-4752-9a63-4ad0ea369e9e",
   "metadata": {},
   "source": [
    "The $Z$ measurement expectation value of one qubit is minimized when the state is $\\lvert 1\\rangle$.  \n",
    "After minimizing the expectation value, the $RY$ gate rotation angle is approximately $\\pi = 3.14... $, which changes the initial state $\\lvert 0\\rangle$ to $\\lvert 1\\rangle$.  \n",
    "From the above, we succeeded VQE."
   ]
  },
  {
   "cell_type": "markdown",
   "id": "1f11bebd-d113-44ae-9349-f1d3a080afa0",
   "metadata": {},
   "source": [
    "## Parameter shift rule\n",
    "\n",
    "Reference: arXiv:1803.00745 [quant-ph] (https://arxiv.org/abs/1803.00745)"
   ]
  },
  {
   "cell_type": "markdown",
   "id": "00d1903a-f9d9-44a3-a7fe-150f751cd563",
   "metadata": {},
   "source": [
    "Numerical differentiation with a small numerical value $h$ has a problem in running on a real quantum computer.  \n",
    "The expected value computed by a quantum computer has variance due to sampling and noise. If the small numerical value $h$ is too small, it will be buried in those variance, and if it is too large, the numerical differentiation will be inaccurate. Therefore, it is necessary to adjust $h$ as a hyperparameter.\n",
    "\n",
    "Against this background, research is also being conducted on methods for calculating the gradient in quantum computers.  \n",
    "Here we explain a typical method, \"parameter shift rule\".\n",
    "\n",
    "Think about $\\langle \\hat{B}\\rangle$, expected value of an observable $\\hat{B}$.  \n",
    "For the parameter $\\theta$ in the Pauli rotation gate $U(\\theta) = \\exp{(-i\\theta P)}\\ (P\\in \\{X, Y, Z, I\\})$, the gradient of $\\langle \\hat{B}\\rangle$ is obtained as follows  \n",
    "\n",
    "\n",
    "$$\\frac{\\partial \\langle \\hat{B}\\rangle}{\\partial \\theta} = \\frac{1}{2} \\bigl(\\langle \\hat{B}\\rangle_+ - \\langle \\hat{B}\\rangle_- \\bigr)$$\n",
    "\n",
    "$$U(\\theta + \\frac{\\pi}{2}) = \\langle \\hat{B}\\rangle_+$$\n",
    "$$U(\\theta - \\frac{\\pi}{2}) = \\langle \\hat{B}\\rangle_-$$\n",
    "\n",
    "In other words, for each parameter for which you want to find the gradient, it's sufficinet to run the $+\\frac{\\pi}{2}$ and $-\\frac{\\pi}{2}$ shifted quantum circuits and calculate the expected value, respectively.  \n",
    "Since this method uses a fixed and sufficiently large shift $\\pm\\frac{\\pi}{2}$ instead of a small change $h$, the above issue can be solved.  \n",
    "\n",
    "This can be applied to parameters $\\theta$ of, such as, $RX(\\theta)$ gate, $RY(\\theta)$ gate, and $RZ(\\theta)$ gate. By combining this with a two-qubit entangle gate, it is possible to construct a general quantum-classical hybrid machine learning circuit.\n",
    "\n",
    "The following is an example of the gradient descent method calculation from earlier again using the parameter shift rule."
   ]
  },
  {
   "cell_type": "code",
   "execution_count": 3,
   "id": "04bc0393-bd9a-4094-9702-baa352052755",
   "metadata": {},
   "outputs": [
    {
     "name": "stdout",
     "output_type": "stream",
     "text": [
      "3.1415203532716682\n"
     ]
    },
    {
     "data": {
      "image/png": "[encoded data removed]",
      "text/plain": [
       "<Figure size 432x288 with 1 Axes>"
      ]
     },
     "metadata": {
      "needs_background": "light"
     },
     "output_type": "display_data"
    }
   ],
   "source": [
    "# Initail setting\n",
    "ainit = [np.random.rand()*2*np.pi]\n",
    "a = ainit.copy()\n",
    "e = 0.01\n",
    "\n",
    "# Update and logging of gradient\n",
    "for i in range(1000):\n",
    "    grad = (exptZ(a[i]+np.pi/2) - exptZ(a[i]-np.pi/2)) / 2\n",
    "    a.append(a[i] - e*grad)\n",
    "\n",
    "# Last value\n",
    "print(a[-1])\n",
    "\n",
    "# Plot expectation value\n",
    "plt.plot(list(map(exptZ, a)))\n",
    "plt.show()"
   ]
  },
  {
   "cell_type": "markdown",
   "id": "629396bf-4587-453f-bc21-c4b1e0b7eb1f",
   "metadata": {},
   "source": [
    "## Loss function\n",
    "VQE minimizes the expected value of measurement, but in the above approach, the object of minimization does not necessarily have to be the expected value of measurement.  \n",
    "Here we will use the more general loss function. This way we can recognize it as machine learning."
   ]
  },
  {
   "cell_type": "code",
   "execution_count": 4,
   "id": "91ee655a-9df8-423e-83be-ba61ebaf00e5",
   "metadata": {},
   "outputs": [
    {
     "name": "stdout",
     "output_type": "stream",
     "text": [
      "3.373216743253407\n"
     ]
    },
    {
     "data": {
      "image/png": "[encoded data removed]",
      "text/plain": [
       "<Figure size 432x288 with 1 Axes>"
      ]
     },
     "metadata": {
      "needs_background": "light"
     },
     "output_type": "display_data"
    },
    {
     "name": "stdout",
     "output_type": "stream",
     "text": [
      "0.0007131647627978446\n"
     ]
    }
   ],
   "source": [
    "from blueqat import Circuit\n",
    "import matplotlib.pyplot as plt\n",
    "import numpy as np\n",
    "%matplotlib inline\n",
    "\n",
    "def abs_sq(k):\n",
    "    return np.square(np.abs(k))\n",
    "\n",
    "# expectation value\n",
    "def expt(a):\n",
    "    res = Circuit().ry(a)[0].run()\n",
    "    return abs_sq(res[0])-abs_sq(res[1])\n",
    "\n",
    "# loss function\n",
    "def loss(res,tar):\n",
    "    return np.square(res-tar)\n",
    "\n",
    "# derivative\n",
    "def dfx(a,h,tgt=-1):\n",
    "    return (loss(expt(a+h),tgt) - loss(expt(a),tgt))/h\n",
    "#    return (expt(a+h)-expt(a))/h\n",
    "\n",
    "# gradient\n",
    "def grad(a,h,e):\n",
    "    for i in range(1000):\n",
    "        a.append(a[i] - e*dfx(a[i],h))\n",
    "    return a\n",
    "\n",
    "# initialize\n",
    "a = [np.random.rand()*2*np.pi]\n",
    "h = 0.001\n",
    "e = 0.01\n",
    "\n",
    "ra = grad(a,h,e)\n",
    "print(ra[-1])\n",
    "\n",
    "arr = [loss(expt(i),-1) for i in ra]\n",
    "\n",
    "plt.plot(arr)\n",
    "plt.show()\n",
    "\n",
    "print(arr[-1])"
   ]
  },
  {
   "cell_type": "markdown",
   "id": "cb85785f-e45d-41ab-91db-81cbe6b0fe13",
   "metadata": {},
   "source": [
    "## momentum SGD"
   ]
  },
  {
   "cell_type": "code",
   "execution_count": 5,
   "id": "cefa7bf5-319a-427d-9f07-801e0d4e0dd2",
   "metadata": {},
   "outputs": [
    {
     "data": {
      "image/png": "[encoded data removed]",
      "text/plain": [
       "<Figure size 432x288 with 1 Axes>"
      ]
     },
     "metadata": {
      "needs_background": "light"
     },
     "output_type": "display_data"
    }
   ],
   "source": [
    "#momentum sgd\n",
    "def msgd(a,h,e,tgt,alpha):\n",
    "    p_delta = 0\n",
    "    for i in range(100):\n",
    "        update = -e*dfx(a[i],h,tgt) + alpha*p_delta\n",
    "        a.append(a[i] + update)\n",
    "        p_delta = update\n",
    "    return a\n",
    "\n",
    "#initialization\n",
    "a = ainit.copy()\n",
    "h = 0.001\n",
    "e = 0.01\n",
    "\n",
    "alpha = 0.9\n",
    "tgt = -1\n",
    "\n",
    "result = msgd(a,h,e,tgt,alpha)\n",
    "arr = [loss(expt(i),tgt) for i in result]\n",
    "\n",
    "plt.plot(arr)\n",
    "plt.show()"
   ]
  },
  {
   "cell_type": "markdown",
   "id": "b3b993a2-7c09-4d61-99cf-f5b6ccc65d18",
   "metadata": {},
   "source": [
    "## Adagrad"
   ]
  },
  {
   "cell_type": "code",
   "execution_count": 6,
   "id": "42932a82-bca7-4449-9dc6-5516380e9313",
   "metadata": {},
   "outputs": [
    {
     "data": {
      "image/png": "[encoded data removed]",
      "text/plain": [
       "<Figure size 432x288 with 1 Axes>"
      ]
     },
     "metadata": {
      "needs_background": "light"
     },
     "output_type": "display_data"
    }
   ],
   "source": [
    "def adagrad(a,h,e,tgt,epsilon):\n",
    "    G = epsilon\n",
    "    for i in range(100):\n",
    "        g = dfx(a[i],h,tgt)\n",
    "        G += g*g\n",
    "        update = -e/np.sqrt(G)*g\n",
    "        a.append(a[i] + update)\n",
    "    return a\n",
    "\n",
    "#initialization\n",
    "a = ainit.copy()\n",
    "h = 0.001\n",
    "e = 0.1\n",
    "epsilon = 1e-08\n",
    "tgt = -1\n",
    "\n",
    "result = adagrad(a,h,e,tgt,epsilon)\n",
    "arr = [loss(expt(i),tgt) for i in result]\n",
    "\n",
    "plt.plot(arr)\n",
    "plt.show()"
   ]
  },
  {
   "cell_type": "code",
   "execution_count": null,
   "id": "a71f33df-3088-4fb0-9e0e-cb469f2ff986",
   "metadata": {},
   "outputs": [],
   "source": []
  }
 ],
 "metadata": {
  "kernelspec": {
   "display_name": "Python 3",
   "language": "python",
   "name": "python3"
  },
  "language_info": {
   "codemirror_mode": {
    "name": "ipython",
    "version": 3
   },
   "file_extension": ".py",
   "mimetype": "text/x-python",
   "name": "python",
   "nbconvert_exporter": "python",
   "pygments_lexer": "ipython3",
   "version": "3.8.8"
  }
 },
 "nbformat": 4,
 "nbformat_minor": 5
}
