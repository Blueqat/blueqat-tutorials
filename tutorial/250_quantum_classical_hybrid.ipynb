{
 "cells": [
  {
   "cell_type": "markdown",
   "id": "subsequent-acrylic",
   "metadata": {},
   "source": [
    "# Quantum-Classical Hybrid Machine Learning"
   ]
  },
  {
   "cell_type": "markdown",
   "id": "interior-document",
   "metadata": {},
   "source": [
    "Quantum-classical hybrid machine learning is a kind of NISQ algorithm for machine learning using a quantum computer.  \n",
    "As the name suggests, it uses a quantum computer and a classical computer hybridly. The basic configuration is shown in the figure below."
   ]
  },
  {
   "cell_type": "markdown",
   "id": "naval-pendant",
   "metadata": {},
   "source": [
    "<img src=\"../tutorial-ja/img/250_img.png\" width=\"80%\">"
   ]
  },
  {
   "cell_type": "markdown",
   "id": "cheap-gregory",
   "metadata": {},
   "source": [
    "The basic idea is the same as VQE and QAOA.  \n",
    "The quantum computer and the classical computer are run alternately, and the parameter $\\theta$ that the quantum circuit has is repeatedly updated to minimize (maximize) the target quantity.\n",
    "The calculation to find the updated values of parameters is done by the classical computer.   \n",
    "\n",
    "Classical computer performs the calculations that are possible with classical calculations, and by keeping the parameters as classical data, the quantum circuit can be initialized and executed repeatedly.\n",
    "This reduces the size of the quantum circuit and makes it suitable for execution on NISQ devices.\n",
    "\n",
    "VQE and QAOA defined a Hamiltonian for the problem, and updated the parameters of the quantum circuit so that the expected value of the Hamiltonian is minimum (maximum). In contrast, in quantum-classical hybrid machine learning, a loss function that takes the measurement results of the quantum circuit as its argument is defined in the classical computer side. \n",
    "As a post-processing step, the classical computer calculates the output of the loss function and updates the parameters to minimize the loss function.  \n",
    "This eliminates the need to define a Hamiltonian and allows us to directly apply the loss function, which is widely used in machine learning.  "
   ]
  },
  {
   "cell_type": "markdown",
   "id": "several-pressing",
   "metadata": {},
   "source": [
    "The quantum circuitry that runs in a quantum computer can be divided into three major parts.  \n",
    "\n",
    "First, in the \"Data encoding\" layer, the input data for training is embedded into the quantum circuit.  \n",
    "Next, the \"Parametric quantum circuit\" layer consists of a combination of two qubit gates to entangle and a rotational gate to update the parameters. It is in this part that the probability distribution of the model is learned by updating parameters.  \n",
    "Finally, the \"Measurement\" layer measures the quantum state and passes the measurement results to the classical computer."
   ]
  },
  {
   "cell_type": "markdown",
   "id": "pursuant-halifax",
   "metadata": {},
   "source": [
    "Learning the parameters $\\theta$ of a quantum circuit is similar to learning the weight parameters in a conventional neural network.  \n",
    "Therefore, the elements necessary for successful learning are similar to those of neural networks, for example,\n",
    "\n",
    "1. How to embed data\n",
    "2. Loss function design\n",
    "3. Parameter update method\n",
    "4. Parametric quantum circuit (learning layer) design\n",
    "\n",
    "A variety of methods have been proposed and used for each of these.  \n",
    "In the following tutorials, we will show some simple learning examples using concrete models."
   ]
  },
  {
   "cell_type": "markdown",
   "id": "sixth-writer",
   "metadata": {},
   "source": [
    "### References"
   ]
  },
  {
   "cell_type": "markdown",
   "id": "passing-hands",
   "metadata": {},
   "source": [
    "Benedetti, Marcello, et al. \"Parameterized quantum circuits as machine learning models.\" Quantum Science and Technology 4.4 (2019): 043001."
   ]
  },
  {
   "cell_type": "code",
   "execution_count": null,
   "id": "alien-creek",
   "metadata": {},
   "outputs": [],
   "source": []
  }
 ],
 "metadata": {
  "kernelspec": {
   "display_name": "Python 3",
   "language": "python",
   "name": "python3"
  },
  "language_info": {
   "codemirror_mode": {
    "name": "ipython",
    "version": 3
   },
   "file_extension": ".py",
   "mimetype": "text/x-python",
   "name": "python",
   "nbconvert_exporter": "python",
   "pygments_lexer": "ipython3",
   "version": "3.8.2"
  }
 },
 "nbformat": 4,
 "nbformat_minor": 5
}
