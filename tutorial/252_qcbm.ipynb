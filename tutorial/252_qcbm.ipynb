{
 "cells": [
  {
   "cell_type": "markdown",
   "metadata": {},
   "source": [
    "# Quantum Circuit Born Machine (QCBM)\n",
    "The Quantum Circuit Born Machine learns generative models in machine learning using state vectors.  \n",
    "The learning circuit consists of an arbitrary rotation one qubit gates and entanglement gates."
   ]
  },
  {
   "cell_type": "markdown",
   "metadata": {},
   "source": [
    "### Generative model\n",
    "\n",
    "In the generative model, we learn to reduce the difference between the probability distribution of the model we want to learn and the probability distribution of the measurements of the quantum circuit.  \n",
    "\n",
    "For example, if you want to learn a coin with a probability of $2/3$ of showing up, the probability that the quantum circuit measure \"1\" must be $2/3$.\n",
    "\n",
    "In addition, if we want to learn the probability of each face appearing on an uneven tetrahedral dice, such as $0.2, 0.4, 0.1, 0.3$, we need to learn the output state of the quantum circuit to be, for example, $\\lvert \\psi \\rangle = \\sqrt{0.2}\\lvert 00 \\rangle + \\sqrt{0.4}\\lvert 01 \\rangle + \\sqrt{0.1}\\lvert 10 \\rangle + \\sqrt{0.3}\\lvert 11 \\rangle$."
   ]
  },
  {
   "cell_type": "markdown",
   "metadata": {},
   "source": [
    "### Cost function\n",
    "\n",
    "Such learning uses the following cost function $C(\\theta)\\ ( \\theta$: rotation angle parameter of the quantum circuit).\n",
    "\n",
    "$$\n",
    "C(\\theta) = -\\frac{1}{D}\\sum^D_{d=1}\\ln\\bigl(\\max(\\epsilon, P_{\\theta}(x^{(d)})) \\bigr)\n",
    "$$\n",
    "\n",
    "$D$: The size of dataset.  \n",
    "$P_{\\theta}(x)$: Probability of obtaining data $x$ by sampling from quantum circuit.\n",
    "\n",
    "A dataset is a fixed number of outputs from the generative model you want to learn.  \n",
    "For example, assuming the above tetrahedral dice with faces $\\{1, 2, 3, 4\\}$, the dataset consisting of 10 outputs will look like $\\{2, 4, 3, 1, 2, 2, 4, 1, 2, 4\\}$.  "
   ]
  },
  {
   "cell_type": "markdown",
   "metadata": {},
   "source": [
    "The mechanism by which the difference between distributions can be minimized by minimizing this loss function is as follows.\n",
    "\n",
    "The larger $P_{\\theta}(x^{(d)})\\ (\\leq 1)$ is, the smaller $-\\ln(P_{\\theta}(x^{(d)}))$ will be.  \n",
    "\n",
    "Therefore, if we make the output probability $P_{\\theta}(x^{(d)})$ of the quantum circuit larger for the more frequent occurrence of $x^{(d)}$ in the original data set, we can reduce the loss function.\n",
    "\n",
    "The loss function is minimized when the probability distribution of the quantum circuit output and the dataset are equal.\n",
    "\n",
    "Reasons for implementing $\\epsilon$:  \n",
    "If some data $x$ in the dataset were not included in any of the sampling results from the quantum circuit, the negative log likelihood function would be infinite. Since the number of sampling times is finite, this can happen for data that is only slightly contained in the dataset.\n",
    "To prevent this, we introduce a minute quantity $\\epsilon$."
   ]
  },
  {
   "cell_type": "markdown",
   "metadata": {},
   "source": [
    "## Implementation"
   ]
  },
  {
   "cell_type": "markdown",
   "metadata": {},
   "source": [
    "This time, as a simple example, we will let a quantum circuit learn a Gaussian distribution."
   ]
  },
  {
   "cell_type": "markdown",
   "metadata": {},
   "source": [
    "Install Blueqat."
   ]
  },
  {
   "cell_type": "code",
   "execution_count": null,
   "metadata": {},
   "outputs": [],
   "source": [
    "!pip install blueqat"
   ]
  },
  {
   "cell_type": "markdown",
   "metadata": {},
   "source": [
    "### Preparing the Data Set"
   ]
  },
  {
   "cell_type": "code",
   "execution_count": 2,
   "metadata": {},
   "outputs": [],
   "source": [
    "import numpy as np\n",
    "import matplotlib.pyplot as plt\n",
    "%matplotlib inline"
   ]
  },
  {
   "cell_type": "markdown",
   "metadata": {},
   "source": [
    "Create a data set by sampling 500 times from a Gaussian distribution.  \n",
    "In this case, we will use the frequency distribution divided into 16 parts for training, since we are training on a four-qubit circuit."
   ]
  },
  {
   "cell_type": "code",
   "execution_count": 16,
   "metadata": {},
   "outputs": [
    {
     "name": "stdout",
     "output_type": "stream",
     "text": [
      "[  4.   5.  24.  33.  72.  75. 123. 134. 141. 150.  95.  70.  34.  19.\n",
      "  11.  10.]\n"
     ]
    },
    {
     "data": {
      "image/png": "[encoded data removed]",
      "text/plain": [
       "<Figure size 432x288 with 1 Axes>"
      ]
     },
     "metadata": {
      "needs_background": "light"
     },
     "output_type": "display_data"
    }
   ],
   "source": [
    "samples = np.random.normal(0, 1, 1000)\n",
    "\n",
    "hist = plt.hist(samples, bins = 16)\n",
    "data_prob = hist[0]\n",
    "print(data_prob)"
   ]
  },
  {
   "cell_type": "markdown",
   "metadata": {},
   "source": [
    "The measurement probabilities of the 16 different outputs of the quantum circuit, from $0000$ to $1111$, correspond to the above frequency distribution.  \n",
    "That is, the measurement probabilities of $0111$ and $1000$ are the peaks of the probability distribution, and the measurement probabilities of $0000$ and $1111$ are the skirts of the probability distribution."
   ]
  },
  {
   "cell_type": "markdown",
   "metadata": {},
   "source": [
    "### Preparing the circuit\n",
    "Let's try to build a circuit with 4 qubits, using U gates and CX gates.\n",
    "\n",
    "```\n",
    "|0> --U--*--------X--[repeat]--[m]\n",
    "|0> --U--X--*-----|--[repeat]--[m]\n",
    "|0> --U-----X--*--|--[repeat]--[m]\n",
    "|0> --U--------X--*--[repeat]--[m]\n",
    "```"
   ]
  },
  {
   "cell_type": "markdown",
   "metadata": {},
   "source": [
    "The gradient descent method is used to update parameters."
   ]
  },
  {
   "cell_type": "code",
   "execution_count": 32,
   "metadata": {},
   "outputs": [
    {
     "name": "stdout",
     "output_type": "stream",
     "text": [
      "3.741895368024771\n",
      "3.551340645779678\n",
      "3.550538803210651\n",
      "3.553410688807561\n",
      "3.487287043852308\n",
      "3.3580671222747704\n",
      "3.305433900113203\n",
      "3.3228435810998014\n",
      "3.2530355768381196\n",
      "3.218985386953002\n",
      "3.2050002893505374\n",
      "3.280530716621693\n",
      "3.427056567300267\n",
      "3.239475405993254\n",
      "3.163990780007587\n",
      "3.0431840047173546\n",
      "3.05070497985069\n",
      "2.9745207370438607\n",
      "2.9444285639105323\n",
      "2.8881286965146797\n",
      "2.916350620391723\n",
      "2.892824823152307\n",
      "2.87559155267479\n",
      "2.8775749614491057\n",
      "2.897228309249292\n",
      "2.870765664516464\n",
      "2.898529460897346\n",
      "2.924744041837688\n",
      "2.9306804904879162\n",
      "2.8790694118430635\n",
      "2.851581029953341\n",
      "2.8499904151466118\n",
      "2.858918335609967\n",
      "2.851433106891149\n",
      "2.8347690910386563\n",
      "2.8541308644705485\n",
      "2.867340818470598\n",
      "2.8578511604608896\n",
      "2.8169684334146985\n",
      "2.8254749888769\n",
      "2.790633444444826\n",
      "2.774932469608608\n",
      "2.7544420704765886\n",
      "2.7510792155501016\n",
      "2.724724868947823\n",
      "2.751473474719897\n",
      "2.7233787467155057\n",
      "2.717587910013746\n",
      "2.7311284164965604\n",
      "2.7246538924434045\n",
      "2.706287309820405\n",
      "2.6974873722048214\n",
      "2.6782087385936375\n",
      "2.675077416270507\n",
      "2.6765863398131793\n",
      "2.6974492557224488\n",
      "2.7070787019073297\n",
      "2.6753378896536044\n",
      "2.704800061261783\n",
      "2.6689310185934167\n",
      "2.6687771810057357\n",
      "2.6724746366873946\n",
      "2.66515413261223\n",
      "2.681294780365299\n",
      "2.6886497591475704\n",
      "2.6641980089965087\n",
      "2.6694584375295465\n",
      "2.6802077672171025\n",
      "2.674985365355299\n",
      "2.679748657457085\n",
      "2.6703822197994174\n",
      "2.6445890590648067\n",
      "2.6437592262824605\n",
      "2.6595069910133193\n",
      "2.6603630622136163\n",
      "2.660384102823825\n",
      "2.6589943887074967\n",
      "2.6781798568237316\n",
      "2.6518440926369005\n",
      "2.6516867952882253\n",
      "2.642529512113435\n",
      "2.659521424098032\n",
      "2.6560718991869336\n",
      "2.662298080673987\n",
      "2.654413306345456\n",
      "2.6364759132384026\n",
      "2.6335651336048764\n",
      "2.6550404304053936\n",
      "2.6463924093061832\n",
      "2.646005688500927\n",
      "2.637380518656228\n",
      "2.627506481535819\n",
      "2.614807660452266\n",
      "2.63634364043193\n",
      "2.6170547359038796\n",
      "2.594162158709866\n",
      "2.6443086306163246\n",
      "2.6226811080264043\n",
      "2.6530976131079997\n",
      "2.674506342945394\n"
     ]
    },
    {
     "data": {
      "image/png": "[encoded data removed]",
      "text/plain": [
       "<Figure size 432x288 with 1 Axes>"
      ]
     },
     "metadata": {
      "needs_background": "light"
     },
     "output_type": "display_data"
    },
    {
     "name": "stdout",
     "output_type": "stream",
     "text": [
      "1533.2901310920715\n"
     ]
    }
   ],
   "source": [
    "from blueqat import Circuit\n",
    "import time\n",
    "\n",
    "np.random.seed(30)\n",
    "\n",
    "#initial parameters\n",
    "param_init = [np.random.rand()*np.pi*2 for i in range(36)]\n",
    "\n",
    "#1qubit state preparation\n",
    "def arbi(para):\n",
    "    circ1 = Circuit()\n",
    "    circ1.u(para[0],para[1],para[2])[0]\n",
    "    circ1.u(para[3],para[4],para[5])[1]\n",
    "    circ1.u(para[6],para[7],para[8])[2]\n",
    "    circ1.u(para[9],para[10],para[11])[3]\n",
    "    return circ1\n",
    "    \n",
    "#cx loop circuit\n",
    "def loop():\n",
    "    circ2 = Circuit()\n",
    "    circ2.cx[0,1]\n",
    "    circ2.cx[1,2]\n",
    "    circ2.cx[2,3]\n",
    "    circ2.cx[3,0]\n",
    "    return circ2\n",
    "\n",
    "#QCBM circuit\n",
    "def qcbm(a):\n",
    "    u = Circuit()\n",
    "    u += arbi(a[0:12])\n",
    "    u += loop()\n",
    "    u += arbi(a[12:24])\n",
    "    u += loop()\n",
    "    u += arbi(a[24:36])\n",
    "    u += loop()\n",
    "    return u\n",
    "\n",
    "def nnl_loss(data, sampled, shots):\n",
    "    D = np.sum(data)\n",
    "    nnl_cost = 0\n",
    "    eps = (1/shots)\n",
    "    for i in range(16):\n",
    "        key = format(i, '04b')\n",
    "        prob = sampled[key] / shots\n",
    "        cost = - np.log(max(eps, prob)) / D\n",
    "        nnl_cost += cost * data[i]\n",
    "    return nnl_cost\n",
    "\n",
    "#initial parameters\n",
    "param = param_init.copy()\n",
    "\n",
    "#result list\n",
    "loss_hist = []\n",
    "\n",
    "h = 0.01\n",
    "e = 0.01\n",
    "\n",
    "#iterations\n",
    "nsteps = 100\n",
    "\n",
    "start = time.time()\n",
    "shots = 4096\n",
    "\n",
    "for i in range(nsteps):\n",
    "    c = qcbm(param)\n",
    "    res = c.m[:].run(shots = shots)\n",
    "    loss = nnl_loss(data_prob, res, shots)\n",
    "\n",
    "    print(loss)\n",
    "    loss_hist.append(loss)\n",
    "\n",
    "    new_param = [0 for i in range(len(param))]   \n",
    "    for j in range(len(param)):\n",
    "        _param = param.copy()\n",
    "        _param[j] += h\n",
    "        c = qcbm(_param)\n",
    "        res = c.m[:].run(shots = shots)\n",
    "        _loss = nnl_loss(data_prob, res, shots)\n",
    "        new_param[j] = param[j] - e*(_loss - loss)/h\n",
    "\n",
    "    param = new_param\n",
    "\n",
    "plt.plot(loss_hist)\n",
    "plt.show()\n",
    "\n",
    "print(time.time() - start)"
   ]
  },
  {
   "cell_type": "markdown",
   "metadata": {},
   "source": [
    "### Confirmation of results\n",
    "\n",
    "Check your learning results.\n",
    "\n",
    "This time, we will compare the probability distribution of the quantum circuit output between the parameters before and after learning.  \n",
    "The parameters after learning should be closer to a Gaussian distribution."
   ]
  },
  {
   "cell_type": "markdown",
   "metadata": {},
   "source": [
    "parameters before learning."
   ]
  },
  {
   "cell_type": "code",
   "execution_count": null,
   "metadata": {},
   "outputs": [],
   "source": [
    "c = qcbm(param_init)\n",
    "res = c.m[:].run(shots = shots)\n",
    "\n",
    "before_learning = []\n",
    "for i in range(16):\n",
    "    key = format(i, '04b')\n",
    "    before_learning.append(res[key])"
   ]
  },
  {
   "cell_type": "markdown",
   "metadata": {},
   "source": [
    "parameters after learning."
   ]
  },
  {
   "cell_type": "code",
   "execution_count": 43,
   "metadata": {},
   "outputs": [],
   "source": [
    "c = qcbm(param)\n",
    "res = c.m[:].run(shots = shots)\n",
    "\n",
    "after_learning = []\n",
    "for i in range(16):\n",
    "    key = format(i, '04b')\n",
    "    after_learning.append(res[key])"
   ]
  },
  {
   "cell_type": "code",
   "execution_count": 50,
   "metadata": {},
   "outputs": [
    {
     "data": {
      "text/plain": [
       "Text(0.5, 1.0, 'Output distribusion from parameters before learning')"
      ]
     },
     "execution_count": 50,
     "metadata": {},
     "output_type": "execute_result"
    },
    {
     "data": {
      "image/png": "[encoded data removed]",
      "text/plain": [
       "<Figure size 432x288 with 1 Axes>"
      ]
     },
     "metadata": {
      "needs_background": "light"
     },
     "output_type": "display_data"
    }
   ],
   "source": [
    "plt.bar([i for i in range(16)], before_learning, 1)\n",
    "plt.title(\"Output distribusion from parameters before learning\")"
   ]
  },
  {
   "cell_type": "code",
   "execution_count": 51,
   "metadata": {},
   "outputs": [
    {
     "data": {
      "text/plain": [
       "Text(0.5, 1.0, 'Output distribusion from parameters after learning')"
      ]
     },
     "execution_count": 51,
     "metadata": {},
     "output_type": "execute_result"
    },
    {
     "data": {
      "image/png": "[encoded data removed]",
      "text/plain": [
       "<Figure size 432x288 with 1 Axes>"
      ]
     },
     "metadata": {
      "needs_background": "light"
     },
     "output_type": "display_data"
    }
   ],
   "source": [
    "plt.bar([i for i in range(16)], after_learning, 1)\n",
    "plt.title(\"Output distribusion from parameters after learning\")"
   ]
  },
  {
   "cell_type": "markdown",
   "metadata": {},
   "source": [
    "We can see that the distribution is closer to Gaussian after learning.  \n",
    "Although we won't pursue it this time, it is still far from a clean Gaussian distribution, so there is room for improvement in the number of parameters, training steps, and hyperparameters of the quantum circuit.\n",
    "\n",
    "Now we can learn the probability distribution by QCBM."
   ]
  },
  {
   "cell_type": "code",
   "execution_count": null,
   "metadata": {},
   "outputs": [],
   "source": []
  }
 ],
 "metadata": {
  "@webio": {
   "lastCommId": null,
   "lastKernelId": null
  },
  "kernelspec": {
   "display_name": "Python 3",
   "language": "python",
   "name": "python3"
  },
  "language_info": {
   "codemirror_mode": {
    "name": "ipython",
    "version": 3
   },
   "file_extension": ".py",
   "mimetype": "text/x-python",
   "name": "python",
   "nbconvert_exporter": "python",
   "pygments_lexer": "ipython3",
   "version": "3.8.2"
  }
 },
 "nbformat": 4,
 "nbformat_minor": 4
}
