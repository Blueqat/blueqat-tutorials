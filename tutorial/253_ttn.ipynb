{
 "cells": [
  {
   "cell_type": "markdown",
   "metadata": {},
   "source": [
    "# Quantum Machine Learning and TTN\n",
    "Let's look at the Tree Tensor Network as a model for quantum machine learning.\n",
    "\n",
    "## What you will learn\n",
    "1. TTN model\n",
    "2. Optimization"
   ]
  },
  {
   "cell_type": "markdown",
   "metadata": {},
   "source": [
    "## Install Blueqat"
   ]
  },
  {
   "cell_type": "code",
   "execution_count": 2,
   "metadata": {
    "collapsed": true
   },
   "outputs": [
    {
     "name": "stdout",
     "output_type": "stream",
     "text": [
      "Requirement already satisfied: blueqat in /home/ec2-user/anaconda3/envs/python3/lib/python3.6/site-packages (0.3.13)\n",
      "Requirement already satisfied: scipy>=1.1.0 in /home/ec2-user/anaconda3/envs/python3/lib/python3.6/site-packages (from blueqat) (1.1.0)\n",
      "Requirement already satisfied: numpy~=1.12 in /home/ec2-user/anaconda3/envs/python3/lib/python3.6/site-packages (from blueqat) (1.18.4)\n",
      "\u001b[31mdwave-cloud-client 0.7.2 has requirement click>=7.0, but you'll have click 6.7 which is incompatible.\u001b[0m\n",
      "\u001b[33mYou are using pip version 10.0.1, however version 20.1 is available.\n",
      "You should consider upgrading via the 'pip install --upgrade pip' command.\u001b[0m\n"
     ]
    }
   ],
   "source": [
    "!pip install blueqat"
   ]
  },
  {
   "cell_type": "markdown",
   "metadata": {},
   "source": [
    "The model we are going to build is called TTN. The quantum circuit is as follows.\n",
    "\n",
    "<img src=\"../tutorial-ja/img/253_img.png\" width=\"25%\">\n",
    "\n",
    "It has a shape that takes on tree structure.  \n",
    "This circuit uses a one qubit arbitrary rotation gate (a combination of $Rz$ and $Ry$ gates) and a two qubit gate ($CX$ gate).  \n",
    "More details are as follows.\n",
    "\n",
    "<img src=\"../tutorial-ja/img/253_img_2.png\" width=\"35%\">"
   ]
  },
  {
   "cell_type": "code",
   "execution_count": 1,
   "metadata": {},
   "outputs": [],
   "source": [
    "from blueqat import Circuit\n",
    "import matplotlib.pyplot as plt\n",
    "import numpy as np\n",
    "import time\n",
    "%matplotlib inline"
   ]
  },
  {
   "cell_type": "markdown",
   "metadata": {},
   "source": [
    "Configure hyperparameters and other settings."
   ]
  },
  {
   "cell_type": "code",
   "execution_count": 41,
   "metadata": {},
   "outputs": [],
   "source": [
    "np.random.seed(45)\n",
    "\n",
    "#最適化計算の回数\n",
    "nsteps = 2000\n",
    "\n",
    "#最適化する量子回路のパラメータの数\n",
    "nparams = 18\n",
    "\n",
    "#数値微分の細かさ\n",
    "h = 0.01\n",
    "\n",
    "#学習率\n",
    "e = 0.01\n",
    "\n",
    "#初期のパラメータ\n",
    "param_init = [np.random.rand()*np.pi*2 for i in range(nparams)]\n",
    "\n",
    "#結果格納用のlist\n",
    "arr = []\n",
    "\n",
    "#1なら訓練、2なら推論\n",
    "mode = 1"
   ]
  },
  {
   "cell_type": "markdown",
   "metadata": {},
   "source": [
    "We create a model of the tree structure.  \n",
    "Set upthe input to the quantum circuit and the target label for it and start learning.  \n",
    "This time, the input data can be selected by arguments."
   ]
  },
  {
   "cell_type": "code",
   "execution_count": 2,
   "metadata": {},
   "outputs": [],
   "source": [
    "def TTN_Z(a, ran, mode=1):\n",
    "    \n",
    "    # Input circuit\n",
    "    init = [Circuit(4).x[0,1], Circuit(4).x[2,3], Circuit(4).x[0], Circuit(4).x[1], Circuit(4).x[2], Circuit(4).x[0,2]]\n",
    "    # Target label\n",
    "    target = [1,1,-1,-1,-1,1]\n",
    "   \n",
    "    # Circuit construction\n",
    "    u = init[ran]\n",
    "    u.rz(a[0])[0].ry(a[1])[0].rz(a[2])[0]\n",
    "    u.rz(a[3])[1].ry(a[4])[1].rz(a[5])[1]\n",
    "    u.rz(a[6])[2].ry(a[7])[2].rz(a[8])[2]\n",
    "    u.rz(a[9])[3].ry(a[10])[3].rz(a[11])[3]\n",
    "    u.cx[0,1].cx[2,3]\n",
    "    u.rz(a[12])[1].ry(a[13])[1].rz(a[14])[1]\n",
    "    u.rz(a[15])[3].ry(a[16])[3].rz(a[17])[3]\n",
    "    u.cx[1,3]\n",
    "    \n",
    "    # Calculate expectation value from state vector\n",
    "    full = u.run()\n",
    "    expt = sum(np.abs(full[:8])**2)-sum(np.abs(full[8:])**2)\n",
    "    \n",
    "    if(mode ==1):\n",
    "        # return error between label and prediction\n",
    "        return (expt - target[ran])**2\n",
    "    else:\n",
    "        return expt"
   ]
  },
  {
   "cell_type": "markdown",
   "metadata": {},
   "source": [
    "Stochastic gradient descent (SGD) is used to learning.\n",
    "At the start of each step, the input data is randomly selected from 6 ways (0 to 5), and the gradient is calculated and the parameters are updated.\n",
    "\n",
    "In each step, the gradient calculation and parameter update are performed on only one data, but by repeating the process while randomly selecting input data, the system eventually learns to minimize the loss function for all data."
   ]
  },
  {
   "cell_type": "code",
   "execution_count": 43,
   "metadata": {},
   "outputs": [
    {
     "data": {
      "image/png": "[encoded data removed]",
      "text/plain": [
       "<Figure size 432x288 with 1 Axes>"
      ]
     },
     "metadata": {
      "needs_background": "light"
     },
     "output_type": "display_data"
    },
    {
     "name": "stdout",
     "output_type": "stream",
     "text": [
      "24.156793117523193\n"
     ]
    }
   ],
   "source": [
    "start = time.time()\n",
    "\n",
    "param = param_init.copy()\n",
    "for i in range(nsteps):\n",
    "    it = np.random.randint(0,6)\n",
    "    \n",
    "    loss = TTN_Z(param, it, mode)\n",
    "    arr.append(loss)\n",
    "    param_new = [0 for i in range(nparams)]\n",
    "    \n",
    "    for j in range(nparams):\n",
    "        _param = param.copy()\n",
    "        _param[j] += h\n",
    "        param_new[j] = param[j] - e*(TTN_Z(_param, it, mode) - loss)/h\n",
    "\n",
    "    param = param_new\n",
    "\n",
    "plt.plot(arr)\n",
    "plt.show()\n",
    "print(time.time() - start)"
   ]
  },
  {
   "cell_type": "markdown",
   "metadata": {},
   "source": [
    "It converged well.  \n",
    "Let's check it out."
   ]
  },
  {
   "cell_type": "code",
   "execution_count": 45,
   "metadata": {},
   "outputs": [
    {
     "name": "stdout",
     "output_type": "stream",
     "text": [
      "Prediction : 0.9884934363107443         Target : 1\n",
      "Prediction : 0.9842263178153033         Target : 1\n",
      "Prediction : -0.9884934363107445         Target : -1\n",
      "Prediction : -0.9862086284188133         Target : -1\n",
      "Prediction : -0.9842263178153033         Target : -1\n",
      "Prediction : 0.9865065331709494         Target : 1\n"
     ]
    }
   ],
   "source": [
    "target = [1,1,-1,-1,-1,1]\n",
    "preds = []\n",
    "for i in range(6):\n",
    "    pred = TTN_Z(param, i, mode=2)\n",
    "    preds.append(pred)\n",
    "    print(\"Prediction :\", pred, \"        Target :\", target[i])"
   ]
  },
  {
   "cell_type": "markdown",
   "metadata": {},
   "source": [
    "From the above, we were able to learn a quantum circuit using the TTN model."
   ]
  },
  {
   "cell_type": "code",
   "execution_count": null,
   "metadata": {},
   "outputs": [],
   "source": []
  }
 ],
 "metadata": {
  "kernelspec": {
   "display_name": "Python 3",
   "language": "python",
   "name": "python3"
  },
  "language_info": {
   "codemirror_mode": {
    "name": "ipython",
    "version": 3
   },
   "file_extension": ".py",
   "mimetype": "text/x-python",
   "name": "python",
   "nbconvert_exporter": "python",
   "pygments_lexer": "ipython3",
   "version": "3.8.2"
  }
 },
 "nbformat": 4,
 "nbformat_minor": 4
}
