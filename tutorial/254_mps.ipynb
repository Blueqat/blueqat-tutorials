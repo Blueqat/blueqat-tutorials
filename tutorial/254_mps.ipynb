{
 "cells": [
  {
   "cell_type": "markdown",
   "metadata": {},
   "source": [
    "# Quantum Machine Learning and MPS\n",
    "Let's look at the Tree Tensor Network as a model for quantum machine learning.\n",
    "\n",
    "## What you will learn\n",
    "1. MPS model\n",
    "2. Optimization"
   ]
  },
  {
   "cell_type": "markdown",
   "metadata": {},
   "source": [
    "## Install Blueqat"
   ]
  },
  {
   "cell_type": "code",
   "execution_count": null,
   "metadata": {},
   "outputs": [],
   "source": [
    "!pip install blueqat"
   ]
  },
  {
   "cell_type": "markdown",
   "metadata": {},
   "source": [
    "The model we are going to build is called TTN. The quantum circuit is as follows.\n",
    "\n",
    "<img src=\"../tutorial-ja/img/254_img.png\" width=\"25%\">\n",
    "\n",
    "It has a shape that takes on tree structure.  \n",
    "This circuit uses a one qubit arbitrary rotation gate (a combination of $Rz$ and $Ry$ gates) and a two qubit gate ($CX$ gate).  \n",
    "More details are as follows.\n",
    "\n",
    "<img src=\"../tutorial-ja/img/253_img_2.png\" width=\"35%\">"
   ]
  },
  {
   "cell_type": "code",
   "execution_count": 2,
   "metadata": {},
   "outputs": [],
   "source": [
    "from blueqat import Circuit\n",
    "import matplotlib.pyplot as plt\n",
    "import numpy as np\n",
    "import time\n",
    "%matplotlib inline"
   ]
  },
  {
   "cell_type": "markdown",
   "metadata": {},
   "source": [
    "Configure hyperparameters and other settings."
   ]
  },
  {
   "cell_type": "code",
   "execution_count": 13,
   "metadata": {},
   "outputs": [],
   "source": [
    "np.random.seed(45)\n",
    "\n",
    "# Number of steps of optimizetaion\n",
    "nsteps = 5000\n",
    "\n",
    "# Number of parameters of the quantum circuit to be optimized\n",
    "nparams = 18\n",
    "\n",
    "# Fineness of numerical differentiation\n",
    "h = 0.01\n",
    "\n",
    "# Learning rate\n",
    "e = 0.01\n",
    "\n",
    "# Initial parameter\n",
    "param_init = [np.random.rand() * np.pi * 2 for i in range(nparams)]\n",
    "\n",
    "# list for containing results\n",
    "arr = []\n",
    "\n",
    "# 1: train, 2: prediction\n",
    "mode = 1"
   ]
  },
  {
   "cell_type": "code",
   "execution_count": 14,
   "metadata": {},
   "outputs": [],
   "source": [
    "def mpsZ(a, ran, mode=1):\n",
    "    \n",
    "    # Input circuit\n",
    "    init = [Circuit(4).x[0,1], Circuit(4).x[2,3], Circuit(4).x[0], Circuit(4).x[1], Circuit(4).x[2], Circuit(4).x[0,2]]\n",
    "    # Target label\n",
    "    target = [1, 1, -1, -1, -1, 1]\n",
    "   \n",
    "    # Circuit construction\n",
    "    u = init[ran]\n",
    "    u.rx(a[0])[0].ry(a[1])[0].rz(a[2])[0]\n",
    "    u.rx(a[3])[1].ry(a[4])[1].rz(a[5])[1]    \n",
    "    u.rx(a[6])[2].ry(a[7])[2].rz(a[8])[2]\n",
    "    u.rz(a[9])[3].ry(a[10])[3].rz(a[11])[3]\n",
    "    u.cx[0,1]\n",
    "    u.rz(a[12])[1].ry(a[13])[1].rz(a[14])[1]\n",
    "    u.cx[1,2]\n",
    "    u.rz(a[15])[2].ry(a[16])[2].rz(a[17])[2]\n",
    "    u.cx[2,3]\n",
    "    \n",
    "    # Calculate expectation value from state vector\n",
    "    full = u.run()\n",
    "    expt = sum(np.abs(full[:8])**2) - sum(np.abs(full[8:])**2)\n",
    "    \n",
    "    if(mode ==1):\n",
    "        # return error between label and prediction\n",
    "        return (expt - target[ran]) ** 2\n",
    "    else:\n",
    "        return expt"
   ]
  },
  {
   "cell_type": "markdown",
   "metadata": {},
   "source": [
    "Stochastic gradient descent (SGD) is used to learning.\n",
    "At the start of each step, the input data is randomly selected from 6 ways (0 to 5), and the gradient is calculated and the parameters are updated.\n",
    "\n",
    "In each step, the gradient calculation and parameter update are performed on only one data, but by repeating the process while randomly selecting input data, the system eventually learns to minimize the loss function for all data."
   ]
  },
  {
   "cell_type": "code",
   "execution_count": 15,
   "metadata": {},
   "outputs": [
    {
     "data": {
      "image/png": "[encoded data removed]",
      "text/plain": [
       "<Figure size 432x288 with 1 Axes>"
      ]
     },
     "metadata": {
      "needs_background": "light"
     },
     "output_type": "display_data"
    },
    {
     "name": "stdout",
     "output_type": "stream",
     "text": [
      "55.52810287475586\n"
     ]
    }
   ],
   "source": [
    "start = time.time()\n",
    "\n",
    "param = param_init.copy()\n",
    "\n",
    "for i in range(nsteps):\n",
    "    it = np.random.randint(0,6)\n",
    "    \n",
    "    loss = mpsZ(param, it)\n",
    "    arr.append(loss)\n",
    "    param_new = [0 for i in range(nparams)]\n",
    "    \n",
    "    for j in range(nparams):\n",
    "        _param = param.copy()\n",
    "        _param[j] += h\n",
    "        param_new[j] = param[j] - e*(mpsZ(_param, it) - loss) / h\n",
    "\n",
    "    param = param_new\n",
    "\n",
    "plt.plot(arr)\n",
    "plt.show()\n",
    "print(time.time() - start)"
   ]
  },
  {
   "cell_type": "markdown",
   "metadata": {},
   "source": [
    "It converged well.  \n",
    "Let's check it out."
   ]
  },
  {
   "cell_type": "code",
   "execution_count": 16,
   "metadata": {},
   "outputs": [
    {
     "name": "stdout",
     "output_type": "stream",
     "text": [
      "Prediction : 0.9948310051705295         Target : 1\n",
      "Prediction : 0.9940603430467222         Target : 1\n",
      "Prediction : -0.9952916161147218         Target : -1\n",
      "Prediction : -0.9945209539909148         Target : -1\n",
      "Prediction : -0.9940603430467226         Target : -1\n",
      "Prediction : 0.995291616114722         Target : 1\n"
     ]
    }
   ],
   "source": [
    "target = [1,1,-1,-1,-1,1]\n",
    "preds = []\n",
    "for i in range(6):\n",
    "    pred = mpsZ(param, i, mode=2)\n",
    "    preds.append(pred)\n",
    "    print(\"Prediction :\", pred, \"        Target :\", target[i])"
   ]
  },
  {
   "cell_type": "markdown",
   "metadata": {},
   "source": [
    "From the above, we were able to learn a quantum circuit using the MPS model."
   ]
  },
  {
   "cell_type": "code",
   "execution_count": null,
   "metadata": {},
   "outputs": [],
   "source": []
  }
 ],
 "metadata": {
  "kernelspec": {
   "display_name": "Python 3",
   "language": "python",
   "name": "python3"
  },
  "language_info": {
   "codemirror_mode": {
    "name": "ipython",
    "version": 3
   },
   "file_extension": ".py",
   "mimetype": "text/x-python",
   "name": "python",
   "nbconvert_exporter": "python",
   "pygments_lexer": "ipython3",
   "version": "3.8.2"
  }
 },
 "nbformat": 4,
 "nbformat_minor": 4
}
