{
 "cells": [
  {
   "cell_type": "markdown",
   "metadata": {
    "colab_type": "text",
    "id": "Z57Y5-H3uuOV"
   },
   "source": [
    "# Combinatorial Optimization Problems on Variational Quantum Eigensolver(VQE) and QAOA"
   ]
  },
  {
   "cell_type": "markdown",
   "metadata": {
    "colab_type": "text",
    "id": "23QCMzt_u3KT"
   },
   "source": [
    "Combinatorial optimization problem is one of the usage of variational algorithm. Who want to start learning quantum-classical hybrid algorithm on quantum computing, it may be a good subject to strat.\n",
    "\n",
    "Combinatorial optimization problem is a problem to find the best solution by solving a minimized optimization problem. If you want to solve a social problem, to formulate this into a combination of binary number 0 and 1 and give some constraint on it."
   ]
  },
  {
   "cell_type": "markdown",
   "metadata": {
    "colab_type": "text",
    "id": "9Jbvpe9mu6qB"
   },
   "source": [
    "## Formulation of combinatorial optimization problem and VQE\n",
    "The formulation think the hamiltonian as a cost function for social problems and try to find the best answer from the qubits. The main step is,\n",
    "\n",
    "1. Use ising model which is a basic physics model\n",
    "2. Use combination of Z as a hamiltonian\n",
    "3. More practically we use QUBO for the formulation which is 0 and 1 instead of -1 and +1 of ising model\n",
    "\n",
    "Usually we rarely use VQE without qaoa ansatz for the combinatorial optimization problem, but this time we just set a simple 1qubit problem.\n",
    "\n",
    "```python\n",
    "h = -Z(0) - Z(0)*Z(1)\n",
    "```\n",
    "\n",
    "The number after Z is the number of qubits. Here we are using 0th qubit and 1st qubit in the quantum circuit. and the coefficients in front of Z is important.\n",
    "\n",
    "The coefficient of Z(0) is a bias.\n",
    "The coefficient of Z(0)*Z(1) is a weight.\n",
    "\n",
    "Now we have both value of -1 as each coefficient.\n",
    "\n",
    "Z takes -1 or +1 as a expectation value. If the hamiltonian h takes smaller value it will be the answer. \n",
    "\n",
    "Here we just check the whole answer in the table.\n",
    "\n",
    "Z(0) | Z(1) | h\n",
    "--:|:----:|:--\n",
    "-1|-1|0\n",
    "-1|1|2\n",
    "1|-1|0\n",
    "1|1|-2\n",
    "\n",
    "The hamiltonian takes the minimu value of -2 when Z(0)=1 and Z(1)=1. VQE solve this automatically. This time as an ansatz we used 4 parameters of a,b,c,d. a, b for the 0th qubit, and c, d for the 1st qubit.\n",
    "\n",
    "Now we check it on blueqat, first we need to install blueqat and give this code."
   ]
  },
  {
   "cell_type": "code",
   "execution_count": 1,
   "metadata": {
    "colab": {
     "base_uri": "https://localhost:8080/",
     "height": 51
    },
    "colab_type": "code",
    "id": "qIc5WG5dumej",
    "outputId": "69061199-2601-4f8d-ca3a-afcc65a354e6"
   },
   "outputs": [
    {
     "ename": "TypeError",
     "evalue": "unsupported operand type(s) for *: 'csc_matrix' and 'Counter'",
     "output_type": "error",
     "traceback": [
      "\u001b[0;31m---------------------------------------------------------------------------\u001b[0m",
      "\u001b[0;31mTypeError\u001b[0m                                 Traceback (most recent call last)",
      "Input \u001b[0;32mIn [1]\u001b[0m, in \u001b[0;36m<cell line: 19>\u001b[0;34m()\u001b[0m\n\u001b[1;32m     17\u001b[0m h \u001b[38;5;241m=\u001b[39m \u001b[38;5;241m-\u001b[39mZ(\u001b[38;5;241m0\u001b[39m) \u001b[38;5;241m-\u001b[39m Z(\u001b[38;5;241m0\u001b[39m)\u001b[38;5;241m*\u001b[39mZ(\u001b[38;5;241m1\u001b[39m)\n\u001b[1;32m     18\u001b[0m runner \u001b[38;5;241m=\u001b[39m Vqe(OneQubitAnsatz(h))\n\u001b[0;32m---> 19\u001b[0m result \u001b[38;5;241m=\u001b[39m \u001b[43mrunner\u001b[49m\u001b[38;5;241;43m.\u001b[39;49m\u001b[43mrun\u001b[49m\u001b[43m(\u001b[49m\u001b[43m)\u001b[49m\n\u001b[1;32m     21\u001b[0m \u001b[38;5;28mprint\u001b[39m(\u001b[38;5;124m'\u001b[39m\u001b[38;5;124mResult by VQE\u001b[39m\u001b[38;5;124m'\u001b[39m)\n\u001b[1;32m     22\u001b[0m \u001b[38;5;28mprint\u001b[39m(runner\u001b[38;5;241m.\u001b[39mansatz\u001b[38;5;241m.\u001b[39mget_energy_sparse(result\u001b[38;5;241m.\u001b[39mcircuit))\n",
      "File \u001b[0;32m~/anaconda3/lib/python3.9/site-packages/blueqat/vqe.py:209\u001b[0m, in \u001b[0;36mVqe.run\u001b[0;34m(self, verbose)\u001b[0m\n\u001b[1;32m    206\u001b[0m         \u001b[38;5;28;01mreturn\u001b[39;00m f\n\u001b[1;32m    208\u001b[0m     objective \u001b[38;5;241m=\u001b[39m verbose_objective(objective)\n\u001b[0;32m--> 209\u001b[0m params \u001b[38;5;241m=\u001b[39m \u001b[38;5;28;43mself\u001b[39;49m\u001b[38;5;241;43m.\u001b[39;49m\u001b[43mminimizer\u001b[49m\u001b[43m(\u001b[49m\u001b[43mobjective\u001b[49m\u001b[43m,\u001b[49m\u001b[43m \u001b[49m\u001b[38;5;28;43mself\u001b[39;49m\u001b[38;5;241;43m.\u001b[39;49m\u001b[43mansatz\u001b[49m\u001b[38;5;241;43m.\u001b[39;49m\u001b[43mn_params\u001b[49m\u001b[43m)\u001b[49m\n\u001b[1;32m    210\u001b[0m c \u001b[38;5;241m=\u001b[39m \u001b[38;5;28mself\u001b[39m\u001b[38;5;241m.\u001b[39mansatz\u001b[38;5;241m.\u001b[39mget_circuit(params)\n\u001b[1;32m    211\u001b[0m \u001b[38;5;28;01mreturn\u001b[39;00m VqeResult(\u001b[38;5;28mself\u001b[39m, params, c)\n",
      "File \u001b[0;32m~/anaconda3/lib/python3.9/site-packages/blueqat/vqe.py:225\u001b[0m, in \u001b[0;36mget_scipy_minimizer.<locals>.minimizer\u001b[0;34m(objective, n_params)\u001b[0m\n\u001b[1;32m    223\u001b[0m \u001b[38;5;28;01mdef\u001b[39;00m \u001b[38;5;21mminimizer\u001b[39m(objective, n_params):\n\u001b[1;32m    224\u001b[0m     params \u001b[38;5;241m=\u001b[39m [random\u001b[38;5;241m.\u001b[39mrandom() \u001b[38;5;28;01mfor\u001b[39;00m _ \u001b[38;5;129;01min\u001b[39;00m \u001b[38;5;28mrange\u001b[39m(n_params)]\n\u001b[0;32m--> 225\u001b[0m     result \u001b[38;5;241m=\u001b[39m \u001b[43mscipy_minimizer\u001b[49m\u001b[43m(\u001b[49m\u001b[43mobjective\u001b[49m\u001b[43m,\u001b[49m\u001b[43m \u001b[49m\u001b[43mparams\u001b[49m\u001b[43m,\u001b[49m\u001b[43m \u001b[49m\u001b[38;5;241;43m*\u001b[39;49m\u001b[38;5;241;43m*\u001b[39;49m\u001b[43mkwargs\u001b[49m\u001b[43m)\u001b[49m\n\u001b[1;32m    226\u001b[0m     \u001b[38;5;28;01mreturn\u001b[39;00m result\u001b[38;5;241m.\u001b[39mx\n",
      "File \u001b[0;32m~/anaconda3/lib/python3.9/site-packages/scipy/optimize/_minimize.py:614\u001b[0m, in \u001b[0;36mminimize\u001b[0;34m(fun, x0, args, method, jac, hess, hessp, bounds, constraints, tol, callback, options)\u001b[0m\n\u001b[1;32m    611\u001b[0m     \u001b[38;5;28;01mreturn\u001b[39;00m _minimize_neldermead(fun, x0, args, callback, bounds\u001b[38;5;241m=\u001b[39mbounds,\n\u001b[1;32m    612\u001b[0m                                 \u001b[38;5;241m*\u001b[39m\u001b[38;5;241m*\u001b[39moptions)\n\u001b[1;32m    613\u001b[0m \u001b[38;5;28;01melif\u001b[39;00m meth \u001b[38;5;241m==\u001b[39m \u001b[38;5;124m'\u001b[39m\u001b[38;5;124mpowell\u001b[39m\u001b[38;5;124m'\u001b[39m:\n\u001b[0;32m--> 614\u001b[0m     \u001b[38;5;28;01mreturn\u001b[39;00m \u001b[43m_minimize_powell\u001b[49m\u001b[43m(\u001b[49m\u001b[43mfun\u001b[49m\u001b[43m,\u001b[49m\u001b[43m \u001b[49m\u001b[43mx0\u001b[49m\u001b[43m,\u001b[49m\u001b[43m \u001b[49m\u001b[43margs\u001b[49m\u001b[43m,\u001b[49m\u001b[43m \u001b[49m\u001b[43mcallback\u001b[49m\u001b[43m,\u001b[49m\u001b[43m \u001b[49m\u001b[43mbounds\u001b[49m\u001b[43m,\u001b[49m\u001b[43m \u001b[49m\u001b[38;5;241;43m*\u001b[39;49m\u001b[38;5;241;43m*\u001b[39;49m\u001b[43moptions\u001b[49m\u001b[43m)\u001b[49m\n\u001b[1;32m    615\u001b[0m \u001b[38;5;28;01melif\u001b[39;00m meth \u001b[38;5;241m==\u001b[39m \u001b[38;5;124m'\u001b[39m\u001b[38;5;124mcg\u001b[39m\u001b[38;5;124m'\u001b[39m:\n\u001b[1;32m    616\u001b[0m     \u001b[38;5;28;01mreturn\u001b[39;00m _minimize_cg(fun, x0, args, jac, callback, \u001b[38;5;241m*\u001b[39m\u001b[38;5;241m*\u001b[39moptions)\n",
      "File \u001b[0;32m~/anaconda3/lib/python3.9/site-packages/scipy/optimize/optimize.py:3020\u001b[0m, in \u001b[0;36m_minimize_powell\u001b[0;34m(func, x0, args, callback, bounds, xtol, ftol, maxiter, maxfev, disp, direc, return_all, **unknown_options)\u001b[0m\n\u001b[1;32m   3016\u001b[0m     \u001b[38;5;28;01mif\u001b[39;00m np\u001b[38;5;241m.\u001b[39many(lower_bound \u001b[38;5;241m>\u001b[39m x0) \u001b[38;5;129;01mor\u001b[39;00m np\u001b[38;5;241m.\u001b[39many(x0 \u001b[38;5;241m>\u001b[39m upper_bound):\n\u001b[1;32m   3017\u001b[0m         warnings\u001b[38;5;241m.\u001b[39mwarn(\u001b[38;5;124m\"\u001b[39m\u001b[38;5;124mInitial guess is not within the specified bounds\u001b[39m\u001b[38;5;124m\"\u001b[39m,\n\u001b[1;32m   3018\u001b[0m                       OptimizeWarning, \u001b[38;5;241m3\u001b[39m)\n\u001b[0;32m-> 3020\u001b[0m fval \u001b[38;5;241m=\u001b[39m squeeze(\u001b[43mfunc\u001b[49m\u001b[43m(\u001b[49m\u001b[43mx\u001b[49m\u001b[43m)\u001b[49m)\n\u001b[1;32m   3021\u001b[0m x1 \u001b[38;5;241m=\u001b[39m x\u001b[38;5;241m.\u001b[39mcopy()\n\u001b[1;32m   3022\u001b[0m \u001b[38;5;28miter\u001b[39m \u001b[38;5;241m=\u001b[39m \u001b[38;5;241m0\u001b[39m\n",
      "File \u001b[0;32m~/anaconda3/lib/python3.9/site-packages/scipy/optimize/optimize.py:464\u001b[0m, in \u001b[0;36m_wrap_function.<locals>.function_wrapper\u001b[0;34m(x, *wrapper_args)\u001b[0m\n\u001b[1;32m    462\u001b[0m \u001b[38;5;28;01mdef\u001b[39;00m \u001b[38;5;21mfunction_wrapper\u001b[39m(x, \u001b[38;5;241m*\u001b[39mwrapper_args):\n\u001b[1;32m    463\u001b[0m     ncalls[\u001b[38;5;241m0\u001b[39m] \u001b[38;5;241m+\u001b[39m\u001b[38;5;241m=\u001b[39m \u001b[38;5;241m1\u001b[39m\n\u001b[0;32m--> 464\u001b[0m     \u001b[38;5;28;01mreturn\u001b[39;00m \u001b[43mfunction\u001b[49m\u001b[43m(\u001b[49m\u001b[43mnp\u001b[49m\u001b[38;5;241;43m.\u001b[39;49m\u001b[43mcopy\u001b[49m\u001b[43m(\u001b[49m\u001b[43mx\u001b[49m\u001b[43m)\u001b[49m\u001b[43m,\u001b[49m\u001b[43m \u001b[49m\u001b[38;5;241;43m*\u001b[39;49m\u001b[43m(\u001b[49m\u001b[43mwrapper_args\u001b[49m\u001b[43m \u001b[49m\u001b[38;5;241;43m+\u001b[39;49m\u001b[43m \u001b[49m\u001b[43margs\u001b[49m\u001b[43m)\u001b[49m\u001b[43m)\u001b[49m\n",
      "File \u001b[0;32m~/anaconda3/lib/python3.9/site-packages/blueqat/vqe.py:77\u001b[0m, in \u001b[0;36mAnsatzBase.get_objective.<locals>.obj_expect\u001b[0;34m(params)\u001b[0m\n\u001b[1;32m     75\u001b[0m circuit \u001b[38;5;241m=\u001b[39m \u001b[38;5;28mself\u001b[39m\u001b[38;5;241m.\u001b[39mget_circuit(params)\n\u001b[1;32m     76\u001b[0m circuit\u001b[38;5;241m.\u001b[39mmake_cache()\n\u001b[0;32m---> 77\u001b[0m \u001b[38;5;28;01mreturn\u001b[39;00m \u001b[38;5;28;43mself\u001b[39;49m\u001b[38;5;241;43m.\u001b[39;49m\u001b[43mget_energy_sparse\u001b[49m\u001b[43m(\u001b[49m\u001b[43mcircuit\u001b[49m\u001b[43m)\u001b[49m\n",
      "File \u001b[0;32m~/anaconda3/lib/python3.9/site-packages/blueqat/vqe.py:65\u001b[0m, in \u001b[0;36mAnsatzBase.get_energy_sparse\u001b[0;34m(self, circuit)\u001b[0m\n\u001b[1;32m     63\u001b[0m \u001b[38;5;28;01mdef\u001b[39;00m \u001b[38;5;21mget_energy_sparse\u001b[39m(\u001b[38;5;28mself\u001b[39m, circuit):\n\u001b[1;32m     64\u001b[0m     \u001b[38;5;124;03m\"\"\"Get energy using sparse matrix. This method may be changed in the future release.\"\"\"\u001b[39;00m\n\u001b[0;32m---> 65\u001b[0m     \u001b[38;5;28;01mreturn\u001b[39;00m \u001b[43msparse_expectation\u001b[49m\u001b[43m(\u001b[49m\u001b[38;5;28;43mself\u001b[39;49m\u001b[38;5;241;43m.\u001b[39;49m\u001b[43msparse\u001b[49m\u001b[43m,\u001b[49m\u001b[43m \u001b[49m\u001b[43mcircuit\u001b[49m\u001b[38;5;241;43m.\u001b[39;49m\u001b[43mrun\u001b[49m\u001b[43m(\u001b[49m\u001b[43m)\u001b[49m\u001b[43m)\u001b[49m\n",
      "File \u001b[0;32m~/anaconda3/lib/python3.9/site-packages/blueqat/vqe.py:366\u001b[0m, in \u001b[0;36msparse_expectation\u001b[0;34m(mat, vec)\u001b[0m\n\u001b[1;32m    355\u001b[0m \u001b[38;5;28;01mdef\u001b[39;00m \u001b[38;5;21msparse_expectation\u001b[39m(mat, vec):\n\u001b[1;32m    356\u001b[0m     \u001b[38;5;124;03m\"\"\"Calculate expectation value <vec|mat|vec>.\u001b[39;00m\n\u001b[1;32m    357\u001b[0m \n\u001b[1;32m    358\u001b[0m \u001b[38;5;124;03m    Args:\u001b[39;00m\n\u001b[0;32m   (...)\u001b[0m\n\u001b[1;32m    364\u001b[0m \u001b[38;5;124;03m        Remarks: when mat is Hermitian, <vec|mat|vec> is real.\u001b[39;00m\n\u001b[1;32m    365\u001b[0m \u001b[38;5;124;03m    \"\"\"\u001b[39;00m\n\u001b[0;32m--> 366\u001b[0m     \u001b[38;5;28;01mreturn\u001b[39;00m np\u001b[38;5;241m.\u001b[39mvdot(vec, \u001b[43mmat\u001b[49m\u001b[38;5;241;43m.\u001b[39;49m\u001b[43mdot\u001b[49m\u001b[43m(\u001b[49m\u001b[43mvec\u001b[49m\u001b[43m)\u001b[49m)\u001b[38;5;241m.\u001b[39mreal\n",
      "File \u001b[0;32m~/anaconda3/lib/python3.9/site-packages/scipy/sparse/base.py:359\u001b[0m, in \u001b[0;36mspmatrix.dot\u001b[0;34m(self, other)\u001b[0m\n\u001b[1;32m    346\u001b[0m \u001b[38;5;28;01mdef\u001b[39;00m \u001b[38;5;21mdot\u001b[39m(\u001b[38;5;28mself\u001b[39m, other):\n\u001b[1;32m    347\u001b[0m     \u001b[38;5;124;03m\"\"\"Ordinary dot product\u001b[39;00m\n\u001b[1;32m    348\u001b[0m \n\u001b[1;32m    349\u001b[0m \u001b[38;5;124;03m    Examples\u001b[39;00m\n\u001b[0;32m   (...)\u001b[0m\n\u001b[1;32m    357\u001b[0m \n\u001b[1;32m    358\u001b[0m \u001b[38;5;124;03m    \"\"\"\u001b[39;00m\n\u001b[0;32m--> 359\u001b[0m     \u001b[38;5;28;01mreturn\u001b[39;00m \u001b[38;5;28;43mself\u001b[39;49m\u001b[43m \u001b[49m\u001b[38;5;241;43m*\u001b[39;49m\u001b[43m \u001b[49m\u001b[43mother\u001b[49m\n",
      "\u001b[0;31mTypeError\u001b[0m: unsupported operand type(s) for *: 'csc_matrix' and 'Counter'"
     ]
    }
   ],
   "source": [
    "import numpy as np\n",
    "from blueqat import Circuit\n",
    "from blueqat.pauli import X, Y, Z, I\n",
    "from blueqat.vqe import AnsatzBase, Vqe\n",
    "\n",
    "class OneQubitAnsatz(AnsatzBase):\n",
    "    def __init__(self, hamiltonian):\n",
    "        super().__init__(hamiltonian.to_expr(), 4)\n",
    "        self.step = 1\n",
    "\n",
    "    def get_circuit(self, params):\n",
    "        a, b, c, d = params\n",
    "        return Circuit().ry(a)[0].rz(b)[0].ry(c)[1].rz(d)[1]\n",
    "\n",
    "\n",
    "# hamiltonian is important\n",
    "h = -Z(0) - Z(0)*Z(1)\n",
    "runner = Vqe(OneQubitAnsatz(h))\n",
    "result = runner.run()\n",
    "\n",
    "print('Result by VQE')\n",
    "print(runner.ansatz.get_energy_sparse(result.circuit))"
   ]
  },
  {
   "cell_type": "markdown",
   "metadata": {
    "colab_type": "text",
    "id": "6xNoXOE4vHUZ"
   },
   "source": [
    "Now we get -2 as the expectation value of minimum value.\n",
    "\n",
    "For practical use we usually solve much bigger problems. Now we can see this problem as a kind of classification problem which bias of Z(0) shows that Alice belongs to the group1 and weight of Z(0)*Z(1) shows that Alice and Bob belong to the same group as a kind of max-cut problem.\n",
    "\n",
    "Here we used Z for operator, now we use a technique to transform it into 01 binary number.\n"
   ]
  },
  {
   "cell_type": "markdown",
   "metadata": {
    "colab_type": "text",
    "id": "3DOTeXadvJzG"
   },
   "source": [
    "## Formulation with QUBO\n",
    "If use Z in the hamiltoinan Z takes -1 or +1 as an expectaion value. But it is little bit uncomfortable for the social problems. Usually we use 01 binary number so, we just transform hamiltonian into binary number using,\n",
    "\n",
    "$$\n",
    "q = \\frac{Z + 1}{2}\n",
    "$$\n",
    "\n",
    "This is the transform of -1 to 0 and we now can use QUBO as a formulation."
   ]
  },
  {
   "cell_type": "markdown",
   "metadata": {
    "colab_type": "text",
    "id": "cvKkwYayvOga"
   },
   "source": [
    "## QUBO programming\n",
    "Let's use qubo on blueqat. Blueqat has a function for qubo. Now we can write the qubo form as,\n",
    "\n",
    "```python\n",
    "h = -3*q(0)-3*q(1)-2*q(0)*q(1)\n",
    "```\n",
    "\n",
    "This hamiltonian obviously takes the minimum value of -8 when q(0)=1 and q(1)=1. By solving on VQE we may get the similar result."
   ]
  },
  {
   "cell_type": "code",
   "execution_count": 2,
   "metadata": {
    "colab": {
     "base_uri": "https://localhost:8080/",
     "height": 85
    },
    "colab_type": "code",
    "id": "rkYdYTbWu-F4",
    "outputId": "b3644963-3ce1-4900-e7a9-a60c44a3cb55"
   },
   "outputs": [
    {
     "ename": "TypeError",
     "evalue": "unsupported operand type(s) for *: 'csc_matrix' and 'Counter'",
     "output_type": "error",
     "traceback": [
      "\u001b[0;31m---------------------------------------------------------------------------\u001b[0m",
      "\u001b[0;31mTypeError\u001b[0m                                 Traceback (most recent call last)",
      "Input \u001b[0;32mIn [2]\u001b[0m, in \u001b[0;36m<cell line: 19>\u001b[0;34m()\u001b[0m\n\u001b[1;32m     17\u001b[0m h \u001b[38;5;241m=\u001b[39m h\u001b[38;5;241m.\u001b[39mto_expr()\u001b[38;5;241m.\u001b[39msimplify()\n\u001b[1;32m     18\u001b[0m runner \u001b[38;5;241m=\u001b[39m Vqe(QubitAnsatz(h))\n\u001b[0;32m---> 19\u001b[0m result \u001b[38;5;241m=\u001b[39m \u001b[43mrunner\u001b[49m\u001b[38;5;241;43m.\u001b[39;49m\u001b[43mrun\u001b[49m\u001b[43m(\u001b[49m\u001b[43m)\u001b[49m\n\u001b[1;32m     21\u001b[0m \u001b[38;5;28mprint\u001b[39m(\u001b[38;5;124m'\u001b[39m\u001b[38;5;124mResult by VQE\u001b[39m\u001b[38;5;124m'\u001b[39m)\n\u001b[1;32m     22\u001b[0m \u001b[38;5;28mprint\u001b[39m(runner\u001b[38;5;241m.\u001b[39mansatz\u001b[38;5;241m.\u001b[39mget_energy_sparse(result\u001b[38;5;241m.\u001b[39mcircuit))\n",
      "File \u001b[0;32m~/anaconda3/lib/python3.9/site-packages/blueqat/vqe.py:209\u001b[0m, in \u001b[0;36mVqe.run\u001b[0;34m(self, verbose)\u001b[0m\n\u001b[1;32m    206\u001b[0m         \u001b[38;5;28;01mreturn\u001b[39;00m f\n\u001b[1;32m    208\u001b[0m     objective \u001b[38;5;241m=\u001b[39m verbose_objective(objective)\n\u001b[0;32m--> 209\u001b[0m params \u001b[38;5;241m=\u001b[39m \u001b[38;5;28;43mself\u001b[39;49m\u001b[38;5;241;43m.\u001b[39;49m\u001b[43mminimizer\u001b[49m\u001b[43m(\u001b[49m\u001b[43mobjective\u001b[49m\u001b[43m,\u001b[49m\u001b[43m \u001b[49m\u001b[38;5;28;43mself\u001b[39;49m\u001b[38;5;241;43m.\u001b[39;49m\u001b[43mansatz\u001b[49m\u001b[38;5;241;43m.\u001b[39;49m\u001b[43mn_params\u001b[49m\u001b[43m)\u001b[49m\n\u001b[1;32m    210\u001b[0m c \u001b[38;5;241m=\u001b[39m \u001b[38;5;28mself\u001b[39m\u001b[38;5;241m.\u001b[39mansatz\u001b[38;5;241m.\u001b[39mget_circuit(params)\n\u001b[1;32m    211\u001b[0m \u001b[38;5;28;01mreturn\u001b[39;00m VqeResult(\u001b[38;5;28mself\u001b[39m, params, c)\n",
      "File \u001b[0;32m~/anaconda3/lib/python3.9/site-packages/blueqat/vqe.py:225\u001b[0m, in \u001b[0;36mget_scipy_minimizer.<locals>.minimizer\u001b[0;34m(objective, n_params)\u001b[0m\n\u001b[1;32m    223\u001b[0m \u001b[38;5;28;01mdef\u001b[39;00m \u001b[38;5;21mminimizer\u001b[39m(objective, n_params):\n\u001b[1;32m    224\u001b[0m     params \u001b[38;5;241m=\u001b[39m [random\u001b[38;5;241m.\u001b[39mrandom() \u001b[38;5;28;01mfor\u001b[39;00m _ \u001b[38;5;129;01min\u001b[39;00m \u001b[38;5;28mrange\u001b[39m(n_params)]\n\u001b[0;32m--> 225\u001b[0m     result \u001b[38;5;241m=\u001b[39m \u001b[43mscipy_minimizer\u001b[49m\u001b[43m(\u001b[49m\u001b[43mobjective\u001b[49m\u001b[43m,\u001b[49m\u001b[43m \u001b[49m\u001b[43mparams\u001b[49m\u001b[43m,\u001b[49m\u001b[43m \u001b[49m\u001b[38;5;241;43m*\u001b[39;49m\u001b[38;5;241;43m*\u001b[39;49m\u001b[43mkwargs\u001b[49m\u001b[43m)\u001b[49m\n\u001b[1;32m    226\u001b[0m     \u001b[38;5;28;01mreturn\u001b[39;00m result\u001b[38;5;241m.\u001b[39mx\n",
      "File \u001b[0;32m~/anaconda3/lib/python3.9/site-packages/scipy/optimize/_minimize.py:614\u001b[0m, in \u001b[0;36mminimize\u001b[0;34m(fun, x0, args, method, jac, hess, hessp, bounds, constraints, tol, callback, options)\u001b[0m\n\u001b[1;32m    611\u001b[0m     \u001b[38;5;28;01mreturn\u001b[39;00m _minimize_neldermead(fun, x0, args, callback, bounds\u001b[38;5;241m=\u001b[39mbounds,\n\u001b[1;32m    612\u001b[0m                                 \u001b[38;5;241m*\u001b[39m\u001b[38;5;241m*\u001b[39moptions)\n\u001b[1;32m    613\u001b[0m \u001b[38;5;28;01melif\u001b[39;00m meth \u001b[38;5;241m==\u001b[39m \u001b[38;5;124m'\u001b[39m\u001b[38;5;124mpowell\u001b[39m\u001b[38;5;124m'\u001b[39m:\n\u001b[0;32m--> 614\u001b[0m     \u001b[38;5;28;01mreturn\u001b[39;00m \u001b[43m_minimize_powell\u001b[49m\u001b[43m(\u001b[49m\u001b[43mfun\u001b[49m\u001b[43m,\u001b[49m\u001b[43m \u001b[49m\u001b[43mx0\u001b[49m\u001b[43m,\u001b[49m\u001b[43m \u001b[49m\u001b[43margs\u001b[49m\u001b[43m,\u001b[49m\u001b[43m \u001b[49m\u001b[43mcallback\u001b[49m\u001b[43m,\u001b[49m\u001b[43m \u001b[49m\u001b[43mbounds\u001b[49m\u001b[43m,\u001b[49m\u001b[43m \u001b[49m\u001b[38;5;241;43m*\u001b[39;49m\u001b[38;5;241;43m*\u001b[39;49m\u001b[43moptions\u001b[49m\u001b[43m)\u001b[49m\n\u001b[1;32m    615\u001b[0m \u001b[38;5;28;01melif\u001b[39;00m meth \u001b[38;5;241m==\u001b[39m \u001b[38;5;124m'\u001b[39m\u001b[38;5;124mcg\u001b[39m\u001b[38;5;124m'\u001b[39m:\n\u001b[1;32m    616\u001b[0m     \u001b[38;5;28;01mreturn\u001b[39;00m _minimize_cg(fun, x0, args, jac, callback, \u001b[38;5;241m*\u001b[39m\u001b[38;5;241m*\u001b[39moptions)\n",
      "File \u001b[0;32m~/anaconda3/lib/python3.9/site-packages/scipy/optimize/optimize.py:3020\u001b[0m, in \u001b[0;36m_minimize_powell\u001b[0;34m(func, x0, args, callback, bounds, xtol, ftol, maxiter, maxfev, disp, direc, return_all, **unknown_options)\u001b[0m\n\u001b[1;32m   3016\u001b[0m     \u001b[38;5;28;01mif\u001b[39;00m np\u001b[38;5;241m.\u001b[39many(lower_bound \u001b[38;5;241m>\u001b[39m x0) \u001b[38;5;129;01mor\u001b[39;00m np\u001b[38;5;241m.\u001b[39many(x0 \u001b[38;5;241m>\u001b[39m upper_bound):\n\u001b[1;32m   3017\u001b[0m         warnings\u001b[38;5;241m.\u001b[39mwarn(\u001b[38;5;124m\"\u001b[39m\u001b[38;5;124mInitial guess is not within the specified bounds\u001b[39m\u001b[38;5;124m\"\u001b[39m,\n\u001b[1;32m   3018\u001b[0m                       OptimizeWarning, \u001b[38;5;241m3\u001b[39m)\n\u001b[0;32m-> 3020\u001b[0m fval \u001b[38;5;241m=\u001b[39m squeeze(\u001b[43mfunc\u001b[49m\u001b[43m(\u001b[49m\u001b[43mx\u001b[49m\u001b[43m)\u001b[49m)\n\u001b[1;32m   3021\u001b[0m x1 \u001b[38;5;241m=\u001b[39m x\u001b[38;5;241m.\u001b[39mcopy()\n\u001b[1;32m   3022\u001b[0m \u001b[38;5;28miter\u001b[39m \u001b[38;5;241m=\u001b[39m \u001b[38;5;241m0\u001b[39m\n",
      "File \u001b[0;32m~/anaconda3/lib/python3.9/site-packages/scipy/optimize/optimize.py:464\u001b[0m, in \u001b[0;36m_wrap_function.<locals>.function_wrapper\u001b[0;34m(x, *wrapper_args)\u001b[0m\n\u001b[1;32m    462\u001b[0m \u001b[38;5;28;01mdef\u001b[39;00m \u001b[38;5;21mfunction_wrapper\u001b[39m(x, \u001b[38;5;241m*\u001b[39mwrapper_args):\n\u001b[1;32m    463\u001b[0m     ncalls[\u001b[38;5;241m0\u001b[39m] \u001b[38;5;241m+\u001b[39m\u001b[38;5;241m=\u001b[39m \u001b[38;5;241m1\u001b[39m\n\u001b[0;32m--> 464\u001b[0m     \u001b[38;5;28;01mreturn\u001b[39;00m \u001b[43mfunction\u001b[49m\u001b[43m(\u001b[49m\u001b[43mnp\u001b[49m\u001b[38;5;241;43m.\u001b[39;49m\u001b[43mcopy\u001b[49m\u001b[43m(\u001b[49m\u001b[43mx\u001b[49m\u001b[43m)\u001b[49m\u001b[43m,\u001b[49m\u001b[43m \u001b[49m\u001b[38;5;241;43m*\u001b[39;49m\u001b[43m(\u001b[49m\u001b[43mwrapper_args\u001b[49m\u001b[43m \u001b[49m\u001b[38;5;241;43m+\u001b[39;49m\u001b[43m \u001b[49m\u001b[43margs\u001b[49m\u001b[43m)\u001b[49m\u001b[43m)\u001b[49m\n",
      "File \u001b[0;32m~/anaconda3/lib/python3.9/site-packages/blueqat/vqe.py:77\u001b[0m, in \u001b[0;36mAnsatzBase.get_objective.<locals>.obj_expect\u001b[0;34m(params)\u001b[0m\n\u001b[1;32m     75\u001b[0m circuit \u001b[38;5;241m=\u001b[39m \u001b[38;5;28mself\u001b[39m\u001b[38;5;241m.\u001b[39mget_circuit(params)\n\u001b[1;32m     76\u001b[0m circuit\u001b[38;5;241m.\u001b[39mmake_cache()\n\u001b[0;32m---> 77\u001b[0m \u001b[38;5;28;01mreturn\u001b[39;00m \u001b[38;5;28;43mself\u001b[39;49m\u001b[38;5;241;43m.\u001b[39;49m\u001b[43mget_energy_sparse\u001b[49m\u001b[43m(\u001b[49m\u001b[43mcircuit\u001b[49m\u001b[43m)\u001b[49m\n",
      "File \u001b[0;32m~/anaconda3/lib/python3.9/site-packages/blueqat/vqe.py:65\u001b[0m, in \u001b[0;36mAnsatzBase.get_energy_sparse\u001b[0;34m(self, circuit)\u001b[0m\n\u001b[1;32m     63\u001b[0m \u001b[38;5;28;01mdef\u001b[39;00m \u001b[38;5;21mget_energy_sparse\u001b[39m(\u001b[38;5;28mself\u001b[39m, circuit):\n\u001b[1;32m     64\u001b[0m     \u001b[38;5;124;03m\"\"\"Get energy using sparse matrix. This method may be changed in the future release.\"\"\"\u001b[39;00m\n\u001b[0;32m---> 65\u001b[0m     \u001b[38;5;28;01mreturn\u001b[39;00m \u001b[43msparse_expectation\u001b[49m\u001b[43m(\u001b[49m\u001b[38;5;28;43mself\u001b[39;49m\u001b[38;5;241;43m.\u001b[39;49m\u001b[43msparse\u001b[49m\u001b[43m,\u001b[49m\u001b[43m \u001b[49m\u001b[43mcircuit\u001b[49m\u001b[38;5;241;43m.\u001b[39;49m\u001b[43mrun\u001b[49m\u001b[43m(\u001b[49m\u001b[43m)\u001b[49m\u001b[43m)\u001b[49m\n",
      "File \u001b[0;32m~/anaconda3/lib/python3.9/site-packages/blueqat/vqe.py:366\u001b[0m, in \u001b[0;36msparse_expectation\u001b[0;34m(mat, vec)\u001b[0m\n\u001b[1;32m    355\u001b[0m \u001b[38;5;28;01mdef\u001b[39;00m \u001b[38;5;21msparse_expectation\u001b[39m(mat, vec):\n\u001b[1;32m    356\u001b[0m     \u001b[38;5;124;03m\"\"\"Calculate expectation value <vec|mat|vec>.\u001b[39;00m\n\u001b[1;32m    357\u001b[0m \n\u001b[1;32m    358\u001b[0m \u001b[38;5;124;03m    Args:\u001b[39;00m\n\u001b[0;32m   (...)\u001b[0m\n\u001b[1;32m    364\u001b[0m \u001b[38;5;124;03m        Remarks: when mat is Hermitian, <vec|mat|vec> is real.\u001b[39;00m\n\u001b[1;32m    365\u001b[0m \u001b[38;5;124;03m    \"\"\"\u001b[39;00m\n\u001b[0;32m--> 366\u001b[0m     \u001b[38;5;28;01mreturn\u001b[39;00m np\u001b[38;5;241m.\u001b[39mvdot(vec, \u001b[43mmat\u001b[49m\u001b[38;5;241;43m.\u001b[39;49m\u001b[43mdot\u001b[49m\u001b[43m(\u001b[49m\u001b[43mvec\u001b[49m\u001b[43m)\u001b[49m)\u001b[38;5;241m.\u001b[39mreal\n",
      "File \u001b[0;32m~/anaconda3/lib/python3.9/site-packages/scipy/sparse/base.py:359\u001b[0m, in \u001b[0;36mspmatrix.dot\u001b[0;34m(self, other)\u001b[0m\n\u001b[1;32m    346\u001b[0m \u001b[38;5;28;01mdef\u001b[39;00m \u001b[38;5;21mdot\u001b[39m(\u001b[38;5;28mself\u001b[39m, other):\n\u001b[1;32m    347\u001b[0m     \u001b[38;5;124;03m\"\"\"Ordinary dot product\u001b[39;00m\n\u001b[1;32m    348\u001b[0m \n\u001b[1;32m    349\u001b[0m \u001b[38;5;124;03m    Examples\u001b[39;00m\n\u001b[0;32m   (...)\u001b[0m\n\u001b[1;32m    357\u001b[0m \n\u001b[1;32m    358\u001b[0m \u001b[38;5;124;03m    \"\"\"\u001b[39;00m\n\u001b[0;32m--> 359\u001b[0m     \u001b[38;5;28;01mreturn\u001b[39;00m \u001b[38;5;28;43mself\u001b[39;49m\u001b[43m \u001b[49m\u001b[38;5;241;43m*\u001b[39;49m\u001b[43m \u001b[49m\u001b[43mother\u001b[49m\n",
      "\u001b[0;31mTypeError\u001b[0m: unsupported operand type(s) for *: 'csc_matrix' and 'Counter'"
     ]
    }
   ],
   "source": [
    "import numpy as np\n",
    "from blueqat import Circuit\n",
    "from blueqat.pauli import X, Y, Z, I\n",
    "from blueqat.pauli import qubo_bit as q\n",
    "from blueqat.vqe import AnsatzBase, Vqe\n",
    "\n",
    "class QubitAnsatz(AnsatzBase):\n",
    "    def __init__(self, hamiltonian):\n",
    "        super().__init__(hamiltonian, 4)\n",
    "        self.step = 1\n",
    "\n",
    "    def get_circuit(self, params):\n",
    "        a, b, c, d = params\n",
    "        return Circuit().ry(a)[0].rz(b)[0].ry(c)[1].rz(d)[1]\n",
    "\n",
    "h = -3*q(0)-3*q(1)-2*q(0)*q(1)\n",
    "h = h.to_expr().simplify()\n",
    "runner = Vqe(QubitAnsatz(h))\n",
    "result = runner.run()\n",
    "\n",
    "print('Result by VQE')\n",
    "print(runner.ansatz.get_energy_sparse(result.circuit))\n",
    "\n",
    "# Hamiltonian to matrix\n",
    "mat = h.to_matrix()\n",
    "\n",
    "# Calculate by numpy\n",
    "print('Result by numpy')\n",
    "print(np.linalg.eigh(mat)[0][0])"
   ]
  },
  {
   "cell_type": "markdown",
   "metadata": {
    "colab_type": "text",
    "id": "DYsNMr6QvUnh"
   },
   "source": [
    "We correctly the result. This time we just used 2qubits. But actually it is very difficult to get the right answer on bigger number of qubits. To compute much more efficiently we are using a new ansatz called QAOA ansatz for combinatorial optimization problem."
   ]
  },
  {
   "cell_type": "markdown",
   "metadata": {
    "colab_type": "text",
    "id": "etA_TEnsvWzL"
   },
   "source": [
    "## QAOA\n",
    "QAOA has a special form of ansatz especially to solve combinatorial optimization problem using the similar step of VQE. Now we try to use QAOA(Quantum Approximate Opitmization Alogirthm) in this chapter."
   ]
  },
  {
   "cell_type": "markdown",
   "metadata": {
    "colab_type": "text",
    "id": "9e4vdEK9vZq8"
   },
   "source": [
    "## Quantum Adiabatic Algorithm\n",
    "QAA is an algorithm to change the state vector adiabatically to keep the ground state of the hamiltonian through the time evolution.\n",
    "\n",
    "We set the initial hamiltonian as $H_{start}$ and the final Hamiltonian as $H_{fin}$. t is time and T is the whole step of schedule.\n",
    "\n",
    "$$\n",
    "H_{temp} = (1-\\frac{t}{T})H_{start} + \\frac{t}{T}H_{fin}\n",
    "$$\n",
    "\n",
    "The hamiltoinan adiabatically changed according to the time t and the eigenstate of state vector keep the ground state if T is enough big.\n",
    "\n",
    "$$\n",
    "H_{temp}\\mid \\psi \\rangle = E_{0temp}\\mid \\psi \\rangle\n",
    "$$\n",
    "\n",
    "Time evolution is,\n",
    "\n",
    "$$\n",
    "\\mid \\psi_{t+1} \\rangle = U \\mid \\psi_t \\rangle = e^{-iHt}  \\mid \\psi_t \\rangle\n",
    "$$\n"
   ]
  },
  {
   "cell_type": "markdown",
   "metadata": {
    "colab_type": "text",
    "id": "FA9B9idIvgTH"
   },
   "source": [
    "## QAOA\n",
    "QAOA is basically using the idea of adiabatic process and transform it into a variational algorithm as ansatz of hamiltonian.\n",
    "\n",
    "The first H on the circuit shows the initial eigen state of hamiltonian X. CX-Rz-CX shows the weight of hamiltonian and Rz shows the bias of the hamiltonian. Rx is a time evolution of initial hamiltonian X.\n",
    "\n",
    "Let's just see the inside of QaoaAnsatz of blueqat. Hamiltonian consists of Z operator and automatically make a variational transformation of time evolution ansatz."
   ]
  },
  {
   "cell_type": "code",
   "execution_count": null,
   "metadata": {
    "colab_type": "text",
    "id": "FA9B9idIvgTH"
   },
   "outputs": [],
   "source": [
    "class QaoaAnsatz(AnsatzBase):\n",
    "    def __init__(self, hamiltonian, step=1, init_circuit=None):\n",
    "        super().__init__(hamiltonian, step * 2)\n",
    "        self.hamiltonian = hamiltonian.to_expr().simplify()\n",
    "        if not self.check_hamiltonian():\n",
    "            raise ValueError(\"Hamiltonian terms are not commutable\")\n",
    "\n",
    "        self.step = step\n",
    "        self.n_qubits = self.hamiltonian.max_n() + 1\n",
    "        if init_circuit:\n",
    "            self.init_circuit = init_circuit\n",
    "            if init_circuit.n_qubits > self.n_qubits:\n",
    "                self.n_qubits = init_circuit.n_qubits\n",
    "        else:\n",
    "            self.init_circuit = Circuit(self.n_qubits).h[:]\n",
    "        self.init_circuit.make_cache()\n",
    "        self.time_evolutions = [term.get_time_evolution() for term in self.hamiltonian]\n",
    "\n",
    "    def check_hamiltonian(self):\n",
    "        \"\"\"Check hamiltonian is commutable. This condition is required for QaoaAnsatz\"\"\"\n",
    "        return self.hamiltonian.is_all_terms_commutable()\n",
    "\n",
    "    def get_circuit(self, params):\n",
    "        c = self.init_circuit.copy()\n",
    "        betas = params[:self.step]\n",
    "        gammas = params[self.step:]\n",
    "        for beta, gamma in zip(betas, gammas):\n",
    "            beta *= np.pi\n",
    "            gamma *= 2 * np.pi\n",
    "            for evo in self.time_evolutions:\n",
    "                evo(c, gamma)\n",
    "            c.rx(beta)[:]\n",
    "        return c"
   ]
  },
  {
   "cell_type": "markdown",
   "metadata": {
    "colab_type": "text",
    "id": "FA9B9idIvgTH"
   },
   "source": [
    "On actual use, the library automatically do the calculation and you don't to implement a complicated formulation or time evolution.\n",
    "\n",
    "Blueqat do most of the process and what you just need to do is to formulate the hamiltonian as a combinatorial optimization with binary number of 0 and 1.\n",
    "\n",
    "Now we see an example of simple problem on qubo."
   ]
  },
  {
   "cell_type": "code",
   "execution_count": null,
   "metadata": {
    "colab_type": "text",
    "id": "FA9B9idIvgTH"
   },
   "outputs": [],
   "source": [
    "H = -3*q(0)-3*q(1)-2*q(0)*q(1)"
   ]
  },
  {
   "cell_type": "markdown",
   "metadata": {
    "colab_type": "text",
    "id": "FA9B9idIvgTH"
   },
   "source": [
    "This take obviously -8 as a result. It is very easy, now we can think about the social problem as binary number. q(0) and q(1) has -3 of bias and q(0)*q(1) has -2 as a weight."
   ]
  },
  {
   "cell_type": "code",
   "execution_count": 3,
   "metadata": {
    "colab": {
     "base_uri": "https://localhost:8080/",
     "height": 34
    },
    "colab_type": "code",
    "id": "mcfRj-T-vSfz",
    "outputId": "73f0d2c4-2d2a-4fd2-f6b5-21822297b472"
   },
   "outputs": [
    {
     "name": "stdout",
     "output_type": "stream",
     "text": [
      "(((1, 1), 0.9510486784530741), ((0, 0), 0.026525125765847812), ((1, 0), 0.011213097890539158), ((0, 1), 0.011213097890539146))\n"
     ]
    }
   ],
   "source": [
    "from blueqat import vqe\n",
    "from blueqat.pauli import qubo_bit as q\n",
    "\n",
    "h = -3*q(0)-3*q(1)-2*q(0)*q(1)\n",
    "step = 2\n",
    "\n",
    "result = vqe.Vqe(vqe.QaoaAnsatz(h, step)).run()\n",
    "print(result.most_common(12))"
   ]
  },
  {
   "cell_type": "markdown",
   "metadata": {
    "colab_type": "text",
    "id": "pgvdZYqGvtHP"
   },
   "source": [
    "We get combination of (1,1) as the probability of 96%."
   ]
  },
  {
   "cell_type": "markdown",
   "metadata": {},
   "source": [
    "## blueqat rules\n",
    "We have set some rules for notation.\n",
    "\n",
    "When naming an expression, use \"H\" and a subscript.  \n",
    "The variable in the QUBO equation uses q for the qubit.\n",
    "\n",
    "$$\n",
    "H_A = q(0)*q(1) + q(2)\n",
    "$$\n",
    "\n",
    "Use z for the spin notation of the Ising formula.\n",
    "\n",
    "$$\n",
    "H_A = z(0)*z(1) + z(2)\n",
    "$$\n",
    "\n"
   ]
  }
 ],
 "metadata": {
  "colab": {
   "name": "103_vqe_qaoa03.ipynb",
   "provenance": []
  },
  "kernelspec": {
   "display_name": "Python 3 (ipykernel)",
   "language": "python",
   "name": "python3"
  },
  "language_info": {
   "codemirror_mode": {
    "name": "ipython",
    "version": 3
   },
   "file_extension": ".py",
   "mimetype": "text/x-python",
   "name": "python",
   "nbconvert_exporter": "python",
   "pygments_lexer": "ipython3",
   "version": "3.9.12"
  }
 },
 "nbformat": 4,
 "nbformat_minor": 4
}
