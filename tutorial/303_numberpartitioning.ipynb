{
 "cells": [
  {
   "cell_type": "markdown",
   "metadata": {
    "colab_type": "text",
    "id": "WBR-Vd1FcBF1"
   },
   "source": [
    "# Number Partitioning Problem\n",
    "\n",
    "Number Partitioning Problem is a problem to make two groups that sum of the each groups are the same."
   ]
  },
  {
   "cell_type": "markdown",
   "metadata": {},
   "source": [
    "## Reference\n",
    "Ising formulations of many NP problems  \n",
    "Andrew Lucas  \n",
    "https://arxiv.org/abs/1302.5843"
   ]
  },
  {
   "cell_type": "markdown",
   "metadata": {
    "colab_type": "text",
    "id": "V1qLi57eeO8l"
   },
   "source": [
    "## Ising hamiltonian\n",
    "\n",
    "$i$th of N natural number we put as  $n_i$. And if this number belongs to any groups we show this using \n",
    "$Z_i$. If $n_i$ belongs to group A, it is $Z_i=1$. And if it belongs to group B it is $Z_i=0$.\n",
    "\n",
    "And then we create a hamiltonian of $H$ that take the minimum value when the sum of each groups are the same.\n",
    "\n",
    "$$\n",
    "H = (\\sum n_i*Z_i)^2\n",
    "$$\n",
    "\n",
    "It will be $H=0$ when the sum of two groups are the same and takes $H>0$ if these are different."
   ]
  },
  {
   "cell_type": "markdown",
   "metadata": {},
   "source": [
    "## Example\n",
    "Let's try solve a simple example. Now we have a list of natural number\n",
    "\n",
    "[3,6,5,6,5,2,6,8,5,8]\n",
    "\n",
    "and we make two groups. The hamiltonian is very simple\n",
    "\n",
    "$$\n",
    "H = 3*Z(0)+6*Z(1)+5*Z(2)+6*Z(3)+5*Z(4)+2*Z(5)+6*Z(6)+8*Z(7)+5*Z(8)+8*Z(9)\n",
    "$$"
   ]
  },
  {
   "cell_type": "code",
   "execution_count": 27,
   "metadata": {},
   "outputs": [
    {
     "name": "stdout",
     "output_type": "stream",
     "text": [
      "19\n"
     ]
    },
    {
     "data": {
      "text/plain": [
       "(((0, 1, 1, 1, 0, 1, 0, 0), 0.008320427578059642),\n",
       " ((0, 1, 0, 0, 1, 1, 1, 0), 0.008320427578059642),\n",
       " ((1, 0, 1, 1, 0, 0, 0, 1), 0.008320427578059642),\n",
       " ((1, 0, 0, 0, 1, 0, 1, 1), 0.008320427578059642),\n",
       " ((1, 0, 1, 1, 1, 0, 0, 0), 0.008320427578059638),\n",
       " ((1, 0, 1, 0, 1, 0, 1, 0), 0.008320427578059638),\n",
       " ((0, 1, 0, 1, 0, 1, 0, 1), 0.008320427578059638),\n",
       " ((0, 1, 0, 0, 0, 1, 1, 1), 0.008320427578059638),\n",
       " ((1, 1, 1, 0, 1, 0, 0, 0), 0.008320427578059637),\n",
       " ((0, 0, 0, 1, 0, 1, 1, 1), 0.008320427578059637),\n",
       " ((0, 1, 0, 1, 1, 1, 0, 0), 0.008320427578059635),\n",
       " ((1, 0, 1, 0, 0, 0, 1, 1), 0.008320427578059635))"
      ]
     },
     "execution_count": 27,
     "metadata": {},
     "output_type": "execute_result"
    }
   ],
   "source": [
    "#sum 38\n",
    "num = [3,6,5,6,5,2,6,5]\n",
    "\n",
    "from blueqat import vqe\n",
    "from blueqat.pauli import Z\n",
    "\n",
    "hamiltonian = (num[0]*Z(0)+num[1]*Z(1)+num[2]*Z(2)+num[3]*Z(3)+num[4]*Z(4)+num[5]*Z(5)+num[6]*Z(6)+num[7]*Z(7))**2\n",
    "step = 2\n",
    "\n",
    "result = vqe.Vqe(vqe.QaoaAnsatz(hamiltonian.simplify(), step)).run()\n",
    "\n",
    "b = sum([x*y for (x,y) in zip(num, list(result.most_common(1)[0][0]))])\n",
    "\n",
    "#answer 19\n",
    "print(b)\n",
    "\n",
    "result.most_common(12)"
   ]
  },
  {
   "cell_type": "markdown",
   "metadata": {},
   "source": [
    "Finally we got two groups the sum is each 19."
   ]
  }
 ],
 "metadata": {
  "colab": {
   "name": "tutorial003_numberpartitioning_en",
   "provenance": [],
   "version": "0.3.2"
  },
  "kernelspec": {
   "display_name": "Python 3",
   "language": "python",
   "name": "python3"
  },
  "language_info": {
   "codemirror_mode": {
    "name": "ipython",
    "version": 3
   },
   "file_extension": ".py",
   "mimetype": "text/x-python",
   "name": "python",
   "nbconvert_exporter": "python",
   "pygments_lexer": "ipython3",
   "version": "3.8.8"
  }
 },
 "nbformat": 4,
 "nbformat_minor": 4
}
