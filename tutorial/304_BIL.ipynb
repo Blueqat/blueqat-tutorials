{
 "cells": [
  {
   "cell_type": "markdown",
   "metadata": {
    "colab_type": "text",
    "id": "37f1qQvLpWzM"
   },
   "source": [
    "# Binary Integer Linear Programming\n",
    "With the constraint $Sx=b$ for vector $x$. Finding vector $x$ which maximize $c⋅x$ is so called binary integer linear programming"
   ]
  },
  {
   "cell_type": "markdown",
   "metadata": {},
   "source": [
    "## Reference\n",
    "Ising formulations of many NP problems  \n",
    "Andrew Lucas  \n",
    "https://arxiv.org/abs/1302.5843"
   ]
  },
  {
   "cell_type": "markdown",
   "metadata": {
    "colab_type": "text",
    "id": "hAKGp9-RpyJF"
   },
   "source": [
    "## QUBO\n",
    "QUBO formulation is like below. We have constraint as $H_A$ and cost function as $H_B$.\n",
    "\n",
    "$$\n",
    "H = H_A + H_B = A\\sum_{j=1}^m[b_j - \\sum_{i=1}^NS_{ji}x_i]^2 - B\\sum_{i=1}^Nc_ix_i\n",
    "$$"
   ]
  },
  {
   "cell_type": "markdown",
   "metadata": {},
   "source": [
    "When x satisfy,\n",
    "\n",
    "$$\n",
    "\\begin{bmatrix}\n",
    "3 & 2 & 1 \\\\\n",
    "5 & 2 & 3\n",
    "\\end{bmatrix}\n",
    "\\begin{bmatrix}\n",
    "x_0\\\\x_1\\\\x_2\n",
    "\\end{bmatrix}\n",
    "=\n",
    "\\begin{bmatrix}\n",
    "3\\\\5\n",
    "\\end{bmatrix}\n",
    "$$\n",
    "\n",
    "find x maximize\n",
    "\n",
    "$$\n",
    "\\begin{bmatrix}\n",
    "1&2&1\n",
    "\\end{bmatrix}\n",
    "\\begin{bmatrix}\n",
    "x_0\\\\x_1\\\\x_2\n",
    "\\end{bmatrix}\n",
    "$$"
   ]
  },
  {
   "cell_type": "markdown",
   "metadata": {},
   "source": [
    "## Check the constraint\n",
    "First we try to implement only the first constraint term as QUBO"
   ]
  },
  {
   "cell_type": "code",
   "execution_count": 13,
   "metadata": {
    "colab": {
     "base_uri": "https://localhost:8080/",
     "height": 68
    },
    "colab_type": "code",
    "id": "ubiKxrvuqoCi",
    "outputId": "651f87ce-0b57-41d2-da70-9e24c1097cad",
    "scrolled": true
   },
   "outputs": [
    {
     "name": "stdout",
     "output_type": "stream",
     "text": [
      "(((1, 0, 0), 0.36081289876733985), ((0, 1, 1), 0.36081289876733985), ((1, 1, 0), 0.08120206566012596), ((0, 0, 1), 0.08120206566012596), ((0, 1, 0), 0.05474378112622684), ((1, 0, 1), 0.05474378112622684), ((0, 0, 0), 0.003241254446307351), ((1, 1, 1), 0.003241254446307351))\n"
     ]
    }
   ],
   "source": [
    "from blueqat import vqe\n",
    "from blueqat.pauli import qubo_bit as q\n",
    "\n",
    "hamiltonian = (3*q(0)+2*q(1)+q(2)-3)**2 + (5*q(0)+2*q(1)+3*q(2)-5)**2\n",
    "hamiltonian = hamiltonian.simplify()\n",
    "step = 4\n",
    "\n",
    "result = vqe.Vqe(vqe.QaoaAnsatz(hamiltonian, step)).run()\n",
    "print(result.most_common(12))"
   ]
  },
  {
   "cell_type": "markdown",
   "metadata": {},
   "source": [
    "And as a result we got 100 or 011 as the answer."
   ]
  },
  {
   "cell_type": "markdown",
   "metadata": {},
   "source": [
    "## Add the cost function\n",
    "Now we add the second term as cost function."
   ]
  },
  {
   "cell_type": "code",
   "execution_count": 14,
   "metadata": {},
   "outputs": [
    {
     "name": "stdout",
     "output_type": "stream",
     "text": [
      "(((0, 1, 1), 0.756283103172079), ((0, 0, 1), 0.09443510953327007), ((0, 1, 0), 0.09199511564305915), ((1, 0, 0), 0.038056516991197706), ((1, 1, 0), 0.007993883539511783), ((1, 1, 1), 0.0074383272910346805), ((1, 0, 1), 0.0024251334661509177), ((0, 0, 0), 0.0013728103636969447))\n"
     ]
    }
   ],
   "source": [
    "hamiltonian = (3*q(0)+2*q(1)+q(2)-3)**2 + (5*q(0)+2*q(1)+3*q(2)-5)**2 - (q(0)+2*q(1)+q(2))\n",
    "hamiltonian = hamiltonian.simplify()\n",
    "step = 4\n",
    "\n",
    "result = vqe.Vqe(vqe.QaoaAnsatz(hamiltonian, step)).run()\n",
    "print(result.most_common(12))"
   ]
  },
  {
   "cell_type": "markdown",
   "metadata": {},
   "source": [
    "Now we got 011 as the result."
   ]
  }
 ],
 "metadata": {
  "colab": {
   "name": "tutorial004_BIL_en",
   "provenance": [],
   "version": "0.3.2"
  },
  "kernelspec": {
   "display_name": "Python 3 (ipykernel)",
   "language": "python",
   "name": "python3"
  },
  "language_info": {
   "codemirror_mode": {
    "name": "ipython",
    "version": 3
   },
   "file_extension": ".py",
   "mimetype": "text/x-python",
   "name": "python",
   "nbconvert_exporter": "python",
   "pygments_lexer": "ipython3",
   "version": "3.7.3"
  }
 },
 "nbformat": 4,
 "nbformat_minor": 1
}
