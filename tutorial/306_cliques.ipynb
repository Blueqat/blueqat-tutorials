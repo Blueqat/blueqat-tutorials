{
 "cells": [
  {
   "cell_type": "markdown",
   "id": "a4ae332b-f134-4117-bd4c-f5ade359d652",
   "metadata": {},
   "source": [
    "### Cliques\n",
    "\n",
    "A clique of size K in an undirected graph $G=(V,E)$ is a subset graph $W \\in V$ of size $|W| = K$ where the given subgraph is a complete graph i.e the number of edges in the sub graph is $\\frac{K(K+1)}{2}$ .\n",
    "\n",
    "Reference: https://arxiv.org/abs/1302.5843"
   ]
  },
  {
   "cell_type": "code",
   "execution_count": 1,
   "id": "9e16019a-0eb8-40a0-b4ce-c55a18f549ec",
   "metadata": {},
   "outputs": [
    {
     "data": {
      "image/png": "[encoded data removed]",
      "text/plain": [
       "<Figure size 432x288 with 1 Axes>"
      ]
     },
     "metadata": {},
     "output_type": "display_data"
    }
   ],
   "source": [
    "import networkx as nx\n",
    "import matplotlib.pyplot as plt\n",
    "\n",
    "options = {'node_color': '#efefef','node_size': 1200,'with_labels':'True'}\n",
    "\n",
    "n = 4\n",
    "K = 3\n",
    "\n",
    "G = nx.Graph()\n",
    "G.add_nodes_from(nx.path_graph(n))\n",
    "G.add_edges_from([(0,1), (0,2),(1,2),(2,3)])\n",
    "nx.draw(G, **options)"
   ]
  },
  {
   "cell_type": "markdown",
   "id": "d7516e75-3876-4fae-9abc-f41b2a18774e",
   "metadata": {},
   "source": [
    "The hamiltonian of the above problem is formed in a constraint rich way where if H = 0 for a given hamiltonian, their is a feasible solution of the clique problem with a subgraph of size K. We have two constraints:\n",
    "\n",
    "1. The subgraph should be of size K.\n",
    "\n",
    "$$ C_1 = A ( K - \\sum_{v} x_v) ^ 2 $$\n",
    "\n",
    "2. The number of edges in the subgraph should be $\\frac{K(K-1)}{2}$ : \n",
    "\n",
    "$$ C_2 = B [ \\frac{K(K-1)}{2} - \\sum_{uv \\in E} x_{u}x_{v} ] $$\n",
    "\n",
    "The weighted sum of these two constraints form our hamiltonian."
   ]
  },
  {
   "cell_type": "code",
   "execution_count": 6,
   "id": "54da25b3-e437-467d-84c6-83a1eb600f0b",
   "metadata": {},
   "outputs": [],
   "source": [
    "from blueqat import vqe\n",
    "from blueqat.pauli import qubo_bit as q\n",
    "from blueqat.utils import qaoa\n",
    "import numpy as np\n",
    "\n",
    "H = 0.0\n",
    "\n",
    "C_1 = 0.0\n",
    "\n",
    "C_1 = (K - sum([q(i) for i in range(n)]))**2\n",
    "\n",
    "C_2 = 0.0\n",
    "\n",
    "C_2 = K*(K-1)/2 - sum([q(k[0])*q(k[1]) for k in G.edges])\n",
    "\n",
    "H = C_1*100+ C_2*20   "
   ]
  },
  {
   "cell_type": "code",
   "execution_count": 5,
   "id": "b70fa171-87d5-43d0-a88e-731c70485807",
   "metadata": {
    "tags": []
   },
   "outputs": [],
   "source": [
    "step = 1\n",
    "\n",
    "result = qaoa(H, step)\n",
    "b = result.circuit.run(shots=10)\n",
    "sample = b.most_common(1)[0][0]"
   ]
  },
  {
   "cell_type": "code",
   "execution_count": 4,
   "id": "136b5e70-d1a7-4682-be54-26012c95f1e4",
   "metadata": {},
   "outputs": [
    {
     "data": {
      "text/plain": [
       "'1110'"
      ]
     },
     "execution_count": 4,
     "metadata": {},
     "output_type": "execute_result"
    }
   ],
   "source": [
    "sample"
   ]
  }
 ],
 "metadata": {
  "kernelspec": {
   "display_name": "Python 3 (ipykernel)",
   "language": "python",
   "name": "python3"
  },
  "language_info": {
   "codemirror_mode": {
    "name": "ipython",
    "version": 3
   },
   "file_extension": ".py",
   "mimetype": "text/x-python",
   "name": "python",
   "nbconvert_exporter": "python",
   "pygments_lexer": "ipython3",
   "version": "3.10.5"
  }
 },
 "nbformat": 4,
 "nbformat_minor": 5
}
