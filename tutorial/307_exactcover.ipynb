{
 "cells": [
  {
   "cell_type": "markdown",
   "id": "6eceb342-323c-4c86-ae10-fed63016884f",
   "metadata": {},
   "source": [
    "## Exact Cover\n",
    "\n",
    "We are given a set $ U = {1,....,n}$ and we are also given a number of sets $V_i \\in U \\{1,....,n\\}$. The problem states that if we form a set of sets of the above given sets, is there a subset of the above set whose elements are disjoint sets and the union of the sets is U."
   ]
  },
  {
   "cell_type": "markdown",
   "id": "f7d90c25-24c6-4323-8963-344dc51536ec",
   "metadata": {},
   "source": [
    "We have a binary variable $x_i$ which is $1$ if the given subset $V_i$ is included and 0 otherwise. Considering the sets are disjoint and an element of the set $U$ belongs to just one set, we define the Hamiltonian of the given problem in the following way:\n",
    "$$ H = A \\sum_{\\alpha=1}^{n} ( 1 - \\sum_{i:\\alpha\\in V_i} x_i)^2$$\n",
    "\n",
    "Reference: https://arxiv.org/abs/1302.5843"
   ]
  },
  {
   "cell_type": "code",
   "execution_count": 5,
   "id": "549b14fb-c4c5-42ed-88ba-b67d65b8ed9c",
   "metadata": {
    "tags": []
   },
   "outputs": [],
   "source": [
    "import numpy as np\n",
    "from blueqat.pauli import qubo_bit as q\n",
    "from blueqat import vqe\n",
    "\n",
    "U = np.array([1, 2, 3])\n",
    "V_size = 3\n",
    "\n",
    "V = np.array([[1,2],[1],[3]],dtype=object)\n",
    "\n",
    "H = 0.0\n",
    "temp = 0.0\n",
    "for i in range(U.size):\n",
    "    for j in range(V.size):\n",
    "        if((np.where(V[j] == U[i]))[0].size > 0):\n",
    "            temp+= q(j)\n",
    "    H+= (1 - temp)**2\n",
    "    temp = 0.0\n",
    "    \n",
    "h = 10 * H\n",
    "\n",
    "            \n",
    "            \n",
    "            \n",
    "            \n",
    "            "
   ]
  },
  {
   "cell_type": "code",
   "execution_count": 6,
   "id": "8dceee3e-31f6-46fa-b83b-b37c935dbd04",
   "metadata": {},
   "outputs": [
    {
     "name": "stdout",
     "output_type": "stream",
     "text": [
      "(((1, 0, 1), 0.4437179518526079), ((0, 1, 1), 0.2226810065864711), ((1, 1, 1), 0.1457289913325666), ((1, 0, 0), 0.09881006603651091))\n"
     ]
    }
   ],
   "source": [
    "step = 2\n",
    "\n",
    "result = vqe.Vqe(vqe.QaoaAnsatz(h, step)).run()\n",
    "print(result.most_common(4))"
   ]
  }
 ],
 "metadata": {
  "kernelspec": {
   "display_name": "Python 3",
   "language": "python",
   "name": "python3"
  },
  "language_info": {
   "codemirror_mode": {
    "name": "ipython",
    "version": 3
   },
   "file_extension": ".py",
   "mimetype": "text/x-python",
   "name": "python",
   "nbconvert_exporter": "python",
   "pygments_lexer": "ipython3",
   "version": "3.8.8"
  }
 },
 "nbformat": 4,
 "nbformat_minor": 5
}
