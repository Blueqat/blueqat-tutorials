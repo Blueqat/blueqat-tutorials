{
 "cells": [
  {
   "cell_type": "markdown",
   "id": "36e487e1-db82-472d-b837-cd4db492dd0f",
   "metadata": {},
   "source": [
    "## Graph Coloring\n",
    "\n",
    "We are given an undirected graph $G=(V,E)$ where $V$ is the set of vertices and $E$ is the set of edges. Given $n$ colors, is it possible to color the graph such that no two adjacent vertices have the same color. It is a NP-Complete problem as it's a generalization of the NP-Hard problem, how many colors are needed to color the graph in the respective manner. "
   ]
  },
  {
   "cell_type": "markdown",
   "id": "1be881fa-fb71-41ca-8b1f-9a40cde87eeb",
   "metadata": {},
   "source": [
    "We use networkx and matplotlib to create and display the graph."
   ]
  },
  {
   "cell_type": "markdown",
   "id": "5f56b733-f584-4203-8f15-07d066fd50a4",
   "metadata": {},
   "source": [
    "## QUBO Hamiltonian\n",
    "\n",
    "$n$ is the number of vertices and $m$ is the number of colors.\n",
    "We take a binary variable $x_{v,i}$ for each element in a vertex-color matrix. Thus the total number of qubits that will be used are $n*m$.\n",
    "\n",
    "We have two main constraints:\n",
    "1. Every vertex should be represented by only one color.\n",
    "\n",
    "$$ H_A = \\sum_{v} (1 - \\sum_{i=1}^{m} q_{v,i})^2 $$\n",
    "\n",
    "2. Adjacent vertices should have different colours.\n",
    "\n",
    "$$ H_B = \\sum_{(uv) \\in E}^{n} \\sum_{i=1}^{m} q_{u,i}*q_{v,i} $$\n",
    "\n"
   ]
  },
  {
   "cell_type": "markdown",
   "id": "9c32dfcf-956e-450b-b118-d5206e0f371f",
   "metadata": {},
   "source": [
    "## Example"
   ]
  },
  {
   "cell_type": "code",
   "execution_count": 1,
   "id": "46cfca7f-d633-4ac8-a2ab-03401b20afc3",
   "metadata": {},
   "outputs": [
    {
     "data": {
      "image/png": "[encoded data removed]",
      "text/plain": [
       "<Figure size 432x288 with 1 Axes>"
      ]
     },
     "metadata": {},
     "output_type": "display_data"
    }
   ],
   "source": [
    "import networkx as nx\n",
    "import matplotlib.pyplot as plt\n",
    "\n",
    "options = {'node_color': '#efefef','node_size': 1200,'with_labels':'True'}\n",
    "\n",
    "n = 4 #number of nodes\n",
    "m = 3 #number of colors\n",
    "\n",
    "G = nx.Graph()\n",
    "G.add_nodes_from(nx.path_graph(n))\n",
    "G.add_edges_from([(0,1), (0,2), (0,3),(1,2)])\n",
    "nx.draw(G, **options)"
   ]
  },
  {
   "cell_type": "code",
   "execution_count": 4,
   "id": "6ab5b993-3369-44b6-8bd2-7053c5624a0a",
   "metadata": {},
   "outputs": [],
   "source": [
    "from blueqat.utils import qaoa\n",
    "from blueqat.pauli import qubo_bit as q\n",
    "import numpy as np\n",
    "\n",
    "#make an adjacent matrix\n",
    "a = nx.to_numpy_matrix(G)\n",
    "    \n",
    "b = np.zeros((n,m), dtype=int)\n",
    "\n",
    "my_dict = {}\n",
    "\n",
    "num = 0\n",
    "for v in range(n):\n",
    "    for i in range(m):\n",
    "        b[v][i] = num\n",
    "        my_dict[num]=[str(v),i]\n",
    "        num+=1\n",
    "        \n",
    "        \n",
    "\n",
    "\n",
    "h_1= 0.0\n",
    "const_h = 0.0\n",
    "for v in range (n):\n",
    "    for i in range(m):\n",
    "        const_h = const_h + q(b[v,i])\n",
    "        \n",
    "    h_1 = h_1 + (1 - const_h)**2\n",
    "    const_h = 0.0\n",
    "        \n",
    "h_2 = 0.0    \n",
    "for u in range(n):\n",
    "    for v in range(n):\n",
    "        for i in range(m):\n",
    "            if(a[u,v]==1):\n",
    "                h_2 = h_2 + q(b[u,i])*q(b[v,i])\n",
    "                \n",
    "h = h_1 + h_2"
   ]
  },
  {
   "cell_type": "code",
   "execution_count": 5,
   "id": "79ff7c06-4146-4310-bff9-b7ab058584a3",
   "metadata": {},
   "outputs": [
    {
     "name": "stdout",
     "output_type": "stream",
     "text": [
      "sample:011110101111\n"
     ]
    }
   ],
   "source": [
    "step = 2\n",
    "\n",
    "result = qaoa(h, step)\n",
    "b = result.circuit.run(shots=10)\n",
    "sample = b.most_common(1)[0][0]\n",
    "print(\"sample:\"+ str(sample))"
   ]
  },
  {
   "cell_type": "code",
   "execution_count": 6,
   "id": "dd872a78-42ae-47c0-a4c9-4e60343fbee1",
   "metadata": {},
   "outputs": [],
   "source": [
    "for i in range(n*m):\n",
    "    if(list(sample)[i]==1):\n",
    "        print(my_dict[i])"
   ]
  },
  {
   "cell_type": "markdown",
   "id": "ecdf2329-534b-4380-9317-4b26f5a94476",
   "metadata": {},
   "source": [
    "### Graph Partitioning\n",
    "\n",
    "We are given a graph $G = (V,E)$ with $V$ being the vertex set and $E$ being the edges set. The aim of the graph partitioning problem is to divide the graph into two subsets with equal number of vertices or size such that the edges connecting both the vertices are minimum. If we look carefully this problem is kind of opposite to the max cut problem but with fixed subset sizes."
   ]
  },
  {
   "cell_type": "code",
   "execution_count": 7,
   "id": "02ea342b-13e3-46c3-94c5-b317d2e4556b",
   "metadata": {},
   "outputs": [
    {
     "data": {
      "image/png": "[encoded data removed]",
      "text/plain": [
       "<Figure size 432x288 with 1 Axes>"
      ]
     },
     "metadata": {},
     "output_type": "display_data"
    }
   ],
   "source": [
    "import networkx as nx\n",
    "import matplotlib.pyplot as plt\n",
    "\n",
    "options = {'node_color': '#efefef','node_size': 1200,'with_labels':'True'}\n",
    "\n",
    "n = 4\n",
    "\n",
    "G = nx.Graph()\n",
    "G.add_nodes_from(nx.path_graph(n))\n",
    "G.add_edges_from([(0,1), (0,2), (0,3),(1,2),(2,3)])\n",
    "nx.draw(G, **options)"
   ]
  },
  {
   "cell_type": "markdown",
   "id": "d8031303-f4d6-4a32-92a9-084bf0cc4741",
   "metadata": {},
   "source": [
    "When we are creating the Hamiltionian for the above problem, we take into consideration the constarint that both the subsets have equal number of vertices.\n",
    "Thus the constraint : \n",
    "$$ H_C = A(\\sum^N_{n=1} s_i)^2 $$\n",
    "\n",
    "The cost hamiltonian which minimizes the edges between both the subsets is:\n",
    "$$ H_A = B\\sum_{uv \\in E} \\frac{1 - \\sigma_u \\sigma_v}{2}$$\n",
    "\n",
    "The total hamiltonian comes out to be $H = H_A+H_C$.\n",
    "\n",
    "Reference: https://arxiv.org/abs/1302.5843"
   ]
  },
  {
   "cell_type": "code",
   "execution_count": 8,
   "id": "e35dcd8d-6791-4739-81c9-87bb282d2e0d",
   "metadata": {},
   "outputs": [],
   "source": [
    "from blueqat.utils import qaoa\n",
    "from blueqat.pauli import *\n",
    "import numpy as np\n",
    "\n",
    "a = np.zeros((n), dtype=int)\n",
    "\n",
    "b = np.zeros((n,n), dtype=int)\n",
    "\n",
    "for k in G.edges:\n",
    "    b[k[0]][k[1]] = 1"
   ]
  },
  {
   "cell_type": "code",
   "execution_count": 9,
   "id": "d7edc6ba-2208-46e6-909e-e250def85303",
   "metadata": {},
   "outputs": [],
   "source": [
    "h_1 = 0.0\n",
    "for i in range(n):\n",
    "    h_1+= Z(i)\n",
    "    \n",
    "h_1 = h_1**2\n",
    "\n",
    "\n",
    "h_2 = 0.0\n",
    "\n",
    "for i in range(n):\n",
    "    for j in range(n):\n",
    "        if(b[i,j]==1):\n",
    "            h_2+= (1-Z(i)*Z(j))/2\n",
    "\n",
    "h = h_1*100 + h_2"
   ]
  },
  {
   "cell_type": "code",
   "execution_count": 10,
   "id": "aa2b8cc2-5ed2-416e-88c7-2dd996648578",
   "metadata": {},
   "outputs": [
    {
     "name": "stdout",
     "output_type": "stream",
     "text": [
      "sample:1010\n"
     ]
    }
   ],
   "source": [
    "step = 2\n",
    "\n",
    "result = qaoa(h, step)\n",
    "b = result.circuit.run(shots=10)\n",
    "sample = b.most_common(1)[0][0]\n",
    "print(\"sample:\"+ str(sample))"
   ]
  },
  {
   "cell_type": "code",
   "execution_count": null,
   "id": "c59ee594-0b07-4fee-a8ae-4a8baef58554",
   "metadata": {},
   "outputs": [],
   "source": []
  }
 ],
 "metadata": {
  "kernelspec": {
   "display_name": "Python 3 (ipykernel)",
   "language": "python",
   "name": "python3"
  },
  "language_info": {
   "codemirror_mode": {
    "name": "ipython",
    "version": 3
   },
   "file_extension": ".py",
   "mimetype": "text/x-python",
   "name": "python",
   "nbconvert_exporter": "python",
   "pygments_lexer": "ipython3",
   "version": "3.10.5"
  }
 },
 "nbformat": 4,
 "nbformat_minor": 5
}
