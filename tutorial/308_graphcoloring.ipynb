{
 "cells": [
  {
   "cell_type": "markdown",
   "id": "36e487e1-db82-472d-b837-cd4db492dd0f",
   "metadata": {},
   "source": [
    "## Graph Coloring\n",
    "\n",
    "We are given an undirected graph $G=(V,E)$ where $V$ is the set of vertices and $E$ is the set of edges. Given $n$ colors, is it possible to color the graph such that no two adjacent vertices have the same color. It is a NP-Complete problem as it's a generalization of the NP-Hard problem, how many colors are needed to color the graph in the respective manner. "
   ]
  },
  {
   "cell_type": "markdown",
   "id": "1be881fa-fb71-41ca-8b1f-9a40cde87eeb",
   "metadata": {},
   "source": [
    "We use networkx and matplotlib to create and display the graph."
   ]
  },
  {
   "cell_type": "code",
   "execution_count": 10,
   "id": "46cfca7f-d633-4ac8-a2ab-03401b20afc3",
   "metadata": {},
   "outputs": [
    {
     "data": {
      "image/png": "[encoded data removed]",
      "text/plain": [
       "<Figure size 432x288 with 1 Axes>"
      ]
     },
     "metadata": {},
     "output_type": "display_data"
    }
   ],
   "source": [
    "import networkx as nx\n",
    "import matplotlib.pyplot as plt\n",
    "\n",
    "options = {'node_color': '#efefef','node_size': 1200,'with_labels':'True'}\n",
    "\n",
    "n = 4\n",
    "m = 3\n",
    "G = nx.Graph()\n",
    "G.add_nodes_from(nx.path_graph(n))\n",
    "G.add_edges_from([(0,1), (0,2), (0,3),(1,2)])\n",
    "nx.draw(G, **options)"
   ]
  },
  {
   "cell_type": "markdown",
   "id": "5f56b733-f584-4203-8f15-07d066fd50a4",
   "metadata": {},
   "source": [
    "$n$ is the number of vertices and $i$ is the number of colors.\n",
    "We take a binary variable $x_{v,i}$ for each element in a vertex-color matrix. Thus the total number of qubits that will be used are $n*i$.\n",
    "\n",
    "We have two main constraints:\n",
    "1. Every vertex should be represented by only one color.\n",
    "\n",
    "$$ C_1 = A\\sum_{v} (1 - \\sum_{i=1}^{m} x_{v,i})^2 $$\n",
    "\n",
    "2. Adjacent vertices should have different colours.\n",
    "\n",
    "$$ C_2 = \\sum_{(uv) \\in E}^{n} \\sum_{i=1}^{m} x_{u,i}*x_{v,i} $$\n",
    "\n"
   ]
  },
  {
   "cell_type": "markdown",
   "id": "889171d7-045c-4ee2-a628-1724b7790c5b",
   "metadata": {},
   "source": [
    "Let us first create an expression for hamiltonian using blueqat. The QUBO model and the ising model being isomorphic, we can make use of the equation $x_i = \\frac{1-z_i}{2}$ where $z_i \\in \\{-1,1\\}$ and $x_i$ being $\\{0,1\\}$."
   ]
  },
  {
   "cell_type": "markdown",
   "id": "5a84dcb4-fa7c-45af-bd21-ad95bf32887b",
   "metadata": {},
   "source": [
    "The ising form of the above QUBO Hamiltonian will be : \n",
    "\n",
    "$$ C = A\\sum_{v} (1 - \\sum_{i=1}^{m} \\frac{1-z_{v,i}}{2})^2 + A\\sum_{(uv) \\in E}^{n} \\sum_{i=1}^{m} \\frac{1-z_{u,i}}{2}*\\frac{1-z_{v,i}}{2}$$"
   ]
  },
  {
   "cell_type": "markdown",
   "id": "196b1a7e-6126-4c78-966b-89f64f7ba9b2",
   "metadata": {},
   "source": [
    "The eigenvalues of a Z Pauli operator are 1 and -1, thus we can make use of the diagonal Z operator in writing the ising Hamiltonian of the above cost function.\n",
    "\n",
    "The blueqat code for creating the ising Hamiltonian is :"
   ]
  },
  {
   "cell_type": "code",
   "execution_count": 14,
   "id": "6ab5b993-3369-44b6-8bd2-7053c5624a0a",
   "metadata": {},
   "outputs": [],
   "source": [
    "from blueqat import vqe\n",
    "from blueqat.pauli import qubo_bit as q\n",
    "import numpy as np\n",
    "\n",
    "a = np.zeros((n,n), dtype=int)\n",
    "\n",
    "for k in G.edges:\n",
    "    a[k[0]][k[1]] = 1\n",
    "    a[k[1]][k[0]] = 1\n",
    "    \n",
    "\n",
    "b = np.zeros((n,m), dtype=int)\n",
    "\n",
    "my_dict = {}\n",
    "\n",
    "\n",
    "\n",
    "\n",
    "num = 0\n",
    "for v in range(n):\n",
    "    for i in range(m):\n",
    "        b[v][i] = num\n",
    "        my_dict[num]=[str(v),i]\n",
    "        num+=1\n",
    "        \n",
    "        \n",
    "\n",
    "\n",
    "h_1= 0.0\n",
    "const_h = 0.0\n",
    "for v in range (n):\n",
    "    for i in range(m):\n",
    "        const_h = const_h + q(b[v,i])\n",
    "        \n",
    "    h_1 = h_1 + (I - const_h)**2\n",
    "    const_h = 0.0\n",
    "        \n",
    "h_2 = 0.0    \n",
    "for u in range(n):\n",
    "    for v in range(n):\n",
    "        for i in range(m):\n",
    "            if(a[u,v]==1):\n",
    "                h_2 = h_2 + q(b[u,i])*q(b[v,i])\n",
    "                \n",
    "h = h_1*10 + h_2*10\n",
    "                \n",
    "    \n"
   ]
  },
  {
   "cell_type": "code",
   "execution_count": 15,
   "id": "79ff7c06-4146-4310-bff9-b7ab058584a3",
   "metadata": {},
   "outputs": [
    {
     "name": "stdout",
     "output_type": "stream",
     "text": [
      "(((0, 0, 1, 0, 1, 0, 1, 0, 0, 0, 1, 0), 0.009452081821214743), ((1, 0, 0, 0, 0, 1, 0, 1, 0, 0, 0, 1), 0.009452081821214743), ((1, 0, 0, 0, 1, 0, 0, 0, 1, 0, 1, 0), 0.009452081821214741), ((1, 0, 0, 0, 0, 1, 0, 1, 0, 0, 1, 0), 0.00945208182121474))\n"
     ]
    }
   ],
   "source": [
    "step = 2\n",
    "\n",
    "result = vqe.Vqe(vqe.QaoaAnsatz(h, step)).run()\n",
    "print(result.most_common(4))"
   ]
  },
  {
   "cell_type": "code",
   "execution_count": 16,
   "id": "dd872a78-42ae-47c0-a4c9-4e60343fbee1",
   "metadata": {},
   "outputs": [
    {
     "name": "stdout",
     "output_type": "stream",
     "text": [
      "['0', 2]\n",
      "['1', 1]\n",
      "['2', 0]\n",
      "['3', 1]\n"
     ]
    }
   ],
   "source": [
    "for i in range(n*m):\n",
    "    if(result.most_common(4)[0][0][i]==1):\n",
    "        print(my_dict[i])"
   ]
  },
  {
   "cell_type": "code",
   "execution_count": null,
   "id": "e1759cc9-74c2-4e80-888f-fcdcda67ebc5",
   "metadata": {},
   "outputs": [],
   "source": []
  }
 ],
 "metadata": {
  "kernelspec": {
   "display_name": "python3.9",
   "language": "python",
   "name": "python3.9"
  },
  "language_info": {
   "codemirror_mode": {
    "name": "ipython",
    "version": 3
   },
   "file_extension": ".py",
   "mimetype": "text/x-python",
   "name": "python",
   "nbconvert_exporter": "python",
   "pygments_lexer": "ipython3",
   "version": "3.9.7"
  }
 },
 "nbformat": 4,
 "nbformat_minor": 5
}
