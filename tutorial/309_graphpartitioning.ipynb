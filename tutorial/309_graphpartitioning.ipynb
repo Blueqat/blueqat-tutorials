{
 "cells": [
  {
   "cell_type": "markdown",
   "id": "426c8503-2ac2-4405-8761-b1e397f0e97a",
   "metadata": {},
   "source": [
    "### Graph Partitioning\n",
    "\n",
    "We are given a graph $G = (V,E)$ with $V$ being the vertex set and $E$ being the edges set. The aim of the graph partitioning problem is to divide the graph into two subsets with equal number of vertices or size such that the edges connecting both the vertices are minimum. If we look carefully this problem is kind of opposite to the max cut problem but with fixed subset sizes.\n"
   ]
  },
  {
   "cell_type": "code",
   "execution_count": 9,
   "id": "eb804e92-a7e3-49fd-82ec-0908039a8ff5",
   "metadata": {},
   "outputs": [
    {
     "data": {
      "image/png": "[encoded data removed]",
      "text/plain": [
       "<Figure size 432x288 with 1 Axes>"
      ]
     },
     "metadata": {},
     "output_type": "display_data"
    }
   ],
   "source": [
    "import networkx as nx\n",
    "import matplotlib.pyplot as plt\n",
    "\n",
    "options = {'node_color': '#efefef','node_size': 1200,'with_labels':'True'}\n",
    "\n",
    "n = 4\n",
    "\n",
    "G = nx.Graph()\n",
    "G.add_nodes_from(nx.path_graph(n))\n",
    "G.add_edges_from([(0,1), (0,2), (0,3),(1,2),(2,3)])\n",
    "nx.draw(G, **options)"
   ]
  },
  {
   "cell_type": "markdown",
   "id": "8d2f2e3b-e255-42cc-8456-58312acdc1f8",
   "metadata": {},
   "source": [
    "When we are creating the Hamiltionian for the above problem, we take into consideration the constarint that both the subsets have equal number of vertices.\n",
    "Thus the constraint : \n",
    "$$ H_C = A(\\sum^N_{n=1} s_i)^2 $$\n",
    "\n",
    "The cost hamiltonian which minimizes the edges between both the subsets is:\n",
    "$$ H_A = B\\sum_{uv \\in E} \\frac{1 - \\sigma_u \\sigma_v}{2}$$\n",
    "\n",
    "The total hamiltonian comes out to be $H = H_A+H_C$.\n",
    "\n",
    "Reference: https://arxiv.org/abs/1302.5843"
   ]
  },
  {
   "cell_type": "code",
   "execution_count": 10,
   "id": "4bf2a863-de82-4186-82e2-bbb8341cdeea",
   "metadata": {},
   "outputs": [],
   "source": [
    "from blueqat import vqe\n",
    "from blueqat.pauli import *\n",
    "import numpy as np\n",
    "\n",
    "a = np.zeros((n), dtype=int)\n",
    "\n",
    "b = np.zeros((n,n), dtype=int)\n",
    "\n",
    "for k in G.edges:\n",
    "    b[k[0]][k[1]] = 1\n",
    "    \n"
   ]
  },
  {
   "cell_type": "code",
   "execution_count": 11,
   "id": "6831000c-99b1-4aa3-aca7-2e30a2ff12d8",
   "metadata": {},
   "outputs": [],
   "source": [
    "h_1 = 0.0\n",
    "for i in range(n):\n",
    "    h_1+= Z(i)\n",
    "    \n",
    "h_1 = h_1**2\n",
    "\n",
    "\n",
    "h_2 = 0.0\n",
    "\n",
    "for i in range(n):\n",
    "    for j in range(n):\n",
    "        if(b[i,j]==1):\n",
    "            h_2+= (1-Z(i)*Z(j))/2\n",
    "            \n",
    "            \n",
    "h = h_1*100 + h_2\n",
    "    \n",
    "\n",
    "\n"
   ]
  },
  {
   "cell_type": "code",
   "execution_count": 12,
   "id": "ccf6b6f2-6985-4e4c-a221-af6a071f6188",
   "metadata": {},
   "outputs": [
    {
     "name": "stdout",
     "output_type": "stream",
     "text": [
      "(((1, 1, 0, 0), 0.23647950461541928), ((0, 0, 1, 1), 0.23647950461541928), ((0, 1, 1, 0), 0.23647950461541917), ((1, 0, 0, 1), 0.23647950461541917))\n"
     ]
    }
   ],
   "source": [
    "step = 2\n",
    "\n",
    "result = vqe.Vqe(vqe.QaoaAnsatz(h, step)).run()\n",
    "print(result.most_common(4))"
   ]
  },
  {
   "cell_type": "code",
   "execution_count": null,
   "id": "fda3a1bd-47e2-4794-95ba-c856197f53dd",
   "metadata": {},
   "outputs": [],
   "source": []
  }
 ],
 "metadata": {
  "kernelspec": {
   "display_name": "python3.9",
   "language": "python",
   "name": "python3.9"
  },
  "language_info": {
   "codemirror_mode": {
    "name": "ipython",
    "version": 3
   },
   "file_extension": ".py",
   "mimetype": "text/x-python",
   "name": "python",
   "nbconvert_exporter": "python",
   "pygments_lexer": "ipython3",
   "version": "3.9.7"
  }
 },
 "nbformat": 4,
 "nbformat_minor": 5
}
