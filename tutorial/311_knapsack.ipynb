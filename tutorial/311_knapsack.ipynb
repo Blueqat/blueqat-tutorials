{
 "cells": [
  {
   "cell_type": "markdown",
   "metadata": {
    "colab_type": "text",
    "id": "f6Vfr69gcsyJ"
   },
   "source": [
    "# Knapsack With Integer Weights\n",
    "\n",
    "Now we have weight $(w_\\alpha \\geq 0)$ and value $(c_\\alpha \\geq 0)$ of N items.\n",
    "We put some of these into a knapsack we keep the limit of weight as $ \\displaystyle W(= \\sum _ {\\alpha = 1} ^ {N} w_{\\alpha}x_{\\alpha})$ , $W_{limit}$ and take the maximum sum of value $ \\displaystyle C(= \\sum _ {\\alpha = 1} ^ {N} c_{\\alpha}x_{\\alpha})$."
   ]
  },
  {
   "cell_type": "markdown",
   "metadata": {
    "colab_type": "text",
    "id": "YCzYtm5ccsyL"
   },
   "source": [
    "# Cost function\n",
    "\n",
    "We have cost function from this paper.\n",
    "( https://arxiv.org/abs/1302.5843 )。  \n",
    "\n",
    "$H = H_A + H_B$  \n",
    "$\\displaystyle H_A = A \\left( 1 - \\sum _ { i = 1 } ^ { W_{limit} } y_i \\right) ^ { 2 }+ A \\left( \\sum _ { i = 1 } ^ { W_{limit} } i y_i - \\sum _ { \\alpha } w_\\alpha x_\\alpha \\right) ^ { 2 }$  \n",
    "$\\displaystyle H_B = -B \\sum _ { \\alpha } c_\\alpha x_\\alpha$  "
   ]
  },
  {
   "cell_type": "markdown",
   "metadata": {
    "colab_type": "text",
    "id": "TJMZDv9ecsyQ"
   },
   "source": [
    "# Creating QUBO\n",
    "Now we have the QUBO"
   ]
  },
  {
   "cell_type": "markdown",
   "metadata": {
    "colab_type": "text",
    "id": "WqP1DFMtcsyR"
   },
   "source": [
    "$H _ { A }$  \n",
    "$ \\displaystyle\n",
    "=A \\left\\{\n",
    "    -2 \\left( \\sum _ { i = 1 } ^ { W_{limit} } y_i \\right)\n",
    "    +\\left( \\sum _ { i = 1 } ^ { W_{limit} } y_i \\right) ^ { 2 }\n",
    "    +\\left( \\sum _ { i = 1 } ^ { W_{limit} } iy_i \\right) ^ { 2 }\n",
    "    -2 \\left( \\sum _ { i = 1 } ^ { W_{limit} } iy_i \\right) \\left( \\sum _ \\alpha w_\\alpha x_\\alpha \\right)\n",
    "    +\\left( \\sum _ \\alpha w_\\alpha x_\\alpha \\right) ^ 2 \\right\\}\n",
    "$  \n",
    "\n",
    "$ \\displaystyle\n",
    "= A \\left\\{\n",
    "    \\left( \\sum _ { i = 1 } ^ { W_{limit} } -2 y_i \\right)\n",
    "   +\\left( \\sum _ { i = 1 } ^ { W_{limit} } y_i ^ 2 \\right)\n",
    "   +\\left( \\mathop { \\sum \\sum } _ { i \\neq j } ^ { W_{limit} } 2 y_i y_j \\right)\n",
    "   +\\left( \\sum _ { i = 1 } ^ { W_{limit} } i ^ 2 y_i ^ 2 \\right)\n",
    "   \\right.\n",
    "$  \n",
    "\n",
    "$ \\displaystyle\n",
    "\\quad \\left.\n",
    "   +\\left( \\mathop { \\sum \\sum } _ {i \\neq j } ^ { W_{limit} } 2ij y_i y_j \\right)\n",
    "   +\\left( \\sum _ { i = 1 } ^ { W_{limit} } \\sum _ { \\alpha } \\left( -2i w _ \\alpha x _ \\alpha y _ i \\right) \\right)\n",
    "   +\\left( \\sum _ \\alpha w_\\alpha ^ 2 x_\\alpha ^ 2 \\right)\n",
    "   +\\left( \\sum _ { \\alpha } \\sum _ { \\beta } 2 w_\\alpha w_\\beta x_\\alpha x_\\beta\\right )\n",
    "   \\right\\}\n",
    "$  \n",
    "\n",
    "$ \\displaystyle\n",
    "= A \\left\\{\n",
    "     \\sum _ { \\alpha } w_\\alpha ^ 2x_\\alpha ^ 2\n",
    "   +\\sum _ { \\alpha } \\sum _ { \\beta } 2 w_\\alpha w_\\beta x_\\alpha x_\\beta\n",
    "   +\\sum _ { \\alpha } \\sum _ { i = 1 } ^ { W_{limit} }\\left( -2 w_\\alpha i \\right) x_\\alpha y_i\n",
    "   +\\sum _ { i = 1 } ^ { W_{limit} } \\left( i ^ 2 - 1\\right) y_i ^ 2\n",
    "   +\\mathop { \\sum \\sum } _ { i \\neq j } ^ { W_{limit} } 2 \\left( 1 + ij \\right) y_i y_j\n",
    "   \\right\\}\n",
    "$ "
   ]
  },
  {
   "cell_type": "markdown",
   "metadata": {
    "colab_type": "text",
    "id": "IirfunElcsyR"
   },
   "source": [
    "Let's start solving it using blueqat\n",
    "\n",
    "pip install blueqat\n",
    "\n",
    "And prepare for the libraries."
   ]
  },
  {
   "cell_type": "code",
   "execution_count": 1,
   "metadata": {
    "colab": {},
    "colab_type": "code",
    "id": "_Mstp8nIcsyT"
   },
   "outputs": [],
   "source": [
    "import numpy as np\n",
    "from blueqat import vqe\n",
    "from blueqat.pauli import X, Y, Z, I"
   ]
  },
  {
   "cell_type": "markdown",
   "metadata": {
    "colab_type": "text",
    "id": "K4U1JsLvcsyX"
   },
   "source": [
    "Now we prepare some functions.\n"
   ]
  },
  {
   "cell_type": "code",
   "execution_count": 2,
   "metadata": {
    "colab": {},
    "colab_type": "code",
    "id": "i6nP3diPcsyY"
   },
   "outputs": [],
   "source": [
    "class Item():\n",
    "    def __init__(self, number, weight, cost):\n",
    "        self.__number = number\n",
    "        self.__weight = weight\n",
    "        self.__cost = cost\n",
    "\n",
    "    @property\n",
    "    def weight(self):\n",
    "        return self.__weight\n",
    "\n",
    "    @property\n",
    "    def cost(self):\n",
    "        return self.__cost\n",
    "\n",
    "    def __str__(self):\n",
    "        return f\"#{self.__number} (weight : {self.weight}, cost : {self.cost})\""
   ]
  },
  {
   "cell_type": "code",
   "execution_count": 3,
   "metadata": {
    "colab": {},
    "colab_type": "code",
    "id": "MSHKSzI5csyd"
   },
   "outputs": [],
   "source": [
    "def get_qubo(items, wlimit, A, B):\n",
    "    # qubo\n",
    "    x_size = len(items)\n",
    "    y_size = wlimit\n",
    "    size = x_size + y_size\n",
    "    qubo = 0\n",
    "    for i in range(0,size):\n",
    "        for j in range(0, size):\n",
    "            if i > j:\n",
    "                continue\n",
    "                \n",
    "            wi = items[i].weight if i < x_size else 0\n",
    "            wj = items[j].weight if j < x_size else 0 \n",
    "            ci = items[i].cost if i < x_size else 0      \n",
    "            wsum_i = i - x_size + 1\n",
    "            wsum_j = j - x_size + 1\n",
    "\n",
    "            # diagonal elements\n",
    "            if i == j:\n",
    "                if i < x_size: # xi*xi\n",
    "                    qubo += A*wi**2*Z(i)*Z(i) - B * ci\n",
    "                else: # yi*yi\n",
    "                    qubo += A * (-1 + wsum_i * wsum_j)*Z(i)*Z(i)\n",
    "            # off-diagonal\n",
    "            else: # i < j\n",
    "                if i < x_size and j < x_size: # xi*xj\n",
    "                    qubo += 2 * A * wi * wj*Z(i)*Z(j)\n",
    "                elif i < x_size and j >= x_size: # xi*yj\n",
    "                    qubo += -2 * A * wi * wsum_j*Z(i)*Z(j)\n",
    "                else: # yi*yj\n",
    "                    qubo += 2 * A * (1 + wsum_i * wsum_j)*Z(i)*Z(j)\n",
    "\n",
    "    return qubo"
   ]
  },
  {
   "cell_type": "markdown",
   "metadata": {
    "colab_type": "text",
    "id": "I9v5h-01csyx"
   },
   "source": [
    "Now we have some example of items."
   ]
  },
  {
   "cell_type": "code",
   "execution_count": 4,
   "metadata": {
    "colab": {},
    "colab_type": "code",
    "id": "txHCM8Abcsy0"
   },
   "outputs": [],
   "source": [
    "items = []\n",
    "items.append(Item(number=0, weight=1, cost=10))\n",
    "items.append(Item(number=1, weight=2, cost=15))\n",
    "items.append(Item(number=2, weight=2, cost=55))\n",
    "items.append(Item(number=3, weight=3, cost=50))"
   ]
  },
  {
   "cell_type": "markdown",
   "metadata": {
    "colab_type": "text",
    "id": "ATBTcbXWcsy4"
   },
   "source": [
    "And solve with some parameters."
   ]
  },
  {
   "cell_type": "code",
   "execution_count": 5,
   "metadata": {
    "colab": {
     "base_uri": "https://localhost:8080/",
     "height": 14858
    },
    "colab_type": "code",
    "id": "xEJA9agOcsy4",
    "outputId": "53e62154-fc91-4a25-c3f6-df20ee333f3f"
   },
   "outputs": [],
   "source": [
    "from blueqat.pauli import X, Y, Z, I\n",
    "\n",
    "# max weight\n",
    "wlimit = 4\n",
    "\n",
    "# get B from the cost\n",
    "A = 1\n",
    "cmax = max(items, key = lambda item : item.cost).cost\n",
    "B = A / cmax * 0.9\n",
    "\n",
    "step = 100\n",
    "\n",
    "h = get_qubo(items, wlimit, A, B)\n",
    "\n",
    "result = vqe.Vqe(vqe.QaoaAnsatz(h, step)).run()"
   ]
  },
  {
   "cell_type": "code",
   "execution_count": 6,
   "metadata": {},
   "outputs": [
    {
     "name": "stdout",
     "output_type": "stream",
     "text": [
      "(((0, 0, 1, 0, 1, 1, 0, 0), 0.0382605841469839), ((1, 1, 0, 1, 0, 0, 1, 1), 0.0382605841469839), ((0, 1, 0, 0, 1, 1, 0, 0), 0.03826058414698384), ((1, 0, 1, 1, 0, 0, 1, 1), 0.03826058414698384), ((0, 0, 0, 1, 1, 1, 0, 0), 0.03463485420328392), ((1, 1, 1, 0, 0, 0, 1, 1), 0.03463485420328392), ((0, 1, 1, 0, 0, 1, 1, 0), 0.034626114860870374), ((1, 0, 0, 1, 1, 0, 0, 1), 0.034626114860870374), ((1, 1, 1, 0, 0, 1, 1, 0), 0.03273759172747863), ((0, 0, 0, 1, 1, 0, 0, 1), 0.03273759172747863), ((0, 0, 0, 1, 0, 1, 1, 0), 0.031446484135726795), ((1, 1, 1, 0, 1, 0, 0, 1), 0.031446484135726795), ((1, 0, 0, 0, 1, 1, 0, 0), 0.029891402021865947), ((0, 1, 1, 1, 0, 0, 1, 1), 0.029891402021865947), ((0, 0, 0, 0, 1, 0, 0, 0), 0.022638974869898073), ((1, 1, 1, 1, 0, 1, 1, 1), 0.022638974869898073), ((1, 0, 0, 0, 0, 1, 0, 0), 0.019124487517574347), ((0, 1, 1, 1, 1, 0, 1, 1), 0.019124487517574347), ((0, 1, 0, 0, 1, 0, 1, 0), 0.019071672930417224), ((1, 0, 1, 1, 0, 1, 0, 1), 0.019071672930417224))\n"
     ]
    }
   ],
   "source": [
    "print(result.most_common(20))"
   ]
  }
 ],
 "metadata": {
  "colab": {
   "name": "tutorial011_knapsack_with_integer_weights_en.ipynb",
   "provenance": [],
   "version": "0.3.2"
  },
  "kernelspec": {
   "display_name": "Python 3 (ipykernel)",
   "language": "python",
   "name": "python3"
  },
  "language_info": {
   "codemirror_mode": {
    "name": "ipython",
    "version": 3
   },
   "file_extension": ".py",
   "mimetype": "text/x-python",
   "name": "python",
   "nbconvert_exporter": "python",
   "pygments_lexer": "ipython3",
   "version": "3.9.7"
  }
 },
 "nbformat": 4,
 "nbformat_minor": 1
}
