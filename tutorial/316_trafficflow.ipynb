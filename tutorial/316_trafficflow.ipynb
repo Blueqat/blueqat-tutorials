{
 "cells": [
  {
   "cell_type": "markdown",
   "metadata": {
    "colab_type": "text",
    "id": "obQW5jfvvg7x"
   },
   "source": [
    "# Traffic Flow Optimization with XYmixer on QAOA\n",
    "The traffic optimization problem is one of the most famous optimization problems in quantum computing."
   ]
  },
  {
   "cell_type": "markdown",
   "metadata": {
    "colab_type": "text",
    "id": "_EDJAEs4zaMM"
   },
   "source": [
    "## References\n",
    "Traffic flow optimization using a quantum annealer  \n",
    "Florian Neukart, Gabriele Compostella, Christian Seidel, David von Dollen, Sheir Yarkoni, Bob Parney   \n",
    "https://arxiv.org/abs/1708.01625"
   ]
  },
  {
   "cell_type": "markdown",
   "metadata": {
    "colab_type": "text",
    "id": "Fdh7XfRtz17m"
   },
   "source": [
    "## Example\n",
    "Consider a network of 9 intersections and 12 streets."
   ]
  },
  {
   "cell_type": "code",
   "execution_count": 1,
   "metadata": {
    "colab_type": "text",
    "id": "Fdh7XfRtz17m"
   },
   "outputs": [
    {
     "data": {
      "image/png": "[encoded data removed]",
      "text/plain": [
       "<Figure size 432x288 with 1 Axes>"
      ]
     },
     "metadata": {},
     "output_type": "display_data"
    }
   ],
   "source": [
    "import networkx as nx\n",
    "import matplotlib.pyplot as plt\n",
    "\n",
    "G = nx.Graph()\n",
    "G.add_nodes_from([i for i in range(9)])\n",
    "G.add_edges_from([[0,1],(1,2),(0,3),(1,4),(2,5),(3,4),(4,5),(3,6),(4,7),(5,8),(6,7),(7,8)])\n",
    "options = {'node_size': 1200,'with_labels':'True'}\n",
    "pos = nx.spring_layout(G)\n",
    "nx.draw(G, pos, **options, node_color='#efefef')\n",
    "\n",
    "edge_labels={(0,1):'s0',(1,2):'s1',(0,3):'s2',(1,4):'s3',(2,5):'s4',(3,4):'s5',(4,5):'s6',(3,6):'s7',(4,7):'s8',(5,8):'s9',(6,7):'s10',(7,8):'s11'}\n",
    "nx.draw_networkx_edge_labels(G, pos, edge_labels=edge_labels)\n",
    "plt.show()"
   ]
  },
  {
   "cell_type": "markdown",
   "metadata": {
    "colab_type": "text",
    "id": "JHpcOxEKLhDv"
   },
   "source": [
    "## 2 Cars and 3 possible routes for each car\n",
    "Now there are two cars, going from point 0 to point 8. We propose three routes for each car to take, and consider the cost of each route to be counted as congestion if the cars take the same street. Then assign a qubit to each proposed route from Q0 to Q5.\n",
    "\n",
    "route for car1  \n",
    "Q0 : s0,s3,s8,s11  \n",
    "Q1 : s2,s7,s10,s11  \n",
    "Q2 : s0,s1,s4,s9  \n",
    "\n",
    "route for car2  \n",
    "Q3 : s0,s3,s8,s11  \n",
    "Q4 : s2,s7,s10,s11  \n",
    "Q5 : s0,s1,s4,s9  "
   ]
  },
  {
   "cell_type": "markdown",
   "metadata": {
    "colab_type": "text",
    "id": "uyAnT5dwL4V-"
   },
   "source": [
    "## Calculation of congestion level\n",
    "The level of congestion is determined by whether the street appears within the proposed route or not.　We can calculate the congestion for the roads from s0 to s11 and add them together to get the overall congestion level. For example, s0 appears in Q0, Q2, Q3, and Q5 of the proposed routes, so the cost is $(Q0+Q2+Q3+Q5)^2$. The whole cost is,\n",
    "\n",
    "$$\n",
    "H = (Q0+Q2+Q3+Q5)^2 + (Q2+Q5)^2 + (Q1+Q4)^2 + (Q0+Q3)^2 + (Q2+Q5)^2 + (Q1*Q4)^2 + (Q0+Q3)^2 + (Q2+Q5)^2 + (Q1+Q4)^2 + (Q0+Q1+Q3+Q4)^2\n",
    "$$\n",
    "\n",
    "Expanding the expression and substituting the value with a binary rule yields\n"
   ]
  },
  {
   "cell_type": "code",
   "execution_count": 2,
   "metadata": {},
   "outputs": [
    {
     "data": {
      "text/latex": [
       "$\\displaystyle 2 Q_{0} Q_{1} + 2 Q_{0} Q_{2} + 8 Q_{0} Q_{3} + 2 Q_{0} Q_{4} + 2 Q_{0} Q_{5} + 4 Q_{0} + 2 Q_{1} Q_{3} + 7 Q_{1} Q_{4} + 3 Q_{1} + 2 Q_{2} Q_{3} + 8 Q_{2} Q_{5} + 4 Q_{2} + 2 Q_{3} Q_{4} + 2 Q_{3} Q_{5} + 4 Q_{3} + 3 Q_{4} + 4 Q_{5}$"
      ],
      "text/plain": [
       "2*Q0*Q1 + 2*Q0*Q2 + 8*Q0*Q3 + 2*Q0*Q4 + 2*Q0*Q5 + 4*Q0 + 2*Q1*Q3 + 7*Q1*Q4 + 3*Q1 + 2*Q2*Q3 + 8*Q2*Q5 + 4*Q2 + 2*Q3*Q4 + 2*Q3*Q5 + 4*Q3 + 3*Q4 + 4*Q5"
      ]
     },
     "execution_count": 2,
     "metadata": {},
     "output_type": "execute_result"
    }
   ],
   "source": [
    "from sympy import *\n",
    "\n",
    "Q0 = Symbol('Q0')\n",
    "Q1 = Symbol('Q1')\n",
    "Q2 = Symbol('Q2')\n",
    "Q3 = Symbol('Q3')\n",
    "Q4 = Symbol('Q4')\n",
    "Q5 = Symbol('Q5')\n",
    "\n",
    "H = (Q0+Q2+Q3+Q5)**2 + (Q2+Q5)**2 + (Q1+Q4)**2 + (Q0+Q3)**2 + (Q2+Q5)**2 + (Q1*Q4)**2 + (Q0+Q3)**2 + (Q2+Q5)**2 + (Q1+Q4)**2 + (Q0+Q1+Q3+Q4)**2\n",
    "\n",
    "H = expand(H)\n",
    "H = H.subs(Q0**2, Q0)\n",
    "H = H.subs(Q1**2, Q1)\n",
    "H = H.subs(Q2**2, Q2)\n",
    "H = H.subs(Q3**2, Q3)\n",
    "H = H.subs(Q4**2, Q4)\n",
    "H = H.subs(Q5**2, Q5)\n",
    "\n",
    "H"
   ]
  },
  {
   "cell_type": "markdown",
   "metadata": {},
   "source": [
    "Now the Hamiltonian is ready. We use QAOA to find the expectation value of the minimum of this equation."
   ]
  },
  {
   "cell_type": "markdown",
   "metadata": {},
   "source": [
    "## Hard constraints\n",
    "There is one constraint that must be observed here. That is the constraint that each car should choose only one route. This can be easily solved by using XYmixer. The XYmixer is a Hamiltonian that determines how the problem is explored; the search is performed in such a way that the 01 and 10 state vectors are swapped. Here, car 1 and car 2 choose only one of the three routes, so only one of the three qubits, Q0, Q1, Q2, will be 1 and the rest will be 0. Likewise, only one of the qubits Q3, Q4, and Q5 will be 1. To maintain this state, a mechanism for exchanging qubits, called 2opt, is used. For the initial state, choose any state that satisfies the constraints."
   ]
  },
  {
   "cell_type": "markdown",
   "metadata": {},
   "source": [
    "## Quantum Alternating Operator Ansatz"
   ]
  },
  {
   "cell_type": "code",
   "execution_count": 3,
   "metadata": {},
   "outputs": [
    {
     "data": {
      "text/plain": [
       "(((0, 1, 0, 0, 0, 1), 0.37291765538289845),\n",
       " ((0, 0, 1, 0, 1, 0), 0.3729176553828979),\n",
       " ((0, 0, 1, 1, 0, 0), 0.08145920498348241),\n",
       " ((1, 0, 0, 0, 0, 1), 0.0814592049834823),\n",
       " ((1, 0, 0, 1, 0, 0), 0.02375992120568354),\n",
       " ((0, 1, 0, 0, 1, 0), 0.022701464389553148),\n",
       " ((0, 0, 1, 0, 0, 1), 0.017478879274962108),\n",
       " ((0, 1, 0, 1, 0, 0), 0.013653007198510678),\n",
       " ((1, 0, 0, 0, 1, 0), 0.013653007198510647),\n",
       " ((0, 0, 0, 0, 1, 0), 1.1219347803421538e-31))"
      ]
     },
     "execution_count": 3,
     "metadata": {},
     "output_type": "execute_result"
    }
   ],
   "source": [
    "from blueqat import vqe, Circuit\n",
    "from blueqat.pauli import X, Y\n",
    "from blueqat.pauli import qubo_bit as q\n",
    "\n",
    "hamiltonian = 2*q(0)*q(1)+2*q(0)*q(2)+8*q(0)*q(3)+2*q(0)*q(4)+2*q(0)*q(5)+4*q(0)+2*q(1)*q(3)+7*q(1)*q(4)+3*q(1)+2*q(2)*q(3)+8*q(2)*q(5)+4*q(2)+2*q(3)*q(4)+2*q(3)*q(5)+4*q(3)+3*q(4)+4*q(5)\n",
    "step = 4\n",
    "\n",
    "#mixer and init state\n",
    "mixer = 0.5*X[0]*X[1] + 0.5*Y[0]*Y[1] + 0.5*X[1]*X[2] + 0.5*Y[1]*Y[2] + 0.5*X[2]*X[0] + 0.5*Y[2]*Y[0]\n",
    "mixer += 0.5*X[3]*X[4] + 0.5*Y[3]*Y[4] + 0.5*X[4]*X[5] + 0.5*Y[4]*Y[5] + 0.5*X[5]*X[3] + 0.5*Y[5]*Y[3]\n",
    "init = Circuit(6).x[0].x[3]\n",
    "\n",
    "result = vqe.Vqe(vqe.QaoaAnsatz(hamiltonian, step, init, mixer)).run()\n",
    "result.most_common(10)"
   ]
  },
  {
   "cell_type": "markdown",
   "metadata": {},
   "source": [
    "In the end, the combination of either Q2 and Q4 or Q1 and Q5 resulted in the least congestion. These solutions are considered correct because they do not go through the same road"
   ]
  },
  {
   "cell_type": "markdown",
   "metadata": {},
   "source": [
    "## Solve using IonQ and Rigetti"
   ]
  },
  {
   "cell_type": "code",
   "execution_count": 4,
   "metadata": {},
   "outputs": [],
   "source": [
    "from bqcloud import load_api\n",
    "from blueqat import Circuit\n",
    "from bqcloud import Device\n",
    "\n",
    "api = load_api()\n",
    "\n",
    "# Circuit, Device, Number of shots, Group name(Optional) for IonQ\n",
    "task_ionq = api.execute(result.circuit, Device.IonQDevice, 10)\n",
    "\n",
    "# Circuit, Device, Number of shots, Group name(Optional) for Rigetti\n",
    "task_rigetti = api.execute(result.circuit, Device.Aspen11, 10)"
   ]
  }
 ],
 "metadata": {
  "colab": {
   "name": "tutorial017_traffic_flow_optimization_en.ipynb",
   "provenance": [],
   "version": "0.3.2"
  },
  "kernelspec": {
   "display_name": "Python 3",
   "language": "python",
   "name": "python3"
  },
  "language_info": {
   "codemirror_mode": {
    "name": "ipython",
    "version": 3
   },
   "file_extension": ".py",
   "mimetype": "text/x-python",
   "name": "python",
   "nbconvert_exporter": "python",
   "pygments_lexer": "ipython3",
   "version": "3.8.8"
  }
 },
 "nbformat": 4,
 "nbformat_minor": 4
}
