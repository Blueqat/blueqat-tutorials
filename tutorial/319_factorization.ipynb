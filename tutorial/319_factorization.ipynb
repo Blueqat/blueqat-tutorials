{
 "cells": [
  {
   "cell_type": "markdown",
   "metadata": {
    "colab_type": "text",
    "id": "ktatybgO-wRd"
   },
   "source": [
    "# Prime Factoring by QUBO\n",
    "Now we solve simple prime factoring by using QUBO matrix to solve the minimum problem."
   ]
  },
  {
   "cell_type": "markdown",
   "metadata": {
    "colab_type": "text",
    "id": "EVdS3AsVGCq8"
   },
   "source": [
    "## Factoring 15\n",
    "Now we try factoring 15 to p and q.\n",
    "p and q are prime factors\n",
    "\n",
    "$$\n",
    "15 = p*q\n",
    "$$\n",
    "\n",
    "To get p and q we solve the equation below.\n",
    "\n",
    "$$\n",
    "E=(15 - p*q)^2\n",
    "$$\n",
    "\n",
    "p and q also can write as decimal number using qubits which has binary value.\n",
    "\n",
    "$$\n",
    "p = 1+2q_0+4q_1 \\\\\n",
    "q = 1+2q2\n",
    "$$\n",
    "\n",
    "substitute these and we get equation below.\n",
    "\n",
    "$$\n",
    "E = \\{15-(1+2q_0+4q_1)(1+2q_2)\\}^2\n",
    "$$"
   ]
  },
  {
   "cell_type": "code",
   "execution_count": 1,
   "metadata": {},
   "outputs": [
    {
     "data": {
      "text/latex": [
       "$\\displaystyle 16 q_{0}^{2} q_{2}^{2} + 16 q_{0}^{2} q_{2} + 4 q_{0}^{2} + 64 q_{0} q_{1} q_{2}^{2} + 64 q_{0} q_{1} q_{2} + 16 q_{0} q_{1} + 16 q_{0} q_{2}^{2} - 104 q_{0} q_{2} - 56 q_{0} + 64 q_{1}^{2} q_{2}^{2} + 64 q_{1}^{2} q_{2} + 16 q_{1}^{2} + 32 q_{1} q_{2}^{2} - 208 q_{1} q_{2} - 112 q_{1} + 4 q_{2}^{2} - 56 q_{2} + 196$"
      ],
      "text/plain": [
       "16*q0**2*q2**2 + 16*q0**2*q2 + 4*q0**2 + 64*q0*q1*q2**2 + 64*q0*q1*q2 + 16*q0*q1 + 16*q0*q2**2 - 104*q0*q2 - 56*q0 + 64*q1**2*q2**2 + 64*q1**2*q2 + 16*q1**2 + 32*q1*q2**2 - 208*q1*q2 - 112*q1 + 4*q2**2 - 56*q2 + 196"
      ]
     },
     "execution_count": 1,
     "metadata": {},
     "output_type": "execute_result"
    }
   ],
   "source": [
    "from sympy import *\n",
    "\n",
    "q0 = Symbol('q0')\n",
    "q1 = Symbol('q1')\n",
    "q2 = Symbol('q2')\n",
    "\n",
    "E = (15-(1+2*q0+4*q1)*(1+2*q2))**2\n",
    "E = expand(E)\n",
    "E"
   ]
  },
  {
   "cell_type": "markdown",
   "metadata": {},
   "source": [
    "as the binary numer rules we get."
   ]
  },
  {
   "cell_type": "code",
   "execution_count": 2,
   "metadata": {},
   "outputs": [
    {
     "data": {
      "text/latex": [
       "$\\displaystyle 128 q_{0} q_{1} q_{2} + 16 q_{0} q_{1} - 56 q_{0} q_{2} - 52 q_{0} - 48 q_{1} q_{2} - 96 q_{1} - 52 q_{2} + 196$"
      ],
      "text/plain": [
       "128*q0*q1*q2 + 16*q0*q1 - 56*q0*q2 - 52*q0 - 48*q1*q2 - 96*q1 - 52*q2 + 196"
      ]
     },
     "execution_count": 2,
     "metadata": {},
     "output_type": "execute_result"
    }
   ],
   "source": [
    "E = E.subs(q0**2, q0)\n",
    "E = E.subs(q1**2, q1)\n",
    "E = E.subs(q2**2, q2)\n",
    "E"
   ]
  },
  {
   "cell_type": "markdown",
   "metadata": {
    "colab_type": "text",
    "id": "4XCKbmOl2BY1"
   },
   "source": [
    "## Solve the QUBO with QAOA\n",
    "By using QAOA we can easily solve the upper problem."
   ]
  },
  {
   "cell_type": "code",
   "execution_count": 12,
   "metadata": {
    "colab": {
     "base_uri": "https://localhost:8080/",
     "height": 51
    },
    "colab_type": "code",
    "id": "fwBgJDHE-uBL",
    "outputId": "b033a32b-cb70-41b8-89bd-cbcd660e8245"
   },
   "outputs": [
    {
     "name": "stdout",
     "output_type": "stream",
     "text": [
      "(((0, 1, 1), 0.842337256187905), ((1, 1, 1), 0.13083477998166643), ((1, 1, 0), 0.015503198595644531), ((1, 0, 1), 0.007599466796274913), ((1, 0, 0), 0.002139956732585671), ((0, 0, 1), 0.0007482531711899896), ((0, 0, 0), 0.0007311234439760303), ((0, 1, 0), 0.00010596509075921791))\n"
     ]
    }
   ],
   "source": [
    "from blueqat import vqe\n",
    "from blueqat.pauli import qubo_bit as q\n",
    "\n",
    "hamiltonian = 128*q(0)*q(1)*q(2)+16*q(0)*q(1)-56*q(0)*q(2)-52*q(0)-48*q(1)*q(2)-96*q(1)-52*q(2)\n",
    "step = 16\n",
    "\n",
    "result = vqe.Vqe(vqe.QaoaAnsatz(hamiltonian, step)).run()\n",
    "print(result.most_common(12))"
   ]
  },
  {
   "cell_type": "markdown",
   "metadata": {
    "colab_type": "text",
    "id": "5FnOKgVXvamp"
   },
   "source": [
    "Now we get (0,1,1) and it shows\n",
    "\n",
    "$$\n",
    "p = 1+2*0+4*1 = 5 \\\\\n",
    "q = 1+2*1 = 3\n",
    "$$\n",
    "\n",
    "And finally we solved the problem using QUBO and minimum problem to solve simple factoring."
   ]
  }
 ],
 "metadata": {
  "colab": {
   "name": "tutorial020_prime_factorization_en.ipynb のコピー",
   "provenance": [],
   "version": "0.3.2"
  },
  "kernelspec": {
   "display_name": "Python 3 (ipykernel)",
   "language": "python",
   "name": "python3"
  },
  "language_info": {
   "codemirror_mode": {
    "name": "ipython",
    "version": 3
   },
   "file_extension": ".py",
   "mimetype": "text/x-python",
   "name": "python",
   "nbconvert_exporter": "python",
   "pygments_lexer": "ipython3",
   "version": "3.7.3"
  }
 },
 "nbformat": 4,
 "nbformat_minor": 1
}
