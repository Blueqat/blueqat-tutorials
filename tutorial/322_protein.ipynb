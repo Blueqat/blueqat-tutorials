{
 "cells": [
  {
   "cell_type": "markdown",
   "metadata": {
    "colab_type": "text",
    "id": "9x8rGoL0OcUW"
   },
   "source": [
    "#Protein Foldings\n",
    "\n",
    "Now we try a simple example from the paper\n",
    "\n",
    "Finding low-energy conformations of lattice protein models by quantum annealing\n",
    "Alejandro Perdomo-Ortiz, Neil Dickson, Marshall Drew-Brook, Geordie Rose & Alán Aspuru-Guzik\n",
    "Scientific Reports volume 2, Article number: 571 (2012)\n",
    "https://www.nature.com/articles/srep00571"
   ]
  },
  {
   "cell_type": "markdown",
   "metadata": {
    "colab_type": "text",
    "id": "7Q5842YzOoFr"
   },
   "source": [
    "##Overview\n",
    "This is solving a simple HP model and Mijazawa-Jernigan(MJ) model of protein model"
   ]
  },
  {
   "cell_type": "markdown",
   "metadata": {
    "colab_type": "text",
    "id": "1lavzUR0O1dk"
   },
   "source": [
    "##MJ model to QUBO\n",
    "Expressing turn using 2 binary values.\n",
    "\n",
    "<img src=\"https://github.com/mdrft/Wildqat/blob/master/examples_ja/img/024_5.png?raw=1\">\n",
    "引用：https://www.nature.com/articles/srep00571\n",
    "\n",
    "This time we use PSVKMA of amino acid.\n",
    "There are some inter action if some acid locate next to specific acid.\n",
    "By using this rules we solve QUBO as minimum function.\n",
    "\n",
    "<img src=\"https://github.com/mdrft/Wildqat/blob/master/examples_ja/img/024_0.png?raw=1\">\n",
    "\n",
    "The whole calculation is complicated so we now solve only a part of it separated to some scheme.\n",
    "\n",
    "<img src=\"https://github.com/mdrft/Wildqat/blob/master/examples_ja/img/024_1.png?raw=1\">\n",
    "\n",
    "引用：https://www.nature.com/articles/srep00571\n",
    "\n",
    "Finally we try to find the most stable state by the QUBO calcuration.\n",
    "\n",
    "<img src=\"https://github.com/mdrft/Wildqat/blob/master/examples_ja/img/024_2.png?raw=1\">\n",
    "\n",
    "引用：https://www.nature.com/articles/srep00571"
   ]
  },
  {
   "cell_type": "markdown",
   "metadata": {
    "colab_type": "text",
    "id": "incREHo7VUM_"
   },
   "source": [
    "##Model and scheme\n",
    "<img src=\"https://github.com/mdrft/Wildqat/blob/master/examples_ja/img/024_4.png?raw=1\">\n",
    "\n",
    "Now we started from the scheme that we already have PSVK and just find out the location of M and A. The list of rotation start from 010 and we already have PSVK and M takes only two possibility so we have now the cost function as \n",
    "\n",
    "<img src=\"https://render.githubusercontent.com/render/math?math=01%2000%2010%20q_1%20%20q_2%20q_3\">\n",
    "\n",
    "Now we try to find value of 3 qubits. We have the cost function from the paper,\n",
    "\n",
    "<img src=\"https://render.githubusercontent.com/render/math?math=E%20%3D%20-1-4q_3%2B9q_1q_3%2B9q_2q_3-16q_1q_2q_3\">\n"
   ]
  },
  {
   "cell_type": "markdown",
   "metadata": {
    "colab_type": "text",
    "id": "13okraFgWdfp"
   },
   "source": [
    "##Boolean reduction of 3-body interaction to 2-body interaction\n",
    "We have to reduce the dimension of the equation using some mathematical technique.\n",
    "Using q4 we have, \n",
    "\n",
    "<img src=\"https://render.githubusercontent.com/render/math?math=q_4=q_1q_2 \">\n",
    "\n",
    "adding a penalty term we have, \n",
    "\n",
    "<img src=\"https://render.githubusercontent.com/render/math?math=E%20%3D%20-1-4q_3%2B9q_1q_3%2B9q_2q_3-16q_3q_4%2B%5Cdelta(3q_4%2Bq_1q_2-2q_1q_4-2q_2q_4)\">\n",
    "\n",
    "By using blueqat we try to solve this equation."
   ]
  },
  {
   "cell_type": "markdown",
   "metadata": {
    "colab_type": "text",
    "id": "UGsLxgGFXGeT"
   },
   "source": [
    "##Solving using blueqat\n",
    "Now we have delta = 10 and just put the cost funtion"
   ]
  },
  {
   "cell_type": "code",
   "execution_count": 1,
   "metadata": {},
   "outputs": [],
   "source": [
    "import numpy as np\n",
    "from blueqat import vqe\n",
    "from blueqat.pauli import qubo_bit as q"
   ]
  },
  {
   "cell_type": "code",
   "execution_count": 2,
   "metadata": {
    "colab": {
     "base_uri": "https://localhost:8080/",
     "height": 51
    },
    "colab_type": "code",
    "id": "C94w4p1qXNaK",
    "outputId": "940b5f9f-1124-44fb-b3c3-ca4b11fdc75f"
   },
   "outputs": [
    {
     "name": "stdout",
     "output_type": "stream",
     "text": [
      "(((0, 0, 1, 0), 0.9998531901935136), ((0, 1, 0, 0), 4.638378682544372e-05), ((1, 0, 0, 0), 4.638378682543682e-05), ((0, 1, 1, 1), 1.5145464068886668e-05), ((1, 0, 1, 1), 1.514546406888327e-05), ((1, 1, 0, 1), 1.0850435861243557e-05), ((0, 0, 0, 0), 6.103191660791661e-06), ((1, 1, 0, 0), 2.0219941454079172e-06), ((0, 0, 0, 1), 1.6139506990286885e-06), ((0, 0, 1, 1), 1.4122868189391485e-06), ((1, 1, 1, 1), 8.045082057090799e-07), ((0, 1, 1, 0), 3.977024947978311e-07))\n"
     ]
    }
   ],
   "source": [
    "h = -1 -4*q(2)+9*q(0)*q(2)+9*q(1)*q(2)-16*q(2)*q(3)+10*(3*q(3)+q(0)*q(1)-2*q(0)*q(3)-2*q(1)*q(3))\n",
    "step = 100\n",
    "result = vqe.Vqe(vqe.QaoaAnsatz(h, step)).run()\n",
    "print(result.most_common(12))"
   ]
  },
  {
   "cell_type": "markdown",
   "metadata": {
    "colab_type": "text",
    "id": "mpLUbubQXfEY"
   },
   "source": [
    "We get the answer 0010 as the list of qubits.\n",
    "The rotation is now,\n",
    "\n",
    "0100100010\n",
    "\n",
    "and we could get the correct rotation and get the most stable state of PSVKMA\n",
    "\n",
    "<img src=\"https://github.com/mdrft/Wildqat/blob/master/examples_ja/img/024_7.png?raw=1\">"
   ]
  }
 ],
 "metadata": {
  "colab": {
   "collapsed_sections": [],
   "name": "tutorial024_protein_foldings_en",
   "provenance": [],
   "version": "0.3.2"
  },
  "kernelspec": {
   "display_name": "Python 3 (ipykernel)",
   "language": "python",
   "name": "python3"
  },
  "language_info": {
   "codemirror_mode": {
    "name": "ipython",
    "version": 3
   },
   "file_extension": ".py",
   "mimetype": "text/x-python",
   "name": "python",
   "nbconvert_exporter": "python",
   "pygments_lexer": "ipython3",
   "version": "3.9.7"
  }
 },
 "nbformat": 4,
 "nbformat_minor": 1
}
