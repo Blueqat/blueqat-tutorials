{
 "cells": [
  {
   "cell_type": "markdown",
   "id": "robust-horizon",
   "metadata": {},
   "source": [
    "# Bernstein-Vazirani algorithm（Overview）"
   ]
  },
  {
   "cell_type": "markdown",
   "id": "derived-stream",
   "metadata": {},
   "source": [
    "We explain Bernstein-Vazirani algorithm.\n",
    "\n",
    "In this algorithm, we consider the following function that takes $x$ as input and computes the output using the internal bit sequence $a$.\n",
    "\n",
    "$$\n",
    "f_a(x) = (a\\cdot x) \\bmod2 = (\\sum_i a_i x_i) \\bmod2\n",
    "$$\n",
    "\n",
    "The goal is to find the bit sequence $a$ from the output of $f_a(x)$.\n",
    "\n",
    "$a, x$ are $n$-bit strings $a = a_0 a_1... a_{n-1}$, $x = x_0 x_1.... x_{n-1}$, respectively."
   ]
  },
  {
   "cell_type": "markdown",
   "id": "diagnostic-casino",
   "metadata": {},
   "source": [
    "Consider the case where $a$ is a 4-bit sequence $1001$.  \n",
    "A foolproof way to find $x$ in classical calculations is to input $x$ in order, with only one bit set to 1 and the others to 0, as in $x=1000, 0100, 0010, 0001$.   \n",
    "From $0 \\cdot 0 = 0 \\cdot 1 = 0$, the bit with $x_i=0$ do not affect the result, so we can determine the value of $a_i$ one bit at a time.\n",
    "\n",
    "Calculate $f_a(x)$ where $a=1001$ for four different $x$ as follows.\n",
    "\n",
    "$(1001 \\cdot 1000) \\bmod2 = 1$  \n",
    "$(1001 \\cdot 0100) \\bmod2 = 0$  \n",
    "$(1001 \\cdot 0010) \\bmod2 = 0$  \n",
    "$(1001 \\cdot 0001) \\bmod2 = 1$\n",
    "\n",
    "From the above output, we can get $a=1001$."
   ]
  },
  {
   "cell_type": "markdown",
   "id": "instrumental-insured",
   "metadata": {},
   "source": [
    "The Bernstein-Vazirani algorithm uses quantum superposition to find $a$ in a single calculation.  \n",
    "\n",
    "The specific circuit for the case $a=1001$ is as follows.   \n",
    "\n",
    "<img src=\"../img/102_img.png\" width=\"30%\">\n",
    "\n",
    "Let the $CX$ gate act on the qubits $i$, where $a_i=1$ are the control qubits, respectively.  \n",
    "All target qubits are the fourth auxiliary qubit."
   ]
  },
  {
   "cell_type": "markdown",
   "id": "bored-bench",
   "metadata": {},
   "source": [
    "Let's check the states.\n",
    "\n",
    "$$\n",
    "\\begin{align}\n",
    "\\lvert \\psi_1\\rangle &= \\biggl(\\otimes^4 H\\lvert 0\\rangle \\biggr)\\otimes H \\lvert 1\\rangle \\\\\n",
    "&= \\frac{1}{\\sqrt{2}}(\\lvert 0\\rangle + \\lvert 1\\rangle) \\otimes \\frac{1}{\\sqrt{2}}(\\lvert 0\\rangle + \\lvert 1\\rangle) \\otimes \\frac{1}{\\sqrt{2}}(\\lvert 0\\rangle + \\lvert 1\\rangle) \\otimes \\frac{1}{\\sqrt{2}}(\\lvert 0\\rangle + \\lvert 1\\rangle) \\otimes \\frac{1}{\\sqrt{2}}(\\lvert 0\\rangle - \\lvert 1\\rangle)\n",
    "\\end{align}\n",
    "$$"
   ]
  },
  {
   "cell_type": "markdown",
   "id": "handled-lyric",
   "metadata": {},
   "source": [
    "Next, check the state of $\\lvert \\psi_2\\rangle$  \n",
    "Let's focus only on the 0th and 4th qubits that the $CX$ gates act on.\n",
    "\n",
    "$$\n",
    "\\begin{align}\n",
    "\\lvert \\psi_1\\rangle_{04} &= \\frac{1}{\\sqrt{2}}(\\lvert 0\\rangle_0 + \\lvert 1\\rangle_0) \\otimes \\frac{1}{\\sqrt{2}}(\\lvert 0\\rangle_4 - \\lvert 1\\rangle_4) \\\\\n",
    "&= \\lvert +\\rangle_0 \\otimes \\lvert -\\rangle_4\n",
    "\\end{align}\n",
    "$$\n",
    "\n",
    "$$\n",
    "\\begin{align}\n",
    "\\lvert \\psi_2\\rangle_{04} &= \\frac{1}{\\sqrt{2}}\\lvert 0\\rangle_0 \\otimes \\frac{1}{\\sqrt{2}}(\\lvert 0\\rangle_4 - \\lvert 1\\rangle_4) + \\frac{1}{\\sqrt{2}}\\lvert 1\\rangle_0 \\otimes \\frac{1}{\\sqrt{2}}(\\lvert 1\\rangle_4 - \\lvert 0\\rangle_4) \\\\\n",
    "&= \\frac{1}{\\sqrt{2}}\\lvert 0\\rangle_0 \\otimes \\frac{1}{\\sqrt{2}}(\\lvert 0\\rangle_4 - \\lvert 1\\rangle_4) - \\frac{1}{\\sqrt{2}}\\lvert 1\\rangle_0 \\otimes \\frac{1}{\\sqrt{2}}(\\lvert 0\\rangle_4 - \\lvert 1\\rangle_4) \\\\\n",
    "&= \\frac{1}{\\sqrt{2}}(\\lvert 0\\rangle_0 - \\lvert 1\\rangle_0 ) \\otimes \\frac{1}{\\sqrt{2}}(\\lvert 0\\rangle_4 - \\lvert 1\\rangle_4) \\\\\n",
    "&=  \\lvert -\\rangle_0 \\otimes \\lvert -\\rangle_4\n",
    "\\end{align}\n",
    "$$\n",
    "\n"
   ]
  },
  {
   "cell_type": "markdown",
   "id": "turkish-tracy",
   "metadata": {},
   "source": [
    "By acting on the 0th and 4th qubits with a $CX$ gate, we inverted the phase of the 0th qubit, changing it to $\\lvert + \\rangle \\to \\lvert - \\rangle$.    \n",
    "Similarly, with $CX$ gates acting on the third and fourth qubits, the state $\\lvert\\psi_3\\rangle$ is as follows\n",
    "\n",
    "$$\n",
    "\\lvert \\psi_3\\rangle = \\frac{1}{\\sqrt{2}}(\\lvert 0\\rangle - \\lvert 1\\rangle) \\otimes \\frac{1}{\\sqrt{2}}(\\lvert 0\\rangle + \\lvert 1\\rangle) \\otimes \\frac{1}{\\sqrt{2}}(\\lvert 0\\rangle + \\lvert 1\\rangle) \\otimes \\frac{1}{\\sqrt{2}}(\\lvert 0\\rangle - \\lvert 1\\rangle) \\otimes \\frac{1}{\\sqrt{2}}(\\lvert 0\\rangle - \\lvert 1\\rangle)\n",
    "$$"
   ]
  },
  {
   "cell_type": "markdown",
   "id": "popular-brother",
   "metadata": {},
   "source": [
    "Finally, let the H-gate act.\n",
    "\n",
    "$$\n",
    "\\lvert \\psi_4\\rangle = \\lvert 1\\rangle \\otimes \\lvert 0\\rangle \\otimes \\lvert 0\\rangle \\otimes \\lvert 1\\rangle \\otimes \\frac{1}{\\sqrt{2}}(\\lvert 0\\rangle - \\lvert 1\\rangle)\n",
    "$$\n",
    "\n",
    "Measure the 0th to third qubits and we get $1001$ as the measurement result.  \n",
    "Now we can find $a$."
   ]
  },
  {
   "cell_type": "markdown",
   "id": "fiscal-helmet",
   "metadata": {},
   "source": [
    "Let's implement this with blueqat."
   ]
  },
  {
   "cell_type": "code",
   "execution_count": 1,
   "id": "subject-memorabilia",
   "metadata": {},
   "outputs": [],
   "source": [
    "from blueqat import Circuit\n",
    "import numpy as np"
   ]
  },
  {
   "cell_type": "markdown",
   "id": "greek-policy",
   "metadata": {},
   "source": [
    "First, prepare a function to act oracle $U_f$."
   ]
  },
  {
   "cell_type": "code",
   "execution_count": null,
   "id": "artificial-career",
   "metadata": {},
   "outputs": [],
   "source": [
    "def Uf(c, a):\n",
    "    N = len(a)\n",
    "    for i, val in enumerate(list(a)):\n",
    "        if val == '1':\n",
    "            c.cx[i, len(a)]"
   ]
  },
  {
   "cell_type": "markdown",
   "id": "critical-fleet",
   "metadata": {},
   "source": [
    "The following is the main body of the algorithm.  \n",
    "First, determine the $a$ you want to find by a random number.\n",
    "\n",
    "Find $a$ from the output result of the quantum circuit using the oracle, and check if the answer is correct."
   ]
  },
  {
   "cell_type": "code",
   "execution_count": 67,
   "id": "disabled-magnitude",
   "metadata": {},
   "outputs": [
    {
     "name": "stdout",
     "output_type": "stream",
     "text": [
      "Counter({'11001': 1000})\n",
      "OK\n"
     ]
    }
   ],
   "source": [
    "n = 4\n",
    "\n",
    "a = ''\n",
    "for i in range(n):\n",
    "    a += str(np.random.randint(2))\n",
    "    \n",
    "c = Circuit(n + 1)\n",
    "c.x[n].h[:]\n",
    "Uf(c, a)\n",
    "c.h[:].m[:]\n",
    "res = c.run(shots = 1000)\n",
    "\n",
    "print(res)\n",
    "\n",
    "if [arr[:n] for arr in res.keys()] == [a]:\n",
    "    print(\"OK\")\n",
    "else:\n",
    "    print(\"incorrect\")"
   ]
  },
  {
   "cell_type": "markdown",
   "id": "internal-barcelona",
   "metadata": {},
   "source": [
    "From the above, we were able to find the $a$ that the oracle has internally by using the Bernstein-Vazirani algorithm."
   ]
  },
  {
   "cell_type": "code",
   "execution_count": null,
   "id": "upper-point",
   "metadata": {},
   "outputs": [],
   "source": []
  }
 ],
 "metadata": {
  "kernelspec": {
   "display_name": "Python 3",
   "language": "python",
   "name": "python3"
  },
  "language_info": {
   "codemirror_mode": {
    "name": "ipython",
    "version": 3
   },
   "file_extension": ".py",
   "mimetype": "text/x-python",
   "name": "python",
   "nbconvert_exporter": "python",
   "pygments_lexer": "ipython3",
   "version": "3.8.11"
  }
 },
 "nbformat": 4,
 "nbformat_minor": 5
}
