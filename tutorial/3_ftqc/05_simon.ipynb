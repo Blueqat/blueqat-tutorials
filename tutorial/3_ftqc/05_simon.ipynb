{
 "cells": [
  {
   "cell_type": "markdown",
   "id": "quiet-average",
   "metadata": {},
   "source": [
    "# Simon algorithm（Overview）"
   ]
  },
  {
   "cell_type": "markdown",
   "id": "suitable-works",
   "metadata": {},
   "source": [
    "We explain Simon algorithm algorithm.\n",
    "\n",
    "In this algorithm, for a function $f_s(x)$ with $n$-bit input and output ($s$ is any $n$-bit sequence), one of the following is assumed to be true.\n",
    "\n",
    "Case1: Always return different outputs for different inputs (one-to-one correspondence)\n",
    "\n",
    "Case2: For input $x, x'$, if $x' = x\\oplus s$, then $f_s(x) = f_s(x')$. That is, it returns the same output for two inputs.\n",
    "\n",
    "This algorithm determines whether Oracle is case 1 or case 2 above.\n",
    "\n",
    "\n",
    "The concrete quantum circuit is as follows. The contents of $U_f$ are shown for the case of case 2 above and $s=1001$.   \n",
    "The number of qubits is $2 n$.\n",
    "\n",
    "<img src=\"../img/103_img.png\" width=\"50%\">"
   ]
  },
  {
   "cell_type": "markdown",
   "id": "judicial-democrat",
   "metadata": {},
   "source": [
    "Check the state.\n",
    "\n",
    "$$\n",
    "\\begin{align}\n",
    "\\lvert \\psi_1\\rangle &= \\frac{1}{\\sqrt{2^n}} \\biggl(\\otimes^n H\\lvert 0\\rangle \\biggr) \\lvert 0\\rangle^{\\otimes n} \\\\\n",
    "&= \\frac{1}{\\sqrt{2^n}} \\sum_{x=0}^{2^n-1} \\lvert x\\rangle \\lvert 0\\rangle^{\\otimes n}\n",
    "\\end{align}\n",
    "$$"
   ]
  },
  {
   "cell_type": "markdown",
   "id": "electronic-variance",
   "metadata": {},
   "source": [
    "Next, consider $\\lvert \\psi_2 \\rangle$.\n",
    "\n",
    "Here, for $f_s(x)$, we have the following oracle gate $U_f$.\n",
    "\n",
    "$$\n",
    "U_f \\lvert x \\rangle \\lvert 0 \\rangle = \\lvert x \\rangle \\lvert f_s(x) \\rangle\n",
    "$$\n",
    "\n",
    "Using this $U_f$, we get\n",
    "\n",
    "$$\n",
    "\\lvert \\psi_2 \\rangle = \\frac{1}{\\sqrt{2^n}} \\sum_{x=0}^{2^n-1} \\lvert x\\rangle \\lvert f_s(x)\\rangle\n",
    "$$\n",
    "\n",
    "Therefore, $\\lvert \\psi_3 \\rangle$ is as follows\n",
    "\n",
    "$$\n",
    "\\lvert \\psi_3 \\rangle = \\frac{1}{2^n} \\sum_{x=0}^{2^n-1}\\sum_{y=0}^{2^n-1} (-1)^{x\\cdot y} \\lvert y\\rangle \\lvert f_s(x)\\rangle\n",
    "$$"
   ]
  },
  {
   "cell_type": "markdown",
   "id": "after-support",
   "metadata": {},
   "source": [
    "Now, consider what the measurement result of $\\lvert y \\rangle$ would be if $f_s(x)$ were as follows.\n",
    "\n",
    "Case 1: Always return different outputs for different inputs (one-to-one correspondence)\n",
    "\n",
    "All measurement results are obtained with equal probability."
   ]
  },
  {
   "cell_type": "markdown",
   "id": "analyzed-flush",
   "metadata": {},
   "source": [
    "Case 2: For input $x, x'$, if $x' = x\\oplus s$, then $f_s(x) = f_s(x')$. That is, it returns the same output for two inputs.\n",
    "\n",
    "Notice the amplitude $A(y, x)$ of the state $\\lvert y \\rangle \\lvert f_s(x) \\rangle = \\lvert y \\rangle \\lvert f_s(x\\oplus s) \\rangle$.\n",
    "\n",
    "$$\n",
    "A(y, x) = \\frac{1}{2^n} \\{(-1)^{x\\cdot y} + (-1)^{(x\\oplus s) \\cdot y}\\}\n",
    "$$\n",
    "\n",
    "As you can see from the equation, the amplitude of $y$ such that $y\\cdot s \\equiv 1 \\bmod2$  is $0$ due to cancellation.  \n",
    "Therefore, only $y$ is measured such that $y\\cdot s \\equiv 0 \\bmod2$."
   ]
  },
  {
   "cell_type": "markdown",
   "id": "authentic-mention",
   "metadata": {},
   "source": [
    "In both case 1 and case 2, if such $n$ different $y$ are obtained by measurement (except for $00. .0$), we can determine $s'$ such that $y\\cdot s' \\equiv 0 \\bmod2$ for all those $y$.\n",
    " \n",
    "In the case 1, $s'$ is completely random.  \n",
    "However, in the case 2, $f_s(s') = f_s(0)$ is always true because $s' = 0\\oplus s'$.\n",
    "\n",
    "Thus, except for the case where $s'$ such that $f_s(s') = f_s(0)$ is obtained from case 1 with probability $1 / 2^n$, we can check whether $s'$ is obtained from case 1 or case 2 using the oracle gate.  \n",
    "The oracle can be determined from the above."
   ]
  },
  {
   "cell_type": "markdown",
   "id": "interracial-building",
   "metadata": {},
   "source": [
    "Finally, we consider the implementation of the oracle gate $U_f$.\n",
    "\n",
    "In the case 1, it is enough that the output has a one-to-one correspondence with the input $x$.  \n",
    "For simplicity, let's consider a circuit that randomly inserts an $X$ gate.\n",
    "\n",
    "The case 2 is a bit more complicated.  \n",
    "First, the $CX$ gate creates the following state.\n",
    "\n",
    "$$\n",
    "\\lvert \\psi_{1a} \\rangle = \\frac{1}{\\sqrt{2^n}} \\sum_{x=0}^{2^n-1} \\lvert x\\rangle \\lvert x\\rangle\n",
    "$$\n",
    "\n",
    "Next, for the lowest index $i'$ where $s_i=1$, take XOR of the auxiliary register and $s$ only if $x_{i'} = 0$.  \n",
    "As a result, we get the following $\\lvert\\psi_2\\rangle$.\n",
    "\n",
    "$$\n",
    "\\begin{align}\n",
    "\\lvert \\psi_{2} \\rangle &= \\frac{1}{\\sqrt{2^n}} \\biggl(\\sum_{\\{x_{i'}=0\\}} \\lvert x\\rangle \\lvert x \\oplus s\\rangle + \\sum_{\\{x_{i'}=1\\}} \\lvert x\\rangle \\lvert x\\rangle \\biggr) \\\\\n",
    "&= \\frac{1}{\\sqrt{2^n}} \\sum_{x=0}^{2^n-1} \\lvert x\\rangle \\lvert f_s(x)\\rangle\n",
    "\\end{align}\n",
    "$$\n",
    "\n",
    "We can confirm that $f_s(x)$ satisfies case 2 by calculation."
   ]
  },
  {
   "cell_type": "markdown",
   "id": "gothic-village",
   "metadata": {},
   "source": [
    "Let's implement this with blueqat."
   ]
  },
  {
   "cell_type": "code",
   "execution_count": 178,
   "id": "premium-seller",
   "metadata": {},
   "outputs": [],
   "source": [
    "from blueqat import Circuit\n",
    "import numpy as np"
   ]
  },
  {
   "cell_type": "markdown",
   "id": "collectible-minneapolis",
   "metadata": {},
   "source": [
    "Prepare a function for two types of oracle gates $U_f$."
   ]
  },
  {
   "cell_type": "code",
   "execution_count": 179,
   "id": "eligible-soldier",
   "metadata": {},
   "outputs": [],
   "source": [
    "def oracle_1(c, s):\n",
    "    _n = len(s)\n",
    "    for i in range(_n):\n",
    "        if np.random.rand() > 0.5:\n",
    "            c.x[i]\n",
    "    for i in range(_n):\n",
    "        c.cx[i, i + _n]\n",
    "        \n",
    "def oracle_2(c, s):\n",
    "    _n = len(s)\n",
    "    flag = 0\n",
    "    for i, si in enumerate(reversed(s)):\n",
    "        c.cx[i, i + _n]\n",
    "        if si == '1' and flag == 0:\n",
    "            c.x[i]\n",
    "            for j, sj in enumerate(s):\n",
    "                if sj == '1':\n",
    "                    c.cx[i, j + _n]\n",
    "            c.x[i]\n",
    "            flag = 1"
   ]
  },
  {
   "cell_type": "markdown",
   "id": "southeast-sixth",
   "metadata": {},
   "source": [
    "The following is the main body of the algorithm.  \n",
    "First, use a random number to determine the oracle (one of the two types) and the $s$ you want to find.  \n",
    "(In the following, the values are fixed to reproduce the quantum circuit shown in the figure above.)"
   ]
  },
  {
   "cell_type": "code",
   "execution_count": 180,
   "id": "animated-front",
   "metadata": {},
   "outputs": [],
   "source": [
    "n = 4\n",
    "N = np.random.randint(1, 2**n-1)\n",
    "s = bin(N)[2:].zfill(n)\n",
    "which_oracle = np.random.rand()\n",
    "\n",
    "### to reproduce the quantum circuit shown in the figure above ###\n",
    "### Erasing these two lines will randomly determine s and oracle###\n",
    "s = \"1001\" \n",
    "which_oracle = 0\n",
    "######\n",
    "\n",
    "c = Circuit(n * 2)\n",
    "c.h[:n]\n",
    "\n",
    "if which_oracle > 0.5:\n",
    "    oracle_1(c, s)\n",
    "    oracle = \"oracle 1\"\n",
    "else:\n",
    "    oracle_2(c, s)\n",
    "    oracle = \"oracle 2\"\n",
    "    \n",
    "c.h[:n].m[:n]\n",
    "res = c.run(shots = 1000)"
   ]
  },
  {
   "cell_type": "code",
   "execution_count": 181,
   "id": "eastern-thermal",
   "metadata": {},
   "outputs": [
    {
     "data": {
      "text/plain": [
       "Counter({'10010000': 111,\n",
       "         '00100000': 120,\n",
       "         '10110000': 128,\n",
       "         '11110000': 123,\n",
       "         '01100000': 137,\n",
       "         '01000000': 133,\n",
       "         '00000000': 115,\n",
       "         '11010000': 133})"
      ]
     },
     "execution_count": 181,
     "metadata": {},
     "output_type": "execute_result"
    }
   ],
   "source": [
    "res"
   ]
  },
  {
   "cell_type": "markdown",
   "id": "celtic-example",
   "metadata": {},
   "source": [
    "Extract $n$ results other than '00...0' from the sampling result.  "
   ]
  },
  {
   "cell_type": "code",
   "execution_count": 182,
   "id": "sustained-judgment",
   "metadata": {},
   "outputs": [
    {
     "name": "stdout",
     "output_type": "stream",
     "text": [
      "['1001', '0010', '1011', '1111']\n"
     ]
    }
   ],
   "source": [
    "res_list = list(res.keys())\n",
    "_res_list = []\n",
    "for i in res_list:\n",
    "    if i[:n] != '0'*4:\n",
    "        _res_list.append(i[:n])\n",
    "    if len(_res_list) == 4:\n",
    "        break\n",
    "            \n",
    "print(_res_list)"
   ]
  },
  {
   "cell_type": "markdown",
   "id": "uniform-queue",
   "metadata": {},
   "source": [
    "Find $s'$ from the extracted result.  \n",
    "(Here, we are simply looking for $s'$ that matches the condition by brute force, but it is possible to find it efficiently in linear algebra.)\n",
    "\n",
    "If the oracle in case 2 is selected, the resulting $s'$ should be equal to $s$."
   ]
  },
  {
   "cell_type": "code",
   "execution_count": 185,
   "id": "threaded-while",
   "metadata": {},
   "outputs": [],
   "source": [
    "for i in range(2**n):\n",
    "    l = bin(i)[2:].zfill(n)\n",
    "    flag = 1\n",
    "    for sampled in _res_list: \n",
    "        mod = np.sum(np.array(list(l), dtype = np.int64) * np.array(list(sampled), dtype = np.int64)) % 2\n",
    "        if mod:\n",
    "            flag = 0\n",
    "            break\n",
    "    if flag:\n",
    "        output_s = l"
   ]
  },
  {
   "cell_type": "code",
   "execution_count": 186,
   "id": "acquired-trout",
   "metadata": {
    "scrolled": true
   },
   "outputs": [
    {
     "name": "stdout",
     "output_type": "stream",
     "text": [
      "s' = 1001\n",
      "s = 1001\n"
     ]
    }
   ],
   "source": [
    "print(\"s' =\", output_s)\n",
    "print(\"s =\", s)"
   ]
  },
  {
   "cell_type": "code",
   "execution_count": null,
   "id": "public-spine",
   "metadata": {},
   "outputs": [],
   "source": []
  }
 ],
 "metadata": {
  "kernelspec": {
   "display_name": "Python 3",
   "language": "python",
   "name": "python3"
  },
  "language_info": {
   "codemirror_mode": {
    "name": "ipython",
    "version": 3
   },
   "file_extension": ".py",
   "mimetype": "text/x-python",
   "name": "python",
   "nbconvert_exporter": "python",
   "pygments_lexer": "ipython3",
   "version": "3.8.11"
  }
 },
 "nbformat": 4,
 "nbformat_minor": 5
}
