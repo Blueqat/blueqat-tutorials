{
 "cells": [
  {
   "cell_type": "markdown",
   "metadata": {},
   "source": [
    "# Gaussian formula\n",
    "\n",
    "Quantum state of light is classified to \"Gaussian state\" or \"Non-Gaussian state\".  \n",
    "Computation with only Gaussian state has more simple fomulation.\n",
    "\n",
    "- Gaussian Wigner function[[1]](https://arxiv.org/abs/quant-ph/0410100)\n",
    "\n",
    "$W(\\xi) = \\frac{1}{(2\\pi)^{N} \\sqrt{\\det V^{(N)}}} \\exp{\\left( -\\frac{1}{2}(\\xi-\\mu) [V^{(N)}]^{-1} (\\xi-\\mu)^{T} \\right)}$\n",
    "\n",
    "It looks like classical Gaussian distribution.\n",
    "\n",
    "$\\xi = [q_{1}, p_{1}, q_{2}, p_{2}, \\dots, q_{N}, p_{N}]$ represents $N$ qumode's Quadrature phase respectively.  \n",
    "$\\mu$ is mean of $\\xi$.  \n",
    "$V^{(N)}$ is $2N \\times 2N$ covarianve matrix.\n",
    "\n",
    "Same as classical Gaussian distribution, Gaussian Wigner function is parameterized by 1st (mean) and 2nd (covariance) moments.\n",
    "\n",
    "- first moment  \n",
    "$\\bar{\\boldsymbol{\\xi}} = \\langle \\hat{\\boldsymbol{\\xi}} \\rangle= \\mathrm{Tr}[\\hat{\\boldsymbol{\\xi}} \\hat{\\rho}]$\n",
    "\n",
    "- second moment  \n",
    "$V_{ij} = \\frac{1}{2}\\langle \\{\\Delta\\hat{\\xi}_i, \\Delta\\hat{\\xi}_j \\}\\rangle$  \n",
    "$\\{ A, B \\} = AB+BA$\n",
    "\n",
    "Gate operations in Gaussian formula relies on these mean and covariance parameters."
   ]
  },
  {
   "cell_type": "markdown",
   "metadata": {},
   "source": [
    "### Computational efficiency of Gaussian formula\n",
    "\n",
    "Gaussian formula doesn't have non-linear gates required for universal quantum computation.\n",
    "\n",
    "Actually, Gaussian formula use $2N\\times 2N$ matrix for N qumodes.  \n",
    "It means state space increases linear to number of qumodes, so classical computers can simulate it efficiently.\n",
    "\n",
    "So there is no quantum advantage with only gates in Gaussian formula.  \n",
    "\n",
    "(Quantum advantage with GBS uses photon number measurement as non-Gaussian resource.)"
   ]
  },
  {
   "cell_type": "code",
   "execution_count": 1,
   "metadata": {},
   "outputs": [],
   "source": [
    "import photonqat as pq\n",
    "import numpy as np"
   ]
  },
  {
   "cell_type": "markdown",
   "metadata": {},
   "source": [
    "## Basic operations"
   ]
  },
  {
   "cell_type": "markdown",
   "metadata": {},
   "source": [
    "### Desplacement gate\n",
    "\n",
    "Displace quantum state $(\\rm{Re}(\\alpha), Im(\\alpha))$ on phase space $(q, p)$.\n",
    "\n",
    "$$\n",
    "\\begin{bmatrix}\n",
    "q \\\\\n",
    "p\n",
    "\\end{bmatrix}\n",
    "\\to \n",
    "\\begin{bmatrix}\n",
    "q+Re(\\sqrt{2}\\alpha) \\\\\n",
    "p+Im(\\sqrt{2}\\alpha)\n",
    "\\end{bmatrix}\n",
    "$$"
   ]
  },
  {
   "cell_type": "code",
   "execution_count": 4,
   "metadata": {},
   "outputs": [
    {
     "data": {
      "image/png": "[encoded data removed]",
      "text/plain": [
       "<Figure size 432x288 with 1 Axes>"
      ]
     },
     "metadata": {
      "needs_background": "light"
     },
     "output_type": "display_data"
    }
   ],
   "source": [
    "alpha = (1 + 1j) # parameter\n",
    "\n",
    "G = pq.Gaussian(1)\n",
    "G.D(0, alpha) # Dgate\n",
    "\n",
    "G.run()\n",
    "\n",
    "(x, p, W) = G.Wigner(0, plot = 'y', xrange = 5.0, prange = 5.0) # plot Wigner function"
   ]
  },
  {
   "cell_type": "markdown",
   "metadata": {},
   "source": [
    "### Squeezing gate \n"
   ]
  },
  {
   "cell_type": "markdown",
   "metadata": {},
   "source": [
    "Squeeze quantum state on phase space $(q, p)$.  \n",
    "Parameter $r$ represents degree of squeezing.  ($r>0:q$ direction, $r<0:p$ direction)。  \n",
    "Squeezing on some direction leads broadening in perpendicular direction.\n",
    "\n",
    "$$\n",
    "S=\\begin{bmatrix}\n",
    "e^{-r} & 0 \\\\\n",
    "0 & e^{r}\n",
    "\\end{bmatrix}\n",
    "$$\n",
    "\n",
    "$$\n",
    "V \\to SVS^{T} \\\\\n",
    "\\mu \\to S\\mu\n",
    "$$"
   ]
  },
  {
   "cell_type": "code",
   "execution_count": 2,
   "metadata": {},
   "outputs": [
    {
     "data": {
      "image/png": "[encoded data removed]",
      "text/plain": [
       "<Figure size 432x288 with 1 Axes>"
      ]
     },
     "metadata": {
      "needs_background": "light"
     },
     "output_type": "display_data"
    }
   ],
   "source": [
    "r = .5\n",
    "\n",
    "G = pq.Gaussian(1)\n",
    "G.S(0, r) # Sgate\n",
    "\n",
    "G.run()\n",
    "\n",
    "(x, p, W) = G.Wigner(0, plot = 'y', xrange = 5.0, prange = 5.0) # plot Wigner function"
   ]
  },
  {
   "cell_type": "markdown",
   "metadata": {},
   "source": [
    "### Beam splitter\n",
    "\n"
   ]
  },
  {
   "cell_type": "markdown",
   "metadata": {},
   "source": [
    "Beam splitter mixes the two modes of light.  \n",
    "It reflect $R$%, and transmit $T$% of input light ($R + T=100$), also called as partial reflecting mirrors.  \n",
    "\n",
    "$V, \\mu$ are $4\\times4$ matrix and $4$ elements vector for 2 qumode respectively.\n",
    "\n",
    "$$\n",
    "S=\\begin{bmatrix}\n",
    "\\cos{\\theta} & 0 & \\sin{\\theta} & 0\\\\\n",
    "0 & \\cos{\\theta} & 0 & \\sin{\\theta} \\\\\n",
    "-\\sin{\\theta} & 0 & \\cos{\\theta} & 0 \\\\\n",
    "0 & -\\sin{\\theta} & 0 & \\cos{\\theta}\n",
    "\\end{bmatrix}\n",
    "$$\n",
    "\n",
    "\n",
    "$$\n",
    "V \\to SVS^{T} \\\\\n",
    "\\mu \\to S\\mu\n",
    "$$"
   ]
  },
  {
   "cell_type": "markdown",
   "metadata": {},
   "source": [
    "Gaussian formula can't simulate HOM interferometer because it can't handle photon number states.  \n",
    "Instead of it, Desplace mode 0 with D gate and mix mode 0 and mode 1 with beam splitter.  \n",
    "We expect state of mode 1 changes."
   ]
  },
  {
   "cell_type": "code",
   "execution_count": 30,
   "metadata": {},
   "outputs": [
    {
     "data": {
      "image/png": "[encoded data removed]",
      "text/plain": [
       "<Figure size 432x288 with 1 Axes>"
      ]
     },
     "metadata": {
      "needs_background": "light"
     },
     "output_type": "display_data"
    }
   ],
   "source": [
    "alpha = np.sqrt(2)\n",
    "G = pq.Gaussian(2)\n",
    "G.D(0, alpha) # mode 0をDesplace\n",
    "G.BS(0, 1, -np.pi/4) # 50:50 ビームスプリッタ\n",
    "G.run()\n",
    "\n",
    "(x, p, W) = G.Wigner(1, plot = 'y', xrange = 5.0, prange = 5.0) # plot Wigner function for mode1"
   ]
  },
  {
   "cell_type": "markdown",
   "metadata": {},
   "source": [
    "## References"
   ]
  },
  {
   "cell_type": "markdown",
   "metadata": {},
   "source": [
    "[1] https://arxiv.org/abs/quant-ph/0410100"
   ]
  },
  {
   "cell_type": "code",
   "execution_count": null,
   "metadata": {},
   "outputs": [],
   "source": []
  }
 ],
 "metadata": {
  "kernelspec": {
   "display_name": "Python 3",
   "language": "python",
   "name": "python3"
  },
  "language_info": {
   "codemirror_mode": {
    "name": "ipython",
    "version": 3
   },
   "file_extension": ".py",
   "mimetype": "text/x-python",
   "name": "python",
   "nbconvert_exporter": "python",
   "pygments_lexer": "ipython3",
   "version": "3.8.2"
  }
 },
 "nbformat": 4,
 "nbformat_minor": 2
}
