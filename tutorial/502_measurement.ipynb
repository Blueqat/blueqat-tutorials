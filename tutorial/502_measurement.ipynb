{
 "cells": [
  {
   "cell_type": "code",
   "execution_count": 31,
   "id": "occasional-habitat",
   "metadata": {},
   "outputs": [],
   "source": [
    "import photonqat as pq\n",
    "import numpy as np\n",
    "import matplotlib.pyplot as plt"
   ]
  },
  {
   "cell_type": "markdown",
   "id": "direct-bradley",
   "metadata": {},
   "source": [
    "# Measurement"
   ]
  },
  {
   "cell_type": "markdown",
   "id": "pleasant-charleston",
   "metadata": {},
   "source": [
    "## Fockbase"
   ]
  },
  {
   "cell_type": "markdown",
   "id": "reduced-orientation",
   "metadata": {},
   "source": [
    "### Photon number measurement"
   ]
  },
  {
   "cell_type": "markdown",
   "id": "wound-functionality",
   "metadata": {},
   "source": [
    "Measuring photon number state.  \n",
    "The result is deterministic."
   ]
  },
  {
   "cell_type": "code",
   "execution_count": 8,
   "id": "intimate-error",
   "metadata": {},
   "outputs": [
    {
     "name": "stdout",
     "output_type": "stream",
     "text": [
      "[5 5 5 5 5 5 5 5 5 5]\n"
     ]
    }
   ],
   "source": [
    "F = pq.Fock(1, cutoff = 20)\n",
    "F.n_photon(0, 5).run() # prepare five photon state\n",
    "res = F.photonSampling(0, ite = 10)\n",
    "print(res)"
   ]
  },
  {
   "cell_type": "markdown",
   "id": "general-brook",
   "metadata": {},
   "source": [
    "Measuring coherent (displaced) state.  \n",
    "The state is superposition of photon number states, so result is probabilistic.\n",
    "\n",
    "$D(\\alpha) = \\exp(\\alpha \\hat{a}^{\\dagger} - \\alpha^{*}a^{\\dagger})$\n",
    "\n",
    "$D(\\alpha) \\lvert 0 \\rangle = \\lvert\\alpha \\rangle = \\exp(-\\lvert \\alpha \\rvert^2/2) \\sum_n \\frac{\\alpha^n}{(n!)^{1/2}} \\lvert n \\rangle$"
   ]
  },
  {
   "cell_type": "code",
   "execution_count": 96,
   "id": "christian-sculpture",
   "metadata": {},
   "outputs": [
    {
     "name": "stdout",
     "output_type": "stream",
     "text": [
      "[1 0 1 0 1 2 1 2 1 1 1 2 0 0 0 0 0 0 2 1]\n"
     ]
    }
   ],
   "source": [
    "alpha = (0 + 1j) # parameter\n",
    "\n",
    "F = pq.Fock(1, cutoff = 15)\n",
    "F.D(0, alpha) # Dgate\n",
    "F.run()\n",
    "res = F.photonSampling(0, ite = 20)\n",
    "print(res)"
   ]
  },
  {
   "cell_type": "markdown",
   "id": "surface-corpus",
   "metadata": {},
   "source": [
    "### Homodyne measurement\n",
    "\n",
    "Measure quadrature phase $q$ (sometime refered as $x$) or $p$."
   ]
  },
  {
   "cell_type": "markdown",
   "id": "hydraulic-customer",
   "metadata": {},
   "source": [
    "Coherent state, measure $q$"
   ]
  },
  {
   "cell_type": "code",
   "execution_count": 86,
   "id": "western-clone",
   "metadata": {},
   "outputs": [],
   "source": [
    "alpha = 1 + 0.5j\n",
    "theta = 0\n",
    "\n",
    "F = pq.Fock(2)\n",
    "F.D(0, 1 + 0.5j)\n",
    "F.run()\n",
    "res = F.homodyneSampling(0, theta, ite = 1000)"
   ]
  },
  {
   "cell_type": "code",
   "execution_count": 87,
   "id": "pacific-handbook",
   "metadata": {},
   "outputs": [
    {
     "data": {
      "image/png": "[encoded data removed]",
      "text/plain": [
       "<Figure size 432x288 with 1 Axes>"
      ]
     },
     "metadata": {
      "needs_background": "light"
     },
     "output_type": "display_data"
    }
   ],
   "source": [
    "plt.hist(res, bins=50)\n",
    "plt.show()"
   ]
  },
  {
   "cell_type": "markdown",
   "id": "adapted-picture",
   "metadata": {},
   "source": [
    "Coherent state, measure $p$"
   ]
  },
  {
   "cell_type": "code",
   "execution_count": 88,
   "id": "conditional-letter",
   "metadata": {},
   "outputs": [],
   "source": [
    "alpha = 1 + 0.5j\n",
    "theta = - np.pi / 2\n",
    "\n",
    "F = pq.Fock(2)\n",
    "F.D(0, 1 + 0.5j)\n",
    "F.run()\n",
    "res = F.homodyneSampling(0, theta, ite = 1000)"
   ]
  },
  {
   "cell_type": "code",
   "execution_count": 89,
   "id": "greater-mirror",
   "metadata": {},
   "outputs": [
    {
     "data": {
      "image/png": "[encoded data removed]",
      "text/plain": [
       "<Figure size 432x288 with 1 Axes>"
      ]
     },
     "metadata": {
      "needs_background": "light"
     },
     "output_type": "display_data"
    }
   ],
   "source": [
    "plt.hist(res, bins=20)\n",
    "plt.show()"
   ]
  },
  {
   "cell_type": "markdown",
   "id": "bright-street",
   "metadata": {},
   "source": [
    "Cat state, measure $q$"
   ]
  },
  {
   "cell_type": "code",
   "execution_count": 92,
   "id": "superior-panic",
   "metadata": {},
   "outputs": [
    {
     "data": {
      "image/png": "[encoded data removed]",
      "text/plain": [
       "<Figure size 432x288 with 1 Axes>"
      ]
     },
     "metadata": {
      "needs_background": "light"
     },
     "output_type": "display_data"
    },
    {
     "data": {
      "image/png": "[encoded data removed]",
      "text/plain": [
       "<Figure size 432x288 with 1 Axes>"
      ]
     },
     "metadata": {
      "needs_background": "light"
     },
     "output_type": "display_data"
    }
   ],
   "source": [
    "alpha = (1 - 0j) * 2\n",
    "theta = 0\n",
    "parity = 'e'\n",
    "\n",
    "F = pq.Fock(2, cutoff = 20)\n",
    "F.cat(0, alpha, parity)\n",
    "F.cat(1, alpha, parity)\n",
    "F.run()\n",
    "res = F.homodyneSampling(0, theta, ite = 500)\n",
    "x, p, W = F.Wigner(1, method = 'clenshaw') # plot\n",
    "plt.hist(res, bins = 50, range = (-5, 5))\n",
    "plt.show()"
   ]
  },
  {
   "cell_type": "markdown",
   "id": "nearby-essence",
   "metadata": {},
   "source": [
    "Coherent state, measure $p$"
   ]
  },
  {
   "cell_type": "code",
   "execution_count": 93,
   "id": "checked-commodity",
   "metadata": {},
   "outputs": [
    {
     "data": {
      "image/png": "[encoded data removed]",
      "text/plain": [
       "<Figure size 432x288 with 1 Axes>"
      ]
     },
     "metadata": {
      "needs_background": "light"
     },
     "output_type": "display_data"
    },
    {
     "data": {
      "image/png": "[encoded data removed]",
      "text/plain": [
       "<Figure size 432x288 with 1 Axes>"
      ]
     },
     "metadata": {
      "needs_background": "light"
     },
     "output_type": "display_data"
    }
   ],
   "source": [
    "alpha = (1 - 0j) * 2\n",
    "theta = -np.pi/2\n",
    "parity = 'e'\n",
    "\n",
    "F = pq.Fock(2, cutoff = 20)\n",
    "F.cat(0, alpha, parity)\n",
    "F.cat(1, alpha, parity)\n",
    "F.run()\n",
    "res = F.homodyneSampling(0, theta, ite = 500)\n",
    "x, p, W = F.Wigner(1, method = 'clenshaw') # plot\n",
    "plt.hist(res, bins = 50, range = (-5, 5))\n",
    "plt.show()"
   ]
  },
  {
   "cell_type": "markdown",
   "id": "dangerous-appeal",
   "metadata": {},
   "source": [
    "## Gaussian formula"
   ]
  },
  {
   "cell_type": "markdown",
   "id": "equivalent-anthropology",
   "metadata": {},
   "source": [
    "### Homodyne measurement\n",
    "\n",
    "Measure quadrature phase $q$ (sometime refered as $x$) or $p$."
   ]
  },
  {
   "cell_type": "code",
   "execution_count": 42,
   "id": "resident-providence",
   "metadata": {},
   "outputs": [],
   "source": [
    "G = pq.Gaussian(2)\n",
    "\n",
    "res_arr_x = []\n",
    "for i in range(1000):\n",
    "    G.D(0, 1 + 0.5j)\n",
    "    G.MeasX(0)\n",
    "    G.run()\n",
    "    res = G.Creg(0, \"x\").read()\n",
    "    res_arr_x.append(res)"
   ]
  },
  {
   "cell_type": "markdown",
   "id": "ethical-milan",
   "metadata": {},
   "source": [
    "The result shows Gaussian distribution sampled from Gaussian Wigner function."
   ]
  },
  {
   "cell_type": "code",
   "execution_count": 43,
   "id": "sporting-tuner",
   "metadata": {},
   "outputs": [
    {
     "data": {
      "text/plain": [
       "(array([  3.,   3.,  11.,  17.,  39.,  53.,  84., 124., 142., 131., 136.,\n",
       "        102.,  62.,  43.,  33.,  11.,   2.,   3.,   0.,   1.]),\n",
       " array([-1.77646508, -1.42944541, -1.08242575, -0.73540608, -0.38838642,\n",
       "        -0.04136675,  0.30565291,  0.65267258,  0.99969224,  1.34671191,\n",
       "         1.69373157,  2.04075124,  2.3877709 ,  2.73479057,  3.08181023,\n",
       "         3.4288299 ,  3.77584956,  4.12286923,  4.46988889,  4.81690855,\n",
       "         5.16392822]),\n",
       " <BarContainer object of 20 artists>)"
      ]
     },
     "execution_count": 43,
     "metadata": {},
     "output_type": "execute_result"
    },
    {
     "data": {
      "image/png": "[encoded data removed]",
      "text/plain": [
       "<Figure size 432x288 with 1 Axes>"
      ]
     },
     "metadata": {
      "needs_background": "light"
     },
     "output_type": "display_data"
    }
   ],
   "source": [
    "plt.hist(res_arr_x, bins=20)"
   ]
  },
  {
   "cell_type": "code",
   "execution_count": 44,
   "id": "sized-aside",
   "metadata": {},
   "outputs": [],
   "source": [
    "G = pq.Gaussian(2)\n",
    "\n",
    "res_arr_p = []\n",
    "for i in range(1000):\n",
    "    G.D(0, 1 + 0.5j)\n",
    "    G.MeasP(0)\n",
    "    G.run()\n",
    "    res = G.Creg(0, \"p\").read()\n",
    "    res_arr_p.append(res)"
   ]
  },
  {
   "cell_type": "code",
   "execution_count": 45,
   "id": "oriented-particle",
   "metadata": {},
   "outputs": [
    {
     "data": {
      "text/plain": [
       "(array([  1.,   4.,   2.,  11.,  24.,  34.,  58.,  70., 109., 113., 130.,\n",
       "        135.,  91.,  85.,  59.,  35.,  20.,   8.,   5.,   6.]),\n",
       " array([-2.35977370e+00, -2.06479227e+00, -1.76981083e+00, -1.47482940e+00,\n",
       "        -1.17984796e+00, -8.84866530e-01, -5.89885096e-01, -2.94903661e-01,\n",
       "         7.77729415e-05,  2.95059207e-01,  5.90040642e-01,  8.85022076e-01,\n",
       "         1.18000351e+00,  1.47498494e+00,  1.76996638e+00,  2.06494781e+00,\n",
       "         2.35992925e+00,  2.65491068e+00,  2.94989212e+00,  3.24487355e+00,\n",
       "         3.53985498e+00]),\n",
       " <BarContainer object of 20 artists>)"
      ]
     },
     "execution_count": 45,
     "metadata": {},
     "output_type": "execute_result"
    },
    {
     "data": {
      "image/png": "[encoded data removed]",
      "text/plain": [
       "<Figure size 432x288 with 1 Axes>"
      ]
     },
     "metadata": {
      "needs_background": "light"
     },
     "output_type": "display_data"
    }
   ],
   "source": [
    "plt.hist(res_arr_p, bins=20)"
   ]
  },
  {
   "cell_type": "code",
   "execution_count": null,
   "id": "aware-passenger",
   "metadata": {},
   "outputs": [],
   "source": []
  }
 ],
 "metadata": {
  "kernelspec": {
   "display_name": "Python 3",
   "language": "python",
   "name": "python3"
  },
  "language_info": {
   "codemirror_mode": {
    "name": "ipython",
    "version": 3
   },
   "file_extension": ".py",
   "mimetype": "text/x-python",
   "name": "python",
   "nbconvert_exporter": "python",
   "pygments_lexer": "ipython3",
   "version": "3.8.2"
  }
 },
 "nbformat": 4,
 "nbformat_minor": 5
}
