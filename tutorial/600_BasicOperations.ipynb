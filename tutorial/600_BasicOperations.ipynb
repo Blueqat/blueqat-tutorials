{
 "cells": [
  {
   "cell_type": "markdown",
   "metadata": {},
   "source": [
    "# Basic Operations\n",
    "\n",
    "Learn the basic state and gates of photonqat's Fockbase.\n",
    "\n",
    "Gaussian base can do the same, except that some Fockbase features are not available. Since the processing in backend is different, it is faster and more accurate than Fockbase instead."
   ]
  },
  {
   "cell_type": "code",
   "execution_count": 1,
   "metadata": {},
   "outputs": [],
   "source": [
    "from blueqat import photonqat as pq\n",
    "import numpy as np"
   ]
  },
  {
   "cell_type": "markdown",
   "metadata": {},
   "source": [
    "$$\\def\\bra#1{\\mathinner{\\left\\langle{#1}\\right|}} \\def\\ket#1{\\mathinner{\\left|{#1}\\right\\rangle}}\\def\\braket#1#2{\\mathinner{\\left\\langle{#1}\\middle|#2\\right\\rangle}}$$\n",
    "### Photon number state (Fock state)\n",
    "\n",
    "$\\ket{\\psi} = \\alpha_0 \\ket{0} + \\alpha_1 \\ket{1} + \\alpha_2 \\ket{2} + ...$\n",
    "\n",
    "$\\braket{n}{m} = \\delta_{nm}$  \n",
    "$\\sum_{k}|\\alpha_{k}|^2 = 1$\n",
    "\n",
    "```n_photon(mode, photonNum)``` Any state can be prepared with this method."
   ]
  },
  {
   "cell_type": "code",
   "execution_count": 2,
   "metadata": {},
   "outputs": [
    {
     "data": {
      "image/png": "[encoded data removed]",
      "text/plain": [
       "<Figure size 432x288 with 1 Axes>"
      ]
     },
     "metadata": {
      "needs_background": "light"
     },
     "output_type": "display_data"
    },
    {
     "name": "stdout",
     "output_type": "stream",
     "text": [
      "Photon number state:\n",
      " [0.+0.j 0.+0.j 0.+0.j 0.+0.j 1.+0.j 0.+0.j 0.+0.j 0.+0.j 0.+0.j 0.+0.j\n",
      " 0.+0.j 0.+0.j 0.+0.j 0.+0.j 0.+0.j 0.+0.j]\n"
     ]
    }
   ],
   "source": [
    "F = pq.Fock(1, cutoff = 15) # (qumode, cutoff dim)\n",
    "F.n_photon(0, 4) # (qumode, photon number state)\n",
    "\n",
    "F.run()\n",
    "\n",
    "(x, p, W) = F.Wigner(0, plot = 'y', xrange = 5.0, prange = 5.0) # plot Wigner function\n",
    "\n",
    "print(\"Photon number state:\\n\", F.state)"
   ]
  },
  {
   "cell_type": "markdown",
   "metadata": {},
   "source": [
    "### Wigner function\n",
    "\n",
    "In addition to expressing the quantum state of light as a photon number state, it can be plotted as a function on the phase plane using the Wigner function.\n",
    "\n",
    "```F.Wigner(mode, plot = 'y' or 'n', xrange = 5.0, prange = 5.0)```\n",
    "\n",
    "Photon number state is notation of density operator $\\rho = \\sum_{n, n'}C_{n n'}\\ket{n}\\bra{n'}$.\n",
    "\n",
    "$\\rho = \\ket{n'}\\bra{n}$ Against\n",
    "- $n \\leq n'$ in case of\n",
    "$W_{nn'}(q, p) = \\frac{2(-1)^n}{\\pi} \\sqrt{\\frac{2^{n'} n!}{2^{n} n'!}} (q-ip)^{n'-n}e^{-(q^2+p^2)}L_{n}^{n'-n}(2(q^2+p^2))$  \n",
    "- $n' \\leq n$ in case of\n",
    "$W_{nn'}(q, p) = \\frac{2(-1)^{n'}}{\\pi} \\sqrt{\\frac{2^{n} n'!}{2^{n'} n!}} (q+ip)^{n-n'}e^{-(q^2+p^2)}L_{n'}^{n-n'}(2(q^2+p^2))$  \n",
    "\n",
    "Is calculated and plotted for each.\n",
    "The function plotted here represents the probability of measuring the quantum state by position or momentum."
   ]
  },
  {
   "cell_type": "markdown",
   "metadata": {},
   "source": [
    "### Desplacement gate\n",
    "\n",
    "$D(\\alpha) = \\exp(\\alpha \\hat{a}^{\\dagger} - \\alpha^{*}a^{\\dagger})$\n",
    "\n",
    "$(q, p)$ state translated on the phase plane is $(Re(\\alpha), Im(\\alpha))$."
   ]
  },
  {
   "cell_type": "code",
   "execution_count": 3,
   "metadata": {},
   "outputs": [
    {
     "data": {
      "image/png": "[encoded data removed]",
      "text/plain": [
       "<Figure size 432x288 with 1 Axes>"
      ]
     },
     "metadata": {
      "needs_background": "light"
     },
     "output_type": "display_data"
    }
   ],
   "source": [
    "alpha = (0 + 1j) # parameter\n",
    "\n",
    "F = pq.Fock(1, cutoff = 15)\n",
    "F.D(0, alpha) # Dgate\n",
    "\n",
    "F.run()\n",
    "\n",
    "(x, p, W) = F.Wigner(0, plot = 'y', xrange = 5.0, prange = 5.0) # plot Wigner function"
   ]
  },
  {
   "cell_type": "markdown",
   "metadata": {},
   "source": [
    "### Squeezing gate \n",
    "\n",
    "$S(\\epsilon) = \\exp{(\\frac{1}{2}\\epsilon^{*}\\hat{a}^{2}} - \\frac{1}{2}\\epsilon\\hat{a}^{\\dagger 2})$  \n",
    "$\\epsilon = re^{2i\\phi}$"
   ]
  },
  {
   "cell_type": "markdown",
   "metadata": {},
   "source": [
    "Normal ordered form  \n",
    "\n",
    "$S(r, \\phi) = (\\cosh{r})^{-1/2} \\exp(-\\frac{\\Gamma}{2}\\hat{a}^{\\dagger 2}) \\exp(-\\ln(\\cosh{r})\\hat{a}^{\\dagger}\\hat{a}) \\exp(\\frac{\\Gamma^{*}}{2}\\hat{a}^{2})$"
   ]
  },
  {
   "cell_type": "markdown",
   "metadata": {},
   "source": [
    "Squeezing operator increases the uncertainity in one phase quadrature while reducing it for the other."
   ]
  },
  {
   "cell_type": "code",
   "execution_count": 4,
   "metadata": {},
   "outputs": [
    {
     "data": {
      "image/png": "[encoded data removed]",
      "text/plain": [
       "<Figure size 432x288 with 1 Axes>"
      ]
     },
     "metadata": {
      "needs_background": "light"
     },
     "output_type": "display_data"
    }
   ],
   "source": [
    "r = .5\n",
    "phi = np.pi/2\n",
    "eps = r * np.exp(2j * phi)\n",
    "\n",
    "F = pq.Fock(1, cutoff = 15)\n",
    "F.S(0, eps) # Sgate\n",
    "\n",
    "F.run()\n",
    "\n",
    "(x, p, W) = F.Wigner(0, plot = 'y', xrange = 5.0, prange = 5.0) # plot Wigner function"
   ]
  },
  {
   "cell_type": "markdown",
   "metadata": {},
   "source": [
    "### Beam splitter\n",
    "\n",
    "Beam splitter hamiltonian: $\\hat{H} = i\\hbar \\theta (\\hat{a}_{1}^{\\dagger}\\hat{a}_{2} -\\hat{a}_{1}  \\hat{a}_{2}^{\\dagger})$\n",
    "\n",
    "$BSgate = \\exp(\\frac{i}{\\hbar}\\hat{H})$"
   ]
  },
  {
   "cell_type": "markdown",
   "metadata": {},
   "source": [
    "A beam splitter mixes the light from the two different inputs.  \n",
    "A beam splitter is device that reflects $R$% of incoming light transmits $T$% ( where $R + T=100$) and is like a mirror that transmits a certain amount of light."
   ]
  },
  {
   "cell_type": "code",
   "execution_count": 5,
   "metadata": {},
   "outputs": [
    {
     "name": "stdout",
     "output_type": "stream",
     "text": [
      "[2 2 2 0 0 0 0 0 2 2 2 0 2 0 2 2 0 0 0 2 0 0 0 2 2 2 0 0 2 2 2 2 0 0 0 0 0\n",
      " 2 0 0 0 2 2 0 0 0 2 0 2 0]\n",
      "HOM interferometer: When two Single photon Modes are input to the beam splitter, the number of photons in the output mode is always 2 in one mode and 0 in the other.\n"
     ]
    }
   ],
   "source": [
    "mode = 0\n",
    "F = pq.Fock(2, cutoff = 20)\n",
    "F.n_photon(0, 1)\n",
    "F.n_photon(1, 1)\n",
    "F.BS(0, 1, -np.pi/4) # 50:50 Beam splitter\n",
    "F.run()\n",
    "res = F.photonSampling(0, ite = 50) # mode 0, experiment repeated 50 times\n",
    "print(res)\n",
    "print(\"HOM interferometer: When two Single photon Modes are input to the beam splitter, the number of photons in the output mode is always 2 in one mode and 0 in the other.\")"
   ]
  },
  {
   "cell_type": "markdown",
   "metadata": {},
   "source": [
    "### Kerr gate \n",
    "\n",
    "Kerr hamiltoninan:  $H = \\hbar \\frac{\\chi}{2} (\\hat{a}^{\\dagger})^2 \\hat{a}^2$\n",
    "\n",
    "$K = \\exp{(\\frac{i}{\\hbar}H)} = \\exp{(i\\frac{\\chi}{2} (\\hat{a}^{\\dagger})^2 \\hat{a}^2)} = \\exp{(i\\frac{\\chi}{2} \\hat{a}^{\\dagger} \\hat{n} \\hat{a})}$"
   ]
  },
  {
   "cell_type": "markdown",
   "metadata": {},
   "source": [
    "In some light media, the refractive index depends on the intensity of light, and this phenomenon is called the Kerr effect.\n",
    "On the phase plane, the phase rotates at different angles depending on the distance (= intensity) from the center.\n",
    "\n",
    "Kerr gate is a kind of what is called a non-linear gate.\n",
    "It is said that at least one kind of nonlinear gate is required to perform universal calculation in continuous quantity photon calculation."
   ]
  },
  {
   "cell_type": "code",
   "execution_count": 6,
   "metadata": {},
   "outputs": [
    {
     "data": {
      "image/png": "[encoded data removed]",
      "text/plain": [
       "<Figure size 432x288 with 1 Axes>"
      ]
     },
     "metadata": {
      "needs_background": "light"
     },
     "output_type": "display_data"
    }
   ],
   "source": [
    "alpha = 2\n",
    "chi = .2\n",
    "\n",
    "F = pq.Fock(1, cutoff = 20)\n",
    "F.D(0, alpha)\n",
    "F.Kerr(0, chi)\n",
    "F.run()\n",
    "\n",
    "x, p, W = F.Wigner(0, method = 'clenshaw') # plot"
   ]
  }
 ],
 "metadata": {
  "kernelspec": {
   "display_name": "Python 3 (ipykernel)",
   "language": "python",
   "name": "python3"
  },
  "language_info": {
   "codemirror_mode": {
    "name": "ipython",
    "version": 3
   },
   "file_extension": ".py",
   "mimetype": "text/x-python",
   "name": "python",
   "nbconvert_exporter": "python",
   "pygments_lexer": "ipython3",
   "version": "3.9.7"
  }
 },
 "nbformat": 4,
 "nbformat_minor": 4
}
