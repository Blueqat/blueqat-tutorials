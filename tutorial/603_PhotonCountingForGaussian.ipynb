{
 "cells": [
  {
   "cell_type": "markdown",
   "metadata": {},
   "source": [
    "# Photon count measurement for Gaussian States"
   ]
  },
  {
   "cell_type": "markdown",
   "metadata": {},
   "source": [
    "Gaussian state is usually a quadrature component $\\hat{x}, \\hat{p}$. Since it is described by a multivariable Gaussian distribution with a variable, it seems more natural to perform a homodyne measurement to know the state.\n",
    "It is also implemented as MeasureX, MeasureP in photonqat.\n",
    "\n",
    "The reasons why wouold you want to measure the number of photons for Gaussian state are as follows.\n",
    "\n",
    "One is a scheme called Gaussian Boson Sampling.\n",
    "When a photon count is measured for a Gaussian state, the probability that a certain photon count will be obtained as a measurement result is calculated by a function called Hafnian.\n",
    "Hafnian is expected to accelerate the calculation by Gaussian Boson Sampling because the amount of calculation increases exponentially with the existing algorithm.\n",
    "Hafnian seems to be closely related to the calculation of Perfect Matching in graph theory.\n",
    "\n",
    "The other is a combination of Gaussian manipulation and photon counting as one of the proposed schemes for universal photon computation.\n",
    "This is related to the recent news of Universal Quantum Computing using the entangled state of Furusawa Lab.\n",
    "\n",
    "Gaussian Boson Sampling has been researched by Xanadu of Canada in recent years and has published several related papers and a library called the Walrus (https://the-walrus.readthedocs.io/en/latest/index.html).\n",
    "\n",
    "The implementation of photon counting for Gaussian state in photonqat also follows the ideas and formulas they have published in their paper (arXiv: 1905.07011 [quant-ph])."
   ]
  },
  {
   "cell_type": "code",
   "execution_count": 1,
   "metadata": {},
   "outputs": [],
   "source": [
    "from blueqat import photonqat as pq"
   ]
  },
  {
   "cell_type": "code",
   "execution_count": 2,
   "metadata": {},
   "outputs": [],
   "source": [
    "import numpy as np\n",
    "import matplotlib.pyplot as plt\n",
    "from scipy import special"
   ]
  },
  {
   "cell_type": "markdown",
   "metadata": {},
   "source": [
    "## Photonqat\n",
    "\n",
    "After performing the basic gate operation and photon count measurement, the probability that the photon count in 2 modes is (0, 0) is calculated."
   ]
  },
  {
   "cell_type": "code",
   "execution_count": 3,
   "metadata": {},
   "outputs": [
    {
     "data": {
      "image/png": "[encoded data removed]",
      "text/plain": [
       "<Figure size 432x288 with 1 Axes>"
      ]
     },
     "metadata": {
      "needs_background": "light"
     },
     "output_type": "display_data"
    },
    {
     "name": "stdout",
     "output_type": "stream",
     "text": [
      "mu0 = [0.5202601 0.5202601]\n",
      "cov = [[ 1.19054892 -0.9067151 ]\n",
      " [-0.9067151   1.19054892]]\n",
      "Probability of photon number [0 0] :  0.5695892908718674\n"
     ]
    }
   ],
   "source": [
    "G = pq.Gaussian(2) # two qumode [0, 1]\n",
    "G.D(0, 2) # Displacement gate\n",
    "G.S(0, 1) # X squeeIng gate, r=1\n",
    "G.R(0, np.pi/4) # pi/4 rotation gate\n",
    "G.BS(0, 1, np.pi/4) # 50:50 beam splitter\n",
    "G.run()\n",
    "G.Wigner(0) # plot\n",
    "print('mu0 =', G.mean(0)) # mu of qumode 0\n",
    "print('cov =', G.cov(0)) # covarince of qumode 1\n",
    "\n",
    "m = np.array([0, 0]) # measured output of photon number for each mode\n",
    "prob = G.PhotonDetectionProb(m, m) # probability\n",
    "print(\"Probability of photon number\", m, \": \", prob)"
   ]
  }
 ],
 "metadata": {
  "kernelspec": {
   "display_name": "Python 3 (ipykernel)",
   "language": "python",
   "name": "python3"
  },
  "language_info": {
   "codemirror_mode": {
    "name": "ipython",
    "version": 3
   },
   "file_extension": ".py",
   "mimetype": "text/x-python",
   "name": "python",
   "nbconvert_exporter": "python",
   "pygments_lexer": "ipython3",
   "version": "3.9.7"
  }
 },
 "nbformat": 4,
 "nbformat_minor": 4
}
