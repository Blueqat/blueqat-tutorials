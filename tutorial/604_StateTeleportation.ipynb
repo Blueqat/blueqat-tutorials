{
 "cells": [
  {
   "cell_type": "markdown",
   "metadata": {},
   "source": [
    "# State teleportation"
   ]
  },
  {
   "cell_type": "code",
   "execution_count": 1,
   "metadata": {},
   "outputs": [],
   "source": [
    "from blueqat import photonqat as pq\n",
    "import numpy as np\n",
    "import matplotlib.pyplot as plt"
   ]
  },
  {
   "cell_type": "markdown",
   "metadata": {},
   "source": [
    "## Photonqat"
   ]
  },
  {
   "cell_type": "code",
   "execution_count": 2,
   "metadata": {},
   "outputs": [
    {
     "data": {
      "image/png": "[encoded data removed]",
      "text/plain": [
       "<Figure size 432x288 with 1 Axes>"
      ]
     },
     "metadata": {
      "needs_background": "light"
     },
     "output_type": "display_data"
    },
    {
     "name": "stdout",
     "output_type": "stream",
     "text": [
      "measured x = 5.56927580549033\n",
      "measured p = 1.0231942486450023\n",
      "teleported mu = [1.64666489 0.73372308]\n"
     ]
    }
   ],
   "source": [
    "r = 2\n",
    "\n",
    "G = pq.Gaussian(3)\n",
    "\n",
    "G.D(0, 1 + 0.5j) # state to teleport\n",
    "G.S(1, -r)\n",
    "G.S(2, r)\n",
    "G.BS(1, 2, np.pi/4) # 50:50 beam splitter\n",
    "G.BS(0, 1, np.pi/4) # 50:50 beam splitter\n",
    "G.MeasX(0)\n",
    "G.MeasP(1)\n",
    "G.X(2, G.Creg(0, \"x\", scale = np.sqrt(2)))\n",
    "G.Z(2, G.Creg(1, \"p\", scale = np.sqrt(2)))\n",
    "G.run()\n",
    "\n",
    "G.Wigner(2) # plot\n",
    "print('measured x =', G.Creg(0, \"x\").read())\n",
    "print('measured p =', G.Creg(1, \"p\").read())\n",
    "print('teleported mu =', G.mean(2)) # mu of qumode 0"
   ]
  }
 ],
 "metadata": {
  "kernelspec": {
   "display_name": "Python 3",
   "language": "python",
   "name": "python3"
  },
  "language_info": {
   "codemirror_mode": {
    "name": "ipython",
    "version": 3
   },
   "file_extension": ".py",
   "mimetype": "text/x-python",
   "name": "python",
   "nbconvert_exporter": "python",
   "pygments_lexer": "ipython3",
   "version": "3.8.8"
  }
 },
 "nbformat": 4,
 "nbformat_minor": 4
}
