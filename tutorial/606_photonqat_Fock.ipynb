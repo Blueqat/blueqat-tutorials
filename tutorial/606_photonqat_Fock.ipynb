{
 "cells": [
  {
   "cell_type": "code",
   "execution_count": 1,
   "metadata": {},
   "outputs": [],
   "source": [
    "from blueqat import photonqat as pq"
   ]
  },
  {
   "cell_type": "code",
   "execution_count": 2,
   "metadata": {},
   "outputs": [],
   "source": [
    "import numpy as np\n",
    "import matplotlib.pyplot as plt"
   ]
  },
  {
   "cell_type": "markdown",
   "metadata": {},
   "source": [
    "## Photonqat\n",
    "\n",
    "Prepare a vacuum field state and a coherent state, and perform squeezing and beam splitter operation.\n",
    "Visualize the output status using the Wigner function.\n",
    "Increasing the cutoff value will take longer to calculate, but will improve the accuracy of the calculation result.\n",
    "The required accuracy (= cutoff value) depends on the gate type and parameters. If the cutoff value is too small, the Wigner function will be distorted.\n",
    "Briefly, the cutoff value needs to be increased as the distribution of the Wigner function moves away from the center $(x, p)=(0, 0)$.\n",
    "The distance from the center on the phase plane corresponds to the number of photons."
   ]
  },
  {
   "cell_type": "code",
   "execution_count": 3,
   "metadata": {},
   "outputs": [
    {
     "data": {
      "image/png": "[encoded data removed]",
      "text/plain": [
       "<Figure size 432x288 with 1 Axes>"
      ]
     },
     "metadata": {
      "needs_background": "light"
     },
     "output_type": "display_data"
    }
   ],
   "source": [
    "alpha = (1 + 1j)\n",
    "mode = 0\n",
    "r = -0.5\n",
    "F = pq.Fock(2, cutoff = 15)\n",
    "F.D(0, alpha)\n",
    "F.S(0, r)\n",
    "F.BS(0, 1, -np.pi/4)\n",
    "F.run()\n",
    "(x, p, W) = F.Wigner(0, plot = 'y', xrange = 5.0, prange = 5.0) # plot"
   ]
  },
  {
   "cell_type": "code",
   "execution_count": 4,
   "metadata": {},
   "outputs": [
    {
     "name": "stdout",
     "output_type": "stream",
     "text": [
      "[2 2 2 2 2 0 2 0 2 2 0 2 0 0 0 2 2 0 2 0 2 2 0 0 2 0 2 0 2 0 2 0 0 2 2 0 2\n",
      " 2 0 2 2 0 2 2 2 2 2 0 0 2]\n",
      "When two Single photon Modes are input to the beam splitter, the number of photons in the output mode is always 2 in one mode and 0 in the other.\n"
     ]
    }
   ],
   "source": [
    "mode = 0\n",
    "F = pq.Fock(2, cutoff = 20)\n",
    "F.n_photon(0, 1)\n",
    "F.n_photon(1, 1)\n",
    "F.BS(0, 1, -np.pi/4)\n",
    "F.run()\n",
    "res = F.photonSampling(0, ite = 50)\n",
    "print(res)\n",
    "print(\"When two Single photon Modes are input to the beam splitter, the number of photons in the output mode is always 2 in one mode and 0 in the other.\")"
   ]
  }
 ],
 "metadata": {
  "kernelspec": {
   "display_name": "Python 3 (ipykernel)",
   "language": "python",
   "name": "python3"
  },
  "language_info": {
   "codemirror_mode": {
    "name": "ipython",
    "version": 3
   },
   "file_extension": ".py",
   "mimetype": "text/x-python",
   "name": "python",
   "nbconvert_exporter": "python",
   "pygments_lexer": "ipython3",
   "version": "3.9.7"
  }
 },
 "nbformat": 4,
 "nbformat_minor": 4
}
